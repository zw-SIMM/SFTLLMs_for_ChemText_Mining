{
 "cells": [
  {
   "cell_type": "markdown",
   "metadata": {},
   "source": [
    "### Fine-tuning ChatGPT (GPT-3.5-Turbo)"
   ]
  },
  {
   "cell_type": "code",
   "execution_count": 53,
   "metadata": {},
   "outputs": [],
   "source": [
    "# Load Packages\n",
    "import json\n",
    "import random\n",
    "import pandas as pd\n",
    "from tqdm import tqdm"
   ]
  },
  {
   "cell_type": "markdown",
   "metadata": {},
   "source": [
    "#### 0. Cilent of OpenAI"
   ]
  },
  {
   "cell_type": "code",
   "execution_count": null,
   "metadata": {},
   "outputs": [],
   "source": [
    "# !pip install -U openai\n",
    "from openai import OpenAI\n",
    "client = OpenAI(api_key='Your OpenAI API-KEY')"
   ]
  },
  {
   "cell_type": "markdown",
   "metadata": {},
   "source": [
    "#### 1. Prepare Data (where different for different tasks)"
   ]
  },
  {
   "cell_type": "code",
   "execution_count": null,
   "metadata": {},
   "outputs": [],
   "source": [
    "# process raw data into .csv\n",
    "data_splits = ['train', 'train-augmented-unique', 'valid', 'test']\n",
    "\n",
    "for data_split in data_splits:\n",
    "    \n",
    "    with open(f\"hand_annotated/src-{data_split}.txt\", \"r\", encoding='utf-8') as f:\n",
    "        paragraphs = f.readlines()\n",
    "        \n",
    "    with open(f\"hand_annotated/tgt-{data_split}.txt\", \"r\", encoding='utf-8') as f:\n",
    "        actions = f.readlines()\n",
    "        \n",
    "    paragraphs = [_.rstrip(\"\\n\") for _ in paragraphs]\n",
    "    actions = [_.rstrip(\"\\n\") for _ in actions]\n",
    "\n",
    "    valid_df = pd.DataFrame()\n",
    "    valid_df['paragraphs'] = paragraphs\n",
    "    valid_df['actions'] = actions\n",
    "    valid_df.to_csv(f\"processed/hand_annotated_{data_split}.csv\", index = None)"
   ]
  },
  {
   "cell_type": "code",
   "execution_count": 2,
   "metadata": {},
   "outputs": [],
   "source": [
    "# process .csv into .jsonl\n",
    "def transform_jsonl(input_file_path, output_file_path):\n",
    "    train_df = pd.read_csv(input_file_path)\n",
    "    \n",
    "    with open(output_file_path, 'w') as outfile:\n",
    "        for i in range(len(train_df)):\n",
    "            messages = []\n",
    "            messages.append({\"role\": \"system\", \"content\": \"You are an assistant that formats chemical paragraphs to actions.\"})\n",
    "            user_message = {\"role\": \"user\", \"content\": train_df.iloc[i]['paragraphs']}\n",
    "            assistant_message = {\"role\": \"assistant\", \"content\": train_df.iloc[i]['actions']}\n",
    "            messages.extend([user_message, assistant_message])\n",
    "            result = {\"messages\": messages}\n",
    "            json.dump(result, outfile)\n",
    "            outfile.write('\\n')\n",
    "\n",
    "input_file_path = \"processed/hand_annotated_train_augmented_unique.csv\"\n",
    "output_file_path = 'processed/hand_annotated_train_augmented_unique_ouput.jsonl'\n",
    "transform_jsonl(input_file_path, output_file_path)\n",
    "\n",
    "input_file_path = \"processed/hand_annotated_valid.csv\"                           \n",
    "output_file_path = 'processed/hand_annotated_valid_ouput.jsonl'\n",
    "transform_jsonl(input_file_path, output_file_path)"
   ]
  },
  {
   "cell_type": "markdown",
   "metadata": {},
   "source": [
    "#### 2. Upload Data"
   ]
  },
  {
   "cell_type": "code",
   "execution_count": null,
   "metadata": {},
   "outputs": [],
   "source": [
    "# Wait a few minutes to process and validate the data, After uploading files\n",
    "\n",
    "training_response = client.files.create(\n",
    "    file = open('processed/hand_annotated_train_augmented_unique_ouput.jsonl', \"rb\"),\n",
    "    purpose = \"fine-tune\",\n",
    ")\n",
    "\n",
    "validation_response = client.files.create(\n",
    "    file = open('processed/hand_annotated_valid_ouput.jsonl', \"rb\"),\n",
    "    purpose = \"fine-tune\",\n",
    ")\n",
    "\n",
    "print(\"Training file:\", training_response.model_dump_json(indent=2))\n",
    "print(\"Validating file:\", validation_response.model_dump_json(indent=2))\n",
    "\n",
    "training_file_id = training_response.id\n",
    "validation_file_id = validation_response.id"
   ]
  },
  {
   "cell_type": "markdown",
   "metadata": {},
   "source": [
    "#### 3. Create a fine-tunning job"
   ]
  },
  {
   "cell_type": "code",
   "execution_count": 6,
   "metadata": {},
   "outputs": [
    {
     "name": "stdout",
     "output_type": "stream",
     "text": [
      "{\n",
      "  \"object\": \"fine_tuning.job\",\n",
      "  \"id\": \"ftjob-2owUkGkhZI8ijvpzUG3c85MI\",\n",
      "  \"model\": \"gpt-3.5-turbo-0613\",\n",
      "  \"created_at\": 1695785269,\n",
      "  \"finished_at\": null,\n",
      "  \"fine_tuned_model\": null,\n",
      "  \"organization_id\": \"org-xKjEtEsxu2H7NAxjpmNLOanI\",\n",
      "  \"result_files\": [],\n",
      "  \"status\": \"validating_files\",\n",
      "  \"validation_file\": \"file-LE74xWWtMRyNcmx7nda51Vu8\",\n",
      "  \"training_file\": \"file-Sb2ZG8nRhswCnWGvZYofJ9rI\",\n",
      "  \"hyperparameters\": {\n",
      "    \"n_epochs\": 3\n",
      "  },\n",
      "  \"trained_tokens\": null,\n",
      "  \"error\": null\n",
      "}\n"
     ]
    }
   ],
   "source": [
    "fine_tuning_response = client.fine_tuning.jobs.create(\n",
    "    training_file = training_file_id,\n",
    "    validation_file = validation_file_id,\n",
    "    model = \"gpt-3.5-turbo-0125\",         # newest gpt-3.5-turbo model\n",
    "    suffix = \"paragraph2action\",\n",
    "    hyperparameters = {\"n_epochs\":3,}\n",
    ")\n",
    "\n",
    "print('fine_tuning_response:', fine_tuning_response.model_dump_json(indent=2))\n",
    "fine_tuning_job_id = fine_tuning_response.id "
   ]
  },
  {
   "cell_type": "markdown",
   "metadata": {},
   "source": [
    "#### 4. Query the progress of Fine-tuning"
   ]
  },
  {
   "cell_type": "code",
   "execution_count": 7,
   "metadata": {},
   "outputs": [
    {
     "data": {
      "text/plain": [
       "<FineTuningJob fine_tuning.job id=ftjob-2owUkGkhZI8ijvpzUG3c85MI at 0x22b70515760> JSON: {\n",
       "  \"object\": \"fine_tuning.job\",\n",
       "  \"id\": \"ftjob-2owUkGkhZI8ijvpzUG3c85MI\",\n",
       "  \"model\": \"gpt-3.5-turbo-0613\",\n",
       "  \"created_at\": 1695785269,\n",
       "  \"finished_at\": null,\n",
       "  \"fine_tuned_model\": null,\n",
       "  \"organization_id\": \"org-xKjEtEsxu2H7NAxjpmNLOanI\",\n",
       "  \"result_files\": [],\n",
       "  \"status\": \"validating_files\",\n",
       "  \"validation_file\": \"file-LE74xWWtMRyNcmx7nda51Vu8\",\n",
       "  \"training_file\": \"file-Sb2ZG8nRhswCnWGvZYofJ9rI\",\n",
       "  \"hyperparameters\": {\n",
       "    \"n_epochs\": 3\n",
       "  },\n",
       "  \"trained_tokens\": null,\n",
       "  \"error\": null\n",
       "}"
      ]
     },
     "execution_count": 7,
     "metadata": {},
     "output_type": "execute_result"
    }
   ],
   "source": [
    "# run the cell to see the status is \"running\" or \"succeeded\"\n",
    "\n",
    "retrieve_job_response = client.fine_tuning.jobs.retrieve(fine_tuning_job_id)\n",
    "print(retrieve_job_response.model_dump_json(indent=2))\n",
    "print('status:', retrieve_job_response.status)\n",
    "fine_tuned_model = retrieve_job_response.fine_tuned_model       # get the fine-tuned model"
   ]
  },
  {
   "cell_type": "code",
   "execution_count": 50,
   "metadata": {},
   "outputs": [
    {
     "name": "stdout",
     "output_type": "stream",
     "text": [
      "Created fine-tuning job: ftjob-2owUkGkhZI8ijvpzUG3c85MI\n",
      "Validating training file: file-Sb2ZG8nRhswCnWGvZYofJ9rI and validation file: {ft_job.validation_file}\n",
      "Files validated, moving job to queued state\n",
      "Fine-tuning job started\n",
      "Step 1/1518: training loss=0.82, validation loss=1.28\n",
      "Step 101/1518: training loss=0.06, validation loss=0.13\n",
      "Step 201/1518: training loss=0.01, validation loss=0.09\n",
      "Step 301/1518: training loss=0.02, validation loss=0.05\n",
      "Step 401/1518: training loss=0.01, validation loss=0.18\n",
      "Step 501/1518: training loss=0.02, validation loss=0.05\n",
      "Step 601/1518: training loss=0.07, validation loss=0.05\n",
      "Step 701/1518: training loss=0.04, validation loss=0.07\n",
      "Step 801/1518: training loss=0.00, validation loss=0.06\n",
      "Step 901/1518: training loss=0.00, validation loss=0.06\n",
      "Step 1001/1518: training loss=0.04, validation loss=0.07\n",
      "Step 1101/1518: training loss=0.02, validation loss=0.12\n",
      "Step 1201/1518: training loss=0.00, validation loss=0.06\n",
      "Step 1301/1518: training loss=0.03, validation loss=0.28\n",
      "Step 1401/1518: training loss=0.01, validation loss=0.07\n",
      "Step 1501/1518: training loss=0.00, validation loss=0.19\n",
      "New fine-tuned model created: ft:gpt-3.5-turbo-0613:personal:paragraph2action:83GrVYSz\n",
      "The job has successfully completed\n"
     ]
    }
   ],
   "source": [
    "# run the cell frequently to see the training loss\n",
    "\n",
    "for event in client.fine_tuning.jobs.list_events(fine_tuning_job_id, limit = 50):\n",
    "    print(event.message)"
   ]
  },
  {
   "cell_type": "markdown",
   "metadata": {},
   "source": [
    "#### 5. Inference with the fine-tuned model"
   ]
  },
  {
   "cell_type": "code",
   "execution_count": 52,
   "metadata": {},
   "outputs": [
    {
     "name": "stdout",
     "output_type": "stream",
     "text": [
      "Paragraphs:  After then being left to stand at RT for three days, the mixture was diluted with ethyl acetate and washed with water.\n",
      "{\n",
      "  \"id\": \"chatcmpl-83H3QGurgbnFI967FKxt21IIOekuM\",\n",
      "  \"object\": \"chat.completion\",\n",
      "  \"created\": 1695791232,\n",
      "  \"model\": \"ft:gpt-3.5-turbo-0613:personal:paragraph2action:83GrVYSz\",\n",
      "  \"choices\": [\n",
      "    {\n",
      "      \"index\": 0,\n",
      "      \"message\": {\n",
      "        \"role\": \"assistant\",\n",
      "        \"content\": \"WAIT for three days at RT; ADD ethyl acetate; WASH with water.\"\n",
      "      },\n",
      "      \"finish_reason\": \"stop\"\n",
      "    }\n",
      "  ],\n",
      "  \"usage\": {\n",
      "    \"prompt_tokens\": 48,\n",
      "    \"completion_tokens\": 18,\n",
      "    \"total_tokens\": 66\n",
      "  }\n",
      "}\n",
      "Actions:  WAIT for three days at RT; ADD ethyl acetate; WASH with water.\n"
     ]
    }
   ],
   "source": [
    "# Single Example\n",
    "\n",
    "test_messages = []\n",
    "syst_message = \"You are an assistant that formats chemical paragraphs to actions.\"\n",
    "user_message = \"After then being left to stand at RT for three days, the mixture was diluted with ethyl acetate and washed with water.\"\n",
    "test_messages.append({\"role\":\"system\", \"content\": syst_message})\n",
    "test_messages.append({\"role\":\"user\", \"content\":user_message})\n",
    "\n",
    "response = client.chat.completions.create(\n",
    "  model = fine_tuned_model,\n",
    "  messages = test_messages,\n",
    "  temperature = 0,\n",
    "  # max_tokens = 500\n",
    ")\n",
    "\n",
    "print(response)\n",
    "print(\"Paragraphs: \", user_message)\n",
    "print(\"Actions: \", response.choices[0].message.content)"
   ]
  },
  {
   "cell_type": "code",
   "execution_count": 55,
   "metadata": {},
   "outputs": [
    {
     "name": "stderr",
     "output_type": "stream",
     "text": [
      "  0%|          | 0/352 [00:00<?, ?it/s]"
     ]
    },
    {
     "name": "stdout",
     "output_type": "stream",
     "text": [
      "\n",
      "Paragraphs:  Both the organic and aqueous layers were separated.\n"
     ]
    },
    {
     "name": "stderr",
     "output_type": "stream",
     "text": [
      "  0%|          | 1/352 [00:15<1:29:47, 15.35s/it]"
     ]
    },
    {
     "name": "stdout",
     "output_type": "stream",
     "text": [
      "Actions:  PHASESEPARATION.\n",
      "\n",
      "Paragraphs:  After then being left to stand at RT for three days, the mixture was diluted with ethyl acetate and washed with water.\n"
     ]
    },
    {
     "name": "stderr",
     "output_type": "stream",
     "text": [
      "  1%|          | 2/352 [00:17<43:45,  7.50s/it]  "
     ]
    },
    {
     "name": "stdout",
     "output_type": "stream",
     "text": [
      "Actions:  WAIT for three days at RT; ADD ethyl acetate; WASH with water.\n",
      "\n",
      "Paragraphs:  3-Bromo-2-fluoroaniline (10 g, 52.63 mmol) was dissolved in DCM (100 mL) under nitrogen atmosphere.\n"
     ]
    },
    {
     "name": "stderr",
     "output_type": "stream",
     "text": [
      "  1%|          | 3/352 [00:18<26:44,  4.60s/it]"
     ]
    },
    {
     "name": "stdout",
     "output_type": "stream",
     "text": [
      "Actions:  ADD 3-Bromo-2-fluoroaniline (10 g, 52.63 mmol) under nitrogen; ADD DCM (100 mL).\n",
      "\n",
      "Paragraphs:  The mixture was allowed to cool to rt and then concentrated in vacuo.\n"
     ]
    },
    {
     "name": "stderr",
     "output_type": "stream",
     "text": [
      "  1%|          | 4/352 [00:19<17:43,  3.06s/it]"
     ]
    },
    {
     "name": "stdout",
     "output_type": "stream",
     "text": [
      "Actions:  SETTEMPERATURE rt; CONCENTRATE.\n",
      "\n",
      "Paragraphs:  The crude material was purified by silica gel chromatography eluting with 20-100% DCM/MeOH/DEA (950:45:5) in DCM to give benzyl 3-(formamido(7-((2-(trimethylsilyl)ethoxy)methyl)-7H-pyrrolo[2,3-d]pyrimidin-4-yl)methyl)piperidine-1-carboxylate (˜1:1 mixture of diastereomers) as a foam (2.2 g, 69%): LC/MS (Table 1, Method a) Rt=2.64 and 2.71 min; MS m/z: 524 (M+H)+.\n"
     ]
    },
    {
     "name": "stderr",
     "output_type": "stream",
     "text": [
      "  1%|▏         | 5/352 [00:21<15:09,  2.62s/it]"
     ]
    },
    {
     "name": "stdout",
     "output_type": "stream",
     "text": [
      "Actions:  PURIFY; YIELD benzyl 3-(formamido(7-((2-(trimethylsilyl)ethoxy)methyl)-7H-pyrrolo[2,3-d]pyrimidin-4-yl)methyl)piperidine-1-carboxylate (2.2 g, 69%).\n",
      "\n",
      "Paragraphs:  Anschließend wurden 1,2 ml Methanol und 14 ml Wasser zugegeben, über Nacht stehen gelassen, mit weiteren 70 ml Wasser versetzt und dreimal mit je 84 ml Methyl-tert.-butylether extrahiert.\n"
     ]
    },
    {
     "name": "stderr",
     "output_type": "stream",
     "text": [
      "  2%|▏         | 6/352 [00:21<11:27,  1.99s/it]"
     ]
    },
    {
     "name": "stdout",
     "output_type": "stream",
     "text": [
      "Actions:  ADD Methanol (1,2 ml); ADD Wasser (14 ml); WAIT for over night; ADD Wasser (70 ml); EXTRACT with Methyl-tert.-butylether (84 ml) 3 x.\n",
      "\n",
      "Paragraphs:  The reaction mixture was concentrated in vacuo before being dissolved in MeOH and purified by SPE on sulfonic acid (SCX) 5 g, first washing with MeOH and then eluting using a 10% NH3/MeOH solution to give the free base of the product.\n"
     ]
    },
    {
     "name": "stderr",
     "output_type": "stream",
     "text": [
      "  2%|▏         | 7/352 [00:22<09:12,  1.60s/it]"
     ]
    },
    {
     "name": "stdout",
     "output_type": "stream",
     "text": [
      "Actions:  CONCENTRATE; ADD MeOH; PURIFY; YIELD free base.\n",
      "\n",
      "Paragraphs:  To a solution of methyl 1H-indazole-6-carboxylate (865 mg, 4.91 mmol) in N,N-dimethylformamide (12 mL) was added potassium hydroxide (840 mg, 3.05 mmol) followed by iodine (1.54 g, 5.9 mmol).\n"
     ]
    },
    {
     "name": "stderr",
     "output_type": "stream",
     "text": [
      "  2%|▏         | 8/352 [00:24<09:07,  1.59s/it]"
     ]
    },
    {
     "name": "stdout",
     "output_type": "stream",
     "text": [
      "Actions:  MAKESOLUTION with methyl 1H-indazole-6-carboxylate (865 mg, 4.91 mmol) and N,N-dimethylformamide (12 mL); ADD SLN; ADD potassium hydroxide (840 mg, 3.05 mmol); ADD iodine (1.54 g, 5.9 mmol).\n",
      "\n",
      "Paragraphs:  The product was purified by HPLC and the required fractions were combined and basified with K2CO3 (0.5 g), extracted with DCM (2×50 ml), dried and the solvent removed in vacuo to yield a yellow solid (101 mg, 31%).\n"
     ]
    },
    {
     "name": "stderr",
     "output_type": "stream",
     "text": [
      "  3%|▎         | 9/352 [00:25<08:40,  1.52s/it]"
     ]
    },
    {
     "name": "stdout",
     "output_type": "stream",
     "text": [
      "Actions:  PURIFY; COLLECTFRACTION; PH with K2CO3 (0.5 g) to pH basic; EXTRACT with DCM (50 ml) 2 x; DRYSOLUTION over unknown; CONCENTRATE; YIELD yellow solid (101 mg, 31%).\n",
      "\n",
      "Paragraphs:  The reaction mixture was heated to 90°C and maintained at the same temperature for overnight.\n"
     ]
    },
    {
     "name": "stderr",
     "output_type": "stream",
     "text": [
      "  3%|▎         | 10/352 [00:26<07:53,  1.38s/it]"
     ]
    },
    {
     "name": "stdout",
     "output_type": "stream",
     "text": [
      "Actions:  STIR for overnight at 90°C.\n",
      "\n",
      "Paragraphs:  Then water was added and the mixture was extracted with EA three times, the combined organic layers were washed with brine and dried (anhydrous Na2SO4).\n"
     ]
    },
    {
     "name": "stderr",
     "output_type": "stream",
     "text": [
      "  3%|▎         | 11/352 [00:28<08:26,  1.49s/it]"
     ]
    },
    {
     "name": "stdout",
     "output_type": "stream",
     "text": [
      "Actions:  ADD water; EXTRACT with EA 3 x; COLLECTLAYER organic; WASH with brine; DRYSOLUTION over anhydrous Na2SO4.\n",
      "\n",
      "Paragraphs:  The product was analyzed by GC, GCMS and NMR (1H).\n"
     ]
    },
    {
     "name": "stderr",
     "output_type": "stream",
     "text": [
      "  3%|▎         | 12/352 [00:28<06:52,  1.21s/it]"
     ]
    },
    {
     "name": "stdout",
     "output_type": "stream",
     "text": [
      "Actions:  NOACTION.\n",
      "\n",
      "Paragraphs:  After cooling to room temperature, the solvent was removed in vacuo.\n"
     ]
    },
    {
     "name": "stderr",
     "output_type": "stream",
     "text": [
      "  4%|▎         | 13/352 [00:29<05:51,  1.04s/it]"
     ]
    },
    {
     "name": "stdout",
     "output_type": "stream",
     "text": [
      "Actions:  SETTEMPERATURE room temperature; CONCENTRATE.\n",
      "\n",
      "Paragraphs:  Crushed ice (40 g) was added and the pH was adjusted to pH 12 with 40% aqueous KOH solution.\n"
     ]
    },
    {
     "name": "stderr",
     "output_type": "stream",
     "text": [
      "  4%|▍         | 14/352 [00:30<05:25,  1.04it/s]"
     ]
    },
    {
     "name": "stdout",
     "output_type": "stream",
     "text": [
      "Actions:  ADD Crushed ice (40 g); PH with 40% aqueous KOH solution to pH 12.\n",
      "\n",
      "Paragraphs:  The mixture was stirred in the ice bath for 10 min, and then at RT for 20 min.\n"
     ]
    },
    {
     "name": "stderr",
     "output_type": "stream",
     "text": [
      "  4%|▍         | 15/352 [00:31<05:11,  1.08it/s]"
     ]
    },
    {
     "name": "stdout",
     "output_type": "stream",
     "text": [
      "Actions:  STIR for 10 min at 0 °C; STIR for 20 min at RT.\n",
      "\n",
      "Paragraphs:  After the elimination of the desiccant and solvent the residue was purified by chromatography (silica gel, gradient DCM/isopropanol 95:5 to DCM/isopropanol 90:10).\n"
     ]
    },
    {
     "name": "stderr",
     "output_type": "stream",
     "text": [
      "  5%|▍         | 16/352 [00:31<04:16,  1.31it/s]"
     ]
    },
    {
     "name": "stdout",
     "output_type": "stream",
     "text": [
      "Actions:  CONCENTRATE; PURIFY.\n",
      "\n",
      "Paragraphs:  During this time the temperature of the reaction is maintained below 30°.\n"
     ]
    },
    {
     "name": "stderr",
     "output_type": "stream",
     "text": [
      "  5%|▍         | 17/352 [00:32<04:12,  1.33it/s]"
     ]
    },
    {
     "name": "stdout",
     "output_type": "stream",
     "text": [
      "Actions:  WAIT for unknown at temperature below 30°.\n",
      "\n",
      "Paragraphs:  18.1 ml (18 mmol) of a 1-molar solution of boron tribromide in dichloromethane were added to a solution of 3.37 g (9 mmol) of 4-chloro-3-(2,3-dichloro-4-methoxybenzyl)-5-difluoromethoxy-1-methyl-1H-pyrazole in 45 ml of dichloromethane which had been cooled to (−78)° C.\n"
     ]
    },
    {
     "name": "stderr",
     "output_type": "stream",
     "text": [
      "  5%|▌         | 18/352 [00:34<06:21,  1.14s/it]"
     ]
    },
    {
     "name": "stdout",
     "output_type": "stream",
     "text": [
      "Actions:  MAKESOLUTION with 4-chloro-3-(2,3-dichloro-4-methoxybenzyl)-5-difluoromethoxy-1-methyl-1H-pyrazole (3.37 g, 9 mmol) and dichloromethane (45 ml) and tert-butyl 2-(2,2-dimethyl-1,3-dioxolan-4-yl)acetate; ADD SLN; ADD 1-molar solution of boron tribromide in dichloromethane (18.1 ml, 18 mmol) at (−78)° C.\n",
      "\n",
      "Paragraphs:  Ethyl 7,8,9-trifluoro-1-hydroxymethyl-5-oxo-5H-thiazolo[3,2-a]quinoline-4-carboxylate (0.50 g) prepared in Reference Example 13 and triethylamine (0.40 g) were added to dimethylsulfoxide (15 ml) and the mixture was stirred at 75°C for 1 hour and 30 minutes.\n"
     ]
    },
    {
     "name": "stderr",
     "output_type": "stream",
     "text": [
      "  5%|▌         | 19/352 [00:36<07:20,  1.32s/it]"
     ]
    },
    {
     "name": "stdout",
     "output_type": "stream",
     "text": [
      "Actions:  MAKESOLUTION with dimethylsulfoxide (15 ml); ADD SLN; ADD Ethyl 7,8,9-trifluoro-1-hydroxymethyl-5-oxo-5H-thiazolo[3,2-a]quinoline-4-carboxylate (0.50 g); ADD triethylamine (0.40 g); STIR for 1 hour and 30 minutes at 75°C.\n",
      "\n",
      "Paragraphs:  The residue was purified via reverse phase prep-HPLC and the pure fractions were neutralized by pushing through PL-HCO3 resin.\n"
     ]
    },
    {
     "name": "stderr",
     "output_type": "stream",
     "text": [
      "  6%|▌         | 20/352 [00:36<06:25,  1.16s/it]"
     ]
    },
    {
     "name": "stdout",
     "output_type": "stream",
     "text": [
      "Actions:  PURIFY; COLLECTPURIFIED; PH with PL-HCO3 resin to pH neutral.\n",
      "\n",
      "Paragraphs:  After the transfer is completed, the next step may be executed without any hold period.\n"
     ]
    },
    {
     "name": "stderr",
     "output_type": "stream",
     "text": [
      "  6%|▌         | 21/352 [00:37<05:02,  1.10it/s]"
     ]
    },
    {
     "name": "stdout",
     "output_type": "stream",
     "text": [
      "Actions:  NOOP\n",
      "\n",
      "Paragraphs:  To a solution of 40 mg of the obtained residue in 2.0 ml of DCM was added 500 μl of trifluoroacetic acid under ice-cooling, followed by stirring at the same temperature for 2 hours.\n"
     ]
    },
    {
     "name": "stderr",
     "output_type": "stream",
     "text": [
      "  6%|▋         | 22/352 [00:38<05:48,  1.06s/it]"
     ]
    },
    {
     "name": "stdout",
     "output_type": "stream",
     "text": [
      "Actions:  MAKESOLUTION with obtained residue (40 mg) and DCM (2.0 ml); ADD SLN; ADD trifluoroacetic acid (500 μl) at 0 °C; STIR for 2 hours at same temperature.\n",
      "\n",
      "Paragraphs:  Prepared in 95% yield from 2,3-dichlorophenylisothiocyanate and the product of Example 203A according to the procedure described for Example 153B.\n"
     ]
    },
    {
     "name": "stderr",
     "output_type": "stream",
     "text": [
      "  7%|▋         | 23/352 [00:39<05:14,  1.05it/s]"
     ]
    },
    {
     "name": "stdout",
     "output_type": "stream",
     "text": [
      "Actions:  YIELD unknown from 2,3-dichlorophenylisothiocyanate and product of Example 203A according to procedure for Example 153B.\n",
      "\n",
      "Paragraphs:  The aqueous layer was extracted three times with dichloromethane, then the combined organic layer was washed with saturated aqueous sodium bicarbonate and brine.\n"
     ]
    },
    {
     "name": "stderr",
     "output_type": "stream",
     "text": [
      "  7%|▋         | 24/352 [00:40<04:47,  1.14it/s]"
     ]
    },
    {
     "name": "stdout",
     "output_type": "stream",
     "text": [
      "Actions:  COLLECTLAYER aqueous; EXTRACT with dichloromethane 3 x; COLLECTLAYER organic; WASH with saturated aqueous sodium bicarbonate; WASH with brine.\n",
      "\n",
      "Paragraphs:  (7-Fluoro-2-oxo-1,5-naphthyridin-1(2H)-yl)acetaldehyde methyl hemiacetal (200 mg, 0.8396 mmol) and 1,1-dimethylethyl[(3S,4R)-3-hydroxy-4-piperidinyl]carbamate (for a synthesis see WO2004058144, Example 5(c), cis-(3-hydroxy-piperidin-4-yl)-carbamic acid tert-butyl ester Enantiomer 2) (192 mg, 1 eq.) were stirred in chloroform (10 ml) plus MeOH (0.5 ml) under argon for 2 h.\n"
     ]
    },
    {
     "name": "stderr",
     "output_type": "stream",
     "text": [
      "  7%|▋         | 25/352 [00:41<06:01,  1.11s/it]"
     ]
    },
    {
     "name": "stdout",
     "output_type": "stream",
     "text": [
      "Actions:  ADD (7-Fluoro-2-oxo-1,5-naphthyridin-1(2H)-yl)acetaldehyde methyl hemiacetal (200 mg, 0.8396 mmol); ADD 1,1-dimethylethyl[(3S,4R)-3-hydroxy-4-piperidinyl]carbamate (192 mg, 1 eq.); ADD chloroform (10 ml); ADD MeOH (0.5 ml); STIR for 2 h under argon.\n",
      "\n",
      "Paragraphs:  After the initial exothermic reaction subsides the mixture is refluxed for 5 minutes, cooled and concentrated to dryness.\n"
     ]
    },
    {
     "name": "stderr",
     "output_type": "stream",
     "text": [
      "  7%|▋         | 26/352 [00:42<05:27,  1.00s/it]"
     ]
    },
    {
     "name": "stdout",
     "output_type": "stream",
     "text": [
      "Actions:  REFLUX for 5 minutes; SETTEMPERATURE room temperature; CONCENTRATE.\n",
      "\n",
      "Paragraphs:  The reaction mixture was diluted with water, acidified by 1.0 N HCl aqueous solution to the pH 3 to 4 and extracted with EtOAc.\n"
     ]
    },
    {
     "name": "stderr",
     "output_type": "stream",
     "text": [
      "  8%|▊         | 27/352 [00:43<04:53,  1.11it/s]"
     ]
    },
    {
     "name": "stdout",
     "output_type": "stream",
     "text": [
      "Actions:  ADD water; PH with 1.0 N HCl aqueous solution to pH 3 to 4; EXTRACT with EtOAc.\n",
      "\n",
      "Paragraphs:  The mixture is subsequently left to crystallise at 0° C. and the separated solid material is filtered off under suction and transferred to a separating funnel.\n"
     ]
    },
    {
     "name": "stderr",
     "output_type": "stream",
     "text": [
      "  8%|▊         | 28/352 [00:43<04:19,  1.25it/s]"
     ]
    },
    {
     "name": "stdout",
     "output_type": "stream",
     "text": [
      "Actions:  CRYSTALLIZE at 0° C; FILTER keep precipitate; TRANSFER to separating funnel.\n",
      "\n",
      "Paragraphs:  The reaction is stirred at room temperature for 20 min, poured into water, and extracted with dichloromethane.\n"
     ]
    },
    {
     "name": "stderr",
     "output_type": "stream",
     "text": [
      "  8%|▊         | 29/352 [00:44<03:51,  1.39it/s]"
     ]
    },
    {
     "name": "stdout",
     "output_type": "stream",
     "text": [
      "Actions:  STIR for 20 min at room temperature; ADD water; EXTRACT with dichloromethane.\n",
      "\n",
      "Paragraphs:  Concentration under reduced pressure followed by purification by column chromatography afforded the compound 162 as an orange solid. m.p. 49° C.\n"
     ]
    },
    {
     "name": "stderr",
     "output_type": "stream",
     "text": [
      "  9%|▊         | 30/352 [00:44<03:48,  1.41it/s]"
     ]
    },
    {
     "name": "stdout",
     "output_type": "stream",
     "text": [
      "Actions:  CONCENTRATE; PURIFY; YIELD compound 162.\n",
      "\n",
      "Paragraphs:  To an ice-cooled solution of (6,7-difluoro-3-methyl-1,2-benzisoxazol-5-yl)methanol (Intermediate 334, 200 mg, 1.0 mmol) in CH2Cl2 (10 mL) was added NMO (235 mg, 2.0 mmol) followed TPAP (35 mg, 0.1 mmol) and mixture stirred for 2 hours at room temperature.\n"
     ]
    },
    {
     "name": "stderr",
     "output_type": "stream",
     "text": [
      "  9%|▉         | 31/352 [00:46<04:54,  1.09it/s]"
     ]
    },
    {
     "name": "stdout",
     "output_type": "stream",
     "text": [
      "Actions:  MAKESOLUTION with (6,7-difluoro-3-methyl-1,2-benzisoxazol-5-yl)methanol (200 mg, 1.0 mmol) and CH2Cl2 (10 mL); ADD SLN; ADD NMO (235 mg, 2.0 mmol) at 0 °C; ADD TPAP (35 mg, 0.1 mmol) at 0 °C; STIR for 2 hours at room temperature.\n",
      "\n",
      "Paragraphs:  To a suspension of 5.55 g of 5-amino-2-methoxy-4-nitrobenzoic acid in 40 ml of benzene was added 40 ml of thionyl chloride, and the mixture was refluxed for 4 hours.\n"
     ]
    },
    {
     "name": "stderr",
     "output_type": "stream",
     "text": [
      "  9%|▉         | 32/352 [00:47<05:00,  1.06it/s]"
     ]
    },
    {
     "name": "stdout",
     "output_type": "stream",
     "text": [
      "Actions:  MAKESOLUTION with 5-amino-2-methoxy-4-nitrobenzoic acid (5.55 g) and benzene (40 ml); ADD SLN; ADD thionyl chloride (40 ml); REFLUX for 4 hours.\n",
      "\n",
      "Paragraphs:  MS (EI): 448.1 (M+H)+.\n"
     ]
    },
    {
     "name": "stderr",
     "output_type": "stream",
     "text": [
      "  9%|▉         | 33/352 [00:47<04:39,  1.14it/s]"
     ]
    },
    {
     "name": "stdout",
     "output_type": "stream",
     "text": [
      "Actions:  NOACTION.\n",
      "\n",
      "Paragraphs:  DCM (1-2 mL) and Et2O was added and a solid was formed.\n"
     ]
    },
    {
     "name": "stderr",
     "output_type": "stream",
     "text": [
      " 10%|▉         | 34/352 [00:48<04:40,  1.14it/s]"
     ]
    },
    {
     "name": "stdout",
     "output_type": "stream",
     "text": [
      "Actions:  ADD DCM (1-2 mL); ADD Et2O.\n",
      "\n",
      "Paragraphs:  The resulting slurry was stirred for 30 minutes at 25° C. and the pH was adjusted to pH=9 by addition of 6M NaOH (0.135 L).\n"
     ]
    },
    {
     "name": "stderr",
     "output_type": "stream",
     "text": [
      " 10%|▉         | 35/352 [00:49<04:59,  1.06it/s]"
     ]
    },
    {
     "name": "stdout",
     "output_type": "stream",
     "text": [
      "Actions:  STIR for 30 minutes at 25° C; PH with 6M NaOH (0.135 L) to pH 9.\n",
      "\n",
      "Paragraphs:  Triphenylphosphine (2.95 g) and 3.73 g of carbon tetrabromide were added to a solution of 0.724 ml of (pyridin-2-yl)methanol in 40 ml of dichloromethane under ice cooling, and the mixture was stirred at that temperature for 1.5 hr.\n"
     ]
    },
    {
     "name": "stderr",
     "output_type": "stream",
     "text": [
      " 10%|█         | 36/352 [00:51<05:34,  1.06s/it]"
     ]
    },
    {
     "name": "stdout",
     "output_type": "stream",
     "text": [
      "Actions:  MAKESOLUTION with (pyridin-2-yl)methanol (0.724 ml) and dichloromethane (40 ml); ADD SLN; ADD Triphenylphosphine (2.95 g) at 0 °C; ADD carbon tetrabromide (3.73 g) at 0 °C; STIR for 1.5 hr at same temperature.\n",
      "\n",
      "Paragraphs:  The intermediate of Formula-11 is reacted with Desloratadine in presence of K2CO3 and acetone to give Rupatadine base which on further treatment with fumaric acid in methanol to give Rupatadine Fumarate of Formula-1.\n"
     ]
    },
    {
     "name": "stderr",
     "output_type": "stream",
     "text": [
      " 11%|█         | 37/352 [00:52<05:29,  1.05s/it]"
     ]
    },
    {
     "name": "stdout",
     "output_type": "stream",
     "text": [
      "Actions:  FOLLOWOTHERPROCEDURE.\n",
      "\n",
      "Paragraphs:  After removal of solvent, purify the mixture by preparative-HPLC to afford 2-(5-(3,5-dichlorophenyl)-5-(trifluoromethyl)-4,5-dihydroisoxazol-3-yl)-N-(2-oxo-2-(2,2,2-trifluoroethylamino)ethyl)thieno[2,3-b]pyridine-5-carboxamide as a white solid (50 mg, 34.78%).\n"
     ]
    },
    {
     "name": "stderr",
     "output_type": "stream",
     "text": [
      " 11%|█         | 38/352 [00:53<05:49,  1.11s/it]"
     ]
    },
    {
     "name": "stdout",
     "output_type": "stream",
     "text": [
      "Actions:  CONCENTRATE; PURIFY; YIELD 2-(5-(3,5-dichlorophenyl)-5-(trifluoromethyl)-4,5-dihydroisoxazol-3-yl)-N-(2-oxo-2-(2,2,2-trifluoroethylamino)ethyl)thieno[2,3-b]pyridine-5-carboxamide (50 mg, 34.78%).\n",
      "\n",
      "Paragraphs:  The reaction mixture was allowed to cool to ambient temperature and poured into H2O (250 mL).\n"
     ]
    },
    {
     "name": "stderr",
     "output_type": "stream",
     "text": [
      " 11%|█         | 39/352 [00:54<04:46,  1.09it/s]"
     ]
    },
    {
     "name": "stdout",
     "output_type": "stream",
     "text": [
      "Actions:  SETTEMPERATURE ambient temperature; ADD H2O (250 mL).\n",
      "\n",
      "Paragraphs:  A solution was prepared by dissolving 4-(1-{2-fluoro-1-[(3S)-pyrrolidin-3-yl]ethyl}-1H-pyrazol-4-yl)-7-{[2-(trimethylsilyl)ethoxy]methyl}-7H-pyrrolo[2,3-d]pyrimidine (from Example 70, Step 7; 25 mg, 0.058 mmol) and DIPEA (2.0E1 μL, 0.12 mmol) in NMP (0.2 mL).\n"
     ]
    },
    {
     "name": "stderr",
     "output_type": "stream",
     "text": [
      " 11%|█▏        | 40/352 [00:55<05:29,  1.06s/it]"
     ]
    },
    {
     "name": "stdout",
     "output_type": "stream",
     "text": [
      "Actions:  ADD 4-(1-{2-fluoro-1-[(3S)-pyrrolidin-3-yl]ethyl}-1H-pyrazol-4-yl)-7-{[2-(trimethylsilyl)ethoxy]methyl}-7H-pyrrolo[2,3-d]pyrimidine (25 mg, 0.058 mmol); ADD DIPEA (2.0E1 μL, 0.12 mmol); ADD NMP (0.2 mL).\n",
      "\n",
      "Paragraphs:  The mixture was stirred for 1.5 hours and then a solution containing 3-amino-4-{[3-(dimethylamino)propyl]amino}-N-methylbenzamide (1.653 g) in chloroform (9 ml) was added thereto.\n"
     ]
    },
    {
     "name": "stderr",
     "output_type": "stream",
     "text": [
      " 12%|█▏        | 41/352 [00:56<05:26,  1.05s/it]"
     ]
    },
    {
     "name": "stdout",
     "output_type": "stream",
     "text": [
      "Actions:  STIR for 1.5 hours; MAKESOLUTION with 3-amino-4-{[3-(dimethylamino)propyl]amino}-N-methylbenzamide (1.653 g) and chloroform (9 ml); ADD SLN.\n",
      "\n",
      "Paragraphs:  The product was dissolved in small amount of acetonitrile and ˜5 mL water, frozen in dry ice and lyophilized to give a powder product (20 mg, yield 44.1%).\n"
     ]
    },
    {
     "name": "stderr",
     "output_type": "stream",
     "text": [
      " 12%|█▏        | 42/352 [00:57<05:00,  1.03it/s]"
     ]
    },
    {
     "name": "stdout",
     "output_type": "stream",
     "text": [
      "Actions:  ADD acetonitrile (small amount); ADD water (˜5 mL); FREEZE -78 °C; LYOPHILIZE; YIELD powder product (20 mg, 44.1%).\n",
      "\n",
      "Paragraphs:  The residue was crystallized from 60 ml of benzotrifluoride, during this operation, the mixture was briefly boiled with activated carbon and filtered whilst still hot.\n"
     ]
    },
    {
     "name": "stderr",
     "output_type": "stream",
     "text": [
      " 12%|█▏        | 43/352 [00:57<04:21,  1.18it/s]"
     ]
    },
    {
     "name": "stdout",
     "output_type": "stream",
     "text": [
      "Actions:  ADD benzotrifluoride (60 ml); BOIL with activated carbon; FILTER keep filtrate.\n",
      "\n",
      "Paragraphs:  The resulting mixture was stirred at room temperature for 1 hour with periodic addition of methanolic HCl to maintain the yellow color.\n"
     ]
    },
    {
     "name": "stderr",
     "output_type": "stream",
     "text": [
      " 12%|█▎        | 44/352 [00:58<03:48,  1.35it/s]"
     ]
    },
    {
     "name": "stdout",
     "output_type": "stream",
     "text": [
      "Actions:  STIR for 1 hour at room temperature with periodic addition of methanolic HCl.\n",
      "\n",
      "Paragraphs:  The mixture was kept at 0°C for 30 min and then the mixture was allowed to adapt ambient temperature.\n"
     ]
    },
    {
     "name": "stderr",
     "output_type": "stream",
     "text": [
      " 13%|█▎        | 45/352 [00:58<03:32,  1.45it/s]"
     ]
    },
    {
     "name": "stdout",
     "output_type": "stream",
     "text": [
      "Actions:  STIR for 30 min at 0°C; SETTEMPERATURE ambient temperature.\n",
      "\n",
      "Paragraphs:  The remaining aqueous layer was acidified to pH=3 with 1N HCl (8 mL).\n"
     ]
    },
    {
     "name": "stderr",
     "output_type": "stream",
     "text": [
      " 13%|█▎        | 46/352 [00:59<03:23,  1.50it/s]"
     ]
    },
    {
     "name": "stdout",
     "output_type": "stream",
     "text": [
      "Actions:  COLLECTLAYER aqueous; PH with 1N HCl (8 mL) to pH 3.\n",
      "\n",
      "Paragraphs:  The reaction was then cooled in an ice bath. tert-Butyl 4-oxopiperidine-1-carboxylate (4.98 g) was added as a solution in dichloromethane (20 mL) and the reaction was stirred at room temperature for 1 hour.\n"
     ]
    },
    {
     "name": "stderr",
     "output_type": "stream",
     "text": [
      " 13%|█▎        | 47/352 [01:00<04:37,  1.10it/s]"
     ]
    },
    {
     "name": "stdout",
     "output_type": "stream",
     "text": [
      "Actions:  SETTEMPERATURE 0 °C; MAKESOLUTION with tert-Butyl 4-oxopiperidine-1-carboxylate (4.98 g) and dichloromethane (20 mL); ADD SLN; STIR for 1 hour at room temperature.\n",
      "\n",
      "Paragraphs:  After the resultant mixture was stirred at room temperature for 1 hr, the mixture was neutralized with 1N hydrochloric acid and extracted with ethyl acetate.\n"
     ]
    },
    {
     "name": "stderr",
     "output_type": "stream",
     "text": [
      " 14%|█▎        | 48/352 [01:01<04:14,  1.19it/s]"
     ]
    },
    {
     "name": "stdout",
     "output_type": "stream",
     "text": [
      "Actions:  STIR for 1 hr at room temperature; PH with 1N hydrochloric acid to pH neutral; EXTRACT with ethyl acetate.\n",
      "\n",
      "Paragraphs:  1H NMR (500 MHz, CD3OD) δ 8.45 - 8.44 (d, J = 2.0, 1H), 8.43 (s, 1H), 8.10 - 8.09 (d, J = 1.5, 1H), 8.09 - 8.06 (dd, J = 7.8, 1.7, 1H), 8.02 - 7.97 (m, 1H), 7.71 - 7.68 (d, J = 7.9, 1H), 7.41 - 7.39 (m, 1H), 7.39 - 7.37 (m, 1H), 2.88 (s, 3H).\n"
     ]
    },
    {
     "name": "stderr",
     "output_type": "stream",
     "text": [
      " 14%|█▍        | 49/352 [01:02<03:31,  1.43it/s]"
     ]
    },
    {
     "name": "stdout",
     "output_type": "stream",
     "text": [
      "Actions:  NOACTION.\n",
      "\n",
      "Paragraphs:  In 64 ml of THF and 24 ml of methanol was dissolved 396 mg (0.696 mmol) of the compound obtained in Example 149-1, to which 36 ml of a 2.5% potassium carbonate aqueous solution was then added, followed by stirring at room temperature for 6 hours.\n"
     ]
    },
    {
     "name": "stderr",
     "output_type": "stream",
     "text": [
      " 14%|█▍        | 50/352 [01:02<03:47,  1.33it/s]"
     ]
    },
    {
     "name": "stdout",
     "output_type": "stream",
     "text": [
      "Actions:  ADD THF (64 ml); ADD methanol (24 ml); ADD compound obtained in Example 149-1 (396 mg, 0.696 mmol); ADD 2.5% potassium carbonate aqueous solution (36 ml); STIR for 6 hours at room temperature.\n",
      "\n",
      "Paragraphs:  The resulting mixture is stirred at 70° C. for 15 min then cooled to r.t.\n"
     ]
    },
    {
     "name": "stderr",
     "output_type": "stream",
     "text": [
      " 14%|█▍        | 51/352 [01:03<03:23,  1.48it/s]"
     ]
    },
    {
     "name": "stdout",
     "output_type": "stream",
     "text": [
      "Actions:  STIR for 15 min at 70° C; SETTEMPERATURE r.t..\n",
      "\n",
      "Paragraphs:  The liquid temperature was raised on an oil bath and was held at 110°C.\n"
     ]
    },
    {
     "name": "stderr",
     "output_type": "stream",
     "text": [
      " 15%|█▍        | 52/352 [01:03<03:01,  1.66it/s]"
     ]
    },
    {
     "name": "stdout",
     "output_type": "stream",
     "text": [
      "Actions:  SETTEMPERATURE 110°C.\n",
      "\n",
      "Paragraphs:  This material was obtained as described in example 34 from the opposite enantiomer (3S,4R)-4-amino-piperidine-1,3-dicarboxylic acid 1-tert-butyl ester 3-methyl ester, thiazolidine and 2-(2-bromo-ethyl)-pyridine (synthesized according to Synthesis, 5, 1987, 452-455).\n"
     ]
    },
    {
     "name": "stderr",
     "output_type": "stream",
     "text": [
      " 15%|█▌        | 53/352 [01:04<02:58,  1.68it/s]"
     ]
    },
    {
     "name": "stdout",
     "output_type": "stream",
     "text": [
      "Actions:  FOLLOWOTHERPROCEDURE.\n",
      "\n",
      "Paragraphs:  A solution of 100 g of the methyl ester of 4-methyl-3-cyclohexene-1-carboxylic acid in 20 ml of dry tetrahydrofuran was added at 20°-30° C. with cooling by an ice bath.\n"
     ]
    },
    {
     "name": "stderr",
     "output_type": "stream",
     "text": [
      " 15%|█▌        | 54/352 [01:05<03:31,  1.41it/s]"
     ]
    },
    {
     "name": "stdout",
     "output_type": "stream",
     "text": [
      "Actions:  MAKESOLUTION with methyl ester of 4-methyl-3-cyclohexene-1-carboxylic acid (100 g) and dry tetrahydrofuran (20 ml); ADD SLN at 20°-30° C with ice bath.\n",
      "\n",
      "Paragraphs:  1H NMR (400 MHz; CDCl3) δ: 0.84 (3H, t, J 7 Hz), 1.15-1.38 (5H, m), 1.65 (1 H, m), 1.75 (1 H, m), 1.84 (1 H, m), 2.04 (1 H, m), 2.38 (3H, s), 3.38 (1 H, m).\n"
     ]
    },
    {
     "name": "stderr",
     "output_type": "stream",
     "text": [
      " 16%|█▌        | 55/352 [01:05<03:01,  1.64it/s]"
     ]
    },
    {
     "name": "stdout",
     "output_type": "stream",
     "text": [
      "Actions:  NOACTION.\n",
      "\n",
      "Paragraphs:  An attempt to filter this was unsuccessful, and the mixture was left to stand overnight.\n"
     ]
    },
    {
     "name": "stderr",
     "output_type": "stream",
     "text": [
      " 16%|█▌        | 56/352 [01:06<02:40,  1.85it/s]"
     ]
    },
    {
     "name": "stdout",
     "output_type": "stream",
     "text": [
      "Actions:  WAIT for overnight.\n",
      "\n",
      "Paragraphs:  The cooling bath was removed and the mixture was stirred at room temperature overnight.\n"
     ]
    },
    {
     "name": "stderr",
     "output_type": "stream",
     "text": [
      " 16%|█▌        | 57/352 [01:06<02:31,  1.94it/s]"
     ]
    },
    {
     "name": "stdout",
     "output_type": "stream",
     "text": [
      "Actions:  SETTEMPERATURE room temperature; STIR for overnight at room temperature.\n",
      "\n",
      "Paragraphs:  Water was added to the reaction mixture, and the mixture was neutralized with 2N hydrochloric acid and extracted with ethyl acetate.\n"
     ]
    },
    {
     "name": "stderr",
     "output_type": "stream",
     "text": [
      " 16%|█▋        | 58/352 [01:07<02:33,  1.91it/s]"
     ]
    },
    {
     "name": "stdout",
     "output_type": "stream",
     "text": [
      "Actions:  ADD Water; PH with 2N hydrochloric acid to pH neutral; EXTRACT with ethyl acetate.\n",
      "\n",
      "Paragraphs:  Prepared by Procedure E and Scheme M using N-(3-{1-[5-(4-iodophenyl)-5-oxopentyl]-4-piperidinyl}phenyl)-2-methylpropanamide and 1-naphthylhydrazine hydrochloride: ESMS m/e: 656.1 (M+H)+.\n"
     ]
    },
    {
     "name": "stderr",
     "output_type": "stream",
     "text": [
      " 17%|█▋        | 59/352 [01:07<02:24,  2.03it/s]"
     ]
    },
    {
     "name": "stdout",
     "output_type": "stream",
     "text": [
      "Actions:  FOLLOWOTHERPROCEDURE.\n",
      "\n",
      "Paragraphs:  The reaction mixture was poured into ice water, washed with diethyl ether, neutralized with 5 M aqueous solution of sodium hydroxide and extracted twice with ethyl acetate.\n"
     ]
    },
    {
     "name": "stderr",
     "output_type": "stream",
     "text": [
      " 17%|█▋        | 60/352 [01:08<02:49,  1.72it/s]"
     ]
    },
    {
     "name": "stdout",
     "output_type": "stream",
     "text": [
      "Actions:  ADD ice water; WASH with diethyl ether; PH with 5 M aqueous solution of sodium hydroxide to pH neutral; EXTRACT with ethyl acetate 2 x.\n",
      "\n",
      "Paragraphs:  A solution of 2-[(3,6-dichloro-4-pyridazinyl)oxy]ethanol containing some bromo-derivative (15.46 g; 0.0703 mol) in dry 1,4-dioxane (1.2 L) was treated with lithium hydride (2.3 g; 0.28 mol) in portions and stirred at room temperature for 1 hour under argon, then heated at 110° C. overnight.\n"
     ]
    },
    {
     "name": "stderr",
     "output_type": "stream",
     "text": [
      " 17%|█▋        | 61/352 [01:09<04:19,  1.12it/s]"
     ]
    },
    {
     "name": "stdout",
     "output_type": "stream",
     "text": [
      "Actions:  MAKESOLUTION with 2-[(3,6-dichloro-4-pyridazinyl)oxy]ethanol (15.46 g, 0.0703 mol) and dry 1,4-dioxane (1.2 L); ADD SLN; ADD lithium hydride (2.3 g, 0.28 mol) at room temperature under argon; STIR for 1 hour at room temperature under argon; STIR for overnight at 110° C.\n",
      "\n",
      "Paragraphs:  2,8-Dimethyl-5-((2-(pyridin-4-yl)oxiran-2-yl)methyl)-2,3,4,5-tetrahydro-1H-pyrido[4,3-b]indole (100 mg, 0.3 mmol) was added to 2M dimethyl amine solution in THF (5 mL) and the reaction mixture was allowed to stir at 60° C. overnight.\n"
     ]
    },
    {
     "name": "stderr",
     "output_type": "stream",
     "text": [
      " 18%|█▊        | 62/352 [01:11<05:14,  1.09s/it]"
     ]
    },
    {
     "name": "stdout",
     "output_type": "stream",
     "text": [
      "Actions:  MAKESOLUTION with 2M dimethyl amine solution in THF (5 mL); ADD SLN; ADD 2,8-Dimethyl-5-((2-(pyridin-4-yl)oxiran-2-yl)methyl)-2,3,4,5-tetrahydro-1H-pyrido[4,3-b]indole (100 mg, 0.3 mmol); STIR for overnight at 60° C.\n",
      "\n",
      "Paragraphs:  The reaction mixture was left to warm to room temperature for 48 hours.\n"
     ]
    },
    {
     "name": "stderr",
     "output_type": "stream",
     "text": [
      " 18%|█▊        | 63/352 [01:11<04:17,  1.12it/s]"
     ]
    },
    {
     "name": "stdout",
     "output_type": "stream",
     "text": [
      "Actions:  STIR for 48 hours at room temperature.\n",
      "\n",
      "Paragraphs:  To a solution of 6-(3-fluoro-4-methoxyphenyl)-5-(4-methoxyphenyl)-2H-pyridazin-3-one (150 mg, 0.46 mmol) in N,N-dimethylformamide (1.5 ml), potassium carbonate (317.6 mg) and ethyl iodide (179.2 mg) were added, followed by stirring at 70° C. for 3 hours.\n"
     ]
    },
    {
     "name": "stderr",
     "output_type": "stream",
     "text": [
      " 18%|█▊        | 64/352 [01:13<05:06,  1.06s/it]"
     ]
    },
    {
     "name": "stdout",
     "output_type": "stream",
     "text": [
      "Actions:  MAKESOLUTION with 6-(3-fluoro-4-methoxyphenyl)-5-(4-methoxyphenyl)-2H-pyridazin-3-one (150 mg, 0.46 mmol) and N,N-dimethylformamide (1.5 ml); ADD SLN; ADD potassium carbonate (317.6 mg); ADD ethyl iodide (179.2 mg); STIR for 3 hours at 70° C.\n",
      "\n",
      "Paragraphs:  3-Nitro-phenol (1.00 g, 7.189 mmol) was treated with 4-bromo-benzyl bromide (1.976 g, 7.90 mmol) following the procedure of 189a providing the tile compound (2.1 g, 97%).\n"
     ]
    },
    {
     "name": "stderr",
     "output_type": "stream",
     "text": [
      " 18%|█▊        | 65/352 [01:14<04:51,  1.02s/it]"
     ]
    },
    {
     "name": "stdout",
     "output_type": "stream",
     "text": [
      "Actions:  ADD 3-Nitro-phenol (1.00 g, 7.189 mmol); ADD 4-bromo-benzyl bromide (1.976 g, 7.90 mmol); YIELD tile compound (2.1 g, 97%).\n",
      "\n",
      "Paragraphs:  The reaction mixture was stirred for 4 hrs at −70° C. and then left to return to room temperature.\n"
     ]
    },
    {
     "name": "stderr",
     "output_type": "stream",
     "text": [
      " 19%|█▉        | 66/352 [01:14<04:15,  1.12it/s]"
     ]
    },
    {
     "name": "stdout",
     "output_type": "stream",
     "text": [
      "Actions:  STIR for 4 hrs at −70° C; SETTEMPERATURE room temperature.\n",
      "\n",
      "Paragraphs:  The same NaOH solution was then used to maintain pH at 9, and at costant pH the layers were separated.\n"
     ]
    },
    {
     "name": "stderr",
     "output_type": "stream",
     "text": [
      " 19%|█▉        | 67/352 [01:15<03:43,  1.28it/s]"
     ]
    },
    {
     "name": "stdout",
     "output_type": "stream",
     "text": [
      "Actions:  PH with same NaOH solution to pH 9; PHASESEPARATION.\n",
      "\n",
      "Paragraphs:  The title compound was prepared in a manner analogous to Example 15 utilizing Intermediate 17 and 2-chloro-benzooxazole.\n"
     ]
    },
    {
     "name": "stderr",
     "output_type": "stream",
     "text": [
      " 19%|█▉        | 68/352 [01:15<03:08,  1.50it/s]"
     ]
    },
    {
     "name": "stdout",
     "output_type": "stream",
     "text": [
      "Actions:  FOLLOWOTHERPROCEDURE.\n",
      "\n",
      "Paragraphs:  1H NMR (CDCl3, 300 MHz): δ7.40-7.29 (m, 5H), 5.23-5.09 (m, 2H), 4.56-4.52 (m, 2H), 4.11-4.04 (m, 1H), 3.69 (s, 3H), 3.45-3.42 (m, 1H), 3.22-3.12 (m, 1H), 2.27-2.10 (m, 1H), 1.96 (m, 1H), 1.47 (s, 9H) ppm.\n"
     ]
    },
    {
     "name": "stderr",
     "output_type": "stream",
     "text": [
      " 20%|█▉        | 69/352 [01:16<02:42,  1.74it/s]"
     ]
    },
    {
     "name": "stdout",
     "output_type": "stream",
     "text": [
      "Actions:  NOACTION.\n",
      "\n",
      "Paragraphs:  The mixture was stirred at the same temperature for additional 60 minutes and it was then allowed to cool down to room temperature.\n"
     ]
    },
    {
     "name": "stderr",
     "output_type": "stream",
     "text": [
      " 20%|█▉        | 70/352 [01:16<02:37,  1.79it/s]"
     ]
    },
    {
     "name": "stdout",
     "output_type": "stream",
     "text": [
      "Actions:  STIR for 60 minutes at same temperature; SETTEMPERATURE room temperature.\n",
      "\n",
      "Paragraphs:  The aqueous phase was extracted once more with ethyl acetate (100 ml) and the combined organic phase was washed with water (3×100 ml) and saturated aqueous sodium chloride (100 ml) before being dried (MgSO4), filtered and concentrated to an oily residue (3.9 g) which was used in the subsequent reaction without further purification: NMR (200 MHz; CDCl3, TMS) δ:7.9-7.2 (m,8H), 4.37 (s,2H), and 3.60 (s,3H).\n"
     ]
    },
    {
     "name": "stderr",
     "output_type": "stream",
     "text": [
      " 20%|██        | 71/352 [01:17<03:17,  1.42it/s]"
     ]
    },
    {
     "name": "stdout",
     "output_type": "stream",
     "text": [
      "Actions:  COLLECTLAYER aqueous; EXTRACT with ethyl acetate (100 ml); COLLECTLAYER organic; WASH with water (100 ml) 3 x; WASH with saturated aqueous sodium chloride (100 ml); DRYSOLUTION over MgSO4; FILTER keep filtrate; CONCENTRATE; YIELD oily residue (3.9 g).\n",
      "\n",
      "Paragraphs:  1H NMR (DMSO-d6) 7.18 (1H, t), 6.83 (1H, d), 6.78 (1H, d), 4.07 (2H, s), 4.02 (2H, s), 3.78 (3H, s).\n"
     ]
    },
    {
     "name": "stderr",
     "output_type": "stream",
     "text": [
      " 20%|██        | 72/352 [01:18<02:46,  1.68it/s]"
     ]
    },
    {
     "name": "stdout",
     "output_type": "stream",
     "text": [
      "Actions:  NOACTION.\n",
      "\n",
      "Paragraphs:  The reaction was left to stand for 20 minutes with occasional swirling.\n"
     ]
    },
    {
     "name": "stderr",
     "output_type": "stream",
     "text": [
      " 21%|██        | 73/352 [01:18<02:35,  1.80it/s]"
     ]
    },
    {
     "name": "stdout",
     "output_type": "stream",
     "text": [
      "Actions:  WAIT for 20 minutes with occasional swirling.\n",
      "\n",
      "Paragraphs:  The pale yellow solid 3-allyloxy-4-methoxynitrobenzene prepared above was added in portions over a 30 minute period and then the temperature was raised to 95° C. and maintained for 3 hours, after which time the starting material had been consumed.\n"
     ]
    },
    {
     "name": "stderr",
     "output_type": "stream",
     "text": [
      " 21%|██        | 74/352 [01:19<02:49,  1.64it/s]"
     ]
    },
    {
     "name": "stdout",
     "output_type": "stream",
     "text": [
      "Actions:  ADD 3-allyloxy-4-methoxynitrobenzene (pale yellow solid) over 30 minute; STIR for 3 hours at 95° C.\n",
      "\n",
      "Paragraphs:  The title product is obtained as a red-brown solid (yield: 20.64 g (84%)).\n"
     ]
    },
    {
     "name": "stderr",
     "output_type": "stream",
     "text": [
      " 21%|██▏       | 75/352 [01:19<02:37,  1.76it/s]"
     ]
    },
    {
     "name": "stdout",
     "output_type": "stream",
     "text": [
      "Actions:  YIELD title product (20.64 g, 84%).\n",
      "\n",
      "Paragraphs:  The residue again was diluted with water (200 ml), neutralized with KOH pellets and extracted with CH2Cl2 (3×100 ml).\n"
     ]
    },
    {
     "name": "stderr",
     "output_type": "stream",
     "text": [
      " 22%|██▏       | 76/352 [01:20<02:44,  1.68it/s]"
     ]
    },
    {
     "name": "stdout",
     "output_type": "stream",
     "text": [
      "Actions:  ADD water (200 ml); PH with KOH pellets to pH neutral; EXTRACT with CH2Cl2 (100 ml) 3 x.\n",
      "\n",
      "Paragraphs:  After cooling to room temperature, the precipitated product is filtered and rinsed successively with cold triethyl orthoformate and heptane, then dried under vacuum.\n"
     ]
    },
    {
     "name": "stderr",
     "output_type": "stream",
     "text": [
      " 22%|██▏       | 77/352 [01:21<02:53,  1.58it/s]"
     ]
    },
    {
     "name": "stdout",
     "output_type": "stream",
     "text": [
      "Actions:  SETTEMPERATURE room temperature; FILTER keep precipitate; WASH with cold triethyl orthoformate; WASH with heptane; DRYSOLID under vacuum.\n",
      "\n",
      "Paragraphs:  When bubbling ceased, 1N HCl was added until the pH was ˜2.\n"
     ]
    },
    {
     "name": "stderr",
     "output_type": "stream",
     "text": [
      " 22%|██▏       | 78/352 [01:21<02:38,  1.73it/s]"
     ]
    },
    {
     "name": "stdout",
     "output_type": "stream",
     "text": [
      "Actions:  PH with 1N HCl to pH ˜2.\n",
      "\n",
      "Paragraphs:  The reaction was allowed to warm to room temperature overnight and was quenched with saturated aqueous NH4Cl solution.\n"
     ]
    },
    {
     "name": "stderr",
     "output_type": "stream",
     "text": [
      " 22%|██▏       | 79/352 [01:22<02:31,  1.81it/s]"
     ]
    },
    {
     "name": "stdout",
     "output_type": "stream",
     "text": [
      "Actions:  STIR for overnight at room temperature; QUENCH with saturated aqueous NH4Cl solution.\n",
      "\n",
      "Paragraphs:  3-Cyclobutyl-7-(piperidin-4-yloxy)-2,3,4,5-tetrahydro-1H-benzo[d]azepine (E6) (150 mg, 0.5 mmol) was stirred in dichloromethane (5 ml) with diethylaminomethyl polystyrene (3.2 mmol/g, 625 mg, 2 mmol).\n"
     ]
    },
    {
     "name": "stderr",
     "output_type": "stream",
     "text": [
      " 23%|██▎       | 80/352 [01:23<03:29,  1.30it/s]"
     ]
    },
    {
     "name": "stdout",
     "output_type": "stream",
     "text": [
      "Actions:  ADD 3-Cyclobutyl-7-(piperidin-4-yloxy)-2,3,4,5-tetrahydro-1H-benzo[d]azepine (150 mg, 0.5 mmol); ADD dichloromethane (5 ml); ADD diethylaminomethyl polystyrene (625 mg, 2 mmol).\n",
      "\n",
      "Paragraphs:  The reaction mixture was heated to 60 °C to give a homogeneous solution that was maintained at 60 °C for 16 hours at which time the starting material was completely consumed.\n"
     ]
    },
    {
     "name": "stderr",
     "output_type": "stream",
     "text": [
      " 23%|██▎       | 81/352 [01:23<03:13,  1.40it/s]"
     ]
    },
    {
     "name": "stdout",
     "output_type": "stream",
     "text": [
      "Actions:  SETTEMPERATURE 60 °C; STIR for 16 hours at 60 °C.\n",
      "\n",
      "Paragraphs:  To the residue were added ethyl acetate (3 ml) and heptane (3 ml) to precipitate a solid.\n"
     ]
    },
    {
     "name": "stderr",
     "output_type": "stream",
     "text": [
      " 23%|██▎       | 82/352 [01:24<02:57,  1.52it/s]"
     ]
    },
    {
     "name": "stdout",
     "output_type": "stream",
     "text": [
      "Actions:  ADD ethyl acetate (3 ml); ADD heptane (3 ml).\n",
      "\n",
      "Paragraphs:  To a stirred solution of 5-(4-bromophenyl)-1-[3-fluoro-4-(methylsulfonyl)phenyl]-3-(trifluoromethyl)-1H-pyrazole (0.15 g, 0.324 mmol) in DME (3.9 mL) was added furan -3-boronic acid (0.044 g, 0.389 mmol), bis(triphenylphosphine) palladium( II)chloride (0.025 g, 0.04 mmol) and saturated NaHCO3 solution (1.3 mL) at room temperature under nitrogen.\n"
     ]
    },
    {
     "name": "stderr",
     "output_type": "stream",
     "text": [
      " 24%|██▎       | 83/352 [01:26<04:35,  1.02s/it]"
     ]
    },
    {
     "name": "stdout",
     "output_type": "stream",
     "text": [
      "Actions:  MAKESOLUTION with 5-(4-bromophenyl)-1-[3-fluoro-4-(methylsulfonyl)phenyl]-3-(trifluoromethyl)-1H-pyrazole (0.15 g, 0.324 mmol) and DME (3.9 mL); ADD SLN; ADD furan -3-boronic acid (0.044 g, 0.389 mmol); ADD bis(triphenylphosphine) palladium( II)chloride (0.025 g, 0.04 mmol); ADD saturated NaHCO3 solution (1.3 mL) at room temperature under nitrogen.\n",
      "\n",
      "Paragraphs:  Yield 1.5 g (50.34%).\n"
     ]
    },
    {
     "name": "stderr",
     "output_type": "stream",
     "text": [
      " 24%|██▍       | 84/352 [01:26<03:47,  1.18it/s]"
     ]
    },
    {
     "name": "stdout",
     "output_type": "stream",
     "text": [
      "Actions:  YIELD (1.5 g, 50.34%).\n",
      "\n",
      "Paragraphs:  Appl. (1992), GB 2253848 A1 was reacted with [2-methyl-5-(4-trifluoromethoxy-phenyl)-2H-pyrazol-3-yl]-methanol (example 11 d]) in the presence of N,N,N',N'-tetramethyl azodicarboxamide and tributylphosphine to give [rac]-2-{6-[2-methyl-5-(4-trifluoromethoxy-phenyl)-2H-pyrazol-3-ylmethoxy]-indol-1-yl}-propionic acid-ethyl ester as colorless oil.\n"
     ]
    },
    {
     "name": "stderr",
     "output_type": "stream",
     "text": [
      " 24%|██▍       | 85/352 [01:28<04:44,  1.07s/it]"
     ]
    },
    {
     "name": "stdout",
     "output_type": "stream",
     "text": [
      "Actions:  FOLLOWOTHERREAGENT; ADD [2-methyl-5-(4-trifluoromethoxy-phenyl)-2H-pyrazol-3-yl]-methanol; ADD N,N,N',N'-tetramethyl azodicarboxamide; ADD tributylphosphine; YIELD [rac]-2-{6-[2-methyl-5-(4-trifluoromethoxy-phenyl)-2H-pyrazol-3-ylmethoxy]-indol-1-yl}-propionic acid-ethyl ester.\n",
      "\n",
      "Paragraphs:  Potassium hydroxide (3.65 g, 65.1 mmol) is added all at once to a suspension of 4-bromo-3-methyl-1-(4-methylbenzenesulphonyl)-1H-pyrrole-2-carbonitrile (4.66 g, 13.7 mmol) in methanol (95 mL) cooled using an ice bath.\n"
     ]
    },
    {
     "name": "stderr",
     "output_type": "stream",
     "text": [
      " 24%|██▍       | 86/352 [01:29<04:49,  1.09s/it]"
     ]
    },
    {
     "name": "stdout",
     "output_type": "stream",
     "text": [
      "Actions:  MAKESOLUTION with 4-bromo-3-methyl-1-(4-methylbenzenesulphonyl)-1H-pyrrole-2-carbonitrile (4.66 g, 13.7 mmol) and methanol (95 mL); ADD SLN; ADD Potassium hydroxide (3.65 g, 65.1 mmol) at 0 °C.\n",
      "\n",
      "Paragraphs:  The reaction mixture was stirred for 3 hours, and then 300 ml of water was added.\n"
     ]
    },
    {
     "name": "stderr",
     "output_type": "stream",
     "text": [
      " 25%|██▍       | 87/352 [01:29<04:00,  1.10it/s]"
     ]
    },
    {
     "name": "stdout",
     "output_type": "stream",
     "text": [
      "Actions:  STIR for 3 hours; ADD water (300 ml).\n",
      "\n",
      "Paragraphs:  The reaction was allowed to stir at room temperature for 92 hours and the mixture was poured into 2M aqueous hydrochloric acid (85ml) then diluted with water (170ml).\n"
     ]
    },
    {
     "name": "stderr",
     "output_type": "stream",
     "text": [
      " 25%|██▌       | 88/352 [01:30<03:58,  1.11it/s]"
     ]
    },
    {
     "name": "stdout",
     "output_type": "stream",
     "text": [
      "Actions:  STIR for 92 hours at room temperature; ADD 2M aqueous hydrochloric acid (85ml); ADD water (170ml).\n",
      "\n",
      "Paragraphs:  Without further workup, the mixture is purified directly by preparative HPLC [Method 10].\n"
     ]
    },
    {
     "name": "stderr",
     "output_type": "stream",
     "text": [
      " 25%|██▌       | 89/352 [01:31<03:13,  1.36it/s]"
     ]
    },
    {
     "name": "stdout",
     "output_type": "stream",
     "text": [
      "Actions:  PURIFY.\n",
      "\n",
      "Paragraphs:  The reaction vessel is sealed and the solution is left to stir for 20 h. EtOAc (50 mL) is added.\n"
     ]
    },
    {
     "name": "stderr",
     "output_type": "stream",
     "text": [
      " 26%|██▌       | 90/352 [01:31<02:51,  1.53it/s]"
     ]
    },
    {
     "name": "stdout",
     "output_type": "stream",
     "text": [
      "Actions:  STIR for 20 h; ADD EtOAc (50 mL).\n",
      "\n",
      "Paragraphs:  The reaction mixture is allowed to warm to room temperature and stirred overnight.\n"
     ]
    },
    {
     "name": "stderr",
     "output_type": "stream",
     "text": [
      " 26%|██▌       | 91/352 [01:32<02:32,  1.72it/s]"
     ]
    },
    {
     "name": "stdout",
     "output_type": "stream",
     "text": [
      "Actions:  SETTEMPERATURE room temperature; STIR for overnight.\n",
      "\n",
      "Paragraphs:  The combined organic layers were washed with brine, dried over sodium sulfate, filtered, and concentrated to yield 2.98 g of N-{2-[4-amino-7-[(6-aminohexyl)oxy]-2-(ethoxymethyl)-1H-imidazo[4,5-c]quinolin-1-yl]-1,1-dimethylethyl}-N-isopropylurea as a dark orange solid.\n"
     ]
    },
    {
     "name": "stderr",
     "output_type": "stream",
     "text": [
      " 26%|██▌       | 92/352 [01:33<03:35,  1.21it/s]"
     ]
    },
    {
     "name": "stdout",
     "output_type": "stream",
     "text": [
      "Actions:  COLLECTLAYER organic; WASH with brine; DRYSOLUTION over sodium sulfate; FILTER keep filtrate; CONCENTRATE; YIELD N-{2-[4-amino-7-[(6-aminohexyl)oxy]-2-(ethoxymethyl)-1H-imidazo[4,5-c]quinolin-1-yl]-1,1-dimethylethyl}-N-isopropylurea (2.98 g).\n",
      "\n",
      "Paragraphs:  3-Amino-2,4-dichloro-benzamide (2.00 g, 9.8 mmol) in THF (45 mL) was added dropwise to LiAlH4 (1 M in THF, 24.4 mL) in THF (45 mL).\n"
     ]
    },
    {
     "name": "stderr",
     "output_type": "stream",
     "text": [
      " 26%|██▋       | 93/352 [01:34<04:01,  1.07it/s]"
     ]
    },
    {
     "name": "stdout",
     "output_type": "stream",
     "text": [
      "Actions:  ADD LiAlH4 ‌(1 M in THF) (24.4 mL); MAKESOLUTION with 3-Amino-2,4-dichloro-benzamide (2.00 g, 9.8 mmol) and THF (45 mL); ADD SLN dropwise.\n",
      "\n",
      "Paragraphs:  A further drop of methanesulfonyl chloride was added and the mixture continued to stir at RT for 30 min.\n"
     ]
    },
    {
     "name": "stderr",
     "output_type": "stream",
     "text": [
      " 27%|██▋       | 94/352 [01:35<03:29,  1.23it/s]"
     ]
    },
    {
     "name": "stdout",
     "output_type": "stream",
     "text": [
      "Actions:  ADD methanesulfonyl chloride; STIR for 30 min at RT.\n",
      "\n",
      "Paragraphs:  The reaction mixture was cooled to −80° C., and a solution of tert-butyl 6-[(cyclopropylmethoxy)methyl]-6-hydroxy-1,4-oxazepane-4-carboxylate (Preparation 80, 50 g, 0.22 mol, 1 eq) in THF was added.\n"
     ]
    },
    {
     "name": "stderr",
     "output_type": "stream",
     "text": [
      " 27%|██▋       | 95/352 [01:36<03:57,  1.08it/s]"
     ]
    },
    {
     "name": "stdout",
     "output_type": "stream",
     "text": [
      "Actions:  SETTEMPERATURE −80° C; MAKESOLUTION with tert-butyl 6-[(cyclopropylmethoxy)methyl]-6-hydroxy-1,4-oxazepane-4-carboxylate (50 g, 0.22 mol, 1 eq) and THF; ADD SLN.\n",
      "\n",
      "Paragraphs:  After few hours, reaction mixture can be diluted with water and neutralize with hydrochloric acid, filter and recrystallize to give title compound.\n"
     ]
    },
    {
     "name": "stderr",
     "output_type": "stream",
     "text": [
      " 27%|██▋       | 96/352 [01:37<03:43,  1.15it/s]"
     ]
    },
    {
     "name": "stdout",
     "output_type": "stream",
     "text": [
      "Actions:  WAIT for few hours; ADD water; PH with hydrochloric acid to pH neutral; FILTER keep precipitate; RECRYSTALLIZE from unknown; YIELD title compound.\n",
      "\n",
      "Paragraphs:  The reaction mixture was allowed to reach room temperature and stirred over night.\n"
     ]
    },
    {
     "name": "stderr",
     "output_type": "stream",
     "text": [
      " 28%|██▊       | 97/352 [01:37<03:06,  1.37it/s]"
     ]
    },
    {
     "name": "stdout",
     "output_type": "stream",
     "text": [
      "Actions:  STIR for over night at room temperature.\n",
      "\n",
      "Paragraphs:  After the reaction is completed it was cooled to room temperature and extracted with ethyl acetate.\n"
     ]
    },
    {
     "name": "stderr",
     "output_type": "stream",
     "text": [
      " 28%|██▊       | 98/352 [01:38<02:47,  1.52it/s]"
     ]
    },
    {
     "name": "stdout",
     "output_type": "stream",
     "text": [
      "Actions:  SETTEMPERATURE room temperature; EXTRACT with ethyl acetate.\n",
      "\n",
      "Paragraphs:  The resulting precipitate was collected by filtration, washed with water and ether and dried for 4 hours at 60° C. under high vacuum to give 7-benzyloxy-3,4-dihydroquinazolin-4-one (7.02 g, 63%).\n"
     ]
    },
    {
     "name": "stderr",
     "output_type": "stream",
     "text": [
      " 28%|██▊       | 99/352 [01:39<03:14,  1.30it/s]"
     ]
    },
    {
     "name": "stdout",
     "output_type": "stream",
     "text": [
      "Actions:  FILTER keep precipitate; WASH with water; WASH with ether; DRYSOLID for 4 hours at 60° C under vacuum; YIELD 7-benzyloxy-3,4-dihydroquinazolin-4-one (7.02 g, 63%).\n",
      "\n",
      "Paragraphs:  After concentration, the residue was diluted with dichloromethane (200 mL/mmol), washed with water (62 mL/mmol x 3).\n"
     ]
    },
    {
     "name": "stderr",
     "output_type": "stream",
     "text": [
      " 28%|██▊       | 100/352 [01:39<03:06,  1.35it/s]"
     ]
    },
    {
     "name": "stdout",
     "output_type": "stream",
     "text": [
      "Actions:  CONCENTRATE; ADD dichloromethane (200 mL/mmol); WASH with water (62 mL/mmol) 3 x.\n",
      "\n",
      "Paragraphs:  The cooled mixture was concentrated in vacuo and the residue was triturated with water followed by adjustment to pH <2 with 1M hydrochloric acid.\n"
     ]
    },
    {
     "name": "stderr",
     "output_type": "stream",
     "text": [
      " 29%|██▊       | 101/352 [01:40<02:57,  1.41it/s]"
     ]
    },
    {
     "name": "stdout",
     "output_type": "stream",
     "text": [
      "Actions:  CONCENTRATE; TRITURATE with water; PH with 1M hydrochloric acid to pH <2.\n",
      "\n",
      "Paragraphs:  The reaction mixture was allowed to stir at room temperature for 1 hour before refluxing overnight.\n"
     ]
    },
    {
     "name": "stderr",
     "output_type": "stream",
     "text": [
      " 29%|██▉       | 102/352 [01:40<02:42,  1.54it/s]"
     ]
    },
    {
     "name": "stdout",
     "output_type": "stream",
     "text": [
      "Actions:  STIR for 1 hour at room temperature; REFLUX for overnight.\n",
      "\n",
      "Paragraphs:  To a solution of (R)-1-(3-fluoro-5-(1,1,2,2-tetrafluoroethoxy)phenyl)-1-(4-fluorophenyl)-2-phenylethanamine (31 mg, 0.07 mmol), prepared as described in Procedure 3, 4, 5 and 6, in DCM (1 mL) was added (9H-fluoren-9-yl)methyl 1-amino-4,4,4-trifluoro-1-oxobutan-2-ylcarbamate (31 mg, 0.08 mmol), followed by PyBrOP and iPr2NEt.\n"
     ]
    },
    {
     "name": "stderr",
     "output_type": "stream",
     "text": [
      " 29%|██▉       | 103/352 [01:42<04:12,  1.02s/it]"
     ]
    },
    {
     "name": "stdout",
     "output_type": "stream",
     "text": [
      "Actions:  MAKESOLUTION with (R)-1-(3-fluoro-5-(1,1,2,2-tetrafluoroethoxy)phenyl)-1-(4-fluorophenyl)-2-phenylethanamine (31 mg, 0.07 mmol) and DCM (1 mL); ADD SLN; ADD (9H-fluoren-9-yl)methyl 1-amino-4,4,4-trifluoro-1-oxobutan-2-ylcarbamate (31 mg, 0.08 mmol); ADD PyBrOP; ADD iPr2NEt.\n",
      "\n",
      "Paragraphs:  The reaction was allowed to warm to room temperature and stirred for 1 hour.\n"
     ]
    },
    {
     "name": "stderr",
     "output_type": "stream",
     "text": [
      " 30%|██▉       | 104/352 [01:44<04:54,  1.19s/it]"
     ]
    },
    {
     "name": "stdout",
     "output_type": "stream",
     "text": [
      "Actions:  SETTEMPERATURE room temperature; STIR for 1 hour.\n",
      "\n",
      "Paragraphs:  Mixture was then cooled and purified by prep HPLC to desired product (24 mg, 0.039 mmol, 62.7 % yield) as white solid.\n"
     ]
    },
    {
     "name": "stderr",
     "output_type": "stream",
     "text": [
      " 30%|██▉       | 105/352 [01:45<04:16,  1.04s/it]"
     ]
    },
    {
     "name": "stdout",
     "output_type": "stream",
     "text": [
      "Actions:  SETTEMPERATURE room temperature; PURIFY; YIELD desired product (24 mg, 0.039 mmol, 62.7 %).\n",
      "\n",
      "Paragraphs:  1H NMR (500 MHz, DMSO-d6) δ ppm 12.15 (1H, s), 8.47 (1H, d, J=8.24 Hz), 8.19 (1H, s), 8.04 (1H, s), 7.65 (1H, dd, J=8.24, 1.53 Hz), 3.63-3.72 (4H, m), 2.87-3.02 (5H, m).\n"
     ]
    },
    {
     "name": "stderr",
     "output_type": "stream",
     "text": [
      " 30%|███       | 106/352 [01:45<03:25,  1.19it/s]"
     ]
    },
    {
     "name": "stdout",
     "output_type": "stream",
     "text": [
      "Actions:  NOACTION.\n",
      "\n",
      "Paragraphs:  A solution of 3-chloroperbenzoic acid (60.3 mg, 0.27 mmol) in dichloromethane (2 mL) at 0° C. was treated with 4-(difluoromethylsulfanyl)-7-fluoro-3H-isobenzofuran-1-one (18 mg, 0.08 mmol) and left to stir 2 days at room temperature.\n"
     ]
    },
    {
     "name": "stderr",
     "output_type": "stream",
     "text": [
      " 30%|███       | 107/352 [01:46<04:11,  1.02s/it]"
     ]
    },
    {
     "name": "stdout",
     "output_type": "stream",
     "text": [
      "Actions:  MAKESOLUTION with 3-chloroperbenzoic acid (60.3 mg, 0.27 mmol) and dichloromethane (2 mL); ADD SLN; ADD 4-(difluoromethylsulfanyl)-7-fluoro-3H-isobenzofuran-1-one (18 mg, 0.08 mmol) at 0° C; STIR for 2 days at room temperature.\n",
      "\n",
      "Paragraphs:  Partition between water (100 mL) and ethyl acetate (100 mL), wash the aqueous layer with ethyl acetate (2×100 mL), combine the organic layers, wash with water (5×100 mL) and aqueous NaCl solution (100 mL).\n"
     ]
    },
    {
     "name": "stderr",
     "output_type": "stream",
     "text": [
      " 31%|███       | 108/352 [01:47<04:06,  1.01s/it]"
     ]
    },
    {
     "name": "stdout",
     "output_type": "stream",
     "text": [
      "Actions:  PARTITION with water (100 mL) and ethyl acetate (100 mL); COLLECTLAYER aqueous; WASH with ethyl acetate (100 mL) 2 x; COLLECTLAYER organic; WASH with water (100 mL) 5 x; WASH with aqueous NaCl solution (100 mL).\n",
      "\n",
      "Paragraphs:  The organic layer was washed with a saturated sodium chloride aqueous solution and dried over anhydrous sodium sulfate.\n"
     ]
    },
    {
     "name": "stderr",
     "output_type": "stream",
     "text": [
      " 31%|███       | 109/352 [01:48<03:40,  1.10it/s]"
     ]
    },
    {
     "name": "stdout",
     "output_type": "stream",
     "text": [
      "Actions:  COLLECTLAYER organic; WASH with saturated sodium chloride aqueous solution; DRYSOLUTION over anhydrous sodium sulfate.\n",
      "\n",
      "Paragraphs:  A mixture of {4-[4-(6-amino-5-benzothiazol-2-ylpyridin-3-yl)-pyrazol-1-yl]-piperidin-1-yl}-acetic acid (10.0 mg, 0.0184 mmol), NH4Cl (2.0 mg, 0.037 mmol), TBTU (8.86 mg, 0.0276 mmol) and DMF (1 mL) was charged with DIPEA (0.03 mL, 0.2 mmol) and allowed to stir at rt for 10 min.\n"
     ]
    },
    {
     "name": "stderr",
     "output_type": "stream",
     "text": [
      " 31%|███▏      | 110/352 [01:50<04:34,  1.13s/it]"
     ]
    },
    {
     "name": "stdout",
     "output_type": "stream",
     "text": [
      "Actions:  MAKESOLUTION with {4-[4-(6-amino-5-benzothiazol-2-ylpyridin-3-yl)-pyrazol-1-yl]-piperidin-1-yl}-acetic acid (10.0 mg, 0.0184 mmol) and NH4Cl (2.0 mg, 0.037 mmol) and TBTU (8.86 mg, 0.0276 mmol) and DMF (1 mL); ADD SLN; ADD DIPEA (0.03 mL, 0.2 mmol); STIR for 10 min at rt.\n",
      "\n",
      "Paragraphs:  A solution of potassium hydroxide in isopropanol was added, and the mixture was stirred at 45° C. for 1 hour.\n"
     ]
    },
    {
     "name": "stderr",
     "output_type": "stream",
     "text": [
      " 32%|███▏      | 111/352 [01:50<04:05,  1.02s/it]"
     ]
    },
    {
     "name": "stdout",
     "output_type": "stream",
     "text": [
      "Actions:  ADD solution of potassium hydroxide in isopropanol; STIR for 1 hour at 45° C.\n",
      "\n",
      "Paragraphs:  Under ice cooling 205.4 g of bromoacetone was added to a solution of the oily substance in 1000 ml of ether.\n"
     ]
    },
    {
     "name": "stderr",
     "output_type": "stream",
     "text": [
      " 32%|███▏      | 112/352 [01:51<03:42,  1.08it/s]"
     ]
    },
    {
     "name": "stdout",
     "output_type": "stream",
     "text": [
      "Actions:  MAKESOLUTION with oily substance and ether (1000 ml); ADD SLN; ADD bromoacetone (205.4 g) at 0 °C.\n",
      "\n",
      "Paragraphs:  The organic layer was dried over Na2SO4 and evaporated to dryness.\n"
     ]
    },
    {
     "name": "stderr",
     "output_type": "stream",
     "text": [
      " 32%|███▏      | 113/352 [01:52<03:34,  1.12it/s]"
     ]
    },
    {
     "name": "stdout",
     "output_type": "stream",
     "text": [
      "Actions:  COLLECTLAYER organic; DRYSOLUTION over Na2SO4; CONCENTRATE.\n",
      "\n",
      "Paragraphs:  The reaction mixture was allowed to cool to RT and treated with H2O (10 mL).\n"
     ]
    },
    {
     "name": "stderr",
     "output_type": "stream",
     "text": [
      " 32%|███▏      | 114/352 [01:52<03:04,  1.29it/s]"
     ]
    },
    {
     "name": "stdout",
     "output_type": "stream",
     "text": [
      "Actions:  SETTEMPERATURE RT; ADD H2O (10 mL).\n",
      "\n",
      "Paragraphs:  The obtained mixture was stirred at room temperature for 3 hr, neutralized with 1M hydrochloric acid at 0° C., and extracted with ethyl acetate.\n"
     ]
    },
    {
     "name": "stderr",
     "output_type": "stream",
     "text": [
      " 33%|███▎      | 115/352 [01:53<03:01,  1.31it/s]"
     ]
    },
    {
     "name": "stdout",
     "output_type": "stream",
     "text": [
      "Actions:  STIR for 3 hr at room temperature; PH with 1M hydrochloric acid to pH neutral at 0° C; EXTRACT with ethyl acetate.\n",
      "\n",
      "Paragraphs:  Upon complete addition, the reaction mixture was allowed to warm to room temperature and the reaction was stirred for about 12 hours.\n"
     ]
    },
    {
     "name": "stderr",
     "output_type": "stream",
     "text": [
      " 33%|███▎      | 116/352 [01:54<02:43,  1.45it/s]"
     ]
    },
    {
     "name": "stdout",
     "output_type": "stream",
     "text": [
      "Actions:  SETTEMPERATURE room temperature; STIR for about 12 hours.\n",
      "\n",
      "Paragraphs:  Column chromatography (EA/AcOH/DCM/iso-hexanes) gave 0.22 g (74%) of (S)-5-(tert-butyl)-N-(1-(methylsulfonamido)-1-oxo-3-(4-(4,4,5,5-tetramethyl-1,3,2-dioxaborolan-2-yl)phenyl)propan-2-yl)thiophene-2-carboxamide as a white solid (INT-81).\n"
     ]
    },
    {
     "name": "stderr",
     "output_type": "stream",
     "text": [
      " 33%|███▎      | 117/352 [01:55<03:30,  1.12it/s]"
     ]
    },
    {
     "name": "stdout",
     "output_type": "stream",
     "text": [
      "Actions:  PURIFY; YIELD (S)-5-(tert-butyl)-N-(1-(methylsulfonamido)-1-oxo-3-(4-(4,4,5,5-tetramethyl-1,3,2-dioxaborolan-2-yl)phenyl)propan-2-yl)thiophene-2-carboxamide (0.22 g, 74%).\n",
      "\n",
      "Paragraphs:  The solid was then suspended in water and basified with sodium hydroxide.\n"
     ]
    },
    {
     "name": "stderr",
     "output_type": "stream",
     "text": [
      " 34%|███▎      | 118/352 [01:56<03:00,  1.29it/s]"
     ]
    },
    {
     "name": "stdout",
     "output_type": "stream",
     "text": [
      "Actions:  ADD water; PH with sodium hydroxide to pH basic.\n",
      "\n",
      "Paragraphs:  The bacterial culture was maintained in darkness at 28°C.\n"
     ]
    },
    {
     "name": "stderr",
     "output_type": "stream",
     "text": [
      " 34%|███▍      | 119/352 [01:56<02:37,  1.48it/s]"
     ]
    },
    {
     "name": "stdout",
     "output_type": "stream",
     "text": [
      "Actions:  WAIT for unknown at 28°C in darkness.\n",
      "\n",
      "Paragraphs:  Water was added thereto followed by stirring, the solution was extracted with ethyl acetate, then sequentially washed with water and brine, and the solvent was evaporated in vacuo.\n"
     ]
    },
    {
     "name": "stderr",
     "output_type": "stream",
     "text": [
      " 34%|███▍      | 120/352 [01:57<02:34,  1.50it/s]"
     ]
    },
    {
     "name": "stdout",
     "output_type": "stream",
     "text": [
      "Actions:  ADD Water; EXTRACT with ethyl acetate; WASH with water; WASH with brine; CONCENTRATE.\n",
      "\n",
      "Paragraphs:  The extract was washed with diethyl ether and neutralized with aqueous saturated sodium hydrogen carbonate.\n"
     ]
    },
    {
     "name": "stderr",
     "output_type": "stream",
     "text": [
      " 34%|███▍      | 121/352 [01:57<02:32,  1.51it/s]"
     ]
    },
    {
     "name": "stdout",
     "output_type": "stream",
     "text": [
      "Actions:  WASH with diethyl ether; PH with aqueous saturated sodium hydrogen carbonate to pH neutral.\n",
      "\n",
      "Paragraphs:  The suspension is then stirred at room temperature for 30 minutes and poured on ice.\n"
     ]
    },
    {
     "name": "stderr",
     "output_type": "stream",
     "text": [
      " 35%|███▍      | 122/352 [01:58<02:19,  1.65it/s]"
     ]
    },
    {
     "name": "stdout",
     "output_type": "stream",
     "text": [
      "Actions:  STIR for 30 minutes at room temperature; ADD ice.\n",
      "\n",
      "Paragraphs:  Using 4-(4-{2-[bis-(4-methoxy-benzyl)-amino]-pyrimidin-5-yl}-2-morpholin-4-yl-5,6-dihydro-pyrrolo[2,3-d]pyrimidin-7-yl)-benzoic acid (50.0 mg, 0.0758 mmol) obtained in Step A in Example 1-D-19 and N,N,N'-trimethyl-1,3-propanediamine (22.2 µl, 0.152 mmol) instead of 3-(aminomethyl)pyridine, amidation was conducted in the same manner as Step B in Example 1-D-19, to obtain a crude product of 4-[4-{2-[bis-(4-methoxy-benzyl)-amino]-pyrimidin-5-yl}-2-morpholin-4-yl-5,6-dihydro-pyrrolo[2,3-d]pyrimidin-7-yl]- N-(3-dimethylamino-propyl)-N-methyl-benzamide as a yellow liquid (37.5 mg), and then the PMB groups were removed according to the above Deprotection method 2, to obtain the desired compound (D-92) as a yellow powder (25.5 mg, 65%).\n"
     ]
    },
    {
     "name": "stderr",
     "output_type": "stream",
     "text": [
      " 35%|███▍      | 123/352 [01:58<02:08,  1.79it/s]"
     ]
    },
    {
     "name": "stdout",
     "output_type": "stream",
     "text": [
      "Actions:  FOLLOWOTHERPROCEDURE.\n",
      "\n",
      "Paragraphs:  The mixture was then treated with 2-amino-6-chloropyridine (86 mg, 0.67 mmol).\n"
     ]
    },
    {
     "name": "stderr",
     "output_type": "stream",
     "text": [
      " 35%|███▌      | 124/352 [01:59<02:06,  1.80it/s]"
     ]
    },
    {
     "name": "stdout",
     "output_type": "stream",
     "text": [
      "Actions:  ADD 2-amino-6-chloropyridine (86 mg, 0.67 mmol).\n",
      "\n",
      "Paragraphs:  The solvent was removed under high vacuum.\n"
     ]
    },
    {
     "name": "stderr",
     "output_type": "stream",
     "text": [
      " 36%|███▌      | 125/352 [01:59<01:58,  1.92it/s]"
     ]
    },
    {
     "name": "stdout",
     "output_type": "stream",
     "text": [
      "Actions:  CONCENTRATE.\n",
      "\n",
      "Paragraphs:  In an oven-dried flask, trimethylsilylacetylene (7.02 g, 71.5 mmol) was dissolved in pentane (60 mL), and cooled to 0° C. in an ice bath. n-Butyllithium (26 mL, 2.5 M in hexanes, 65 mmol,) was added dropwise and the temperature was maintained for an hour.\n"
     ]
    },
    {
     "name": "stderr",
     "output_type": "stream",
     "text": [
      " 36%|███▌      | 126/352 [02:01<02:54,  1.29it/s]"
     ]
    },
    {
     "name": "stdout",
     "output_type": "stream",
     "text": [
      "Actions:  ADD trimethylsilylacetylene (7.02 g, 71.5 mmol) under argon; ADD pentane (60 mL) under argon; SETTEMPERATURE 0° C; ADD n-Butyllithium ‌(2.5 M in hexanes) (26 mL, 65 mmol) dropwise at 0° C; STIR for an hour at 0° C.\n",
      "\n",
      "Paragraphs:  The combined organics were washed with saturated aqueous sodium hydrogen carbonate, followed by brine, then filtered through a phase separator and concentrated in vacuo.\n"
     ]
    },
    {
     "name": "stderr",
     "output_type": "stream",
     "text": [
      " 36%|███▌      | 127/352 [02:01<02:43,  1.38it/s]"
     ]
    },
    {
     "name": "stdout",
     "output_type": "stream",
     "text": [
      "Actions:  COLLECTLAYER organic; WASH with saturated aqueous sodium hydrogen carbonate; WASH with brine; FILTER keep filtrate; CONCENTRATE.\n",
      "\n",
      "Paragraphs:  Pd(PPh3)2Cl2 (10 mg, 0.01 mmol) in a 10 mL of flask under Ar2 was treated sequentially with 2'-amino-6-bromo-1'-methyl-2-phenylspiro[chroman-4,4'-imidazol]-5'(1'H)- one (20 mg, 0.052 mmol) in 1,4-dioxane (1 mL), Cs2CO3 (2 N, 0.3 mL) and 4-(benzyloxy)phenylboronic acid (24 mg, 0.104 mmol).\n"
     ]
    },
    {
     "name": "stderr",
     "output_type": "stream",
     "text": [
      " 36%|███▋      | 128/352 [02:03<03:55,  1.05s/it]"
     ]
    },
    {
     "name": "stdout",
     "output_type": "stream",
     "text": [
      "Actions:  ADD Pd(PPh3)2Cl2 (10 mg, 0.01 mmol) under Ar2; ADD 2'-amino-6-bromo-1'-methyl-2-phenylspiro[chroman-4,4'-imidazol]-5'(1'H)- one (20 mg, 0.052 mmol) in 1,4-dioxane (1 mL); ADD Cs2CO3 (2 N, 0.3 mL); ADD 4-(benzyloxy)phenylboronic acid (24 mg, 0.104 mmol).\n",
      "\n",
      "Paragraphs:  The reaction mixture was allowed to warm to ambient temperature and then poured onto ice and stirred vigorously.\n"
     ]
    },
    {
     "name": "stderr",
     "output_type": "stream",
     "text": [
      " 37%|███▋      | 129/352 [02:03<03:15,  1.14it/s]"
     ]
    },
    {
     "name": "stdout",
     "output_type": "stream",
     "text": [
      "Actions:  SETTEMPERATURE ambient temperature; ADD ice; STIR.\n",
      "\n",
      "Paragraphs:  The mixture was left to boil at reflux overnight, then evaporated and the residue was taken up in methylene chloride.\n"
     ]
    },
    {
     "name": "stderr",
     "output_type": "stream",
     "text": [
      " 37%|███▋      | 130/352 [02:04<02:50,  1.30it/s]"
     ]
    },
    {
     "name": "stdout",
     "output_type": "stream",
     "text": [
      "Actions:  REFLUX for overnight; CONCENTRATE; ADD methylene chloride.\n",
      "\n",
      "Paragraphs:  After another hour stirring, to the solution was added sat. NaHCO3 solution (50 mL) slowly, and the resulting mixture was extracted with DCM (3×50 mL).\n"
     ]
    },
    {
     "name": "stderr",
     "output_type": "stream",
     "text": [
      " 37%|███▋      | 131/352 [02:05<02:42,  1.36it/s]"
     ]
    },
    {
     "name": "stdout",
     "output_type": "stream",
     "text": [
      "Actions:  STIR for 1 hour; ADD sat. NaHCO3 solution (50 mL) dropwise; EXTRACT with DCM (50 mL) 3 x.\n",
      "\n",
      "Paragraphs:  The reaction was stirred for 15 min at 0° C., warmed to 60° C., stirred for an additional 15 min, cooled to room temperature, and left to stir overnight.\n"
     ]
    },
    {
     "name": "stderr",
     "output_type": "stream",
     "text": [
      " 38%|███▊      | 132/352 [02:05<02:42,  1.35it/s]"
     ]
    },
    {
     "name": "stdout",
     "output_type": "stream",
     "text": [
      "Actions:  STIR for 15 min at 0° C; STIR for 15 min at 60° C; SETTEMPERATURE room temperature; STIR for overnight.\n",
      "\n",
      "Paragraphs:  The reaction mixture was cooled down to −78° C. and n-butyllithium (2.5 M, 50 mL) was slowly added dropwise maintaining the temperature below −70° C.\n"
     ]
    },
    {
     "name": "stderr",
     "output_type": "stream",
     "text": [
      " 38%|███▊      | 133/352 [02:06<02:40,  1.37it/s]"
     ]
    },
    {
     "name": "stdout",
     "output_type": "stream",
     "text": [
      "Actions:  SETTEMPERATURE −78° C; ADD n-butyllithium ‌(2.5 M) (50 mL) dropwise at temperature below −70° C.\n",
      "\n",
      "Paragraphs:  1-Methoxymethyl-2-oxo-3-amino-5-phenyl-8-methoxy-1,3,4,5-tetrahydro-2H-1,5-benzodiazepine(200 mg) was dissolved in 25% hydrobromic acid-acetic acid solution(1 ml),the solution was stirred for 2 hours.\n"
     ]
    },
    {
     "name": "stderr",
     "output_type": "stream",
     "text": [
      " 38%|███▊      | 134/352 [02:07<03:03,  1.19it/s]"
     ]
    },
    {
     "name": "stdout",
     "output_type": "stream",
     "text": [
      "Actions:  ADD 1-Methoxymethyl-2-oxo-3-amino-5-phenyl-8-methoxy-1,3,4,5-tetrahydro-2H-1,5-benzodiazepine (200 mg); ADD 25% hydrobromic acid-acetic acid solution (1 ml); STIR for 2 hours.\n",
      "\n",
      "Paragraphs:  To a solution of methyl 3-[(tert-butoxycarbonyl)amino]-2-(5-chloro-2-methoxybenzyl)propanoate (500 mg) in methanol (5 ml), 5N aqueous sodium hydroxide solution (0.84 ml) was added under ice cooling and the mixture was stirred at that temperature for 16 hours.\n"
     ]
    },
    {
     "name": "stderr",
     "output_type": "stream",
     "text": [
      " 38%|███▊      | 135/352 [02:09<03:37,  1.00s/it]"
     ]
    },
    {
     "name": "stdout",
     "output_type": "stream",
     "text": [
      "Actions:  MAKESOLUTION with methyl 3-[(tert-butoxycarbonyl)amino]-2-(5-chloro-2-methoxybenzyl)propanoate (500 mg) and methanol (5 ml); ADD SLN; ADD 5N aqueous sodium hydroxide solution (0.84 ml) at 0 °C; STIR for 16 hours at same temperature.\n",
      "\n",
      "Paragraphs:  The solid was suction filtered to give 1.7 g of 2-[(2-cyanoethyl)[2-(1H-imidazol-1-yl)-6-methyl-4-pyrimidinyl]amino]acetamide.\n"
     ]
    },
    {
     "name": "stderr",
     "output_type": "stream",
     "text": [
      " 39%|███▊      | 136/352 [02:10<03:32,  1.02it/s]"
     ]
    },
    {
     "name": "stdout",
     "output_type": "stream",
     "text": [
      "Actions:  FILTER keep precipitate; YIELD 2-[(2-cyanoethyl)[2-(1H-imidazol-1-yl)-6-methyl-4-pyrimidinyl]amino]acetamide (1.7 g).\n",
      "\n",
      "Paragraphs:  To a stirred and cooled (ice-bath) mixture of 13.0 g of 3,4-difluorophenol and 200 ml of N,N-dimethylformamide, there were added 4.8 g of a dispersion of sodium hydride in mineral oil (50%) and, after stirring for 1 hour, a solution of 22.8 g of (S)-(oxiranylmethyl) 4-methylbenzenesulfonate (ester) in some N,N-dimethylformamide.\n"
     ]
    },
    {
     "name": "stderr",
     "output_type": "stream",
     "text": [
      " 39%|███▉      | 137/352 [02:11<04:19,  1.21s/it]"
     ]
    },
    {
     "name": "stdout",
     "output_type": "stream",
     "text": [
      "Actions:  MAKESOLUTION with 3,4-difluorophenol (13.0 g) and N,N-dimethylformamide (200 ml); ADD SLN; ADD dispersion of sodium hydride in mineral oil ‌(50%) (4.8 g) at 0 °C; STIR for 1 hour; MAKESOLUTION with (S)-(oxiranylmethyl) 4-methylbenzenesulfonate (22.8 g) and N,N-dimethylformamide; ADD SLN.\n",
      "\n",
      "Paragraphs:  A solution of solid sodium metal (450 mg, 19.75 mmol) in EtOH at 30° C. was treated with ethyl acetoacetate (103 g, 790 mmol) maintaining temperature.\n"
     ]
    },
    {
     "name": "stderr",
     "output_type": "stream",
     "text": [
      " 39%|███▉      | 138/352 [02:12<03:51,  1.08s/it]"
     ]
    },
    {
     "name": "stdout",
     "output_type": "stream",
     "text": [
      "Actions:  MAKESOLUTION with solid sodium metal (450 mg, 19.75 mmol) and EtOH; ADD SLN; ADD ethyl acetoacetate (103 g, 790 mmol) at 30° C.\n",
      "\n",
      "Paragraphs:  After evaporation of the solvent, the residue was diluted with water, neutralized with an aqueous solution of sodium hydrogencarbonate, and extracted three times with chloroform.\n"
     ]
    },
    {
     "name": "stderr",
     "output_type": "stream",
     "text": [
      " 39%|███▉      | 139/352 [02:13<03:23,  1.04it/s]"
     ]
    },
    {
     "name": "stdout",
     "output_type": "stream",
     "text": [
      "Actions:  CONCENTRATE; ADD water; PH with aqueous solution of sodium hydrogencarbonate to pH neutral; EXTRACT with chloroform 3 x.\n",
      "\n",
      "Paragraphs:  To a solution of N-{2,6-difluoro-4-[1-(2-methyl-propane-2-sulfinylimino)-ethyl]-phenyl}-methanesulfonamide (2.2 g, 6.24 mmol) in THF (20 mL) was added portionwise NaBH4 (944 mg, 24.9 mmol) dissolved in THF (2 mL) at −48° C.\n"
     ]
    },
    {
     "name": "stderr",
     "output_type": "stream",
     "text": [
      " 40%|███▉      | 140/352 [02:14<03:55,  1.11s/it]"
     ]
    },
    {
     "name": "stdout",
     "output_type": "stream",
     "text": [
      "Actions:  MAKESOLUTION with N-{2,6-difluoro-4-[1-(2-methyl-propane-2-sulfinylimino)-ethyl]-phenyl}-methanesulfonamide (2.2 g, 6.24 mmol) and THF (20 mL); ADD SLN; MAKESOLUTION with NaBH4 (944 mg, 24.9 mmol) and THF (2 mL); ADD SLN at −48° C.\n",
      "\n",
      "Paragraphs:  The batch was maintained at 142±5° C. for 69 hours 30 minutes at which point HPLC analysis indicated that compound 7 was 0.9% by conversion (specification ≦1.7% by conversion).\n"
     ]
    },
    {
     "name": "stderr",
     "output_type": "stream",
     "text": [
      " 40%|████      | 141/352 [02:15<03:18,  1.06it/s]"
     ]
    },
    {
     "name": "stdout",
     "output_type": "stream",
     "text": [
      "Actions:  STIR for 69 hours 30 minutes at 142±5° C.\n",
      "\n",
      "Paragraphs:  To a solution of rac-4-{[(2′S,3′R,4′R,5′R)-6-chloro-4′-(3-chloro-5-fluoro-phenyl)-2′-(2,2-dimethyl-propyl)-2-oxo-1,2-dihydro-spiro[indole-3,3′-pyrrolidine]-5′-carbonyl]-amino}-3-methoxy-benzoic acid methyl ester (0.17 g, 0.27 mmol) in MeOH (3 mL) and THF (9 mL) was added an aqueous solution (1N) of NaOH (6 mL, 6 mmol).\n"
     ]
    },
    {
     "name": "stderr",
     "output_type": "stream",
     "text": [
      " 40%|████      | 142/352 [02:17<04:33,  1.30s/it]"
     ]
    },
    {
     "name": "stdout",
     "output_type": "stream",
     "text": [
      "Actions:  MAKESOLUTION with rac-4-{[(2′S,3′R,4′R,5′R)-6-chloro-4′-(3-chloro-5-fluoro-phenyl)-2′-(2,2-dimethyl-propyl)-2-oxo-1,2-dihydro-spiro[indole-3,3′-pyrrolidine]-5′-carbonyl]-amino}-3-methoxy-benzoic acid methyl ester (0.17 g, 0.27 mmol) and MeOH (3 mL) and THF (9 mL); ADD SLN; ADD aqueous solution of NaOH ‌(1N) (6 mL, 6 mmol).\n",
      "\n",
      "Paragraphs:  Next, 2-methyl-2-propen-1-ol (19 mg) was added thereto, and the mixture was further stirred with heating under reflux for 3 hr.\n"
     ]
    },
    {
     "name": "stderr",
     "output_type": "stream",
     "text": [
      " 41%|████      | 143/352 [02:18<03:49,  1.10s/it]"
     ]
    },
    {
     "name": "stdout",
     "output_type": "stream",
     "text": [
      "Actions:  ADD 2-methyl-2-propen-1-ol (19 mg); REFLUX for 3 hr.\n",
      "\n",
      "Paragraphs:  It is washed with saturated NaHCO3 solution and saturated NaCl solution.\n"
     ]
    },
    {
     "name": "stderr",
     "output_type": "stream",
     "text": [
      " 41%|████      | 144/352 [02:18<03:14,  1.07it/s]"
     ]
    },
    {
     "name": "stdout",
     "output_type": "stream",
     "text": [
      "Actions:  WASH with saturated NaHCO3 solution; WASH with saturated NaCl solution.\n",
      "\n",
      "Paragraphs:  To the reaction mixture was then added diethyl sulphate (5.06 g) dropwise, and then stirring at 70°C was continued for twelve hours.\n"
     ]
    },
    {
     "name": "stderr",
     "output_type": "stream",
     "text": [
      " 41%|████      | 145/352 [02:19<02:56,  1.17it/s]"
     ]
    },
    {
     "name": "stdout",
     "output_type": "stream",
     "text": [
      "Actions:  ADD diethyl sulphate (5.06 g) dropwise; STIR for twelve hours at 70°C.\n",
      "\n",
      "Paragraphs:  MS: 632.0, (M+Na)+.\n"
     ]
    },
    {
     "name": "stderr",
     "output_type": "stream",
     "text": [
      " 41%|████▏     | 146/352 [02:19<02:25,  1.41it/s]"
     ]
    },
    {
     "name": "stdout",
     "output_type": "stream",
     "text": [
      "Actions:  NOACTION.\n",
      "\n",
      "Paragraphs:  After 12 h the reaction mixture was quenched with water and extracted with ethyl acetate.\n"
     ]
    },
    {
     "name": "stderr",
     "output_type": "stream",
     "text": [
      " 42%|████▏     | 147/352 [02:20<02:15,  1.51it/s]"
     ]
    },
    {
     "name": "stdout",
     "output_type": "stream",
     "text": [
      "Actions:  WAIT for 12 h; QUENCH with water; EXTRACT with ethyl acetate.\n",
      "\n",
      "Paragraphs:  The aqueous layer was further extracted with ethyl acetate (2×15 mL) and the combined organic layers were dried (MgSO4) and concentrated.\n"
     ]
    },
    {
     "name": "stderr",
     "output_type": "stream",
     "text": [
      " 42%|████▏     | 148/352 [02:20<02:25,  1.40it/s]"
     ]
    },
    {
     "name": "stdout",
     "output_type": "stream",
     "text": [
      "Actions:  COLLECTLAYER aqueous; EXTRACT with ethyl acetate (15 mL) 2 x; COLLECTLAYER organic; DRYSOLUTION over MgSO4; CONCENTRATE.\n",
      "\n",
      "Paragraphs:  The resultant precipitated salt was filtered, washed with ether and dried on air.\n"
     ]
    },
    {
     "name": "stderr",
     "output_type": "stream",
     "text": [
      " 42%|████▏     | 149/352 [02:21<02:14,  1.51it/s]"
     ]
    },
    {
     "name": "stdout",
     "output_type": "stream",
     "text": [
      "Actions:  FILTER keep precipitate; WASH with ether; DRYSOLID under air.\n",
      "\n",
      "Paragraphs:  After cooling, the mixture was partitioned between saturated aqueous sodium bicarbonate solution (100ml) and dichloromethane (2x50ml).\n"
     ]
    },
    {
     "name": "stderr",
     "output_type": "stream",
     "text": [
      " 43%|████▎     | 150/352 [02:22<02:18,  1.46it/s]"
     ]
    },
    {
     "name": "stdout",
     "output_type": "stream",
     "text": [
      "Actions:  SETTEMPERATURE room temperature; PARTITION with saturated aqueous sodium bicarbonate solution (100ml) and dichloromethane (50ml) 2 x.\n",
      "\n",
      "Paragraphs:  The reaction mixture is stirred for 1 h at −78° C. and then allowed to warmed to room temperature.\n"
     ]
    },
    {
     "name": "stderr",
     "output_type": "stream",
     "text": [
      " 43%|████▎     | 151/352 [02:22<02:09,  1.55it/s]"
     ]
    },
    {
     "name": "stdout",
     "output_type": "stream",
     "text": [
      "Actions:  STIR for 1 h at −78° C; SETTEMPERATURE room temperature.\n",
      "\n",
      "Paragraphs:  The mixture was poured into ice-water.\n"
     ]
    },
    {
     "name": "stderr",
     "output_type": "stream",
     "text": [
      " 43%|████▎     | 152/352 [02:23<01:53,  1.77it/s]"
     ]
    },
    {
     "name": "stdout",
     "output_type": "stream",
     "text": [
      "Actions:  ADD ice-water.\n",
      "\n",
      "Paragraphs:  The solid was dissolved in hot methanol (110ml), filtered through Hyflo™ then treated with hot isopropyl acetate (325ml).\n"
     ]
    },
    {
     "name": "stderr",
     "output_type": "stream",
     "text": [
      " 43%|████▎     | 153/352 [02:23<01:57,  1.69it/s]"
     ]
    },
    {
     "name": "stdout",
     "output_type": "stream",
     "text": [
      "Actions:  ADD hot methanol (110ml); FILTER keep filtrate; ADD hot isopropyl acetate (325ml).\n",
      "\n",
      "Paragraphs:  Meanwhile, cyclopropane-carboxylic acid (9.91 ml, 125mmol) was dissolved in dimethylformamide (200ml) and carbonyldiimidazole (22.4g, 138mmol) was added portionwise under nitrogen at 0°C.\n"
     ]
    },
    {
     "name": "stderr",
     "output_type": "stream",
     "text": [
      " 44%|████▍     | 154/352 [02:24<02:18,  1.43it/s]"
     ]
    },
    {
     "name": "stdout",
     "output_type": "stream",
     "text": [
      "Actions:  ADD cyclopropane-carboxylic acid (9.91 ml, 125mmol); ADD dimethylformamide (200ml); ADD carbonyldiimidazole (22.4g, 138mmol) at 0°C under nitrogen.\n",
      "\n",
      "Paragraphs:  N-(4-(2-(4-Aminophenyl)ethyl)-1,3-thiazol-2-yl)acetamide (1.8 g) prepared in a similar manner according to Step 6 of Production Example 1, 2-(methylsulfanyl)-4,5-dihydro-1,3-thiazole (918 mg), hydrochloric acid concentrate (0.57 ml) and 2-methoxyethanol (28 ml) were combined under nitrogen atmosphere, and stirred at 120° C. for 10 hours.\n"
     ]
    },
    {
     "name": "stderr",
     "output_type": "stream",
     "text": [
      " 44%|████▍     | 155/352 [02:26<03:17,  1.00s/it]"
     ]
    },
    {
     "name": "stdout",
     "output_type": "stream",
     "text": [
      "Actions:  ADD N-(4-(2-(4-Aminophenyl)ethyl)-1,3-thiazol-2-yl)acetamide (1.8 g) under nitrogen; ADD 2-(methylsulfanyl)-4,5-dihydro-1,3-thiazole (918 mg) under nitrogen; ADD hydrochloric acid concentrate (0.57 ml) under nitrogen; ADD 2-methoxyethanol (28 ml) under nitrogen; STIR for 10 hours at 120° C under nitrogen.\n",
      "\n",
      "Paragraphs:  The methanol was removed in a rotary evaporator, and the residue was diluted with about 30 ml of water and acidified to pH 5 with glacial acetic acid.\n"
     ]
    },
    {
     "name": "stderr",
     "output_type": "stream",
     "text": [
      " 44%|████▍     | 156/352 [02:27<02:56,  1.11it/s]"
     ]
    },
    {
     "name": "stdout",
     "output_type": "stream",
     "text": [
      "Actions:  CONCENTRATE; ADD water (30 ml); PH with glacial acetic acid to pH 5.\n",
      "\n",
      "Paragraphs:  The mixture was allowed to warm to room temperature over 30 minutes, stirred at room temperature for a further 4 hours, poured onto an excess of solid carbon dioxide and left to stand for 3 days by which time the solvent had evaporated off.\n"
     ]
    },
    {
     "name": "stderr",
     "output_type": "stream",
     "text": [
      " 45%|████▍     | 157/352 [02:27<02:48,  1.16it/s]"
     ]
    },
    {
     "name": "stdout",
     "output_type": "stream",
     "text": [
      "Actions:  STIR for 30 minutes at room temperature; STIR for 4 hours at room temperature; ADD solid carbon dioxide (excess); WAIT for 3 days.\n",
      "\n",
      "Paragraphs:  The solution was left to stir overnight at room temperature, then diluted with CH2Cl2 (20 mL) and washed with water (3×10 mL) with back-extraction.\n"
     ]
    },
    {
     "name": "stderr",
     "output_type": "stream",
     "text": [
      " 45%|████▍     | 158/352 [02:28<02:39,  1.22it/s]"
     ]
    },
    {
     "name": "stdout",
     "output_type": "stream",
     "text": [
      "Actions:  STIR for overnight at room temperature; ADD CH2Cl2 (20 mL); WASH with water (10 mL) 3 x.\n",
      "\n",
      "Paragraphs:  A cooled (0° C.) solution of the chloroformate (0.88 g, 1.7 mmol) (as prepared in the synthesis of (6Z,15Z)-11-((Z)-dec-4-en-1-yl)docosa-6,15-dien-10-yl(2-(dimethylamino)ethyl)carbamate 26) was dissolved in anhydrous Et2O (5 mL) and added to a solution of N,N,N′ trimethylpropyldiamine (492 μL, 3.4 mmol) in anhydrous Et2O (5 mL).\n"
     ]
    },
    {
     "name": "stderr",
     "output_type": "stream",
     "text": [
      " 45%|████▌     | 159/352 [02:30<03:15,  1.01s/it]"
     ]
    },
    {
     "name": "stdout",
     "output_type": "stream",
     "text": [
      "Actions:  MAKESOLUTION with N,N,N′ trimethylpropyldiamine (492 μL, 3.4 mmol) and anhydrous Et2O (5 mL); ADD SLN; MAKESOLUTION with chloroformate (0.88 g, 1.7 mmol) and anhydrous Et2O (5 mL); ADD SLN at 0° C.\n",
      "\n",
      "Paragraphs:  The reaction mixture was then poured in ice.\n"
     ]
    },
    {
     "name": "stderr",
     "output_type": "stream",
     "text": [
      " 45%|████▌     | 160/352 [02:30<02:38,  1.21it/s]"
     ]
    },
    {
     "name": "stdout",
     "output_type": "stream",
     "text": [
      "Actions:  ADD ice.\n",
      "\n",
      "Paragraphs:  The reaction system was neutralized with 1M hydrochloric acid at 0°C.\n"
     ]
    },
    {
     "name": "stderr",
     "output_type": "stream",
     "text": [
      " 46%|████▌     | 161/352 [02:31<02:23,  1.33it/s]"
     ]
    },
    {
     "name": "stdout",
     "output_type": "stream",
     "text": [
      "Actions:  PH with 1M hydrochloric acid to pH neutral at 0°C.\n",
      "\n",
      "Paragraphs:  Morpholine (4.77 mL, 54.8 mmol, 2.40 equiv) was added and the solution was maintained at room temperature for 19 h.\n"
     ]
    },
    {
     "name": "stderr",
     "output_type": "stream",
     "text": [
      " 46%|████▌     | 162/352 [02:31<02:24,  1.31it/s]"
     ]
    },
    {
     "name": "stdout",
     "output_type": "stream",
     "text": [
      "Actions:  ADD Morpholine (4.77 mL, 54.8 mmol, 2.40 equiv); STIR for 19 h at room temperature.\n",
      "\n",
      "Paragraphs:  MeOH was removed, CH2Cl2 (50 mL) was added and the mixture was filtered through a plug of Celite.\n"
     ]
    },
    {
     "name": "stderr",
     "output_type": "stream",
     "text": [
      " 46%|████▋     | 163/352 [02:32<02:10,  1.45it/s]"
     ]
    },
    {
     "name": "stdout",
     "output_type": "stream",
     "text": [
      "Actions:  CONCENTRATE; ADD CH2Cl2 (50 mL); FILTER keep filtrate.\n",
      "\n",
      "Paragraphs:  The reaction mixture was cooled and placed under a hydrogen atmosphere at 5 psi, and concentrated HCl (19.5 kg) was added while maintaining the reaction temperature at 25° C.\n"
     ]
    },
    {
     "name": "stderr",
     "output_type": "stream",
     "text": [
      " 47%|████▋     | 164/352 [02:33<02:09,  1.45it/s]"
     ]
    },
    {
     "name": "stdout",
     "output_type": "stream",
     "text": [
      "Actions:  SETTEMPERATURE 25° C; ADD concentrated HCl (19.5 kg) at 25° C under hydrogen.\n",
      "\n",
      "Paragraphs:  A suspension of tert-butyl 4-(3-azidobutyl)piperidine-1-carboxylate (3.81 g) and 5% palladium/carbon (containing water (50%), 800 mg) in methanol (100 mL) was stirred at room temperature for 15 hr under a hydrogen atmosphere.\n"
     ]
    },
    {
     "name": "stderr",
     "output_type": "stream",
     "text": [
      " 47%|████▋     | 165/352 [02:34<02:30,  1.24it/s]"
     ]
    },
    {
     "name": "stdout",
     "output_type": "stream",
     "text": [
      "Actions:  MAKESOLUTION with tert-butyl 4-(3-azidobutyl)piperidine-1-carboxylate (3.81 g) and 5% palladium/carbon ‌(containing water (50%)) (800 mg) and methanol (100 mL); ADD SLN; STIR for 15 hr at room temperature under hydrogen.\n",
      "\n",
      "Paragraphs:  Cryst. Lig.\n"
     ]
    },
    {
     "name": "stderr",
     "output_type": "stream",
     "text": [
      " 47%|████▋     | 166/352 [02:34<02:07,  1.45it/s]"
     ]
    },
    {
     "name": "stdout",
     "output_type": "stream",
     "text": [
      "Actions:  FILTER; KEEP precipitate.\n",
      "\n",
      "Paragraphs:  The residue is dissolved in EtOAc and washed sequentially with saturated Na2CO3 solution (2×), 10% aq. sodium dithionite (2×) and brine (1×), dried over Na2SO4, filtered and concentrated to give the title compound (7.47 g, 18.89 mmol, 90% purity) as a dark brown solid.\n"
     ]
    },
    {
     "name": "stderr",
     "output_type": "stream",
     "text": [
      " 47%|████▋     | 167/352 [02:35<02:28,  1.25it/s]"
     ]
    },
    {
     "name": "stdout",
     "output_type": "stream",
     "text": [
      "Actions:  ADD EtOAc; WASH with saturated Na2CO3 solution 2 x; WASH with 10% aq. sodium dithionite 2 x; WASH with brine; DRYSOLUTION over Na2SO4; FILTER keep filtrate; CONCENTRATE; YIELD title compound (7.47 g, 18.89 mmol).\n",
      "\n",
      "Paragraphs:  A mixture of [5-(2-fluoro-4-pyridyl)-4-(3-methylphenyl)-1,3-thiazol-2-yl]amine (0.29g, 1.0 mmol) and benzylamine (1.2 mL, 11 mmol) was stirred at 150°C for 3 hours.\n"
     ]
    },
    {
     "name": "stderr",
     "output_type": "stream",
     "text": [
      " 48%|████▊     | 168/352 [02:36<02:58,  1.03it/s]"
     ]
    },
    {
     "name": "stdout",
     "output_type": "stream",
     "text": [
      "Actions:  MAKESOLUTION with [5-(2-fluoro-4-pyridyl)-4-(3-methylphenyl)-1,3-thiazol-2-yl]amine (0.29g, 1.0 mmol) and benzylamine (1.2 mL, 11 mmol); ADD SLN; STIR for 3 hours at 150°C.\n",
      "\n",
      "Paragraphs:  HPLC purification of the residue (YMC propack C18 column, 150×20 mm ID, 30%-80% acetonitrile in water gradient) afforded 5-methoxy-2-[(1-phenyl-1H-pyrazol-5-yl)amino]benzoic acid (450 mg, 26%) as a pale yellow solid: 1H NMR (300 MHz, DMSO-d6) δ 13.33 (br s, 1 H), 9.62 (br s, 1 H), 7.64 (d, 1 H), 7.34-7.58 (m, 6 H), 7.00-7.11 (m, 2 H), 6.30 (d, 1 H), 3.69 (s, 3 H); ES-MS m/z 310.1 (MH+); HPLC RT (min) 2.74.\n"
     ]
    },
    {
     "name": "stderr",
     "output_type": "stream",
     "text": [
      " 48%|████▊     | 169/352 [02:37<02:45,  1.11it/s]"
     ]
    },
    {
     "name": "stdout",
     "output_type": "stream",
     "text": [
      "Actions:  PURIFY; YIELD 5-methoxy-2-[(1-phenyl-1H-pyrazol-5-yl)amino]benzoic acid (450 mg, 26%).\n",
      "\n",
      "Paragraphs:  After the addition was complete, the reaction was allowed to warm to -15°C for 5 minutes then recooled to -78°C.\n"
     ]
    },
    {
     "name": "stderr",
     "output_type": "stream",
     "text": [
      " 48%|████▊     | 170/352 [02:38<02:26,  1.24it/s]"
     ]
    },
    {
     "name": "stdout",
     "output_type": "stream",
     "text": [
      "Actions:  STIR for 5 minutes at -15°C; SETTEMPERATURE -78°C.\n",
      "\n",
      "Paragraphs:  The organic layer was then dried over MgS04, filtered and concentrated, purified by chromatography (100% EtOAc- 60% MeOH/EtOAc) to yield crude intermediate which was dried and concentrated.\n"
     ]
    },
    {
     "name": "stderr",
     "output_type": "stream",
     "text": [
      " 49%|████▊     | 171/352 [02:38<02:18,  1.31it/s]"
     ]
    },
    {
     "name": "stdout",
     "output_type": "stream",
     "text": [
      "Actions:  COLLECTLAYER organic; DRYSOLUTION over MgS04; FILTER keep filtrate; CONCENTRATE; PURIFY; DRYSOLUTION over unknown; CONCENTRATE.\n",
      "\n",
      "Paragraphs:  1H NMR (400 MHz, CDCl3) δppm: 7.38-7.33 (m, 5H), 5.15 (s, 2H), 3.76 (m, 4H), 3.71-3.47 (m, 2H), 3.45-3.33 (m, 1H), 3.18-3.07 (m, 1H), 2.66-2.38 (m, 7H), 2.12-1.99 (m, 1H), 1.75-1.56 (m, 1H).\n"
     ]
    },
    {
     "name": "stderr",
     "output_type": "stream",
     "text": [
      " 49%|████▉     | 172/352 [02:39<01:55,  1.56it/s]"
     ]
    },
    {
     "name": "stdout",
     "output_type": "stream",
     "text": [
      "Actions:  NOACTION.\n",
      "\n",
      "Paragraphs:  A 12.5 N NaOH (0.760 mL, 9.53 mmol) solution was added dropwise while stirring, maintaining the temperature of the reaction below −10° C.\n"
     ]
    },
    {
     "name": "stderr",
     "output_type": "stream",
     "text": [
      " 49%|████▉     | 173/352 [02:39<01:53,  1.58it/s]"
     ]
    },
    {
     "name": "stdout",
     "output_type": "stream",
     "text": [
      "Actions:  ADD 12.5 N NaOH (0.760 mL, 9.53 mmol) dropwise at below −10° C.\n",
      "\n",
      "Paragraphs:  Prepared from (4-iodo-2-nitro-phenyl)-carbamic acid tert.-butyl ester (Example A1), bis(pinacolato)diboron and 3-bromopyridine according to the general procedure C.\n"
     ]
    },
    {
     "name": "stderr",
     "output_type": "stream",
     "text": [
      " 49%|████▉     | 174/352 [02:40<01:39,  1.79it/s]"
     ]
    },
    {
     "name": "stdout",
     "output_type": "stream",
     "text": [
      "Actions:  FOLLOWOTHERPROCEDURE.\n",
      "\n",
      "Paragraphs:  After concentration and dried in vacuo, 539 mg (100%) of a grey white solid was obtained as the title product, which was used directly for Step A.\n"
     ]
    },
    {
     "name": "stderr",
     "output_type": "stream",
     "text": [
      " 50%|████▉     | 175/352 [02:40<01:36,  1.84it/s]"
     ]
    },
    {
     "name": "stdout",
     "output_type": "stream",
     "text": [
      "Actions:  CONCENTRATE; DRYSOLID under vacuum; YIELD grey white solid (539 mg).\n",
      "\n",
      "Paragraphs:  The fractions containing the product were concentrated by evaporation i.vac., the residue was triturated with DIPE, suction filtered and dried.\n"
     ]
    },
    {
     "name": "stderr",
     "output_type": "stream",
     "text": [
      " 50%|█████     | 176/352 [02:41<01:35,  1.84it/s]"
     ]
    },
    {
     "name": "stdout",
     "output_type": "stream",
     "text": [
      "Actions:  CONCENTRATE; TRITURATE with DIPE; FILTER keep precipitate; DRYSOLID.\n",
      "\n",
      "Paragraphs:  The residue was chromatographed on silica gel eluted with 2-3% methanol/dichloromethane to give the title compound, which was recrystallised from dichloromethane/petrol (80 mg, 28%), Mp 191-5° C.\n"
     ]
    },
    {
     "name": "stderr",
     "output_type": "stream",
     "text": [
      " 50%|█████     | 177/352 [02:41<01:32,  1.89it/s]"
     ]
    },
    {
     "name": "stdout",
     "output_type": "stream",
     "text": [
      "Actions:  PURIFY; YIELD title compound (80 mg, 28%).\n",
      "\n",
      "Paragraphs:  The title compound was prepared using a procedure similar to that of 4-fluoro-N-(1-hydroxy-3,3-dimethyl-1,3-dihydro-benzo[c][1,2]oxaborol-6-yl-2-trifluoromethyl benzamide with acetyl chloride replacing 2-trifluoromethyl-4-fluorobenzoyl chloride.\n"
     ]
    },
    {
     "name": "stderr",
     "output_type": "stream",
     "text": [
      " 51%|█████     | 178/352 [02:42<01:26,  2.02it/s]"
     ]
    },
    {
     "name": "stdout",
     "output_type": "stream",
     "text": [
      "Actions:  FOLLOWOTHERPROCEDURE.\n",
      "\n",
      "Paragraphs:  The mixture was cooled to 0° C. in an ice bath followed by the addition of Hunig base (19.11 mL, 109.7 mmol, 2.3 equiv.).\n"
     ]
    },
    {
     "name": "stderr",
     "output_type": "stream",
     "text": [
      " 51%|█████     | 179/352 [02:42<01:32,  1.86it/s]"
     ]
    },
    {
     "name": "stdout",
     "output_type": "stream",
     "text": [
      "Actions:  SETTEMPERATURE 0° C; ADD Hunig base (19.11 mL, 109.7 mmol, 2.3 equiv).\n",
      "\n",
      "Paragraphs:  The resulting slurry was neutralized with 6N HCl solution and extracted with ethyl acetate.\n"
     ]
    },
    {
     "name": "stderr",
     "output_type": "stream",
     "text": [
      " 51%|█████     | 180/352 [02:43<01:31,  1.89it/s]"
     ]
    },
    {
     "name": "stdout",
     "output_type": "stream",
     "text": [
      "Actions:  PH with 6N HCl solution to pH neutral; EXTRACT with ethyl acetate.\n",
      "\n",
      "Paragraphs:  The resulting mixture is poured into iced water and extracted with dichloromethane.\n"
     ]
    },
    {
     "name": "stderr",
     "output_type": "stream",
     "text": [
      " 51%|█████▏    | 181/352 [02:44<01:32,  1.85it/s]"
     ]
    },
    {
     "name": "stdout",
     "output_type": "stream",
     "text": [
      "Actions:  ADD iced water; EXTRACT with dichloromethane.\n",
      "\n",
      "Paragraphs:  The resulting solution was stirred at 10 °C and then at 20 °C for 30 min each.\n"
     ]
    },
    {
     "name": "stderr",
     "output_type": "stream",
     "text": [
      " 52%|█████▏    | 182/352 [02:44<01:35,  1.78it/s]"
     ]
    },
    {
     "name": "stdout",
     "output_type": "stream",
     "text": [
      "Actions:  STIR for 30 min at 10 °C; STIR for 30 min at 20 °C.\n",
      "\n",
      "Paragraphs:  The resulting mixture was adjusted to pH 10 with a 40% aqueous sodium hydroxide solution.\n"
     ]
    },
    {
     "name": "stderr",
     "output_type": "stream",
     "text": [
      " 52%|█████▏    | 183/352 [02:45<01:33,  1.82it/s]"
     ]
    },
    {
     "name": "stdout",
     "output_type": "stream",
     "text": [
      "Actions:  PH with 40% aqueous sodium hydroxide solution to pH 10.\n",
      "\n",
      "Paragraphs:  Add DDQ (2057 g; 9.08 moles) in 5 equal portions maintaining the temperature at 10° C.\n"
     ]
    },
    {
     "name": "stderr",
     "output_type": "stream",
     "text": [
      " 52%|█████▏    | 184/352 [02:45<01:38,  1.71it/s]"
     ]
    },
    {
     "name": "stdout",
     "output_type": "stream",
     "text": [
      "Actions:  ADD DDQ (2057 g, 9.08 moles) at 10° C in 5 equal portions.\n",
      "\n",
      "Paragraphs:  A three-necked RBF equipped with nitrogen inlet tube and dry ice condenser was charged with (3R,5R,6S)-tert-butyl 3-allyl-2-oxo-5,6-diphenyl-3-(4-(4,4,5,5-tetramethyl-1,3,2-dioxaborolan-2-yl)butyl)morpholine-4-carboxylate (4.60 g, 8.00 mmol) and THF (10 mL).\n"
     ]
    },
    {
     "name": "stderr",
     "output_type": "stream",
     "text": [
      " 53%|█████▎    | 185/352 [02:47<02:18,  1.21it/s]"
     ]
    },
    {
     "name": "stdout",
     "output_type": "stream",
     "text": [
      "Actions:  ADD (3R,5R,6S)-tert-butyl 3-allyl-2-oxo-5,6-diphenyl-3-(4-(4,4,5,5-tetramethyl-1,3,2-dioxaborolan-2-yl)butyl)morpholine-4-carboxylate (4.60 g, 8.00 mmol); ADD THF (10 mL).\n",
      "\n",
      "Paragraphs:  In a glove box kept under the atmosphere of nitrogen, 15 g (0.13 moles) of 1,3-dimethyl-2-imidazolidinone, 8.45 g (0.5 moles) of 2-chloro-1,3-dimethylimidazolidinium chloride and 11.62 g (0.2 moles) of KF prepared in accordance with the spray drying process were placed into a three-necked flask (200 ml).\n"
     ]
    },
    {
     "name": "stderr",
     "output_type": "stream",
     "text": [
      " 53%|█████▎    | 186/352 [02:48<02:43,  1.02it/s]"
     ]
    },
    {
     "name": "stdout",
     "output_type": "stream",
     "text": [
      "Actions:  ADD 1,3-dimethyl-2-imidazolidinone (15 g, 0.13 moles) under nitrogen; ADD 2-chloro-1,3-dimethylimidazolidinium chloride (8.45 g, 0.5 moles) under nitrogen; ADD KF prepared in accordance with the spray drying process (11.62 g, 0.2 moles) under nitrogen.\n",
      "\n",
      "Paragraphs:  The reaction mixture was heated to 45° C. and maintained for 30 minutes, and then concentrated to afford 4-nitrophenyl 4-(diisobutylamino)-2′-(1H-tetrazol-5-yl)biphenyl-3-ylcarbamate (1.0 g, 98% yield).\n"
     ]
    },
    {
     "name": "stderr",
     "output_type": "stream",
     "text": [
      " 53%|█████▎    | 187/352 [02:49<02:50,  1.03s/it]"
     ]
    },
    {
     "name": "stdout",
     "output_type": "stream",
     "text": [
      "Actions:  STIR for 30 minutes at 45° C; CONCENTRATE; YIELD 4-nitrophenyl 4-(diisobutylamino)-2′-(1H-tetrazol-5-yl)biphenyl-3-ylcarbamate (1.0 g, 98%).\n",
      "\n",
      "Paragraphs:  The compound 91 (white solid) is prepared from the triazine 2e and from 4-(2,5-dichlorophenoxy)piperidine (obtained as under the preparative methods of intermediate 8a) according to the synthesis method 1 in toluene.\n"
     ]
    },
    {
     "name": "stderr",
     "output_type": "stream",
     "text": [
      " 53%|█████▎    | 188/352 [02:50<02:17,  1.19it/s]"
     ]
    },
    {
     "name": "stdout",
     "output_type": "stream",
     "text": [
      "Actions:  FOLLOWOTHERPROCEDURE.\n",
      "\n",
      "Paragraphs:  After the reaction mixture has cooled, the crystalline title compound is filtered with suction and dried.\n"
     ]
    },
    {
     "name": "stderr",
     "output_type": "stream",
     "text": [
      " 54%|█████▎    | 189/352 [02:50<01:59,  1.37it/s]"
     ]
    },
    {
     "name": "stdout",
     "output_type": "stream",
     "text": [
      "Actions:  SETTEMPERATURE room temperature; FILTER keep precipitate; DRYSOLID.\n",
      "\n",
      "Paragraphs:  After 2 h, the slurry was filtered.\n"
     ]
    },
    {
     "name": "stderr",
     "output_type": "stream",
     "text": [
      " 54%|█████▍    | 190/352 [02:50<01:43,  1.57it/s]"
     ]
    },
    {
     "name": "stdout",
     "output_type": "stream",
     "text": [
      "Actions:  WAIT for 2 h; FILTER.\n",
      "\n",
      "Paragraphs:  The solution was slowly cooled to 5° C. and maintained at 5 C for 30 minutes.\n"
     ]
    },
    {
     "name": "stderr",
     "output_type": "stream",
     "text": [
      " 54%|█████▍    | 191/352 [02:51<01:38,  1.63it/s]"
     ]
    },
    {
     "name": "stdout",
     "output_type": "stream",
     "text": [
      "Actions:  SETTEMPERATURE 5° C; STIR for 30 minutes at 5 C.\n",
      "\n",
      "Paragraphs:  The mixture was quenched with sodium acetate (0.074 g), stirred for 1 h and partitioned between water and ethyl acetate.\n"
     ]
    },
    {
     "name": "stderr",
     "output_type": "stream",
     "text": [
      " 55%|█████▍    | 192/352 [02:52<01:41,  1.58it/s]"
     ]
    },
    {
     "name": "stdout",
     "output_type": "stream",
     "text": [
      "Actions:  QUENCH with sodium acetate (0.074 g); STIR for 1 h; PARTITION with water and ethyl acetate.\n",
      "\n",
      "Paragraphs:  DBAD (101 mg, 0.44 mmol) was added in one portion and the reaction left to react for 5 h.\n"
     ]
    },
    {
     "name": "stderr",
     "output_type": "stream",
     "text": [
      " 55%|█████▍    | 193/352 [02:52<01:37,  1.62it/s]"
     ]
    },
    {
     "name": "stdout",
     "output_type": "stream",
     "text": [
      "Actions:  ADD DBAD (101 mg, 0.44 mmol); STIR for 5 h.\n",
      "\n",
      "Paragraphs:  Alternatively, a mixture of androst-4-ene-3,17-dione, thiophenol, 40% aqueous formaldehyde, triethylamine and ethanol was heated under reflux for a period of about 48 hours.\n"
     ]
    },
    {
     "name": "stderr",
     "output_type": "stream",
     "text": [
      " 55%|█████▌    | 194/352 [02:54<02:06,  1.25it/s]"
     ]
    },
    {
     "name": "stdout",
     "output_type": "stream",
     "text": [
      "Actions:  MAKESOLUTION with androst-4-ene-3,17-dione and thiophenol and 40% aqueous formaldehyde and triethylamine and ethanol; ADD SLN; REFLUX for about 48 hours.\n",
      "\n",
      "Paragraphs:  A mixture of 0.8 g of 2-{[(1-carbamoyl-1,2-dimethylpropyl)amino]methyl}-5-ethylnicotinic acid (2.7 mmol) and 0.56 g sodium acetate (6.8 mmol) in 10 mL acetic acid is warmed until homogeneous and cooled to room temperature.\n"
     ]
    },
    {
     "name": "stderr",
     "output_type": "stream",
     "text": [
      " 55%|█████▌    | 195/352 [02:55<02:24,  1.09it/s]"
     ]
    },
    {
     "name": "stdout",
     "output_type": "stream",
     "text": [
      "Actions:  MAKESOLUTION with 2-{[(1-carbamoyl-1,2-dimethylpropyl)amino]methyl}-5-ethylnicotinic acid (0.8 g, 2.7 mmol) and sodium acetate (0.56 g, 6.8 mmol) and acetic acid (10 mL); ADD SLN; SETTEMPERATURE room temperature.\n",
      "\n",
      "Paragraphs:  The reaction mixture was concentrated in vacuo and water was added followed by enough hydrochloric acid (1 M) to acidify the solution.\n"
     ]
    },
    {
     "name": "stderr",
     "output_type": "stream",
     "text": [
      " 56%|█████▌    | 196/352 [02:55<02:09,  1.20it/s]"
     ]
    },
    {
     "name": "stdout",
     "output_type": "stream",
     "text": [
      "Actions:  CONCENTRATE; ADD water; PH with hydrochloric acid ‌(1 M) to pH acidic.\n",
      "\n",
      "Paragraphs:  These samples were incubated and allowed to conjugate overnight at 4° C., in the dark, to allow the maleimide groups on the F5M to react with predominantly the free sulfhydryl, present in both albumin species.\n"
     ]
    },
    {
     "name": "stderr",
     "output_type": "stream",
     "text": [
      " 56%|█████▌    | 197/352 [02:56<01:49,  1.42it/s]"
     ]
    },
    {
     "name": "stdout",
     "output_type": "stream",
     "text": [
      "Actions:  FOLLOWOTHERPROCEDURE.\n",
      "\n",
      "Paragraphs:  The mixture is stirred for 2 hours, the product is filtered, washed with water (4×300 ml) and air dried.\n"
     ]
    },
    {
     "name": "stderr",
     "output_type": "stream",
     "text": [
      " 56%|█████▋    | 198/352 [02:56<01:48,  1.43it/s]"
     ]
    },
    {
     "name": "stdout",
     "output_type": "stream",
     "text": [
      "Actions:  STIR for 2 hours; FILTER keep precipitate; WASH with water (300 ml) 4 x; DRYSOLID under air.\n",
      "\n",
      "Paragraphs:  To the mixture of 2-bromo-4-[3-(3,5-dichlorophenyl)-3-(trifluoromethyl) -pyrrolidin-1-yl]aniline (0.60g), triethyl orthoformate (0.98g) and sodium azide (0.38g) was added acetic acid (1.1g), and the mixture was then heated with stirring at 100°C for 4 hours.\n"
     ]
    },
    {
     "name": "stderr",
     "output_type": "stream",
     "text": [
      " 57%|█████▋    | 199/352 [02:58<02:16,  1.12it/s]"
     ]
    },
    {
     "name": "stdout",
     "output_type": "stream",
     "text": [
      "Actions:  MAKESOLUTION with 2-bromo-4-[3-(3,5-dichlorophenyl)-3-(trifluoromethyl) -pyrrolidin-1-yl]aniline (0.60 g) and triethyl orthoformate (0.98 g) and sodium azide (0.38 g); ADD SLN; ADD acetic acid (1.1 g); STIR for 4 hours at 100°C.\n",
      "\n",
      "Paragraphs:  Prepared as described in Example 9, starting from acenaphthen-1-ylcarboxylic acid and 4-(2,3-dihydro-5-methoxybenzofuran-6-yl)piperazine.\n"
     ]
    },
    {
     "name": "stderr",
     "output_type": "stream",
     "text": [
      " 57%|█████▋    | 200/352 [02:58<01:53,  1.34it/s]"
     ]
    },
    {
     "name": "stdout",
     "output_type": "stream",
     "text": [
      "Actions:  FOLLOWOTHERPROCEDURE.\n",
      "\n",
      "Paragraphs:  The resulting content was maintained at −78° C. for 3 hours and slowly warmed up to RT overnight.\n"
     ]
    },
    {
     "name": "stderr",
     "output_type": "stream",
     "text": [
      " 57%|█████▋    | 201/352 [02:59<01:44,  1.44it/s]"
     ]
    },
    {
     "name": "stdout",
     "output_type": "stream",
     "text": [
      "Actions:  STIR for 3 hours at −78° C; STIR for overnight at RT.\n",
      "\n",
      "Paragraphs:  MS (ESI+) m/z 826 (M+H)+.\n"
     ]
    },
    {
     "name": "stderr",
     "output_type": "stream",
     "text": [
      " 57%|█████▋    | 202/352 [02:59<01:30,  1.66it/s]"
     ]
    },
    {
     "name": "stdout",
     "output_type": "stream",
     "text": [
      "Actions:  NOACTION.\n",
      "\n",
      "Paragraphs:  The crystals of residue were isolated by filtration with ethyl acetate-diisopropylether, dried under reduced pressure, and 74mg of the subject compound was prepared as pale yellow crystal.\n"
     ]
    },
    {
     "name": "stderr",
     "output_type": "stream",
     "text": [
      " 58%|█████▊    | 203/352 [03:00<01:26,  1.72it/s]"
     ]
    },
    {
     "name": "stdout",
     "output_type": "stream",
     "text": [
      "Actions:  FILTER keep precipitate; DRYSOLID under vacuum; YIELD subject compound (74mg).\n",
      "\n",
      "Paragraphs:  The mixture was warmed to r.t. and stirred for about 2 hours.\n"
     ]
    },
    {
     "name": "stderr",
     "output_type": "stream",
     "text": [
      " 58%|█████▊    | 204/352 [03:00<01:24,  1.74it/s]"
     ]
    },
    {
     "name": "stdout",
     "output_type": "stream",
     "text": [
      "Actions:  SETTEMPERATURE r.t; STIR for about 2 hours.\n",
      "\n",
      "Paragraphs:  After stirring the mixture in the ice bath for 10 minutes, the mixture was stirred at room temperature for 2 hours.\n"
     ]
    },
    {
     "name": "stderr",
     "output_type": "stream",
     "text": [
      " 58%|█████▊    | 205/352 [03:01<01:25,  1.72it/s]"
     ]
    },
    {
     "name": "stdout",
     "output_type": "stream",
     "text": [
      "Actions:  STIR for 10 minutes at 0 °C; STIR for 2 hours at room temperature.\n",
      "\n",
      "Paragraphs:  To a solution of 1-methyl-3-naphthalen-2-yl-6-pyrrolidin-3-yl-1H-[4,4′]bipyridinyl-2-one (prepared following the same method as described for 1′-methyl-5′-naphthalen-2-yl-1,2,3,4,5,6-hexahydro-1′H-[4,2′;4′,4″]terpyridin-6′-one, Scheme 12) (0.5 g, 1.3 mmol) in dry DMF (5 mL) was added 2-methyl-oxirane (2.6 mmol, 150 mg) and then heated at 80° C. for 5 h.\n"
     ]
    },
    {
     "name": "stderr",
     "output_type": "stream",
     "text": [
      " 59%|█████▊    | 206/352 [03:02<02:07,  1.15it/s]"
     ]
    },
    {
     "name": "stdout",
     "output_type": "stream",
     "text": [
      "Actions:  MAKESOLUTION with 1-methyl-3-naphthalen-2-yl-6-pyrrolidin-3-yl-1H-[4,4′]bipyridinyl-2-one (0.5 g, 1.3 mmol) and dry DMF (5 mL); ADD SLN; ADD 2-methyl-oxirane (2.6 mmol, 150 mg); STIR for 5 h at 80° C.\n",
      "\n",
      "Paragraphs:  The combined extracts are dried over anhydrous sodium sulfate and concentrated in vacuo and to afford 7-phthalimido-1-heptyl triflate (20) which is used without further purification.\n"
     ]
    },
    {
     "name": "stderr",
     "output_type": "stream",
     "text": [
      " 59%|█████▉    | 207/352 [03:03<01:58,  1.23it/s]"
     ]
    },
    {
     "name": "stdout",
     "output_type": "stream",
     "text": [
      "Actions:  COLLECTLAYER organic; DRYSOLUTION over anhydrous sodium sulfate; CONCENTRATE; YIELD 7-phthalimido-1-heptyl triflate.\n",
      "\n",
      "Paragraphs:  The required product was prepared according to Procedure E, above, using Compound 21 and dimethylcarbamyl chloride.\n"
     ]
    },
    {
     "name": "stderr",
     "output_type": "stream",
     "text": [
      " 59%|█████▉    | 208/352 [03:04<01:40,  1.44it/s]"
     ]
    },
    {
     "name": "stdout",
     "output_type": "stream",
     "text": [
      "Actions:  FOLLOWOTHERPROCEDURE.\n",
      "\n",
      "Paragraphs:  The resulting solution was stirred for an hour and then volatilites were removed under vacuum.\n"
     ]
    },
    {
     "name": "stderr",
     "output_type": "stream",
     "text": [
      " 59%|█████▉    | 209/352 [03:04<01:27,  1.63it/s]"
     ]
    },
    {
     "name": "stdout",
     "output_type": "stream",
     "text": [
      "Actions:  STIR for an hour; CONCENTRATE.\n",
      "\n",
      "Paragraphs:  The reaction mixture was diluted with dichloromethane (30 mL) and washed with water (100 mL×3).\n"
     ]
    },
    {
     "name": "stderr",
     "output_type": "stream",
     "text": [
      " 60%|█████▉    | 210/352 [03:04<01:24,  1.68it/s]"
     ]
    },
    {
     "name": "stdout",
     "output_type": "stream",
     "text": [
      "Actions:  ADD dichloromethane (30 mL); WASH with water (100 mL) 3 x.\n",
      "\n",
      "Paragraphs:  The resulting dianion was cooled to −78° C., where 2-(3-Cyclopentyl-3-oxo-propyl)-5-methoxy-benzonitrile (63.3 mg, 0.25 mmol) dissolved in THF (1.0 mL) was added dropwise over 2 minutes.\n"
     ]
    },
    {
     "name": "stderr",
     "output_type": "stream",
     "text": [
      " 60%|█████▉    | 211/352 [03:06<01:47,  1.31it/s]"
     ]
    },
    {
     "name": "stdout",
     "output_type": "stream",
     "text": [
      "Actions:  SETTEMPERATURE −78° C; MAKESOLUTION with 2-(3-Cyclopentyl-3-oxo-propyl)-5-methoxy-benzonitrile (63.3 mg, 0.25 mmol) and THF (1.0 mL); ADD SLN dropwise over 2 minutes.\n",
      "\n",
      "Paragraphs:  The organic fractions were combined then washed 3 times with 7 mL of brine.\n"
     ]
    },
    {
     "name": "stderr",
     "output_type": "stream",
     "text": [
      " 60%|██████    | 212/352 [03:06<01:37,  1.44it/s]"
     ]
    },
    {
     "name": "stdout",
     "output_type": "stream",
     "text": [
      "Actions:  COLLECTLAYER organic; WASH with brine (7 mL) 3 x.\n",
      "\n",
      "Paragraphs:  The reaction is cooled to ambient room temperature and 1N HCl and water (25 ml) are added, followed by neutralization with sodium hydroxide (about 25 %) to generate (1R,2R)-2-amino-1-[4-(methylsulfonyl)phenyl]-1,3-propanediol (Compound V wherein R1 is methylsulfonyl) in situ.\n"
     ]
    },
    {
     "name": "stderr",
     "output_type": "stream",
     "text": [
      " 61%|██████    | 213/352 [03:07<01:39,  1.40it/s]"
     ]
    },
    {
     "name": "stdout",
     "output_type": "stream",
     "text": [
      "Actions:  SETTEMPERATURE ambient room temperature; ADD 1N HCl; ADD water (25 ml); PH with sodium hydroxide ‌(about 25 %) to pH neutral.\n",
      "\n",
      "Paragraphs:  The reaction mixture was cooled to 0° C. and 4-methylmorpholine (205 mL, 188.9 g, 1.87 mol) was slowly added over a period of 1 h while maintaining a temperature of less than 10° C.\n"
     ]
    },
    {
     "name": "stderr",
     "output_type": "stream",
     "text": [
      " 61%|██████    | 214/352 [03:08<01:43,  1.33it/s]"
     ]
    },
    {
     "name": "stdout",
     "output_type": "stream",
     "text": [
      "Actions:  SETTEMPERATURE 0° C; ADD 4-methylmorpholine (205 mL, 188.9 g, 1.87 mol) at less than 10° C over 1 h.\n",
      "\n",
      "Paragraphs:  The organic phase was washed with brine, dried over Na2SO4, filtered, and concentrated.\n"
     ]
    },
    {
     "name": "stderr",
     "output_type": "stream",
     "text": [
      " 61%|██████    | 215/352 [03:08<01:39,  1.38it/s]"
     ]
    },
    {
     "name": "stdout",
     "output_type": "stream",
     "text": [
      "Actions:  COLLECTLAYER organic; WASH with brine; DRYSOLUTION over Na2SO4; FILTER keep filtrate; CONCENTRATE.\n",
      "\n",
      "Paragraphs:  The bomb was sealed and heated in an oil bath at 65° C. for 2 days.\n"
     ]
    },
    {
     "name": "stderr",
     "output_type": "stream",
     "text": [
      " 61%|██████▏   | 216/352 [03:09<01:26,  1.57it/s]"
     ]
    },
    {
     "name": "stdout",
     "output_type": "stream",
     "text": [
      "Actions:  STIR for 2 days at 65° C.\n",
      "\n",
      "Paragraphs:  After 15 minutes, 0.55 ml (0.77 mmol) of n-butylithium (1.5 M in hexane) is added dropwise at 0° C., the mixture is stirred for 15 minutes at 0° C. and 180 mg (0.7 mmol) of the compound from Example 31 are added dropwise in 3 ml of tetrahydrofuran.\n"
     ]
    },
    {
     "name": "stderr",
     "output_type": "stream",
     "text": [
      " 62%|██████▏   | 217/352 [03:10<01:56,  1.16it/s]"
     ]
    },
    {
     "name": "stdout",
     "output_type": "stream",
     "text": [
      "Actions:  WAIT for 15 minutes; ADD n-butylithium ‌(1.5 M in hexane) (0.55 ml, 0.77 mmol) dropwise at 0° C; STIR for 15 minutes at 0° C; MAKESOLUTION with compound from Example 31 (180 mg, 0.7 mmol) and tetrahydrofuran (3 ml); ADD SLN dropwise.\n",
      "\n",
      "Paragraphs:  The residue was purified by silica gel column chromatography eluting with a 5-15% ethyl acetate/n-hexane gradient mixture to give the title compound (14.1 g, 39.5 mmol, 92%) as an oil.\n"
     ]
    },
    {
     "name": "stderr",
     "output_type": "stream",
     "text": [
      " 62%|██████▏   | 218/352 [03:11<01:43,  1.29it/s]"
     ]
    },
    {
     "name": "stdout",
     "output_type": "stream",
     "text": [
      "Actions:  PURIFY; YIELD title compound (14.1 g, 39.5 mmol, 92%).\n",
      "\n",
      "Paragraphs:  The residue and the above solid product were combined and triturated repeatedly with diisopropyl ether.\n"
     ]
    },
    {
     "name": "stderr",
     "output_type": "stream",
     "text": [
      " 62%|██████▏   | 219/352 [03:11<01:31,  1.46it/s]"
     ]
    },
    {
     "name": "stdout",
     "output_type": "stream",
     "text": [
      "Actions:  TRITURATE with diisopropyl ether.\n",
      "\n",
      "Paragraphs:  4-Biphenylacetic acid (5.0 g, 23.6 mmol) was then added slowly over 20 min while the stirred reaction mixture was maintained at 20-30° C.\n"
     ]
    },
    {
     "name": "stderr",
     "output_type": "stream",
     "text": [
      " 62%|██████▎   | 220/352 [03:12<01:33,  1.41it/s]"
     ]
    },
    {
     "name": "stdout",
     "output_type": "stream",
     "text": [
      "Actions:  ADD 4-Biphenylacetic acid (5.0 g, 23.6 mmol) dropwise at 20-30° C over 20 min.\n",
      "\n",
      "Paragraphs:  Evaporation of the CH3CO2CH2CH3 layers and silica gel column chromatography, eluent 4:1 hexane: CH3CO2CH2CH3, gives the title compound.\n"
     ]
    },
    {
     "name": "stderr",
     "output_type": "stream",
     "text": [
      " 63%|██████▎   | 221/352 [03:13<01:26,  1.52it/s]"
     ]
    },
    {
     "name": "stdout",
     "output_type": "stream",
     "text": [
      "Actions:  COLLECTLAYER organic; CONCENTRATE; PURIFY; YIELD title compound.\n",
      "\n",
      "Paragraphs:  The catalyst was removed by filtering through celite, washing several times with hot ethanol, and the filtrate concentrated in vacuo to give the title compound (D13) as a crystalline white solid (80.1 g, 84%).\n"
     ]
    },
    {
     "name": "stderr",
     "output_type": "stream",
     "text": [
      " 63%|██████▎   | 222/352 [03:13<01:25,  1.52it/s]"
     ]
    },
    {
     "name": "stdout",
     "output_type": "stream",
     "text": [
      "Actions:  FILTER keep filtrate; WASH with hot ethanol; CONCENTRATE; YIELD title compound ‌(D13) (80.1 g, 84%).\n",
      "\n",
      "Paragraphs:  After cooling to 25° C., 170 mg of sodium triacetoxyborohydride are added and stirred at 25° C. for a further 12 h.\n"
     ]
    },
    {
     "name": "stderr",
     "output_type": "stream",
     "text": [
      " 63%|██████▎   | 223/352 [03:14<01:34,  1.36it/s]"
     ]
    },
    {
     "name": "stdout",
     "output_type": "stream",
     "text": [
      "Actions:  SETTEMPERATURE 25° C; ADD sodium triacetoxyborohydride (170 mg); STIR for 12 h at 25° C.\n",
      "\n",
      "Paragraphs:  A precipitate then formed in both layers and was filtered, washed with water to remove traces of K2CO3 and dried to afford 4.67 g (85%).\n"
     ]
    },
    {
     "name": "stderr",
     "output_type": "stream",
     "text": [
      " 64%|██████▎   | 224/352 [03:15<01:29,  1.43it/s]"
     ]
    },
    {
     "name": "stdout",
     "output_type": "stream",
     "text": [
      "Actions:  FILTER keep precipitate; WASH with water; DRYSOLID; YIELD ‌4.67 g (85%).\n",
      "\n",
      "Paragraphs:  The solution containing the compound having the structure: is used without further purification in Example IV, infra.\n"
     ]
    },
    {
     "name": "stderr",
     "output_type": "stream",
     "text": [
      " 64%|██████▍   | 225/352 [03:15<01:17,  1.63it/s]"
     ]
    },
    {
     "name": "stdout",
     "output_type": "stream",
     "text": [
      "Actions:  FOLLOWOTHERPROCEDURE.\n",
      "\n",
      "Paragraphs:  After stirring at room temperature overnight, the reaction mixture was neutralized with 1N hydrochloric acid, and concentrated under reduced pressure.\n"
     ]
    },
    {
     "name": "stderr",
     "output_type": "stream",
     "text": [
      " 64%|██████▍   | 226/352 [03:16<01:17,  1.62it/s]"
     ]
    },
    {
     "name": "stdout",
     "output_type": "stream",
     "text": [
      "Actions:  STIR for overnight at room temperature; PH with 1N hydrochloric acid to pH neutral; CONCENTRATE.\n",
      "\n",
      "Paragraphs:  MS (−APCI) m/z 496.0 (M−H)−.\n"
     ]
    },
    {
     "name": "stderr",
     "output_type": "stream",
     "text": [
      " 64%|██████▍   | 227/352 [03:16<01:08,  1.83it/s]"
     ]
    },
    {
     "name": "stdout",
     "output_type": "stream",
     "text": [
      "Actions:  NOACTION.\n",
      "\n",
      "Paragraphs:  A mixture of N-(2-chloro-5-nitropyrimidin-4-yl)-L-4-(N,N-dimethylcarbamyloxy)-phenylalanine tert-butyl ester (9.52 g, 20.45 mmol), Degussa-type 20% palladium on carbon (9.5.2 g), NaHCO3 (8.59 g, 102.2 mmol), and 165 mL MeOH was shaken under 55 Psi H2 for 16 h, at which point TLC indicated conversion of N-(2-chloro-5-nitropyrimidin-4-yl)-L-4-(N,N-dimethylcarbamyloxy)phenylalanine tert-butyl ester into a single product.\n"
     ]
    },
    {
     "name": "stderr",
     "output_type": "stream",
     "text": [
      " 65%|██████▍   | 228/352 [03:18<01:45,  1.18it/s]"
     ]
    },
    {
     "name": "stdout",
     "output_type": "stream",
     "text": [
      "Actions:  MAKESOLUTION with N-(2-chloro-5-nitropyrimidin-4-yl)-L-4-(N,N-dimethylcarbamyloxy)-phenylalanine tert-butyl ester (9.52 g, 20.45 mmol) and Degussa-type 20% palladium on carbon (9.5.2 g) and NaHCO3 (8.59 g, 102.2 mmol) and MeOH (165 mL); ADD SLN; SETTEMPERATURE 55 Psi H2; STIR for 16 h.\n",
      "\n",
      "Paragraphs:  The mixture was filtered through Celite and the layers were separated.\n"
     ]
    },
    {
     "name": "stderr",
     "output_type": "stream",
     "text": [
      " 65%|██████▌   | 229/352 [03:18<01:29,  1.38it/s]"
     ]
    },
    {
     "name": "stdout",
     "output_type": "stream",
     "text": [
      "Actions:  FILTER keep filtrate; PHASESEPARATION.\n",
      "\n",
      "Paragraphs:  To a suspension of 5-amino-2-chloro-4-fluorobenzoic acid (5.12 g, 27.0 mmol) in hydrochloric acid, 37% (50 mL) cooled to 0° C. was added a cold solution of sodium nitrite (2.00 g, 29.1 mmol) in water (25.0 mL) dropwise maintaining an internal temperature below 5° C.\n"
     ]
    },
    {
     "name": "stderr",
     "output_type": "stream",
     "text": [
      " 65%|██████▌   | 230/352 [03:20<01:58,  1.03it/s]"
     ]
    },
    {
     "name": "stdout",
     "output_type": "stream",
     "text": [
      "Actions:  MAKESOLUTION with 5-amino-2-chloro-4-fluorobenzoic acid (5.12 g, 27.0 mmol) and hydrochloric acid, 37% (50 mL); ADD SLN; SETTEMPERATURE 0° C; MAKESOLUTION with sodium nitrite (2.00 g, 29.1 mmol) and water (25.0 mL); ADD SLN dropwise at below 5° C.\n",
      "\n",
      "Paragraphs:  CDI 200 mg (1.23 mmol) was added to a DMF (3 mL) solution of 1-{3-cyclopropyl-5-[2-fluoro-3-(hydroxymethyl)phenyl]pyridin-2-yl}azetidin-3-one O-methyl oxime 121 mg (0.354 mmol) synthesized in the same manner as in Reference Example 7-44, and the mixture was stirred at room temperature for 14 hours.\n"
     ]
    },
    {
     "name": "stderr",
     "output_type": "stream",
     "text": [
      " 66%|██████▌   | 231/352 [03:21<02:09,  1.07s/it]"
     ]
    },
    {
     "name": "stdout",
     "output_type": "stream",
     "text": [
      "Actions:  MAKESOLUTION with DMF (3 mL) and 1-{3-cyclopropyl-5-[2-fluoro-3-(hydroxymethyl)phenyl]pyridin-2-yl}azetidin-3-one O-methyl oxime (121 mg, 0.354 mmol); ADD SLN; ADD CDI (200 mg, 1.23 mmol); STIR for 14 hours at room temperature.\n",
      "\n",
      "Paragraphs:  First a clear solution forms, from which the reaction product precipitates in crystalline form after a time.\n"
     ]
    },
    {
     "name": "stderr",
     "output_type": "stream",
     "text": [
      " 66%|██████▌   | 232/352 [03:21<01:43,  1.16it/s]"
     ]
    },
    {
     "name": "stdout",
     "output_type": "stream",
     "text": [
      "Actions:  WAIT for precipitate.\n",
      "\n",
      "Paragraphs:  The reaction mixture was stirred for 10 min to allow gas evolution to subside; the ice bath was then removed and 4-chloro-2-methylthiopyrimidine (24.07 g, 150 mmol) was added.\n"
     ]
    },
    {
     "name": "stderr",
     "output_type": "stream",
     "text": [
      " 66%|██████▌   | 233/352 [03:22<01:37,  1.22it/s]"
     ]
    },
    {
     "name": "stdout",
     "output_type": "stream",
     "text": [
      "Actions:  STIR for 10 min; SETTEMPERATURE room temperature; ADD 4-chloro-2-methylthiopyrimidine (24.07 g, 150 mmol).\n",
      "\n",
      "Paragraphs:  After stirring for 0.5 hour, the mixture was cooled to -70°C, 3.10 ml (40.0 mmol) of DMF was added, and then the mixture was transferred to an ice bath.\n"
     ]
    },
    {
     "name": "stderr",
     "output_type": "stream",
     "text": [
      " 66%|██████▋   | 234/352 [03:23<01:35,  1.23it/s]"
     ]
    },
    {
     "name": "stdout",
     "output_type": "stream",
     "text": [
      "Actions:  STIR for 0.5 hour; SETTEMPERATURE -70°C; ADD DMF (3.10 ml, 40.0 mmol); SETTEMPERATURE ice bath.\n",
      "\n",
      "Paragraphs:  Methyl cis-5-cyclohexylpiperidine-3-carboxylate was used instead of (5)-3-(tert-butoxycarbonylamino)piperidine, and 2-[(2-chloro-6-methylpyrimidin-4-yl)amino]-1,3-thiazole-5-carbonitrile prepared in Referential Example 5 was used instead of 2-chloro-6-methyl-N-(1H-pyrazol-5-yl)pyrimidin-4-amine in Example 1.\n"
     ]
    },
    {
     "name": "stderr",
     "output_type": "stream",
     "text": [
      " 67%|██████▋   | 235/352 [03:23<01:20,  1.46it/s]"
     ]
    },
    {
     "name": "stdout",
     "output_type": "stream",
     "text": [
      "Actions:  FOLLOWOTHERPROCEDURE.\n",
      "\n",
      "Paragraphs:  The filtrate and the washes were combined, and the solvent was distilled off under reduced pressure.\n"
     ]
    },
    {
     "name": "stderr",
     "output_type": "stream",
     "text": [
      " 67%|██████▋   | 236/352 [03:24<01:08,  1.69it/s]"
     ]
    },
    {
     "name": "stdout",
     "output_type": "stream",
     "text": [
      "Actions:  INVALIDACTION.\n",
      "\n",
      "Paragraphs:  The cooling bath was removed, and after stirring for 90 minutes at 22° C., and additional portion of DAST (0.033 mL, 0.25 mmol, 2.5 equiv) was added.\n"
     ]
    },
    {
     "name": "stderr",
     "output_type": "stream",
     "text": [
      " 67%|██████▋   | 237/352 [03:24<01:14,  1.54it/s]"
     ]
    },
    {
     "name": "stdout",
     "output_type": "stream",
     "text": [
      "Actions:  SETTEMPERATURE room temperature; STIR for 90 minutes at 22° C; ADD DAST (0.033 mL, 0.25 mmol, 2.5 equiv).\n",
      "\n",
      "Paragraphs:  The temperature is maintained at 10°-20° C. with an ice-bath.\n"
     ]
    },
    {
     "name": "stderr",
     "output_type": "stream",
     "text": [
      " 68%|██████▊   | 238/352 [03:25<01:06,  1.70it/s]"
     ]
    },
    {
     "name": "stdout",
     "output_type": "stream",
     "text": [
      "Actions:  SETTEMPERATURE 10°-20° C.\n",
      "\n",
      "Paragraphs:  The crystals are filtered and washed sparingly with cold ethyl acetate.\n"
     ]
    },
    {
     "name": "stderr",
     "output_type": "stream",
     "text": [
      " 68%|██████▊   | 239/352 [03:25<01:02,  1.82it/s]"
     ]
    },
    {
     "name": "stdout",
     "output_type": "stream",
     "text": [
      "Actions:  FILTER keep precipitate; WASH with cold ethyl acetate.\n",
      "\n",
      "Paragraphs:  The reaction was quenched by an addition of saturated NH4Cl aqueous solution, and the resulting mixture was extracted with ethyl acetate several times.\n"
     ]
    },
    {
     "name": "stderr",
     "output_type": "stream",
     "text": [
      " 68%|██████▊   | 240/352 [03:26<01:02,  1.80it/s]"
     ]
    },
    {
     "name": "stdout",
     "output_type": "stream",
     "text": [
      "Actions:  QUENCH with saturated NH4Cl aqueous solution; EXTRACT with ethyl acetate several times.\n",
      "\n",
      "Paragraphs:  The mixture was allowed to cool to −78° C. and the allowed to warm to room temperature over 1.5 h.\n"
     ]
    },
    {
     "name": "stderr",
     "output_type": "stream",
     "text": [
      " 68%|██████▊   | 241/352 [03:26<01:00,  1.82it/s]"
     ]
    },
    {
     "name": "stdout",
     "output_type": "stream",
     "text": [
      "Actions:  SETTEMPERATURE −78° C; STIR for 1.5 h at room temperature.\n",
      "\n",
      "Paragraphs:  To a solution prepared by 2.9 g of 3-amino-8-methylcarbostyril, 3.5 ml of triethylamine in 50 ml of dichloromethane was added dropwise a solution prepared by 1.9 ml of chloroacetyl chloride in 10 ml of dichloromethane under ice-cooled condition.\n"
     ]
    },
    {
     "name": "stderr",
     "output_type": "stream",
     "text": [
      " 69%|██████▉   | 242/352 [03:28<01:21,  1.35it/s]"
     ]
    },
    {
     "name": "stdout",
     "output_type": "stream",
     "text": [
      "Actions:  MAKESOLUTION with 3-amino-8-methylcarbostyril (2.9 g) and triethylamine (3.5 ml) and dichloromethane (50 ml); ADD SLN; MAKESOLUTION with chloroacetyl chloride (1.9 ml) and dichloromethane (10 ml); ADD SLN dropwise at 0 °C.\n",
      "\n",
      "Paragraphs:  After cooling the reaction mixture was treated in the same way as in Example 1 to afford 37.4 g of the title compound as a pale yellow oil.\n"
     ]
    },
    {
     "name": "stderr",
     "output_type": "stream",
     "text": [
      " 69%|██████▉   | 243/352 [03:28<01:14,  1.47it/s]"
     ]
    },
    {
     "name": "stdout",
     "output_type": "stream",
     "text": [
      "Actions:  SETTEMPERATURE room temperature; YIELD title compound (37.4 g).\n",
      "\n",
      "Paragraphs:  After cooling, water (15 mL) is added and the mixture concentrated.\n"
     ]
    },
    {
     "name": "stderr",
     "output_type": "stream",
     "text": [
      " 69%|██████▉   | 244/352 [03:29<01:08,  1.57it/s]"
     ]
    },
    {
     "name": "stdout",
     "output_type": "stream",
     "text": [
      "Actions:  SETTEMPERATURE room temperature; ADD water (15 mL); CONCENTRATE.\n",
      "\n",
      "Paragraphs:  The solution was cooled in an ice bath with stirring.\n"
     ]
    },
    {
     "name": "stderr",
     "output_type": "stream",
     "text": [
      " 70%|██████▉   | 245/352 [03:29<01:02,  1.72it/s]"
     ]
    },
    {
     "name": "stdout",
     "output_type": "stream",
     "text": [
      "Actions:  SETTEMPERATURE 0 °C.\n",
      "\n",
      "Paragraphs:  Process was repeated and solids combined to afford 6-(3,5-dimethylisoxazol-4-yl)-4-iodo-1H-benzo[d]imidazol-2(3H)-one.\n"
     ]
    },
    {
     "name": "stderr",
     "output_type": "stream",
     "text": [
      " 70%|██████▉   | 246/352 [03:30<01:09,  1.53it/s]"
     ]
    },
    {
     "name": "stdout",
     "output_type": "stream",
     "text": [
      "Actions:  REPEAT; FILTER keep precipitate; YIELD 6-(3,5-dimethylisoxazol-4-yl)-4-iodo-1H-benzo[d]imidazol-2(3H)-one.\n",
      "\n",
      "Paragraphs:  The residue was dissolved in ethyl acetate and washed with saturated aqueous sodium chloride solution, dried (magnesium sulfate), filtered, and concentrated In vacuo to give 0.41 g (88%) of the title compound as an off-white solid.\n"
     ]
    },
    {
     "name": "stderr",
     "output_type": "stream",
     "text": [
      " 70%|███████   | 247/352 [03:31<01:11,  1.46it/s]"
     ]
    },
    {
     "name": "stdout",
     "output_type": "stream",
     "text": [
      "Actions:  ADD ethyl acetate; WASH with saturated aqueous sodium chloride solution; DRYSOLUTION over magnesium sulfate; FILTER keep filtrate; CONCENTRATE; YIELD title compound (0.41 g, 88%).\n",
      "\n",
      "Paragraphs:  (oil bath temperature) for 24 h under an argon athmosphere.\n"
     ]
    },
    {
     "name": "stderr",
     "output_type": "stream",
     "text": [
      " 70%|███████   | 248/352 [03:31<01:04,  1.62it/s]"
     ]
    },
    {
     "name": "stdout",
     "output_type": "stream",
     "text": [
      "Actions:  STIR for 24 h under argon.\n",
      "\n",
      "Paragraphs:  ESI (LC-MS positive mode) m/z 509 (M+H)+\n"
     ]
    },
    {
     "name": "stderr",
     "output_type": "stream",
     "text": [
      " 71%|███████   | 249/352 [03:32<00:56,  1.81it/s]"
     ]
    },
    {
     "name": "stdout",
     "output_type": "stream",
     "text": [
      "Actions:  NOACTION.\n",
      "\n",
      "Paragraphs:  The mixture stirred under a hydrogen atmosphere for 24 h and then filtered through Celite, eluting with ETOH.\n"
     ]
    },
    {
     "name": "stderr",
     "output_type": "stream",
     "text": [
      " 71%|███████   | 250/352 [03:32<00:55,  1.84it/s]"
     ]
    },
    {
     "name": "stdout",
     "output_type": "stream",
     "text": [
      "Actions:  STIR for 24 h under hydrogen; FILTER keep filtrate; WASH with ETOH.\n",
      "\n",
      "Paragraphs:  Added water (100 mL) and basified to pH: 8 using saturated solution of sodium bicarbonate solution.\n"
     ]
    },
    {
     "name": "stderr",
     "output_type": "stream",
     "text": [
      " 71%|███████▏  | 251/352 [03:33<00:55,  1.84it/s]"
     ]
    },
    {
     "name": "stdout",
     "output_type": "stream",
     "text": [
      "Actions:  ADD water (100 mL); PH with saturated solution of sodium bicarbonate solution to pH 8.\n",
      "\n",
      "Paragraphs:  The solvents were evaporated, water (12 ml) and a 10% solution of citric acid was added until the pH was 3.\n"
     ]
    },
    {
     "name": "stderr",
     "output_type": "stream",
     "text": [
      " 72%|███████▏  | 252/352 [03:33<00:55,  1.81it/s]"
     ]
    },
    {
     "name": "stdout",
     "output_type": "stream",
     "text": [
      "Actions:  CONCENTRATE; ADD water (12 ml); PH with 10% solution of citric acid to pH 3.\n",
      "\n",
      "Paragraphs:  The solution was then partitioned between ethyl acetate and saturated NH4Cl.\n"
     ]
    },
    {
     "name": "stderr",
     "output_type": "stream",
     "text": [
      " 72%|███████▏  | 253/352 [03:34<00:52,  1.87it/s]"
     ]
    },
    {
     "name": "stdout",
     "output_type": "stream",
     "text": [
      "Actions:  PARTITION with ethyl acetate and saturated NH4Cl.\n",
      "\n",
      "Paragraphs:  The reaction mixture was cooled, washed with ether and the aqueous phase was neutralized with aqueous ammonia solution.\n"
     ]
    },
    {
     "name": "stderr",
     "output_type": "stream",
     "text": [
      " 72%|███████▏  | 254/352 [03:34<00:54,  1.80it/s]"
     ]
    },
    {
     "name": "stdout",
     "output_type": "stream",
     "text": [
      "Actions:  SETTEMPERATURE room temperature; WASH with ether; COLLECTLAYER aqueous; PH with aqueous ammonia solution to pH neutral.\n",
      "\n",
      "Paragraphs:  The residue was purified via flash chromatography (Rf= 0.17 in 2/1 hexanes/ethyl acetate) on a Biotage Horizon, 65i column, eluting with 1 column volume of 5% ethyl acetate in hexanes, followed by a linear gradient from 5 to 80% of ethyl acetate in hexanes over 10 column volumes to provide 1.01 g (41 %) of the title compound.\n"
     ]
    },
    {
     "name": "stderr",
     "output_type": "stream",
     "text": [
      " 72%|███████▏  | 255/352 [03:35<00:52,  1.86it/s]"
     ]
    },
    {
     "name": "stdout",
     "output_type": "stream",
     "text": [
      "Actions:  PURIFY; YIELD title compound (1.01 g, 41 %).\n",
      "\n",
      "Paragraphs:  Then the reaction mass was cooled to 0-5° C. in an ice bath and added formaldehyde (2.84 mL, 28.4 mmol, 30-50%).\n"
     ]
    },
    {
     "name": "stderr",
     "output_type": "stream",
     "text": [
      " 73%|███████▎  | 256/352 [03:36<00:55,  1.72it/s]"
     ]
    },
    {
     "name": "stdout",
     "output_type": "stream",
     "text": [
      "Actions:  SETTEMPERATURE 0-5° C; ADD formaldehyde (2.84 mL, 28.4 mmol, 30-50%).\n",
      "\n",
      "Paragraphs:  This product was then purified by the silica gel column chromatography.\n"
     ]
    },
    {
     "name": "stderr",
     "output_type": "stream",
     "text": [
      " 73%|███████▎  | 257/352 [03:36<00:49,  1.93it/s]"
     ]
    },
    {
     "name": "stdout",
     "output_type": "stream",
     "text": [
      "Actions:  PURIFY.\n",
      "\n",
      "Paragraphs:  This material was triturated with 70 mL of 5% dichloromethane in hexanes to afford 3-chloropropylsulfonylamine tert-butylcarbamate as an offwhite solid (47.2 g, 96%): 1H NMR (CDCl3) δ 1.51 (s, 9H), 2.33 (m, 2H), 3.60 (t, J=7.3 Hz, 2H), 3.68 (t, J=6.21 Hz, 2H); 13C NMR (CDCl3) δ 26.50, 27.95, 42.37, 50.40, 84.76, 149.53.\n"
     ]
    },
    {
     "name": "stderr",
     "output_type": "stream",
     "text": [
      " 73%|███████▎  | 258/352 [03:37<00:58,  1.61it/s]"
     ]
    },
    {
     "name": "stdout",
     "output_type": "stream",
     "text": [
      "Actions:  TRITURATE with 5% dichloromethane in hexanes (70 mL); YIELD 3-chloropropylsulfonylamine tert-butylcarbamate (47.2 g, 96%).\n",
      "\n",
      "Paragraphs:  A solution of iodine (2.9 g, 11.4 mmol) in THF (10 mL) was then added slowly over about an hour while the stirred reaction mixture was maintained at 20-30° C.\n"
     ]
    },
    {
     "name": "stderr",
     "output_type": "stream",
     "text": [
      " 74%|███████▎  | 259/352 [03:38<01:04,  1.45it/s]"
     ]
    },
    {
     "name": "stdout",
     "output_type": "stream",
     "text": [
      "Actions:  MAKESOLUTION with iodine (2.9 g, 11.4 mmol) and THF (10 mL); ADD SLN dropwise at 20-30° C over about an hour.\n",
      "\n",
      "Paragraphs:  After 1 h toluene (2 mL) was added and the resulting mixture stirred for 3 h and allowed to cool to room temperature.\n"
     ]
    },
    {
     "name": "stderr",
     "output_type": "stream",
     "text": [
      " 74%|███████▍  | 260/352 [03:38<01:02,  1.48it/s]"
     ]
    },
    {
     "name": "stdout",
     "output_type": "stream",
     "text": [
      "Actions:  WAIT for 1 h; ADD toluene (2 mL); STIR for 3 h; SETTEMPERATURE room temperature.\n",
      "\n",
      "Paragraphs:  The aqueous layer was adjusted to pH 2.0 with conc. hydrochloric acid and extracted with ethyl acetate (200 ml).\n"
     ]
    },
    {
     "name": "stderr",
     "output_type": "stream",
     "text": [
      " 74%|███████▍  | 261/352 [03:39<01:00,  1.50it/s]"
     ]
    },
    {
     "name": "stdout",
     "output_type": "stream",
     "text": [
      "Actions:  COLLECTLAYER aqueous; PH with conc. hydrochloric acid to pH 2.0; EXTRACT with ethyl acetate (200 ml).\n",
      "\n",
      "Paragraphs:  Under ice cooling, 21.9 g of anhydrous aluminum chloride was added to 250 ml of N,N-dimethylformamide, followed by stirring for 15 minutes.\n"
     ]
    },
    {
     "name": "stderr",
     "output_type": "stream",
     "text": [
      " 74%|███████▍  | 262/352 [03:40<01:03,  1.42it/s]"
     ]
    },
    {
     "name": "stdout",
     "output_type": "stream",
     "text": [
      "Actions:  ADD N,N-dimethylformamide (250 ml); ADD anhydrous aluminum chloride (21.9 g) at 0 °C; STIR for 15 minutes.\n",
      "\n",
      "Paragraphs:  After stirring 4 hours at 35° C., water (40 ml) was added to the reaction mixture which was then adjusted to pH=8 by addition of 1 M NaOH.\n"
     ]
    },
    {
     "name": "stderr",
     "output_type": "stream",
     "text": [
      " 75%|███████▍  | 263/352 [03:40<01:01,  1.44it/s]"
     ]
    },
    {
     "name": "stdout",
     "output_type": "stream",
     "text": [
      "Actions:  STIR for 4 hours at 35° C; ADD water (40 ml); PH with 1 M NaOH to pH 8.\n",
      "\n",
      "Paragraphs:  Using the procedure of example 4, 2,3-dihydro-7-hydroxy-8-propyl-4H-1-benzopyran-4-one was converted into the title compound by alkylation with 2-[(5-bromopentyl)oxy]benzenepentanoic acid methyl ester from the preceding example, followed by saponification in 46.5% overall yield.\n"
     ]
    },
    {
     "name": "stderr",
     "output_type": "stream",
     "text": [
      " 75%|███████▌  | 264/352 [03:41<00:53,  1.64it/s]"
     ]
    },
    {
     "name": "stdout",
     "output_type": "stream",
     "text": [
      "Actions:  FOLLOWOTHERPROCEDURE.\n",
      "\n",
      "Paragraphs:  The aqueous phase was basified to pH 13 with NaOH, and washed with DCM (3×200 mL).\n"
     ]
    },
    {
     "name": "stderr",
     "output_type": "stream",
     "text": [
      " 75%|███████▌  | 265/352 [03:41<00:53,  1.61it/s]"
     ]
    },
    {
     "name": "stdout",
     "output_type": "stream",
     "text": [
      "Actions:  COLLECTLAYER aqueous; PH with NaOH to pH 13; WASH with DCM (200 mL) 3 x.\n",
      "\n",
      "Paragraphs:  The resulting mixture was removed from the ice bath after 5 minutes and stirred at room temperature for 2 hours.\n"
     ]
    },
    {
     "name": "stderr",
     "output_type": "stream",
     "text": [
      " 76%|███████▌  | 266/352 [03:42<00:49,  1.73it/s]"
     ]
    },
    {
     "name": "stdout",
     "output_type": "stream",
     "text": [
      "Actions:  SETTEMPERATURE room temperature; STIR for 2 hours at room temperature.\n",
      "\n",
      "Paragraphs:  10.73 mL (77 mmol) of triethylamine in 5 mL of CH2Cl2 was added, and the mixture was allowed to come to room temperature.\n"
     ]
    },
    {
     "name": "stderr",
     "output_type": "stream",
     "text": [
      " 76%|███████▌  | 267/352 [03:43<00:54,  1.55it/s]"
     ]
    },
    {
     "name": "stdout",
     "output_type": "stream",
     "text": [
      "Actions:  MAKESOLUTION with triethylamine (10.73 mL, 77 mmol) and CH2Cl2 (5 mL); ADD SLN; SETTEMPERATURE room temperature.\n",
      "\n",
      "Paragraphs:  After 30 min, the mixture was cooled to 0° C. and {(3S,5S)-1-((S)-2-amino-2-cyclohexyl-acetyl)-5-[(R)-(1,2,3,4-tetrahydro-naphthalen-1-yl)carbamoyl]-pyrrolidin-3-yl}-carbamic acid 9H-fluoren-9-ylmethyl ester (Intermediate 24) (7.5 g, 11.43 mmol) in DMF (50 mL) and the cooling bath removed.\n"
     ]
    },
    {
     "name": "stderr",
     "output_type": "stream",
     "text": [
      " 76%|███████▌  | 268/352 [03:44<01:21,  1.02it/s]"
     ]
    },
    {
     "name": "stdout",
     "output_type": "stream",
     "text": [
      "Actions:  WAIT for 30 min; SETTEMPERATURE 0° C; MAKESOLUTION with {(3S,5S)-1-((S)-2-amino-2-cyclohexyl-acetyl)-5-[(R)-(1,2,3,4-tetrahydro-naphthalen-1-yl)carbamoyl]-pyrrolidin-3-yl}-carbamic acid 9H-fluoren-9-ylmethyl ester (7.5 g, 11.43 mmol) and DMF (50 mL); ADD SLN; SETTEMPERATURE room temperature.\n",
      "\n",
      "Paragraphs:  The mixture thus obtained is directly used in the next step.\n"
     ]
    },
    {
     "name": "stderr",
     "output_type": "stream",
     "text": [
      " 76%|███████▋  | 269/352 [03:45<01:05,  1.26it/s]"
     ]
    },
    {
     "name": "stdout",
     "output_type": "stream",
     "text": [
      "Actions:  NOACTION.\n",
      "\n",
      "Paragraphs:  4-{[(5-Chloropyridin-2-yl)amino]carbonyl}-3-({[trans-4-(3-oxomorpholin-4-yl)cyclohexyl]carbonyl}amino)benzoic acid (50 mg) obtained in Example 3 is dissolved in pyridine (1 ml), and thereto are added dimethylamine hydrochloride (20 mg), 1-hydroxybenzotriazole (27 mg) and 1-ethyl-3-(3-dimethylaminopropyl)carbodiimide hydrochloride (40 mg), followed by stirring at room temperature for 20 hours.\n"
     ]
    },
    {
     "name": "stderr",
     "output_type": "stream",
     "text": [
      " 77%|███████▋  | 270/352 [03:47<01:27,  1.07s/it]"
     ]
    },
    {
     "name": "stdout",
     "output_type": "stream",
     "text": [
      "Actions:  ADD 4-{[(5-Chloropyridin-2-yl)amino]carbonyl}-3-({[trans-4-(3-oxomorpholin-4-yl)cyclohexyl]carbonyl}amino)benzoic acid (50 mg); ADD pyridine (1 ml); ADD dimethylamine hydrochloride (20 mg); ADD 1-hydroxybenzotriazole (27 mg); ADD 1-ethyl-3-(3-dimethylaminopropyl)carbodiimide hydrochloride (40 mg); STIR for 20 hours at room temperature.\n",
      "\n",
      "Paragraphs:  {1-[9-((1R,2S,3R,4S)-2,3-Dihydroxy-4-propionylamino-cyclopentyl)-6-(2,2-diphenyl-ethyl-amino)-9H-purin-2-yl]-piperidin-4-yl}-carbamic acid tert-butyl ester trifluoroacetate (0.02 g, 0.03 mmol) is dissolved in HCl (1 ml of a 1.25 M solution in methanol) and allowed to stand at room temperature overnight.\n"
     ]
    },
    {
     "name": "stderr",
     "output_type": "stream",
     "text": [
      " 77%|███████▋  | 271/352 [03:48<01:43,  1.27s/it]"
     ]
    },
    {
     "name": "stdout",
     "output_type": "stream",
     "text": [
      "Actions:  ADD {1-[9-((1R,2S,3R,4S)-2,3-Dihydroxy-4-propionylamino-cyclopentyl)-6-(2,2-diphenyl-ethyl-amino)-9H-purin-2-yl]-piperidin-4-yl}-carbamic acid tert-butyl ester trifluoroacetate (0.02 g, 0.03 mmol); ADD HCl ‌(1.25 M in methanol) (1 ml); STIR for overnight at room temperature.\n",
      "\n",
      "Paragraphs:  The reaction mixture was partitioned between water and DCM.\n"
     ]
    },
    {
     "name": "stderr",
     "output_type": "stream",
     "text": [
      " 77%|███████▋  | 272/352 [03:49<01:21,  1.02s/it]"
     ]
    },
    {
     "name": "stdout",
     "output_type": "stream",
     "text": [
      "Actions:  PARTITION with water and DCM.\n",
      "\n",
      "Paragraphs:  After 3 h, the mixture was cooled to RT and filtered.\n"
     ]
    },
    {
     "name": "stderr",
     "output_type": "stream",
     "text": [
      " 78%|███████▊  | 273/352 [03:49<01:08,  1.16it/s]"
     ]
    },
    {
     "name": "stdout",
     "output_type": "stream",
     "text": [
      "Actions:  WAIT for 3 h; SETTEMPERATURE RT; FILTER.\n",
      "\n",
      "Paragraphs:  The reaction mixture was allowed to warm slowly to ambient temperature and stirring was continued for 3 h.\n"
     ]
    },
    {
     "name": "stderr",
     "output_type": "stream",
     "text": [
      " 78%|███████▊  | 274/352 [03:50<00:58,  1.33it/s]"
     ]
    },
    {
     "name": "stdout",
     "output_type": "stream",
     "text": [
      "Actions:  SETTEMPERATURE ambient temperature; STIR for 3 h.\n",
      "\n",
      "Paragraphs:  1H NMR (CDCl3): 8.07 (d, J=2.4 Hz, 1H), 7.63 (dd, J=0.9 Hz, J=8.4 Hz, 1H), 7.56-7.51 (m, 1H), 7.27-7.18 (m, 2H), 7.05-7.00 (m, 1H), 6.50 (d, J=9.3 Hz, 1H), 3.55 (s, 3H), 3.12 (s, 6H), 2.72 (s, 3H).\n"
     ]
    },
    {
     "name": "stderr",
     "output_type": "stream",
     "text": [
      " 78%|███████▊  | 275/352 [03:50<00:49,  1.56it/s]"
     ]
    },
    {
     "name": "stdout",
     "output_type": "stream",
     "text": [
      "Actions:  NOACTION.\n",
      "\n",
      "Paragraphs:  The resulting residue was subjected to silica gel column chromatography (eluent; hexane:ethyl acetate=10:15:1 (V/V)), and fractions containing the desired compound were concentrated under reduced pressure to afford the title compound (1.14 g) substantially quantitatively as a colorless liquid.\n"
     ]
    },
    {
     "name": "stderr",
     "output_type": "stream",
     "text": [
      " 78%|███████▊  | 276/352 [03:51<00:46,  1.63it/s]"
     ]
    },
    {
     "name": "stdout",
     "output_type": "stream",
     "text": [
      "Actions:  PURIFY; COLLECTFRACTION; CONCENTRATE; YIELD title compound (1.14 g).\n",
      "\n",
      "Paragraphs:  The ethyl acetate extracts were washed with a saturated NaHCO3 solution, dried over anhydrous MgSO4, and concentrated in vacuo.\n"
     ]
    },
    {
     "name": "stderr",
     "output_type": "stream",
     "text": [
      " 79%|███████▊  | 277/352 [03:51<00:46,  1.62it/s]"
     ]
    },
    {
     "name": "stdout",
     "output_type": "stream",
     "text": [
      "Actions:  COLLECTLAYER organic; WASH with saturated NaHCO3 solution; DRYSOLUTION over anhydrous MgSO4; CONCENTRATE.\n",
      "\n",
      "Paragraphs:  An aqueous solution of Rochelle salt was then added and stirring continued for a further 1.5 h. EtOAc was added and the mixture was filtered through a Celite® pad and the aqueous phase was extracted with EtOAc.\n"
     ]
    },
    {
     "name": "stderr",
     "output_type": "stream",
     "text": [
      " 79%|███████▉  | 278/352 [03:52<00:48,  1.51it/s]"
     ]
    },
    {
     "name": "stdout",
     "output_type": "stream",
     "text": [
      "Actions:  ADD aqueous solution of Rochelle salt; STIR for 1.5 h; ADD EtOAc; FILTER keep aqueous phase; EXTRACT with EtOAc.\n",
      "\n",
      "Paragraphs:  The solution containing the product obtained previously is then added to this reaction medium very slowly, followed by addition of 23 mL (165 mmol) of triethylamine.\n"
     ]
    },
    {
     "name": "stderr",
     "output_type": "stream",
     "text": [
      " 79%|███████▉  | 279/352 [03:53<00:45,  1.59it/s]"
     ]
    },
    {
     "name": "stdout",
     "output_type": "stream",
     "text": [
      "Actions:  ADD solution containing product dropwise; ADD triethylamine (23 mL, 165 mmol).\n",
      "\n",
      "Paragraphs:  The organic layer was extracted with 1 M hydrochloric acid (3×20 mL) and the combined aqueous extracts were made basic to pH 8-9 with potassium carbonate.\n"
     ]
    },
    {
     "name": "stderr",
     "output_type": "stream",
     "text": [
      " 80%|███████▉  | 280/352 [03:53<00:49,  1.44it/s]"
     ]
    },
    {
     "name": "stdout",
     "output_type": "stream",
     "text": [
      "Actions:  COLLECTLAYER organic; EXTRACT with 1 M hydrochloric acid (20 mL) 3 x; COLLECTLAYER aqueous; PH with potassium carbonate to pH 8-9.\n",
      "\n",
      "Paragraphs:  Copper bromide (CuBr, 10.0 g, 0.070 mol) was added in fifth portions over 1 h followed by stirring the mixture for 30 min.\n"
     ]
    },
    {
     "name": "stderr",
     "output_type": "stream",
     "text": [
      " 80%|███████▉  | 281/352 [03:54<00:47,  1.51it/s]"
     ]
    },
    {
     "name": "stdout",
     "output_type": "stream",
     "text": [
      "Actions:  ADD Copper bromide (10.0 g, 0.070 mol) over 1 h; STIR for 30 min.\n",
      "\n",
      "Paragraphs:  MS (EI) m/z 368 (M)+.\n"
     ]
    },
    {
     "name": "stderr",
     "output_type": "stream",
     "text": [
      " 80%|████████  | 282/352 [03:54<00:40,  1.73it/s]"
     ]
    },
    {
     "name": "stdout",
     "output_type": "stream",
     "text": [
      "Actions:  NOACTION.\n",
      "\n",
      "Paragraphs:  To a solution of (R)-1-(5-acetoxyhexyl)-8-bromo-7-ethoxymethyl-3-methylxanthine (1.83 g, 4.11 mmol) and sodium iodide (123 mg, 0.82 mmol) in anhydrous dimethylsulfoxide (40 ml) was added potassium cyanide (294 mg, 4.52 mmol).\n"
     ]
    },
    {
     "name": "stderr",
     "output_type": "stream",
     "text": [
      " 80%|████████  | 283/352 [03:56<00:58,  1.18it/s]"
     ]
    },
    {
     "name": "stdout",
     "output_type": "stream",
     "text": [
      "Actions:  MAKESOLUTION with (R)-1-(5-acetoxyhexyl)-8-bromo-7-ethoxymethyl-3-methylxanthine (1.83 g, 4.11 mmol) and sodium iodide (123 mg, 0.82 mmol) and anhydrous dimethylsulfoxide (40 ml); ADD SLN; ADD potassium cyanide (294 mg, 4.52 mmol).\n",
      "\n",
      "Paragraphs:  The combined organic layers were washed with brine and dried over Na2SO4.\n"
     ]
    },
    {
     "name": "stderr",
     "output_type": "stream",
     "text": [
      " 81%|████████  | 284/352 [03:56<00:52,  1.30it/s]"
     ]
    },
    {
     "name": "stdout",
     "output_type": "stream",
     "text": [
      "Actions:  COLLECTLAYER organic; WASH with brine; DRYSOLUTION over Na2SO4.\n",
      "\n",
      "Paragraphs:  The mixture was allowed to cool down and was concentrated to dryness.\n"
     ]
    },
    {
     "name": "stderr",
     "output_type": "stream",
     "text": [
      " 81%|████████  | 285/352 [03:57<00:46,  1.46it/s]"
     ]
    },
    {
     "name": "stdout",
     "output_type": "stream",
     "text": [
      "Actions:  SETTEMPERATURE room temperature; CONCENTRATE.\n",
      "\n",
      "Paragraphs:  After 3 hours, water is added, the pH is adjusted to 2-3 with dilute hydrochloric acid (1M), the mixture is then extracted with ethyl acetate and the combined organic phases are dried with sodium sulfate.\n"
     ]
    },
    {
     "name": "stderr",
     "output_type": "stream",
     "text": [
      " 81%|████████▏ | 286/352 [03:58<00:50,  1.32it/s]"
     ]
    },
    {
     "name": "stdout",
     "output_type": "stream",
     "text": [
      "Actions:  WAIT for 3 hours; ADD water; PH with dilute hydrochloric acid ‌(1M) to pH 2-3; EXTRACT with ethyl acetate; COLLECTLAYER organic; DRYSOLUTION over sodium sulfate.\n",
      "\n",
      "Paragraphs:  The reaction is heated to reflux under nitrogen until no additional water is observed in the trap (ca. 3 hours).\n"
     ]
    },
    {
     "name": "stderr",
     "output_type": "stream",
     "text": [
      " 82%|████████▏ | 287/352 [03:58<00:43,  1.48it/s]"
     ]
    },
    {
     "name": "stdout",
     "output_type": "stream",
     "text": [
      "Actions:  REFLUX for ca. 3 hours under nitrogen.\n",
      "\n",
      "Paragraphs:  The organic layer was dried with sodium sulfate, filtered, concentrated, and dried under high vacuum to provide the title compound (56.4 mg, 0.104 mmol, 82.8 % yield) as a solid.\n"
     ]
    },
    {
     "name": "stderr",
     "output_type": "stream",
     "text": [
      " 82%|████████▏ | 288/352 [03:59<00:47,  1.36it/s]"
     ]
    },
    {
     "name": "stdout",
     "output_type": "stream",
     "text": [
      "Actions:  COLLECTLAYER organic; DRYSOLUTION over sodium sulfate; FILTER keep filtrate; CONCENTRATE; DRYSOLID under vacuum; YIELD title compound (56.4 mg, 0.104 mmol, 82.8 %).\n",
      "\n",
      "Paragraphs:  The solution was maintained at 95°C for 7 h.\n"
     ]
    },
    {
     "name": "stderr",
     "output_type": "stream",
     "text": [
      " 82%|████████▏ | 289/352 [04:00<00:40,  1.54it/s]"
     ]
    },
    {
     "name": "stdout",
     "output_type": "stream",
     "text": [
      "Actions:  WAIT for 7 h at 95°C.\n",
      "\n",
      "Paragraphs:  To a stirring solution of (2S,3R)-1-azido-3-benzyloxy-4-penten-2-ol (1) (250 μL, 1.07 mmol) in THF (50 mL) under argon was added tetrabutylammonium iodide (42 mg, 0.11 mmol) followed by benzyl bromide (155 μL, 1.27 mmol) and the reaction was cooled to 0° C.\n"
     ]
    },
    {
     "name": "stderr",
     "output_type": "stream",
     "text": [
      " 82%|████████▏ | 290/352 [04:01<00:57,  1.08it/s]"
     ]
    },
    {
     "name": "stdout",
     "output_type": "stream",
     "text": [
      "Actions:  MAKESOLUTION with (2S,3R)-1-azido-3-benzyloxy-4-penten-2-ol (250 μL, 1.07 mmol) and THF (50 mL); ADD SLN; ADD tetrabutylammonium iodide (42 mg, 0.11 mmol) under argon; ADD benzyl bromide (155 μL, 1.27 mmol) under argon; SETTEMPERATURE 0° C.\n",
      "\n",
      "Paragraphs:  A solution of 2-methoxyethanol (1.348 mL, 17.10 mmol) in xylenes (100 mL) was treated with a 60% dispersion of sodium hydride in mineral oil (0.808 g, 20.21 mmol) followed by stirring at room temperature for 20 minutes.\n"
     ]
    },
    {
     "name": "stderr",
     "output_type": "stream",
     "text": [
      " 83%|████████▎ | 291/352 [04:02<00:58,  1.05it/s]"
     ]
    },
    {
     "name": "stdout",
     "output_type": "stream",
     "text": [
      "Actions:  MAKESOLUTION with 2-methoxyethanol (1.348 mL, 17.10 mmol) and xylenes (100 mL); ADD SLN; ADD 60% dispersion of sodium hydride in mineral oil (0.808 g, 20.21 mmol); STIR for 20 minutes at room temperature.\n",
      "\n",
      "Paragraphs:  A stirred solution of (1-oxo-5,8-dihydro-1H,6H-pyrano[3,4-c]pyran-3-ylmethyl)-carbamic acid tert-butyl ester (160 mg, 0.57 mmol) in dimethylformamide (3 mL) in 28% ammonium hydroxide (6 mL) was heated at 90 °C for two hours, concentrated in vacuo then dried under a stream of nitrogen.\n"
     ]
    },
    {
     "name": "stderr",
     "output_type": "stream",
     "text": [
      " 83%|████████▎ | 292/352 [04:04<01:06,  1.12s/it]"
     ]
    },
    {
     "name": "stdout",
     "output_type": "stream",
     "text": [
      "Actions:  MAKESOLUTION with (1-oxo-5,8-dihydro-1H,6H-pyrano[3,4-c]pyran-3-ylmethyl)-carbamic acid tert-butyl ester (160 mg, 0.57 mmol) and dimethylformamide (3 mL) and 28% ammonium hydroxide (6 mL); ADD SLN; STIR for two hours at 90 °C; CONCENTRATE; DRYSOLID under nitrogen.\n",
      "\n",
      "Paragraphs:  To a mixture of NaH (12 mg, 0.50 mmol), in THF (1.5 mL) at 0° C. under argon, was added methylacetoacetate (54, 0.50 mmol) slowly over 5 minutes.\n"
     ]
    },
    {
     "name": "stderr",
     "output_type": "stream",
     "text": [
      " 83%|████████▎ | 293/352 [04:05<01:03,  1.08s/it]"
     ]
    },
    {
     "name": "stdout",
     "output_type": "stream",
     "text": [
      "Actions:  MAKESOLUTION with NaH (12 mg, 0.50 mmol) and THF (1.5 mL); ADD SLN; ADD methylacetoacetate (0.50 mmol) at 0° C under argon over 5 minutes.\n",
      "\n",
      "Paragraphs:  The mixture was stirred at 0° C. for 1 hour, cooled to −15° C. followed by the dropwise addition of methane sulfonyl chloride in 5 mL THF.\n"
     ]
    },
    {
     "name": "stderr",
     "output_type": "stream",
     "text": [
      " 84%|████████▎ | 294/352 [04:06<00:57,  1.01it/s]"
     ]
    },
    {
     "name": "stdout",
     "output_type": "stream",
     "text": [
      "Actions:  STIR for 1 hour at 0° C; SETTEMPERATURE −15° C; ADD methane sulfonyl chloride in 5 mL THF dropwise.\n",
      "\n",
      "Paragraphs:  (70.9%) of the desired compound as a pale yellow powder having the following properties.\n"
     ]
    },
    {
     "name": "stderr",
     "output_type": "stream",
     "text": [
      " 84%|████████▍ | 295/352 [04:06<00:47,  1.21it/s]"
     ]
    },
    {
     "name": "stdout",
     "output_type": "stream",
     "text": [
      "Actions:  YIELD desired compound (70.9%).\n",
      "\n",
      "Paragraphs:  After adjusting to pH 1.5 with 10% hydrochloric acid, the ethyl acetate solution was separated, washed with a saturated aqueous sodium chloride and then dried over anhydrous magnesium sulfate.\n"
     ]
    },
    {
     "name": "stderr",
     "output_type": "stream",
     "text": [
      " 84%|████████▍ | 296/352 [04:07<00:48,  1.16it/s]"
     ]
    },
    {
     "name": "stdout",
     "output_type": "stream",
     "text": [
      "Actions:  PH with 10% hydrochloric acid to pH 1.5; PHASESEPARATION; COLLECTLAYER organic; WASH with saturated aqueous sodium chloride; DRYSOLUTION over anhydrous magnesium sulfate.\n",
      "\n",
      "Paragraphs:  The solution was filtered over celite, evaporated and purified by flash chromatography to give 23.6 g (64%) of the title compound as a light brown oil.\n"
     ]
    },
    {
     "name": "stderr",
     "output_type": "stream",
     "text": [
      " 84%|████████▍ | 297/352 [04:08<00:44,  1.23it/s]"
     ]
    },
    {
     "name": "stdout",
     "output_type": "stream",
     "text": [
      "Actions:  FILTER keep filtrate; CONCENTRATE; PURIFY; YIELD title compound (23.6 g, 64%).\n",
      "\n",
      "Paragraphs:  Then it was diluted with brine, neutralized with 2 M HCl, and extracted with DCM.\n"
     ]
    },
    {
     "name": "stderr",
     "output_type": "stream",
     "text": [
      " 85%|████████▍ | 298/352 [04:08<00:41,  1.31it/s]"
     ]
    },
    {
     "name": "stdout",
     "output_type": "stream",
     "text": [
      "Actions:  ADD brine; PH with 2 M HCl to pH neutral; EXTRACT with DCM.\n",
      "\n",
      "Paragraphs:  After addition was complete, the solution was left to stir at rt overnight.\n"
     ]
    },
    {
     "name": "stderr",
     "output_type": "stream",
     "text": [
      " 85%|████████▍ | 299/352 [04:09<00:35,  1.50it/s]"
     ]
    },
    {
     "name": "stdout",
     "output_type": "stream",
     "text": [
      "Actions:  STIR for overnight at rt.\n",
      "\n",
      "Paragraphs:  After evaporating to dryness, the crude material was chromatographed on silica gel, eluting with methylene chloride/methanol 92/8, to give the title compound (780 mg, Y=62%) as a solid.\n"
     ]
    },
    {
     "name": "stderr",
     "output_type": "stream",
     "text": [
      " 85%|████████▌ | 300/352 [04:09<00:32,  1.62it/s]"
     ]
    },
    {
     "name": "stdout",
     "output_type": "stream",
     "text": [
      "Actions:  CONCENTRATE; PURIFY; YIELD title compound (780 mg, 62%).\n",
      "\n",
      "Paragraphs:  To an ice-cold solution of N-{(1S,2R)-1-(3,5-difluorobenzyl)-3-[(3-ethylbenzyl)amino]-2-hydroxypropyl}-3-oxoindane-5-carboxamide prepared by the method in Example SP-201 (66 mg, 0.13 mmol) in methanol (3 mL) is added sodium borohydride (20 mg, 0.52 mmol).\n"
     ]
    },
    {
     "name": "stderr",
     "output_type": "stream",
     "text": [
      " 86%|████████▌ | 301/352 [04:11<00:46,  1.09it/s]"
     ]
    },
    {
     "name": "stdout",
     "output_type": "stream",
     "text": [
      "Actions:  MAKESOLUTION with N-{(1S,2R)-1-(3,5-difluorobenzyl)-3-[(3-ethylbenzyl)amino]-2-hydroxypropyl}-3-oxoindane-5-carboxamide (66 mg, 0.13 mmol) and methanol (3 mL); ADD SLN; ADD sodium borohydride (20 mg, 0.52 mmol) at 0 °C.\n",
      "\n",
      "Paragraphs:  Die vereinigten organischen Phasen wurden mehrmals mit gesättigter Natriumhydrogencarbonatlösung gewaschen, über Natriumsulfat getrocknet und eingeengt.\n"
     ]
    },
    {
     "name": "stderr",
     "output_type": "stream",
     "text": [
      " 86%|████████▌ | 302/352 [04:11<00:37,  1.34it/s]"
     ]
    },
    {
     "name": "stdout",
     "output_type": "stream",
     "text": [
      "Actions:  OTHERLANGUAGE.\n",
      "\n",
      "Paragraphs:  2-{5-[1-(3,5-Bis-trifluoromethyl-phenyl)-5-methyl-1H-pyrazol-4-ylmethoxy]-indol-1-yl}-2-methyl-propionic acid ethyl ester from step A in ethanol (2 mL) is added NaOH (5.0 M, 1 mL).\n"
     ]
    },
    {
     "name": "stderr",
     "output_type": "stream",
     "text": [
      " 86%|████████▌ | 303/352 [04:12<00:31,  1.57it/s]"
     ]
    },
    {
     "name": "stdout",
     "output_type": "stream",
     "text": [
      "Actions:  INVALIDACTION.\n",
      "\n",
      "Paragraphs:  The combined product fractions were neutralized with aqueous ammonium hydroxide and acetonitrile was evaporated under vacuo.\n"
     ]
    },
    {
     "name": "stderr",
     "output_type": "stream",
     "text": [
      " 86%|████████▋ | 304/352 [04:12<00:28,  1.68it/s]"
     ]
    },
    {
     "name": "stdout",
     "output_type": "stream",
     "text": [
      "Actions:  PH with aqueous ammonium hydroxide to pH neutral; CONCENTRATE.\n",
      "\n",
      "Paragraphs:  The mixture was stirred for half an hour.\n"
     ]
    },
    {
     "name": "stderr",
     "output_type": "stream",
     "text": [
      " 87%|████████▋ | 305/352 [04:12<00:25,  1.86it/s]"
     ]
    },
    {
     "name": "stdout",
     "output_type": "stream",
     "text": [
      "Actions:  STIR for half an hour.\n",
      "\n",
      "Paragraphs:  The reaction mixture was stirred at 50°C for 1.5 h then allowed to cool and the resultant precipitate was collected by filtration, washing with IMS.\n"
     ]
    },
    {
     "name": "stderr",
     "output_type": "stream",
     "text": [
      " 87%|████████▋ | 306/352 [04:13<00:25,  1.79it/s]"
     ]
    },
    {
     "name": "stdout",
     "output_type": "stream",
     "text": [
      "Actions:  STIR for 1.5 h at 50°C; SETTEMPERATURE room temperature; FILTER keep precipitate; WASH with IMS.\n",
      "\n",
      "Paragraphs:  Evaporation of the solvent and flash chromatograph of residue over silica gel, using 20% ethyl acetate in CH2Cl2, gave the title compound (141 mg, 76%) as pure white solid.\n"
     ]
    },
    {
     "name": "stderr",
     "output_type": "stream",
     "text": [
      " 87%|████████▋ | 307/352 [04:14<00:25,  1.79it/s]"
     ]
    },
    {
     "name": "stdout",
     "output_type": "stream",
     "text": [
      "Actions:  CONCENTRATE; PURIFY; YIELD title compound (141 mg, 76%).\n",
      "\n",
      "Paragraphs:  The residue was purified by column chromatography eluting with ethyl acetate/petroleum ether (10:1, v:v) to afford the title compound (100 mg, 48%).\n"
     ]
    },
    {
     "name": "stderr",
     "output_type": "stream",
     "text": [
      " 88%|████████▊ | 308/352 [04:14<00:23,  1.87it/s]"
     ]
    },
    {
     "name": "stdout",
     "output_type": "stream",
     "text": [
      "Actions:  PURIFY; YIELD title compound (100 mg, 48%).\n",
      "\n",
      "Paragraphs:  Into a 3000-mL 4-necked round-bottom flask purged and maintained under an inert atmosphere of nitrogen was placed a solution of 2-(prop-2-yn-1-yloxy)tetrahydro-2H-pyran (77.4 g, 552.15 mmol) in tetrahydrofuran (1000 mL), followed by the addition of n-butyllithium (2.5 M)(221.2 mL, 1.20 equiv) dropwise with stirring at −78° C.\n"
     ]
    },
    {
     "name": "stderr",
     "output_type": "stream",
     "text": [
      " 88%|████████▊ | 309/352 [04:15<00:33,  1.29it/s]"
     ]
    },
    {
     "name": "stdout",
     "output_type": "stream",
     "text": [
      "Actions:  ADD solution of 2-(prop-2-yn-1-yloxy)tetrahydro-2H-pyran (77.4 g, 552.15 mmol) in tetrahydrofuran (1000 mL) under nitrogen; ADD n-butyllithium ‌(2.5 M) (221.2 mL, 1.20 equiv) dropwise at −78° C.\n",
      "\n",
      "Paragraphs:  The organic phases were combined, dried over anhydrous sodium sulfate, concentrated, re-dissolved in tetrahydrofuran (20 ml), and cooled to a temperature between -10°C and 0°C, potassium t-butoxide (85 mg, 0.76 mmol) was added, and the reaction was allowed to proceed for 24 hours at this temperature.\n"
     ]
    },
    {
     "name": "stderr",
     "output_type": "stream",
     "text": [
      " 88%|████████▊ | 310/352 [04:17<00:39,  1.06it/s]"
     ]
    },
    {
     "name": "stdout",
     "output_type": "stream",
     "text": [
      "Actions:  COLLECTLAYER organic; DRYSOLUTION over anhydrous sodium sulfate; CONCENTRATE; ADD tetrahydrofuran (20 ml); SETTEMPERATURE between -10°C and 0°C; ADD potassium t-butoxide (85 mg, 0.76 mmol) at between -10°C and 0°C; STIR for 24 hours at between -10°C and 0°C.\n",
      "\n",
      "Paragraphs:  1H NMR (500 MHz, CDCl3): δ 7.28 (s, 1H), 6.62 (s, 1H), 6.04 (brs, 2H), 5.97 (s, 2H), 4.60 (t, J=6.5 Hz, 1H), 4.24 (s, 2H), 4.20 (m, 1H), 4.09 (m, 1H), 3.13 (m, 1H), 2.97 (m, 1H), 2.00 (m, 1H), 1.85 (m, 1H), 1.27 (s, 9H).\n"
     ]
    },
    {
     "name": "stderr",
     "output_type": "stream",
     "text": [
      " 88%|████████▊ | 311/352 [04:17<00:31,  1.30it/s]"
     ]
    },
    {
     "name": "stdout",
     "output_type": "stream",
     "text": [
      "Actions:  NOACTION.\n",
      "\n",
      "Paragraphs:  The reaction was stirred and heated to 100° C. for 3 h.\n"
     ]
    },
    {
     "name": "stderr",
     "output_type": "stream",
     "text": [
      " 89%|████████▊ | 312/352 [04:18<00:26,  1.49it/s]"
     ]
    },
    {
     "name": "stdout",
     "output_type": "stream",
     "text": [
      "Actions:  STIR for 3 h at 100° C.\n",
      "\n",
      "Paragraphs:  IR (neat, cm−1): 3361, 3215, 1600, 1515, 1472, 1337, 1273, 1181, 820.\n"
     ]
    },
    {
     "name": "stderr",
     "output_type": "stream",
     "text": [
      " 89%|████████▉ | 313/352 [04:18<00:22,  1.73it/s]"
     ]
    },
    {
     "name": "stdout",
     "output_type": "stream",
     "text": [
      "Actions:  NOACTION.\n",
      "\n",
      "Paragraphs:  4-Acetyl-3-{[(S)-cyclopropyl-(3-fluoro-phenyl)-methyl]-amino}-8-fluoro-2-benzopyran-1-one (14.30 g, 38.72 mmol) was dissolved in a mixture of tetrahydrofuran (50 mL) and methanol (50 mL) and placed on an ice/water bath with stirring.\n"
     ]
    },
    {
     "name": "stderr",
     "output_type": "stream",
     "text": [
      " 89%|████████▉ | 314/352 [04:19<00:28,  1.33it/s]"
     ]
    },
    {
     "name": "stdout",
     "output_type": "stream",
     "text": [
      "Actions:  ADD 4-Acetyl-3-{[(S)-cyclopropyl-(3-fluoro-phenyl)-methyl]-amino}-8-fluoro-2-benzopyran-1-one (14.30 g, 38.72 mmol); ADD tetrahydrofuran (50 mL); ADD methanol (50 mL); SETTEMPERATURE ice/water bath; STIR.\n",
      "\n",
      "Paragraphs:  Ammonium hydroxide (3.40 g; 96.8 mmol) was then added to bring the pH to approximately 9 upon which an oily semi-solid formed.\n"
     ]
    },
    {
     "name": "stderr",
     "output_type": "stream",
     "text": [
      " 89%|████████▉ | 315/352 [04:20<00:25,  1.43it/s]"
     ]
    },
    {
     "name": "stdout",
     "output_type": "stream",
     "text": [
      "Actions:  PH with Ammonium hydroxide (3.40 g, 96.8 mmol) to pH 9.\n",
      "\n",
      "Paragraphs:  Preparation of N-(4-methoxynaphthalen-2-yl)-2,2-dimethylpropionamide.\n"
     ]
    },
    {
     "name": "stderr",
     "output_type": "stream",
     "text": [
      " 90%|████████▉ | 316/352 [04:20<00:21,  1.66it/s]"
     ]
    },
    {
     "name": "stdout",
     "output_type": "stream",
     "text": [
      "Actions:  NOACTION.\n",
      "\n",
      "Paragraphs:  Into a 100 mL, 3-necked round-bottom flask purged and maintained under an inert atmosphere of nitrogen, was placed tert-butyl (2R)-2-([4-amino-3-iodo-1H-pyrazolo[3,4-d]pyrimidin-1-yl]methyl)pyrrolidine-1-carboxylate (380 mg, 0.86 mmol, 1.00 equiv), (2-fluoro-4-phenoxyphenyl)boronic acid (240 mg, 1.03 mmol, 1.20 equiv), tetrakis-(triphenylphosphane) palladium (60 mg, 0.05 mmol, 0.06 equiv), dioxane (50 mL), sodium carbonate (228 mg, 2.15 mmol, 2.50 equiv) and water (10 mL).\n"
     ]
    },
    {
     "name": "stderr",
     "output_type": "stream",
     "text": [
      " 90%|█████████ | 317/352 [04:22<00:37,  1.07s/it]"
     ]
    },
    {
     "name": "stdout",
     "output_type": "stream",
     "text": [
      "Actions:  ADD tert-butyl ‌(2R)-2-([4-amino-3-iodo-1H-pyrazolo[3,4-d]pyrimidin-1-yl]methyl)pyrrolidine-1-carboxylate (380 mg, 0.86 mmol, 1.00 equiv) under nitrogen; ADD (2-fluoro-4-phenoxyphenyl)boronic acid (240 mg, 1.03 mmol, 1.20 equiv) under nitrogen; ADD tetrakis-(triphenylphosphane) palladium (60 mg, 0.05 mmol, 0.06 equiv) under nitrogen; ADD dioxane (50 mL) under nitrogen; ADD sodium carbonate (228 mg, 2.15 mmol, 2.50 equiv) under nitrogen; ADD water (10 mL) under nitrogen.\n",
      "\n",
      "Paragraphs:  The mixture was stirred in the ice bath for 30 min and NBS (2.486 g, 14 mmol) was added.\n"
     ]
    },
    {
     "name": "stderr",
     "output_type": "stream",
     "text": [
      " 90%|█████████ | 318/352 [04:27<01:11,  2.09s/it]"
     ]
    },
    {
     "name": "stdout",
     "output_type": "stream",
     "text": [
      "Actions:  STIR for 30 min at 0 °C; ADD NBS (2.486 g, 14 mmol).\n",
      "\n",
      "Paragraphs:  When conversion was complete, the mixture was poured into 15 mL of water. pH was adjusted to 2 by addition of 2N HCl and the aqueous layer was extracted with ethyl acetate.\n"
     ]
    },
    {
     "name": "stderr",
     "output_type": "stream",
     "text": [
      " 91%|█████████ | 319/352 [04:27<00:55,  1.68s/it]"
     ]
    },
    {
     "name": "stdout",
     "output_type": "stream",
     "text": [
      "Actions:  ADD water (15 mL); PH with 2N HCl to pH 2; COLLECTLAYER aqueous; EXTRACT with ethyl acetate.\n",
      "\n",
      "Paragraphs:  After stirring for 1 h at −78° C., the reaction was quenched with saturated NH4Cl at −35° C., then extracted with ethylacetate.\n"
     ]
    },
    {
     "name": "stderr",
     "output_type": "stream",
     "text": [
      " 91%|█████████ | 320/352 [04:28<00:44,  1.40s/it]"
     ]
    },
    {
     "name": "stdout",
     "output_type": "stream",
     "text": [
      "Actions:  STIR for 1 h at −78° C; QUENCH with saturated NH4Cl at −35° C; EXTRACT with ethylacetate.\n",
      "\n",
      "Paragraphs:  The appropriate fractions were concentrated under a stream of nitrogen to give the required product, 4.2 mg.\n"
     ]
    },
    {
     "name": "stderr",
     "output_type": "stream",
     "text": [
      " 91%|█████████ | 321/352 [04:29<00:35,  1.13s/it]"
     ]
    },
    {
     "name": "stdout",
     "output_type": "stream",
     "text": [
      "Actions:  CONCENTRATE; YIELD required product (4.2 mg).\n",
      "\n",
      "Paragraphs:  After 30 minutes at room temperature, the reaction was poured into a mixture of saturated aqueous NaHCO3 and ice.\n"
     ]
    },
    {
     "name": "stderr",
     "output_type": "stream",
     "text": [
      " 91%|█████████▏| 322/352 [04:29<00:29,  1.02it/s]"
     ]
    },
    {
     "name": "stdout",
     "output_type": "stream",
     "text": [
      "Actions:  WAIT for 30 minutes at room temperature; ADD mixture of saturated aqueous NaHCO3 and ice.\n",
      "\n",
      "Paragraphs:  The mixture is cooled to rt and the precipitate that forms is collected, washed with water and dried in vacuo to give 1-(2-isopropylamino-6-methyl-pyrimidin-4-yl)-ethanone oxime (1.54 g) as a yellow solid; LC-MS: tR=0.72 min, [M+H]+=209.52; 1H NMR (D6-DMSO): δ 1.15 (d, J=6.5 Hz, 6H), 2.10 (s, 3H), 2.25 (s, 3H), 4.07 (m, 1H), 6.80 (s, 1H), 6.86 (d, J=7.5 Hz, 1H), 11.62 (s, 1H).\n"
     ]
    },
    {
     "name": "stderr",
     "output_type": "stream",
     "text": [
      " 92%|█████████▏| 323/352 [04:30<00:29,  1.02s/it]"
     ]
    },
    {
     "name": "stdout",
     "output_type": "stream",
     "text": [
      "Actions:  SETTEMPERATURE rt; FILTER keep precipitate; WASH with water; DRYSOLID under vacuum; YIELD 1-(2-isopropylamino-6-methyl-pyrimidin-4-yl)-ethanone oxime (1.54 g).\n",
      "\n",
      "Paragraphs:  2.50 g of 3-hydroxybenzaldehyde, 2.77 g of methyl L-(-)-lactate, and 6.44 g of triphenylphosphine were dissolved in 25.0 mL of THF, and 22.2 mL of a 2.2 M diethyl azodicarboxylate/toluene solution was added thereto under ice-cooling, followed by stirring at room temperature overnight.\n"
     ]
    },
    {
     "name": "stderr",
     "output_type": "stream",
     "text": [
      " 92%|█████████▏| 324/352 [04:32<00:31,  1.14s/it]"
     ]
    },
    {
     "name": "stdout",
     "output_type": "stream",
     "text": [
      "Actions:  ADD 3-hydroxybenzaldehyde (2.50 g); ADD methyl L-(-)-lactate (2.77 g); ADD triphenylphosphine (6.44 g); ADD THF (25.0 mL); ADD 2.2 M diethyl azodicarboxylate/toluene solution (22.2 mL) at 0 °C; STIR for overnight at room temperature.\n",
      "\n",
      "Paragraphs:  The reaction mixture was concentrated under reduced pressure and diluted with water, neutralized with 1(N) NaOH solution and extracted with ethyl acetate.\n"
     ]
    },
    {
     "name": "stderr",
     "output_type": "stream",
     "text": [
      " 92%|█████████▏| 325/352 [04:33<00:27,  1.00s/it]"
     ]
    },
    {
     "name": "stdout",
     "output_type": "stream",
     "text": [
      "Actions:  CONCENTRATE; ADD water; PH with 1(N) NaOH solution to pH neutral; EXTRACT with ethyl acetate.\n",
      "\n",
      "Paragraphs:  After drying and concentration to dryness under reduced pressure, 2.27 g of a crude product are obtained, which product is purified by liquid chromatography on silica gel, eluting with a hexane/ethyl acetate mixture (1:1 by volume).\n"
     ]
    },
    {
     "name": "stderr",
     "output_type": "stream",
     "text": [
      " 93%|█████████▎| 326/352 [04:33<00:22,  1.16it/s]"
     ]
    },
    {
     "name": "stdout",
     "output_type": "stream",
     "text": [
      "Actions:  DRYSOLUTION under vacuum; YIELD crude product (2.27 g); PURIFY.\n",
      "\n",
      "Paragraphs:  The residue was dissolved in THF (8 mL).\n"
     ]
    },
    {
     "name": "stderr",
     "output_type": "stream",
     "text": [
      " 93%|█████████▎| 327/352 [04:33<00:18,  1.39it/s]"
     ]
    },
    {
     "name": "stdout",
     "output_type": "stream",
     "text": [
      "Actions:  ADD THF (8 mL).\n",
      "\n",
      "Paragraphs:  The solvent was removed and the residue that obtained was dissolved in dichloromethane (200 mL) and the organic layer was neutralized with triethylamine.\n"
     ]
    },
    {
     "name": "stderr",
     "output_type": "stream",
     "text": [
      " 93%|█████████▎| 328/352 [04:34<00:16,  1.45it/s]"
     ]
    },
    {
     "name": "stdout",
     "output_type": "stream",
     "text": [
      "Actions:  CONCENTRATE; ADD dichloromethane (200 mL); COLLECTLAYER organic; PH with triethylamine to pH neutral.\n",
      "\n",
      "Paragraphs:  This mixture was stirred in an oil bath at 70° C. for 4 hours.\n"
     ]
    },
    {
     "name": "stderr",
     "output_type": "stream",
     "text": [
      " 93%|█████████▎| 329/352 [04:35<00:14,  1.58it/s]"
     ]
    },
    {
     "name": "stdout",
     "output_type": "stream",
     "text": [
      "Actions:  STIR for 4 hours at 70° C.\n",
      "\n",
      "Paragraphs:  Subsequently, purification was performed by silica gel column chromatography (developing liquid: toluene/heptane=5/5 (volume ratio)).\n"
     ]
    },
    {
     "name": "stderr",
     "output_type": "stream",
     "text": [
      " 94%|█████████▍| 330/352 [04:35<00:12,  1.81it/s]"
     ]
    },
    {
     "name": "stdout",
     "output_type": "stream",
     "text": [
      "Actions:  PURIFY.\n",
      "\n",
      "Paragraphs:  The combined organic layers was dried over anhydrous magnesium sulfate and filtered.\n"
     ]
    },
    {
     "name": "stderr",
     "output_type": "stream",
     "text": [
      " 94%|█████████▍| 331/352 [04:35<00:10,  1.98it/s]"
     ]
    },
    {
     "name": "stdout",
     "output_type": "stream",
     "text": [
      "Actions:  OTHERLANGUAGE.\n",
      "\n",
      "Paragraphs:  It was cooled, quenched with water (10 mL), and was extracted with EtOAc (2×25 mL).\n"
     ]
    },
    {
     "name": "stderr",
     "output_type": "stream",
     "text": [
      " 94%|█████████▍| 332/352 [04:36<00:11,  1.75it/s]"
     ]
    },
    {
     "name": "stdout",
     "output_type": "stream",
     "text": [
      "Actions:  SETTEMPERATURE room temperature; QUENCH with water (10 mL); EXTRACT with EtOAc (25 mL) 2 x.\n",
      "\n",
      "Paragraphs:  The desired fractions were collected and neutralized to pH=7 with saturated NaHCO3 solution and extracted with ethyl acetate (1×200 mL).\n"
     ]
    },
    {
     "name": "stderr",
     "output_type": "stream",
     "text": [
      " 95%|█████████▍| 333/352 [04:37<00:11,  1.59it/s]"
     ]
    },
    {
     "name": "stdout",
     "output_type": "stream",
     "text": [
      "Actions:  COLLECTLAYER organic; PH with saturated NaHCO3 solution to pH 7; EXTRACT with ethyl acetate (200 mL).\n",
      "\n",
      "Paragraphs:  Ausbeute: 2,3 g (80% der Theorie); Schmelzpunkt: 55°C C19H24N4O3 (MG = 356,4 g/mol); Massenspektrum: 356 (10%, M); 297 (15%); 285 (38%); 91 (100%)\n"
     ]
    },
    {
     "name": "stderr",
     "output_type": "stream",
     "text": [
      " 95%|█████████▍| 334/352 [04:37<00:10,  1.68it/s]"
     ]
    },
    {
     "name": "stdout",
     "output_type": "stream",
     "text": [
      "Actions:  NOACTION; YIELD unknown (2,3 g, 80%).\n",
      "\n",
      "Paragraphs:  The resin was filtered off, washed with water, and the filtrate-wash evaporated to a pale yellow syrup which was dried by evaporation of portions of ethanol.\n"
     ]
    },
    {
     "name": "stderr",
     "output_type": "stream",
     "text": [
      " 95%|█████████▌| 335/352 [04:38<00:10,  1.65it/s]"
     ]
    },
    {
     "name": "stdout",
     "output_type": "stream",
     "text": [
      "Actions:  FILTER keep filtrate; WASH with water; CONCENTRATE; DRYSOLID with ethanol.\n",
      "\n",
      "Paragraphs:  The solids were filtered out.\n"
     ]
    },
    {
     "name": "stderr",
     "output_type": "stream",
     "text": [
      " 95%|█████████▌| 336/352 [04:38<00:08,  1.90it/s]"
     ]
    },
    {
     "name": "stdout",
     "output_type": "stream",
     "text": [
      "Actions:  FILTER.\n",
      "\n",
      "Paragraphs:  To a stirred solution of imidazopyridine in dimethylacetamide under argon, N-isopropyl, N-phenyl-2-(chloromethyl)-5-pyridinecarboxamide is added in one portion.\n"
     ]
    },
    {
     "name": "stderr",
     "output_type": "stream",
     "text": [
      " 96%|█████████▌| 337/352 [04:39<00:10,  1.50it/s]"
     ]
    },
    {
     "name": "stdout",
     "output_type": "stream",
     "text": [
      "Actions:  MAKESOLUTION with imidazopyridine and dimethylacetamide; ADD SLN; ADD N-isopropyl, N-phenyl-2-(chloromethyl)-5-pyridinecarboxamide under argon.\n",
      "\n",
      "Paragraphs:  N,N-Dimethyl-[6-[4-(2-methoxybenzoyl)benzoyl]-4,5,6,7-tetrahydrofuro[2,3-c]pyridin-2-ylmethyl]amine 0.215 g was dissolved in 2 ml of methanol; hydrogen chloride in ethyl acetate was added in excess, followed by stirring.\n"
     ]
    },
    {
     "name": "stderr",
     "output_type": "stream",
     "text": [
      " 96%|█████████▌| 338/352 [04:41<00:12,  1.13it/s]"
     ]
    },
    {
     "name": "stdout",
     "output_type": "stream",
     "text": [
      "Actions:  ADD N,N-Dimethyl-[6-[4-(2-methoxybenzoyl)benzoyl]-4,5,6,7-tetrahydrofuro[2,3-c]pyridin-2-ylmethyl]amine (0.215 g); ADD methanol (2 ml); ADD hydrogen chloride in ethyl acetate (excess).\n",
      "\n",
      "Paragraphs:  The reaction is stopped by adding water and hydrochloric acid to pH 4, and then extracted with ethyl acetate.\n"
     ]
    },
    {
     "name": "stderr",
     "output_type": "stream",
     "text": [
      " 96%|█████████▋| 339/352 [04:41<00:10,  1.27it/s]"
     ]
    },
    {
     "name": "stdout",
     "output_type": "stream",
     "text": [
      "Actions:  PH with water and hydrochloric acid to pH 4; EXTRACT with ethyl acetate.\n",
      "\n",
      "Paragraphs:  The mixture was then left to stir and warm to room temperature without external cooling for 1 h.\n"
     ]
    },
    {
     "name": "stderr",
     "output_type": "stream",
     "text": [
      " 97%|█████████▋| 340/352 [04:42<00:08,  1.45it/s]"
     ]
    },
    {
     "name": "stdout",
     "output_type": "stream",
     "text": [
      "Actions:  STIR for 1 h at room temperature.\n",
      "\n",
      "Paragraphs:  Drying under 5 mm Hg at 40° C. for 48 hours yields 4-[(R)-((2S,5R)-2,5-dimethyl-4-(3-fluorobenzyl)-1-piperazinyl)(3-hydroxyphenyl)methyl]-N,N-diethyl-benzamide as ivory colored crystals (expected yield ˜30% from 4-formyl-N,N-diethylbenzamide).\n"
     ]
    },
    {
     "name": "stderr",
     "output_type": "stream",
     "text": [
      " 97%|█████████▋| 341/352 [04:43<00:08,  1.24it/s]"
     ]
    },
    {
     "name": "stdout",
     "output_type": "stream",
     "text": [
      "Actions:  DRY for 48 hours at 40° C under 5 mm Hg; YIELD 4-[(R)-((2S,5R)-2,5-dimethyl-4-(3-fluorobenzyl)-1-piperazinyl)(3-hydroxyphenyl)methyl]-N,N-diethyl-benzamide (˜30%).\n",
      "\n",
      "Paragraphs:  The reaction was sparged with nitrogen and then heated at 80° C. for 3 hours.\n"
     ]
    },
    {
     "name": "stderr",
     "output_type": "stream",
     "text": [
      " 97%|█████████▋| 342/352 [04:44<00:10,  1.06s/it]"
     ]
    },
    {
     "name": "stdout",
     "output_type": "stream",
     "text": [
      "Actions:  DEGAS with nitrogen for unknown; STIR for 3 hours at 80° C.\n",
      "\n",
      "Paragraphs:  The reaction mixture was added slowly to saturated sodium bicarbonate in water (2300 mL) and the biphasic mixture was allowed to stir for 20 minutes.\n"
     ]
    },
    {
     "name": "stderr",
     "output_type": "stream",
     "text": [
      " 97%|█████████▋| 343/352 [04:45<00:08,  1.10it/s]"
     ]
    },
    {
     "name": "stdout",
     "output_type": "stream",
     "text": [
      "Actions:  ADD saturated sodium bicarbonate in water (2300 mL); STIR for 20 minutes.\n",
      "\n",
      "Paragraphs:  The reaction solution was neutralized by adding an aqueous sodium bicarbonate solution thereto, and the organic solvent was removed therefrom under reduced pressure, which was then extracted with ethyl acetate.\n"
     ]
    },
    {
     "name": "stderr",
     "output_type": "stream",
     "text": [
      " 98%|█████████▊| 344/352 [04:46<00:06,  1.22it/s]"
     ]
    },
    {
     "name": "stdout",
     "output_type": "stream",
     "text": [
      "Actions:  PH with aqueous sodium bicarbonate solution to pH neutral; CONCENTRATE; EXTRACT with ethyl acetate.\n",
      "\n",
      "Paragraphs:  To a solution of (2-trifluoromethyl-benzylamino)-acetic acid ethyl ester (290 mg, 1.11 mmol) in 10 mL DCM at RT is added TEA (0.232 mL, 1.67 mmol) followed by di-tert-butyl dicarbonate (242 mg, 1.11 mmol).\n"
     ]
    },
    {
     "name": "stderr",
     "output_type": "stream",
     "text": [
      " 98%|█████████▊| 345/352 [04:47<00:06,  1.00it/s]"
     ]
    },
    {
     "name": "stdout",
     "output_type": "stream",
     "text": [
      "Actions:  MAKESOLUTION with (2-trifluoromethyl-benzylamino)-acetic acid ethyl ester (290 mg, 1.11 mmol) and DCM (10 mL); ADD SLN; ADD TEA (0.232 mL, 1.67 mmol) at RT; ADD di-tert-butyl dicarbonate (242 mg, 1.11 mmol) at RT.\n",
      "\n",
      "Paragraphs:  The reaction was stirred for 10 min and then 296 mg 5-chloro-7-(3,4-dimethoxy-phenyl)-[1,6]naphthyridine (6.37) as a solution in 2 mL dimethylacetamide was added.\n"
     ]
    },
    {
     "name": "stderr",
     "output_type": "stream",
     "text": [
      " 98%|█████████▊| 346/352 [04:48<00:05,  1.03it/s]"
     ]
    },
    {
     "name": "stdout",
     "output_type": "stream",
     "text": [
      "Actions:  STIR for 10 min; MAKESOLUTION with 5-chloro-7-(3,4-dimethoxy-phenyl)-[1,6]naphthyridine (296 mg) and dimethylacetamide (2 mL); ADD SLN.\n",
      "\n",
      "Paragraphs:  The organics were combined, dried over sodium carbonate, and concentrated in vacuo.\n"
     ]
    },
    {
     "name": "stderr",
     "output_type": "stream",
     "text": [
      " 99%|█████████▊| 347/352 [04:48<00:04,  1.20it/s]"
     ]
    },
    {
     "name": "stdout",
     "output_type": "stream",
     "text": [
      "Actions:  COLLECTLAYER organic; DRYSOLUTION over sodium carbonate; CONCENTRATE.\n",
      "\n",
      "Paragraphs:  A solution of 0.42 g of (2S,4S)-4-mercapto-1-methyl-2-[3-(4-nitrobenzyloxycarbonylamino)azetidin-1-ylcarbonyl]pyrrolidine (prepared as described in Preparation 116) in 10 ml of dry acetonitrile and 0.18 ml of diisopropylethylamine were added dropwise at the same time to a solution of 0.70 g of 4-nitrobenzyl (1R,5R,6S)-2-(diphenylphosphoryloxy)-6-[(1R)-1-hydroxyethyl]-1-methyl-1-carbapen-2-em-3-carboxylate (prepared as described in Preparation 32) in 14 ml of dry acetonitrile, whilst ice-cooling, and the resulting mixture was left to stand at the same temperature for 2 days.\n"
     ]
    },
    {
     "name": "stderr",
     "output_type": "stream",
     "text": [
      " 99%|█████████▉| 348/352 [04:51<00:05,  1.36s/it]"
     ]
    },
    {
     "name": "stdout",
     "output_type": "stream",
     "text": [
      "Actions:  MAKESOLUTION with 4-nitrobenzyl ‌(1R,5R,6S)-2-(diphenylphosphoryloxy)-6-[(1R)-1-hydroxyethyl]-1-methyl-1-carbapen-2-em-3-carboxylate (0.70 g) and dry acetonitrile (14 ml); ADD SLN; MAKESOLUTION with (2S,4S)-4-mercapto-1-methyl-2-[3-(4-nitrobenzyloxycarbonylamino)azetidin-1-ylcarbonyl]pyrrolidine (0.42 g) and dry acetonitrile (10 ml) and diisopropylethylamine (0.18 ml); ADD SLN dropwise at 0 °C; STIR for 2 days at same temperature.\n",
      "\n",
      "Paragraphs:  The reaction mixture was heated at 70° C. for 24 h whereupon it was diluted with MeOH and quenched with solid NaHCO3.\n"
     ]
    },
    {
     "name": "stderr",
     "output_type": "stream",
     "text": [
      " 99%|█████████▉| 349/352 [04:52<00:03,  1.13s/it]"
     ]
    },
    {
     "name": "stdout",
     "output_type": "stream",
     "text": [
      "Actions:  STIR for 24 h at 70° C; ADD MeOH; QUENCH with solid NaHCO3.\n",
      "\n",
      "Paragraphs:  After the reaction was over, the reaction mixture was dispersed in a mixture of 150 ml of ice-water and 10 g of sodium hydrogencarbonate and extracted with 200 ml and then 100 ml of ether.\n"
     ]
    },
    {
     "name": "stderr",
     "output_type": "stream",
     "text": [
      " 99%|█████████▉| 350/352 [04:52<00:02,  1.01s/it]"
     ]
    },
    {
     "name": "stdout",
     "output_type": "stream",
     "text": [
      "Actions:  ADD mixture of ice-water (150 ml) and sodium hydrogencarbonate (10 g); EXTRACT with ether (200 ml) 2 x; YIELD.\n",
      "\n",
      "Paragraphs:  The crystallographic data is summarized in the table below.\n"
     ]
    },
    {
     "name": "stderr",
     "output_type": "stream",
     "text": [
      "100%|█████████▉| 351/352 [04:53<00:00,  1.23it/s]"
     ]
    },
    {
     "name": "stdout",
     "output_type": "stream",
     "text": [
      "Actions:  NOACTION.\n",
      "\n",
      "Paragraphs:  First, precursor H-ValCH₂Cl·HCl was prepared by dissolving Boc-Val-OH (6.5 g, 30 mmol) in 10 mL of THF and treating it with N-methylmorpholine (3.3 mL, 30 mmol) and isobutyl chloroformate (3.9 mL, 30 mmol) for 10 minutes at -20°.\n"
     ]
    },
    {
     "name": "stderr",
     "output_type": "stream",
     "text": [
      "100%|██████████| 352/352 [04:53<00:00,  1.20it/s]"
     ]
    },
    {
     "name": "stdout",
     "output_type": "stream",
     "text": [
      "Actions:  INVALIDACTION.\n"
     ]
    },
    {
     "name": "stderr",
     "output_type": "stream",
     "text": [
      "\n"
     ]
    }
   ],
   "source": [
    "## Whole test\n",
    "test_df = pd.read_csv(\"processed/hand_annotated_test.csv\")\n",
    "test_paragraphs = list(test_df['paragraphs'])\n",
    "test_actions_preds = []\n",
    "\n",
    "for user_message in tqdm(test_paragraphs):\n",
    "  test_messages = []\n",
    "  syst_message = \"You are an assistant that formats chemical paragraphs to actions.\"\n",
    "  # user_message = \"After then being left to stand at RT for three days, the mixture was diluted with ethyl acetate and washed with water.\"\n",
    "  test_messages.append({\"role\":\"system\", \"content\": syst_message})\n",
    "  test_messages.append({\"role\":\"user\", \"content\": user_message})\n",
    "\n",
    "  response = client.chat.completions.create(\n",
    "    model = fine_tuned_model,\n",
    "    messages = test_messages,\n",
    "    temperature = 0,\n",
    "    # max_tokens = 500\n",
    "  )\n",
    "  # print(response)\n",
    "\n",
    "  pred = response[\"choices\"][0][\"message\"][\"content\"]\n",
    "  print(\"\\nParagraphs: \", user_message)\n",
    "  print(\"Actions: \", pred)\n",
    "  test_actions_preds.append(pred)"
   ]
  },
  {
   "cell_type": "markdown",
   "metadata": {},
   "source": [
    "### 6. Save Predictions"
   ]
  },
  {
   "cell_type": "code",
   "execution_count": 57,
   "metadata": {},
   "outputs": [],
   "source": [
    "actuals = list(pd.read_csv(\"processed/hand_annotated_test.csv\")['actions'])\n",
    "final_df = pd.DataFrame({\"Generated Text\": test_actions_preds, \"Actual Text\": actuals})\n",
    "final_df.to_csv(f\"results/output_gpt3.5_hand_annotated_train_augmented_unique_3_epoch.csv\")"
   ]
  }
 ],
 "metadata": {
  "kernelspec": {
   "display_name": "Python 3 (ipykernel)",
   "language": "python",
   "name": "python3"
  },
  "language_info": {
   "codemirror_mode": {
    "name": "ipython",
    "version": 3
   },
   "file_extension": ".py",
   "mimetype": "text/x-python",
   "name": "python",
   "nbconvert_exporter": "python",
   "pygments_lexer": "ipython3",
   "version": "3.9.7"
  }
 },
 "nbformat": 4,
 "nbformat_minor": 2
}
