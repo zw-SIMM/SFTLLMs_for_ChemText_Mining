{
 "cells": [
  {
   "cell_type": "code",
   "execution_count": 1,
   "metadata": {},
   "outputs": [
    {
     "name": "stdout",
     "output_type": "stream",
     "text": [
      "['O', 'B-Prod', 'O', 'O', 'O', 'B-Time', 'I-Time']\n",
      "['O', 'O', 'B-Reactants', 'O', 'O', 'O', 'O', 'O', 'O', 'O', 'O', 'O', 'O', 'O', 'O', 'O', 'O', 'O', 'O', 'O', 'B-Reactants', 'O', 'O', 'B-Prod', 'O', 'O', 'O', 'B-Yield', 'I-Yield', 'O']\n"
     ]
    }
   ],
   "source": [
    "# https://github.com/jiangfeng1124/ChemRxnExtractor/blob/main/chemrxnextractor/train/role_labeling.py\n",
    "import re\n",
    "import pandas as pd\n",
    "from seqeval.metrics import f1_score, precision_score, recall_score\n",
    "\n",
    "def generate_bio_label(text):\n",
    "    # Initialize the label list as 'O'\n",
    "    labels = ['O'] * len(text.split())\n",
    "\n",
    "    # For each tag type\n",
    "    for tag_type in ['Reactants', 'Yield', 'Prod', 'Solvent', 'Catalyst_Reagents', 'Temperature', 'Reaction', 'Time']:\n",
    "        # Use regular expression to find all entities\n",
    "        for match in re.finditer(r'<{}.*?>'.format(tag_type), text):\n",
    "            start, end = match.span()\n",
    "            start_index = len(text[:start].split())\n",
    "            end_index = len(text[:end].split())\n",
    "            \n",
    "            # Assign 'B' tag to the first word, and 'I' tag to the rest\n",
    "            labels[start_index] = 'B-{}'.format(tag_type)\n",
    "            for i in range(start_index + 1, end_index):\n",
    "                labels[i] = 'I-{}'.format(tag_type)\n",
    "\n",
    "    return labels\n",
    "\n",
    "# Example of generate_bio_label\n",
    "sample_text = \"The <Prod*product*Prod> was obtained after <Time*24 hours*Time>.\"\n",
    "sample_labels = generate_bio_label(sample_text)\n",
    "print(sample_labels)\n",
    "\n",
    "prediction = \"Reaction of <Reactants*diphenylacetylene*Reactants> with complex 19A led to only cycloheptadienone 23A in 30 % yield ; with (phenylcyclopropy1)- carbene complex <Reactants*19B*Reactants> , cycloheptadienone <Prod*25*Prod> was produced in <Yield*53 %*Yield> yield.\"\n",
    "pred_bio_label = generate_bio_label(prediction)\n",
    "print(pred_bio_label)"
   ]
  },
  {
   "cell_type": "code",
   "execution_count": 4,
   "metadata": {},
   "outputs": [
    {
     "data": {
      "text/html": [
       "<div>\n",
       "<style scoped>\n",
       "    .dataframe tbody tr th:only-of-type {\n",
       "        vertical-align: middle;\n",
       "    }\n",
       "\n",
       "    .dataframe tbody tr th {\n",
       "        vertical-align: top;\n",
       "    }\n",
       "\n",
       "    .dataframe thead th {\n",
       "        text-align: right;\n",
       "    }\n",
       "</style>\n",
       "<table border=\"1\" class=\"dataframe\">\n",
       "  <thead>\n",
       "    <tr style=\"text-align: right;\">\n",
       "      <th></th>\n",
       "      <th>Generated Text</th>\n",
       "      <th>Actual Text</th>\n",
       "      <th>Paragraph</th>\n",
       "      <th>BIO Label</th>\n",
       "    </tr>\n",
       "  </thead>\n",
       "  <tbody>\n",
       "    <tr>\n",
       "      <th>0</th>\n",
       "      <td>Reaction of &lt;Reactants*diphenylacetylene*React...</td>\n",
       "      <td>Reaction of &lt;Reactants*diphenylacetylene*React...</td>\n",
       "      <td>Reaction of diphenylacetylene with complex 19A...</td>\n",
       "      <td>['O', 'O', 'B-Reactants', 'O', 'O', 'B-Reactan...</td>\n",
       "    </tr>\n",
       "    <tr>\n",
       "      <th>1</th>\n",
       "      <td>Reaction of &lt;Reactants*diphenylacetylene*React...</td>\n",
       "      <td>Reaction of &lt;Reactants*diphenylacetylene*React...</td>\n",
       "      <td>Reaction of diphenylacetylene with complex 19A...</td>\n",
       "      <td>['O', 'O', 'B-Reactants', 'O', 'O', 'B-Reactan...</td>\n",
       "    </tr>\n",
       "    <tr>\n",
       "      <th>2</th>\n",
       "      <td>Reaction of diphenylacetylene with complex 19A...</td>\n",
       "      <td>Reaction of &lt;Reactants*diphenylacetylene*React...</td>\n",
       "      <td>Reaction of diphenylacetylene with complex 19A...</td>\n",
       "      <td>['O', 'O', 'B-Reactants', 'O', 'O', 'O', 'O', ...</td>\n",
       "    </tr>\n",
       "    <tr>\n",
       "      <th>3</th>\n",
       "      <td>We were excited to ﬁnd that , with 2.0 equiv o...</td>\n",
       "      <td>We were excited to ﬁnd that , with 2.0 equiv o...</td>\n",
       "      <td>We were excited to ﬁnd that , with 2.0 equiv o...</td>\n",
       "      <td>['O', 'O', 'O', 'O', 'O', 'O', 'O', 'O', 'O', ...</td>\n",
       "    </tr>\n",
       "    <tr>\n",
       "      <th>4</th>\n",
       "      <td>We were excited to ﬁnd that , with 2.0 equiv o...</td>\n",
       "      <td>We were excited to ﬁnd that , with 2.0 equiv o...</td>\n",
       "      <td>We were excited to ﬁnd that , with 2.0 equiv o...</td>\n",
       "      <td>['O', 'O', 'O', 'O', 'O', 'O', 'O', 'O', 'O', ...</td>\n",
       "    </tr>\n",
       "    <tr>\n",
       "      <th>...</th>\n",
       "      <td>...</td>\n",
       "      <td>...</td>\n",
       "      <td>...</td>\n",
       "      <td>...</td>\n",
       "    </tr>\n",
       "    <tr>\n",
       "      <th>106</th>\n",
       "      <td>The metal - mediated conversion of terminal al...</td>\n",
       "      <td>The metal - mediated conversion of terminal al...</td>\n",
       "      <td>The metal - mediated conversion of terminal al...</td>\n",
       "      <td>['O', 'O', 'O', 'O', 'O', 'O', 'O', 'O', 'O', ...</td>\n",
       "    </tr>\n",
       "    <tr>\n",
       "      <th>107</th>\n",
       "      <td>The metal - mediated conversion of terminal al...</td>\n",
       "      <td>The metal - mediated conversion of terminal al...</td>\n",
       "      <td>The metal - mediated conversion of terminal al...</td>\n",
       "      <td>['O', 'O', 'O', 'O', 'O', 'O', 'O', 'O', 'O', ...</td>\n",
       "    </tr>\n",
       "    <tr>\n",
       "      <th>108</th>\n",
       "      <td>For example , &lt;Reaction*enantioselective depro...</td>\n",
       "      <td>For example , &lt;Reaction*enantioselective depro...</td>\n",
       "      <td>For example , enantioselective deproto- nation...</td>\n",
       "      <td>['O', 'O', 'O', 'B-Reaction', 'I-Reaction', 'I...</td>\n",
       "    </tr>\n",
       "    <tr>\n",
       "      <th>109</th>\n",
       "      <td>For example , &lt;Reaction*enantioselective depro...</td>\n",
       "      <td>For example , &lt;Reaction*enantioselective depro...</td>\n",
       "      <td>For example , enantioselective deproto- nation...</td>\n",
       "      <td>['O', 'O', 'O', 'B-Reaction', 'I-Reaction', 'I...</td>\n",
       "    </tr>\n",
       "    <tr>\n",
       "      <th>110</th>\n",
       "      <td>For example , enantioselective deproto- nation...</td>\n",
       "      <td>For example , &lt;Reaction*enantioselective depro...</td>\n",
       "      <td>For example , enantioselective deproto- nation...</td>\n",
       "      <td>['O', 'O', 'O', 'B-Reaction', 'I-Reaction', 'I...</td>\n",
       "    </tr>\n",
       "  </tbody>\n",
       "</table>\n",
       "<p>111 rows × 4 columns</p>\n",
       "</div>"
      ],
      "text/plain": [
       "                                        Generated Text  \\\n",
       "0    Reaction of <Reactants*diphenylacetylene*React...   \n",
       "1    Reaction of <Reactants*diphenylacetylene*React...   \n",
       "2    Reaction of diphenylacetylene with complex 19A...   \n",
       "3    We were excited to ﬁnd that , with 2.0 equiv o...   \n",
       "4    We were excited to ﬁnd that , with 2.0 equiv o...   \n",
       "..                                                 ...   \n",
       "106  The metal - mediated conversion of terminal al...   \n",
       "107  The metal - mediated conversion of terminal al...   \n",
       "108  For example , <Reaction*enantioselective depro...   \n",
       "109  For example , <Reaction*enantioselective depro...   \n",
       "110  For example , enantioselective deproto- nation...   \n",
       "\n",
       "                                           Actual Text  \\\n",
       "0    Reaction of <Reactants*diphenylacetylene*React...   \n",
       "1    Reaction of <Reactants*diphenylacetylene*React...   \n",
       "2    Reaction of <Reactants*diphenylacetylene*React...   \n",
       "3    We were excited to ﬁnd that , with 2.0 equiv o...   \n",
       "4    We were excited to ﬁnd that , with 2.0 equiv o...   \n",
       "..                                                 ...   \n",
       "106  The metal - mediated conversion of terminal al...   \n",
       "107  The metal - mediated conversion of terminal al...   \n",
       "108  For example , <Reaction*enantioselective depro...   \n",
       "109  For example , <Reaction*enantioselective depro...   \n",
       "110  For example , <Reaction*enantioselective depro...   \n",
       "\n",
       "                                             Paragraph  \\\n",
       "0    Reaction of diphenylacetylene with complex 19A...   \n",
       "1    Reaction of diphenylacetylene with complex 19A...   \n",
       "2    Reaction of diphenylacetylene with complex 19A...   \n",
       "3    We were excited to ﬁnd that , with 2.0 equiv o...   \n",
       "4    We were excited to ﬁnd that , with 2.0 equiv o...   \n",
       "..                                                 ...   \n",
       "106  The metal - mediated conversion of terminal al...   \n",
       "107  The metal - mediated conversion of terminal al...   \n",
       "108  For example , enantioselective deproto- nation...   \n",
       "109  For example , enantioselective deproto- nation...   \n",
       "110  For example , enantioselective deproto- nation...   \n",
       "\n",
       "                                             BIO Label  \n",
       "0    ['O', 'O', 'B-Reactants', 'O', 'O', 'B-Reactan...  \n",
       "1    ['O', 'O', 'B-Reactants', 'O', 'O', 'B-Reactan...  \n",
       "2    ['O', 'O', 'B-Reactants', 'O', 'O', 'O', 'O', ...  \n",
       "3    ['O', 'O', 'O', 'O', 'O', 'O', 'O', 'O', 'O', ...  \n",
       "4    ['O', 'O', 'O', 'O', 'O', 'O', 'O', 'O', 'O', ...  \n",
       "..                                                 ...  \n",
       "106  ['O', 'O', 'O', 'O', 'O', 'O', 'O', 'O', 'O', ...  \n",
       "107  ['O', 'O', 'O', 'O', 'O', 'O', 'O', 'O', 'O', ...  \n",
       "108  ['O', 'O', 'O', 'B-Reaction', 'I-Reaction', 'I...  \n",
       "109  ['O', 'O', 'O', 'B-Reaction', 'I-Reaction', 'I...  \n",
       "110  ['O', 'O', 'O', 'B-Reaction', 'I-Reaction', 'I...  \n",
       "\n",
       "[111 rows x 4 columns]"
      ]
     },
     "execution_count": 4,
     "metadata": {},
     "output_type": "execute_result"
    }
   ],
   "source": [
    "# Load Predictions\n",
    "pred_file = \"results/predictions/prediction_of_saved_models-Mistral-7B-Instruct-v0.2-train_599_lr5e-06_bs2-mixed_checkpoint-1800-2100-2400-2700-3000.csv\"\n",
    "pred_df = pd.read_csv(pred_file)\n",
    "pred_df"
   ]
  },
  {
   "cell_type": "markdown",
   "metadata": {},
   "source": [
    "### Wihout post-processing"
   ]
  },
  {
   "cell_type": "code",
   "execution_count": 5,
   "metadata": {},
   "outputs": [
    {
     "name": "stdout",
     "output_type": "stream",
     "text": [
      "The number of sentences don't need post-preprocessed: 111 / 111\n"
     ]
    }
   ],
   "source": [
    "word_lists = []\n",
    "pred_lists = []\n",
    "label_lists = []\n",
    "\n",
    "for i, row in pred_df.iterrows():\n",
    "    word_list = row['Paragraph'].split(\" \")\n",
    "\n",
    "     # Predictions\n",
    "    if isinstance(row['Generated Text'], str):\n",
    "        # modify of the results of T5 due to its vocab\n",
    "        if \"t5\" in pred_file:\n",
    "            pred_df['Generated Text'] = pred_df['Generated Text'].apply(lambda x: x.replace(\"Prod*\", \"<Prod*\").replace(\"Reactants*\", \"<Reactants*\").replace(\"Yield*\", \"<Yield*\").replace(\"Solvent*\", \"<Solvent*\").replace(\"Catalyst_Reagents*\", \"<Catalyst_Reagents*\").replace(\"Temperature*\", \"<Temperature*\").replace(\"Reaction*\", \"<Reaction*\").replace(\"Time*\", \"<Time*\"))\n",
    "        else:\n",
    "            prediction = row['Generated Text'] \n",
    "        pred_list = generate_bio_label(prediction)\n",
    "    else:\n",
    "        pred_list = ['O'] * len(word_list)\n",
    "\n",
    "    # Lables\n",
    "    label_list = eval(row['BIO Label'])\n",
    "    if len(label_list) == len(pred_list):\n",
    "        word_lists.append(word_list)\n",
    "        pred_lists.append(pred_list)\n",
    "        label_lists.append(label_list)\n",
    "    else:\n",
    "        print(i)\n",
    "        print(row['Paragraph'])\n",
    "        print(row['Actual Text'])  \n",
    "        print(row['Generated Text'])    \n",
    "        print(row['BIO Label'])    \n",
    "        print()\n",
    "    \n",
    "print(\"The number of sentences don't need post-preprocessed:\", f\"{len(label_lists)} / {len(pred_df)}\")"
   ]
  },
  {
   "cell_type": "code",
   "execution_count": null,
   "metadata": {},
   "outputs": [
    {
     "name": "stdout",
     "output_type": "stream",
     "text": [
      "Precision:  0.8194444444444444\n",
      "Recall:  0.7955056179775281\n",
      "F1_score:  0.8072976054732041\n"
     ]
    }
   ],
   "source": [
    "# Evaluate\n",
    "print(\"Precision: \", precision_score(label_lists, pred_lists))\n",
    "print(\"Recall: \", recall_score(label_lists, pred_lists))\n",
    "print(\"F1_score: \", f1_score(label_lists, pred_lists))"
   ]
  },
  {
   "cell_type": "markdown",
   "metadata": {},
   "source": [
    "### With post-processing"
   ]
  },
  {
   "cell_type": "code",
   "execution_count": null,
   "metadata": {},
   "outputs": [],
   "source": [
    "def replace_with_context(predict_text, input_text):\n",
    "    # Check if the predict_text contains any tags, return input_text if not\n",
    "    if not re.search(r'<.*?\\*.*?\\*.*?>', predict_text):\n",
    "        return input_text\n",
    "\n",
    "    def replace_nth_occurrence(s, n, replacements):\n",
    "        def replacer(match):\n",
    "            # Use the escaped version of the matched word to look up in occurrences\n",
    "            word = re.escape(match.group(0))\n",
    "            occurrences[word] += 1\n",
    "            if occurrences[word] == n:\n",
    "                # Use the original word (without escape) to get the replacement\n",
    "                return replacements.get(match.group(0), match.group(0))\n",
    "            return match.group(0)\n",
    "\n",
    "        # Escape all keys in replacements for regex pattern\n",
    "        occurrences = {re.escape(word): 0 for word in replacements.keys()}\n",
    "        pattern = '|'.join(occurrences.keys())\n",
    "        return re.sub(pattern, replacer, s)\n",
    "\n",
    "    tag_types = ['Reactants', 'Yield', 'Solvent', 'Catalyst_Reagents', 'Temperature', 'Reaction', 'Time']\n",
    "    pattern1 = r'<.*?\\*.*?\\*.*?>'\n",
    "    pattern2 = '|'.join([fr'\\*([^*]+)\\*' for tag in tag_types])\n",
    "    \n",
    "    matches = re.findall(pattern1, predict_text)\n",
    "    word2identifier = {}\n",
    "    for match in matches:\n",
    "        word = re.search(pattern2, match).group(1)\n",
    "        word2identifier[word] = match\n",
    "\n",
    "    for word, identifier in word2identifier.items():\n",
    "        new_identifier = re.escape(identifier)\n",
    "        pattern = fr'\\b{re.escape(word)}\\b|{new_identifier}'\n",
    "        match1 = re.findall(pattern, input_text)\n",
    "        if match1:\n",
    "            match2 = re.findall(pattern, predict_text)\n",
    "            different_elements_indices = [i + 1 for i, (a, b) in enumerate(zip(match1, match2)) if a != b]\n",
    "            for index in different_elements_indices:\n",
    "                input_text = replace_nth_occurrence(input_text, index, {word: identifier})\n",
    "        else:\n",
    "            pattern = fr'{re.escape(word)}|{new_identifier}'\n",
    "            match1 = re.findall(pattern, input_text)\n",
    "            match2 = re.findall(pattern, predict_text)\n",
    "            different_elements_indices = [i + 1 for i, (a, b) in enumerate(zip(match1, match2)) if a != b]\n",
    "            for index in different_elements_indices:\n",
    "                input_text = replace_nth_occurrence(input_text, index, {word: identifier})\n",
    "    return input_text"
   ]
  },
  {
   "cell_type": "markdown",
   "metadata": {},
   "source": [
    "### Some Test Examples"
   ]
  },
  {
   "cell_type": "markdown",
   "metadata": {},
   "source": [
    "Example1"
   ]
  },
  {
   "cell_type": "code",
   "execution_count": null,
   "metadata": {},
   "outputs": [
    {
     "name": "stdout",
     "output_type": "stream",
     "text": [
      "To produce 1 and <Reactants*1*Reactants> and <Reactants*1a*Reactants> of <Reactants*Me2- SiC12I7*Reactants>, <Temperature*-20*Temperature> C\n"
     ]
    }
   ],
   "source": [
    "# Example text and perform the replacement\n",
    "predict_text = '''To produce 1 and <Reactants*1*Reactants> and <Reactants*1a*Reactants> of <Reactants*Me2- SiC12I7*Reactants>, <Temperature*-20*Temperature> C'''\n",
    "input_text = '''To produce 1 and 1 and 1a of Me2- SiC12I7, -20 C'''\n",
    "\n",
    "# Perform the replacement with context check\n",
    "replaced_text = replace_with_context(predict_text, input_text)\n",
    "print(replaced_text)\n",
    "replaced_text = 'To produce 1 and <Reactants*1*Reactants> and <Reactants*1a*Reactants> of <Reactants*Me2- SiC12I7*Reactants>, <Temperature*-20*Temperature> C'"
   ]
  },
  {
   "cell_type": "markdown",
   "metadata": {},
   "source": [
    "Example2"
   ]
  },
  {
   "cell_type": "code",
   "execution_count": null,
   "metadata": {},
   "outputs": [
    {
     "name": "stdout",
     "output_type": "stream",
     "text": [
      "Treatment of <Reactants*allyl iodoacetate*Reactants> <Reactants*3a*Reactants> ( 1.0 mmol ) in <Solvent*water*Solvent> ( 30 mL ) with <Reactants*triethylborane*Reactants> ( 1.0 M methanol solution , 0.1 mL , 0.1 mmol ) at <Temperature*25*Temperature> ( cid : 176 ) C for <Time*3 h*Time> provided <Prod*4a*Prod> in <Yield*67 %*Yield> yield.\n"
     ]
    }
   ],
   "source": [
    "predict_text = '''Treatment of <Reactants*allyl iodoacetate*Reactants> <Reactants*3a*Reactants> ( 1.0 mmol ) in <Solvent*water*Solvent> ( 30 mL ) with <Reactants*triethylborane*Reactants> ( 1.0 M methanol solution , 0.1 mL , 0.1 mmol ) at <Temperature*25*Temperature> ( cid : 176 ) C for <Time*3 h*Time> provided <Prod*4a*Prod> in <Yield*67 %*Yield> yield.'''\n",
    "input_text = '''Treatment of allyl iodoacetate 3a ( 1.0 mmol ) in water ( 30 mL ) with triethylborane ( 1.0 M methanol solution , 0.1 mL , 0.1 mmol ) at 25 ( cid : 176 ) C for 3 h provided <Prod*4a*Prod> in 67 % yield.'''\n",
    "\n",
    "# Perform the replacement with context check\n",
    "replaced_text = replace_with_context(predict_text, input_text)\n",
    "print(replaced_text)\n",
    "replaced_text = 'Treatment of <Reactants*allyl iodoacetate*Reactants> <Reactants*3a*Reactants> ( 1.0 mmol ) in <Solvent*water*Solvent> ( 30 mL ) with <Reactants*triethylborane*Reactants> ( 1.0 M methanol solution , 0.1 mL , 0.1 mmol ) at <Temperature*25*Temperature> ( cid : 176 ) C for <Time*3 h*Time> provided <Prod*4a*Prod> in <Yield*67 %*Yield> yield.'"
   ]
  },
  {
   "cell_type": "markdown",
   "metadata": {},
   "source": [
    "Example3"
   ]
  },
  {
   "cell_type": "code",
   "execution_count": null,
   "metadata": {},
   "outputs": [
    {
     "name": "stdout",
     "output_type": "stream",
     "text": [
      "The preparation ( Scheme 2 ) of the title compound <Prod*4*Prod> through Br / Li interchange of the known18 α-bromoalkene <Reactants*6*Reactants> in <Solvent*Et2O*Solvent> or <Solvent*t-BuOMe*Solvent> with n- butyllithium ( <Catalyst_Reagents*n-BuLi*Catalyst_Reagents> ) in <Solvent*hexane*Solvent> or <Solvent*cyclopentane*Solvent> was already described.19 However , this method was unproﬁtable in THF as the solvent20 since 4 coupled quickly with its coproduct 1- bromobutane ( n-BuBr ) to give 8 and LiBr.\n"
     ]
    }
   ],
   "source": [
    "predict_text = '''The preparation ( Scheme 2 ) of the title compound <Prod*4*Prod> through Br / Li interchange of the known18 α-bromoalkene <Reactants*6*Reactants> in <Solvent*Et2O*Solvent> or <Solvent*t-BuOMe*Solvent> with <Catalyst_Reagents*n-butyllithium*Catalyst_Reagents> ( <Catalyst_Reagents*n-BuLi*Catalyst_Reagents> ) in <Solvent*hexane*Solvent> or <Solvent*cyclopentane*Solvent> was already described.19 However , this method was unproﬁtable in THF as the solvent20 since 4 coupled quickly with its coproduct 1- bromobutane ( n-BuBr ) to give 8 and LiBr.'''\n",
    "input_text = '''The preparation ( Scheme 2 ) of the title compound <Prod*4*Prod> through Br / Li interchange of the known18 α-bromoalkene 6 in Et2O or t-BuOMe with n- butyllithium ( n-BuLi ) in hexane or cyclopentane was already described.19 However , this method was unproﬁtable in THF as the solvent20 since 4 coupled quickly with its coproduct 1- bromobutane ( n-BuBr ) to give 8 and LiBr.'''\n",
    "\n",
    "# Perform the replacement with context check\n",
    "replaced_text = replace_with_context(predict_text, input_text)\n",
    "print(replaced_text)"
   ]
  },
  {
   "cell_type": "code",
   "execution_count": null,
   "metadata": {},
   "outputs": [
    {
     "name": "stdout",
     "output_type": "stream",
     "text": [
      "The number of sentences don't need post-preprocessed: 111 / 111\n"
     ]
    }
   ],
   "source": [
    "word_lists = []\n",
    "pred_lists = []\n",
    "label_lists = []\n",
    "\n",
    "for i, row in pred_df.iterrows():\n",
    "    word_list = row['Paragraph'].split(\" \")\n",
    "\n",
    "    # Predictions\n",
    "    if isinstance(row['Generated Text'], str):  \n",
    "        prediction = row['Generated Text']\n",
    "        prediction = replace_with_context(row['Generated Text'], row['Paragraph'])\n",
    "        pred_list = generate_bio_label(prediction)\n",
    "    else:\n",
    "        print(\"Empty\")\n",
    "        pred_list = ['O'] * len(word_list)\n",
    "        \n",
    "    # Labels\n",
    "    label_list = eval(row['BIO Label'])\n",
    "    if len(label_list) == len(pred_list):\n",
    "        # print(\"Yes\\n\") \n",
    "        word_lists.append(word_list)\n",
    "        pred_lists.append(pred_list)\n",
    "        label_lists.append(label_list)\n",
    "        # print(\"predict:\\n\", row['Generated Text'])    \n",
    "        # print(\"intput:\\n\", row['Paragraph'])\n",
    "        # print(\"post_processed:\\n\", prediction)\n",
    "        # # print(\"label:\", row['Actual Text'])\n",
    "        # print(\"label_BIO:\\n\", row['BIO Label'])    \n",
    "        # print(\"predict_BIO:\\n\", generate_bio_label(prediction))    \n",
    "        # print(\"\\n\")\n",
    "        \n",
    "    else:\n",
    "        print(\"predict:\\n\", row['Generated Text'])    \n",
    "        print(\"intput:\\n\", row['Paragraph'])\n",
    "        print(\"post_processed:\\n\", prediction)\n",
    "        # print(\"label:\", row['Actual Text'])\n",
    "        print(\"label_BIO:\\n\", row['BIO Label'])    \n",
    "        print(\"predict_BIO:\\n\", generate_bio_label(prediction))    \n",
    "        print()\n",
    "    \n",
    "    # # Prediction different with Label\n",
    "    # if eval(row['BIO Label']) != generate_bio_label(prediction):\n",
    "    #     print(\"predict:\\n\", row['Generated Text'])    \n",
    "    #     print(\"intput:\\n\", row['Paragraph'])\n",
    "    #     print(\"post_processed:\\n\", prediction)\n",
    "    #     # print(\"label:\", row['Actual Text'])\n",
    "    #     print(\"label_BIO:\\n\", row['BIO Label'])    \n",
    "    #     print(\"predict_BIO:\\n\", generate_bio_label(prediction))    \n",
    "    #     print()\n",
    "        \n",
    "print(\"The number of sentences don't need post-preprocessed:\", f\"{len(label_lists)} / {len(pred_df)}\")"
   ]
  },
  {
   "cell_type": "code",
   "execution_count": null,
   "metadata": {},
   "outputs": [
    {
     "name": "stdout",
     "output_type": "stream",
     "text": [
      "Precision:  0.8055555555555556\n",
      "Recall:  0.7820224719101123\n",
      "F1_score:  0.7936145952109463\n"
     ]
    },
    {
     "ename": "",
     "evalue": "",
     "output_type": "error",
     "traceback": [
      "\u001b[1;31mThe Kernel crashed while executing code in the current cell or a previous cell. \n",
      "\u001b[1;31mPlease review the code in the cell(s) to identify a possible cause of the failure. \n",
      "\u001b[1;31mClick <a href='https://aka.ms/vscodeJupyterKernelCrash'>here</a> for more info. \n",
      "\u001b[1;31mView Jupyter <a href='command:jupyter.viewOutput'>log</a> for further details."
     ]
    }
   ],
   "source": [
    "# Evaluate\n",
    "print(\"Precision: \", precision_score(label_lists, pred_lists))\n",
    "print(\"Recall: \", recall_score(label_lists, pred_lists))\n",
    "print(\"F1_score: \", f1_score(label_lists, pred_lists))"
   ]
  }
 ],
 "metadata": {
  "kernelspec": {
   "display_name": "py310_chat",
   "language": "python",
   "name": "python3"
  },
  "language_info": {
   "codemirror_mode": {
    "name": "ipython",
    "version": 3
   },
   "file_extension": ".py",
   "mimetype": "text/x-python",
   "name": "python",
   "nbconvert_exporter": "python",
   "pygments_lexer": "ipython3",
   "version": "3.10.13"
  }
 },
 "nbformat": 4,
 "nbformat_minor": 2
}
