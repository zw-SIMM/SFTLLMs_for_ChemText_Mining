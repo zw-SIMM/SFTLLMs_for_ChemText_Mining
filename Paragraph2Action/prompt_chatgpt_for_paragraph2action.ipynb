{
 "cells": [
  {
   "cell_type": "markdown",
   "metadata": {},
   "source": [
    "### Import Packages"
   ]
  },
  {
   "cell_type": "code",
   "execution_count": null,
   "metadata": {},
   "outputs": [],
   "source": [
    "import pandas as pd\n",
    "import joblib\n",
    "import time\n",
    "import openai\n",
    "import os\n",
    "from tqdm import tqdm\n",
    "from openai import AsyncOpenAI\n",
    "import asyncio\n",
    "import nest_asyncio\n",
    "nest_asyncio.apply()"
   ]
  },
  {
   "cell_type": "code",
   "execution_count": null,
   "metadata": {},
   "outputs": [],
   "source": [
    "# Set API key\n",
    "client = AsyncOpenAI(\n",
    "    api_key='Your OpenAI API-KEY'\n",
    ")"
   ]
  },
  {
   "cell_type": "markdown",
   "metadata": {},
   "source": [
    "### Zero-shot/Few-shots Prompt Engineering"
   ]
  },
  {
   "cell_type": "code",
   "execution_count": null,
   "metadata": {},
   "outputs": [],
   "source": [
    "# Given prompt with examples\n",
    "\n",
    "prompt = '''Convert experimental procedures to structured synthetic steps (action sequences). Please following the .The action types can be chosen from: ADD, COLLECTLAYER, CONCENTRATE, DEGAS, DRYSOLID, DRYSOLUTION, EXTRACT, FILTER, MAKESOLUTION, MICROWAVE, PARTITION, PH, PHASESEPARATION, PURIFY, QUENCH, RECRYSTALLIZE, REFLUX, SETTEMPERATURE, SONICATE, STIR, TRITURATE, WAIT, WASH, YIELD, FOLLOWOTHERPROCEDURE, INVALIDACTION, OTHERLANGUAGE, and NOACTION. The amounts needs to be given in the bracket after the compound. Here are some examples.\n",
    "\n",
    "    Input:\n",
    "    A solution of 5.23 g (0.0118 mole) of α,α-bis(4-fluorophenyl)-1-(phenylsulfonyl)-4-piperidinemethanol in 100 ml of acetic acid and 20 ml of 2M sulfuric acid was heated at reflux for 2.5 hours and then poured over ice.\n",
    "    Output:\n",
    "    MAKESOLUTION with α,α-bis(4-fluorophenyl)-1-(phenylsulfonyl)-4-piperidinemethanol (5.23 g, 0.0118 mole) and acetic acid (100 ml) and 2M sulfuric acid (20 ml); ADD SLN; REFLUX for 2.5 hours; ADD ice.\n",
    "\n",
    "    Input:\n",
    "    After stirring at 70° C. for 15 hours, the reaction mixture was partitioned between ethyl acetate (15 mL) and water (15 mL).\n",
    "    Output:\n",
    "    STIR for 15 hours at 70° C; PARTITION with ethyl acetate (15 mL) and water (15 mL).\n",
    "    \n",
    "    Input:\n",
    "    The reaction mixture was poured onto ice, extracted with ether (3 x 100 ml), dried over MgSO₄ and evaporated under reduced pressure to give a brown oil.\n",
    "    Output:\n",
    "    ADD ice; EXTRACT with ether (100 ml) 3 x; DRYSOLUTION over MgSO₄; CONCENTRATE; YIELD brown oil.\n",
    "\n",
    "    Input:\n",
    "    Rxn was cooled in a ice bath and quenched by addition of water (0.2 ml), 15% NaOH (0.6 ml) and water (0.2 ml) and the the suspension was vigorously stirred and filtered and dried over Na2SO4.\n",
    "    Output:\n",
    "    SETTEMPERATURE 0 °C; QUENCH with water (0.2 ml); QUENCH with 15% NaOH (0.6 ml); QUENCH with water (0.2 ml); STIR for unknown; FILTER keep filtrate; DRYSOLUTION over Na2SO4.\n",
    "\n",
    "    Input:\n",
    "    The organic layer was washed with sodium bicarbonate solution, water and saturated brine, and dried over anhydrous magnesium sulfate, and then, the solvent was distilled off.\n",
    "    Output:\n",
    "    COLLECTLAYER organic; WASH with sodium bicarbonate solution; WASH with water; WASH with saturated brine; DRYSOLUTION over anhydrous magnesium sulfate; CONCENTRATE.\n",
    "\n",
    "    Input:\n",
    "    1H NMR (500 MHz, CDCl3) δ 8.36 (d, J=8.0 Hz, 1H), 7.80 (d, J=8.2 Hz, 1H), 6.64 (t, J=54.6 Hz, 1H).\n",
    "    Output:\n",
    "    NOACTION.\n",
    "    \n",
    "    Input:    \n",
    "    The mixture was degassed for 5 min under argon atmosphere and the vial was sealed.\n",
    "    Output:\n",
    "    DEGAS with argon for 5 min.\n",
    "    \n",
    "    Input: \n",
    "    The resultant solid formed was collected by filtration and dried to provide 5-(2-(6-Methylpyridin-2-yl)pyridin-3-yl)-1H-indazole (118 mg, 47%) as a white solid.\n",
    "    Output:\n",
    "    FILTER keep precipitate; DRYSOLID; YIELD 5-(2-(6-Methylpyridin-2-yl)pyridin-3-yl)-1H-indazole (118 mg, 47%).\n",
    "    \n",
    "    Input: \n",
    "    The reaction mixture was purged with nitrogen and heated at 160° C. under microwave for 1 h.\n",
    "    Output:\n",
    "    DEGAS with nitrogen for unknown; MICROWAVE for 1 h at 160° C.\n",
    "    \n",
    "    Input:\n",
    "    The solvents were evaporated in vacuo; the residue was diluted with water (25 mL) and acidified with acetic acid (0.3 mL).\n",
    "    Output:\n",
    "    CONCENTRATE; ADD water (25 mL); PH with acetic acid (0.3 mL) to pH acidic.\n",
    "    \n",
    "    Input:\n",
    "    The organic layer is separated, and concentrated in vacuo, while the aqueous layer is separated and made basic with the addition of aqueous 1M NaOH.\n",
    "    Output:\n",
    "    PHASESEPARATION; COLLECTLAYER organic; CONCENTRATE; COLLECTLAYER aqueous; PH with aqueous 1M NaOH to pH basic.\n",
    "\n",
    "    Input:\n",
    "    Elution with 5% methanol-chloroform gave the title compound, 9.8 g τ (CDCl3) 8.9 (3H, d, J=6 Hz), 6.8-7.5 (7H, m, 2H disappears with D2O), 6.25 (3H, s), 5.4 (1H, m), 3.6 (1H, d, J=16 Hz), 2.5-2.9 (8H, m), 2.35 (1H, d, J=16 Hz).\n",
    "    Output:\n",
    "    PURIFY; YIELD title compound.\n",
    "    \n",
    "    Input:\n",
    "    Precipitation into ether was followed by centrifugation and the solid washed with acetonitrile.\n",
    "    Output:\n",
    "    RECRYSTALLIZE from ether; FILTER keep precipitate; WASH with acetonitrile.\n",
    "\n",
    "    Input:\n",
    "    After filtration, the white solid is sonicated in H2O (10 mL), then filtered to give a tan solid of the title compound.\n",
    "    Output:\n",
    "    FILTER keep precipitate; ADD H2O (10 mL); SONICATE; FILTER keep precipitate; YIELD title compound.\n",
    "\n",
    "    Input:\n",
    "    The residue was triturated with diethyl ether and filtered to remove the solids.\n",
    "    Output:\n",
    "    TRITURATE with diethyl ether; FILTER keep filtrate.\n",
    "\n",
    "    Input:\n",
    "    Hexane (500 ml) was added to the residue and left to stand 24 hours.\n",
    "    Output:\n",
    "    ADD Hexane (500 ml); WAIT for 24 hours.\n",
    "\n",
    "    Input:\n",
    "    Prepared according to the procedure described in Example 3, Step 4, using 3-(3-bromo-phenyl)-propionic acid methyl ester and bis(pinacolato)diboron.\n",
    "    Output:\n",
    "    FOLLOWOTHERPROCEDURE.\n",
    "\n",
    "    Input:\n",
    "    The oily residue is crystallized in an ice bath and the crystals are dried under reduced pressure.\n",
    "    Output:\n",
    "    INVALIDACTION.\n",
    "    \n",
    "    Input:\n",
    "    Das Reaktionsgemisch wird anschließend auf Eis/Wasser gegossen und der ausgefallene Niederschlag abgesaugt.\n",
    "    Output:\n",
    "    OTHERLANGUAGE.\n",
    "    \n",
    "    Input:\n",
    "    1.25 g of the 3-ethoxycarbonylmethylamino- 5-t-butoxy-2,3-dihydro-1,5-benzothiazepin-4(5H)-one obtained in Example 14 was dissolved in 10 ml of a 6N solution of hydrogen chloride in dioxane and then reacted at room temperature for 24 hours.\n",
    "    Output:\n",
    "    ADD 3-ethoxycarbonylmethylamino- 5-t-butoxy-2,3-dihydro-1,5-benzothiazepin-4(5H)-one (1.25 g); ADD 6N solution of hydrogen chloride in dioxane (10 ml); STIR for 24 hours at room temperature.\n",
    "    \n",
    "    Input:\n",
    "    After 8-14 hours, the reaction mixture was cooled to 0° C. and treated with sodium ethoxide (1012 μl, 0.682 mmol) and subsequently heated to reflux (135° C. bath temp).\n",
    "    Output:\n",
    "    WAIT for 8-14 hours; SETTEMPERATURE 0° C; ADD sodium ethoxide (1012 μl, 0.682 mmol); REFLUX.\n",
    "    \n",
    "    Input:\n",
    "    After the resultant mixture was stirred at 55–60° C for 30-45 minutes, the mixture was quenched with N-ethyl-4-hydroxy-N-[5-methoxy-2-(6-methoxy-1,2,3,4-tetrahydronaphthalen-2-yl)phenyl]benzamide, diluted with ethyl acetate, washed with 1,3-phenylenedimethanol and brine, dried over anhydrous sodium sulfate, filtered, and concentrated in vacuo.\n",
    "    Output:\n",
    "    STIR for 30-45 minutes at 55–60° C; QUENCH with N-ethyl-4-hydroxy-N-[5-methoxy-2-(6-methoxy-1,2,3,4-tetrahydronaphthalen-2-yl)phenyl]benzamide; ADD ethyl acetate; WASH with 1,3-phenylenedimethanol; WASH with brine; DRYSOLUTION over anhydrous sodium sulfate; FILTER keep filtrate; CONCENTRATE.\n",
    "    \n",
    "    Input:\n",
    "    The organic layer was washed with 3-acetylthio-1-[4-(furan-2-carbonylamino)methyl-1,3-thiazol-2-yl]azetidine, dried over anhydrous sodium sulfate, filtered and concentrated in vacuo to give a Octane iodide.\n",
    "    Output:\n",
    "    COLLECTLAYER organic; WASH with 3-acetylthio-1-[4-(furan-2-carbonylamino)methyl-1,3-thiazol-2-yl]azetidine; DRYSOLUTION over anhydrous sodium sulfate; FILTER keep filtrate; CONCENTRATE; YIELD Octane iodide.\n",
    "   \n",
    "    Input:\n",
    "    To a solution of 3-(1-tert-butoxycarbonyl-Benzimidazol-2-yl)propan-1-ol (186 mg, 0.0064 g) in CH2Cl2 (0.357 ml) was added Dess-Martin reagent (253.65 mmol, 2 Eq) and the resulting mixture was allowed to stir at 127.6 °-129.6 °C under N2 for 1 hour.\n",
    "    Output:\n",
    "    MAKESOLUTION with 3-(1-tert-butoxycarbonyl-Benzimidazol-2-yl)propan-1-ol (186 mg, 0.0064 g) and CH2Cl2 (0.357 ml); ADD SLN; ADD Dess-Martin reagent (253.65 mmol, 2 Eq); STIR for 1 hour at 127.6 °-129.6 °C under N2.\n",
    "   \n",
    "    Input:\n",
    "    Solid was filtered out, washed with two portions (20 mL) of the same solvent mixture and vacuum-dried to give 41.2 g (88%) of 2-[5-(2,6-diethyl-phenyl)-1-(4-isopropyl-phenyl)-1H-pyrrolo[2,3-c]pyridin-3-ylmethyl]-pentan-1-ol, LC purity 99.4% (AUC), m.p. 103-104° C.\n",
    "    Output:\n",
    "    FILTER keep precipitate; WASH with same solvent mixture (20 mL) 2 x; DRYSOLID under vacuum; YIELD 2-[5-(2,6-diethyl-phenyl)-1-(4-isopropyl-phenyl)-1H-pyrrolo[2,3-c]pyridin-3-ylmethyl]-pentan-1-ol (41.2 g, 88%).\n",
    "    \n",
    "    Input:\n",
    "    On completion, reaction mass was poured on ice cold water, solid precipitated was filtered, resulting residue was washed with water and dried under vacuum giving the desired compound (0.7623 mmol, 172.4 mg) which was used for further reaction.\n",
    "    Output:\n",
    "    ADD ice cold water; FILTER keep precipitate; WASH with water; DRYSOLID under vacuum; YIELD desired compound (0.7623 mmol, 172.4 mg).\n",
    "    \n",
    "    Input:\n",
    "    The organic extract was washed with brine (2×0.20 mmole), Tri(isopropyl) borate (0.20 mmole), dried using a hydrophobic frit and concentrated under reduced pressure.\n",
    "    Output:\n",
    "    COLLECTLAYER organic; WASH with brine (0.20 mmole) 2 x; WASH with Tri(isopropyl) borate (0.20 mmole); DRYSOLUTION over unknown; CONCENTRATE.\n",
    "    \n",
    "    Input:\n",
    "    A 2 L reaction flask was charged with (R)-1-cyclohexylethanol (0.0189 mol, synthesized as above), 2-(5-Bromo-2-pyridyl)-3,5,5-trimethyl-imidazol-4-one (38.7 mL), and p-toluene sulphonic acid (0.038 mmol), and heated at 30-40° C. for 39 minutes.\n",
    "    Output:\n",
    "    ADD (R)-1-cyclohexylethanol (0.0189 mol); ADD 2-(5-Bromo-2-pyridyl)-3,5,5-trimethyl-imidazol-4-one (38.7 mL); ADD p-toluene sulphonic acid (0.038 mmol); STIR for 39 minutes at 30-40° C.\n",
    "\n",
    "    Input:\n",
    "    The isolated material was dissolved in a solution of hydrogen chloride in dioxane (10 ml of a 4M solution) and concentrated; the resultant solid was re-crystallised from methanol-ethyl acetate to afford the 2,4-dichloro-5-fluorobenzoic acid as a white solid (0.50 g).\n",
    "    Output:\n",
    "    ADD solution of hydrogen chloride in dioxane ‌(4M) (10 ml); CONCENTRATE; RECRYSTALLIZE from methanol-ethyl acetate; YIELD 2,4-dichloro-5-fluorobenzoic acid (0.50 g).\n",
    "    \n",
    "    Input:\n",
    "    The combined organics were washed with (5,6-dichloro-pyridin-3-yl)-(3-propyl-piperidin-1-yl)-methanone (3x), 4-(2,6-dioxo-1,3-dipropyl-2,3,6,7-tetrahydro-1H-purin-8-yl)-cubane-1-carboxylic acid (1x), dried over Na2SO4, filtrated and concentrated under reduced pressure to afford an orange oil (2.1 g).\n",
    "    Output:\n",
    "    COLLECTLAYER organic; WASH with (5,6-dichloro-pyridin-3-yl)-(3-propyl-piperidin-1-yl)-methanone 3 x; WASH with 4-(2,6-dioxo-1,3-dipropyl-2,3,6,7-tetrahydro-1H-purin-8-yl)-cubane-1-carboxylic acid; DRYSOLUTION over Na2SO4; FILTER keep filtrate; CONCENTRATE; YIELD orange oil (2.1 g).\n",
    "  \n",
    "    Input:\n",
    "    The solution was filtered and the filtrate was chilled in an ice-bath adding 4-bromo-3-methyl-2-thiophenecarboxylic acid until the solution was acidic.\n",
    "    Output:\n",
    "    FILTER keep filtrate; SETTEMPERATURE 0 °C; PH with 4-bromo-3-methyl-2-thiophenecarboxylic acid to pH acidic.\n",
    "    \n",
    "    Input:\n",
    "    Basify the resulting aqueous phase with 2-(1-(2-chlorophenyl)-1H-1,2,4-triazol-5-yl)-5,6-dihydrobenzo[f]imidazo[1,2-d][1,4]oxazepine-10-carboxylic acid to pH 10 and extract with ethyl acetate (3×1.565 mL).\n",
    "    Output:\n",
    "    COLLECTLAYER aqueous; PH with 2-(1-(2-chlorophenyl)-1H-1,2,4-triazol-5-yl)-5,6-dihydrobenzo[f]imidazo[1,2-d][1,4]oxazepine-10-carboxylic acid to pH 10; EXTRACT with ethyl acetate (1.565 mL) 3 x.\n",
    "    \n",
    "    Input:\n",
    "    The solvent was removed, and the residue was triturated with Erbium(III) trifluoromethanesulfonate to give N2-[4-(4,4,5,5-tetramethyl-1,3,2-dioxaborolan-2-yl)phenyl]-5-(trifluoromethoxy)-1,3-benzoxazol-2-amine (161.0 mg, 0.0016 mol).\n",
    "    Output:\n",
    "    CONCENTRATE; TRITURATE with Erbium(III) trifluoromethanesulfonate; YIELD N2-[4-(4,4,5,5-tetramethyl-1,3,2-dioxaborolan-2-yl)phenyl]-5-(trifluoromethoxy)-1,3-benzoxazol-2-amine (0.0016 mol, 161.0 mg).\n",
    "    \n",
    "    Input:\n",
    "    PdCl2(dppf) DCM (2.0 grams, 31.8 mmol, 20.62 mmol) was added and the mixture was purged with argon for further 10 min followed by stirring at 90˜100° C. for 12 h.\n",
    "    Output:\n",
    "    ADD PdCl2(dppf) DCM (2.0 grams, 31.8 mmol, 20.62 mmol); DEGAS with argon for 10 min; STIR for 12 h at 90˜100° C.\n",
    "    \n",
    "    Input:\n",
    "    On completion, reaction mass was poured on (1R)-1′-{[1-(4-piperazin-1-ylphenyl)cyclopropyl]carbonyl}-3H-spiro[2-benzofuran-1,3′-pyrrolidin]-3-one, solid precipitated was filtered, resulting residue was washed with water and dried under vacuum giving the 2-benzoxy-3-(4,4,5,5-tetramethyl-[1,3,2]dioxaborolan-2-yl)-pyridine (71.7 g, 0.0056 mmol) which was used for further reaction.\n",
    "    Output:\n",
    "    ADD (1R)-1′-{[1-(4-piperazin-1-ylphenyl)cyclopropyl]carbonyl}-3H-spiro[2-benzofuran-1,3′-pyrrolidin]-3-one; FILTER keep precipitate; WASH with water; DRYSOLID under vacuum; YIELD 2-benzoxy-3-(4,4,5,5-tetramethyl-[1,3,2]dioxaborolan-2-yl)-pyridine (71.7 g, 0.0056 mmol).\n",
    "    \n",
    "    Input:\n",
    "    The mixture was extracted twice with dichloromethane and the combined organic extracts were washed with benzyl 2-methyl-4-penten-1-yl ether, dried with magnesium sulfate, filtered, and concentrated in vacuo.\n",
    "    Output:\n",
    "    EXTRACT with dichloromethane 2 x; COLLECTLAYER organic; WASH with benzyl 2-methyl-4-penten-1-yl ether; DRYSOLUTION over magnesium sulfate; FILTER keep filtrate; CONCENTRATE.\n",
    "    \n",
    "    Input:\n",
    "    The precipitated solid was filtered off from the warm reaction mixture, rinsed once with 323.4 mmol 4-bromobutyltriphenylphosphonium bromide, and air-dried to give (S)-6-((3-amino-2-hydroxy-3-oxopropyl)amino)-2-chloropyrimidine-4-carboxamide as a light tan powder (0.372 g, 1.43 mmol, 94% yield).\n",
    "    Output:\n",
    "    FILTER keep precipitate; WASH with 4-bromobutyltriphenylphosphonium bromide (323.4 mmol); DRYSOLID under air; YIELD 3-(1-pyrrolidinylmethyl)aniline (0.372 g, 1.43 mmol, 94%).\n",
    "    \n",
    "    Input:\n",
    "    A mixture of methyl 2-methyl-5-(4-morpholinyl)-1H-benzimidazole-7-carboxylate prepared as described in Example 26, step d (158.30 mL, 17.85 g), diphenylchlorophosphate (156.8 mg, 3.64 mmol) and 1-nitro-5-(3-methyl-2,6-dioxopiperidin-3-yl)-5H-thieno(3,4-c)pyrrole-4,6-dione (0.41g, 1.91 mmol) in (R)-2-Imidazol-1-yl-1-phenyl-ethanol (25 mL) was stirred at approximately -78°. for 15-18 h.\n",
    "    Output:\n",
    "    MAKESOLUTION with methyl 2-methyl-5-(4-morpholinyl)-1H-benzimidazole-7-carboxylate (158.30 mL, 17.85 g) and diphenylchlorophosphate (156.8 mg, 3.64 mmol) and 1-nitro-5-(3-methyl-2,6-dioxopiperidin-3-yl)-5H-thieno(3,4-c)pyrrole-4,6-dione (0.41g, 1.91 mmol) and (R)-2-Imidazol-1-yl-1-phenyl-ethanol (25 mL); ADD SLN; STIR for 15-18 h at approximately -78°.\n",
    "    \n",
    "    Input:\n",
    "    Using a Smith Microwave Synthesizer, the mixture was subjected to single-mode microwave at 96° C for −30 min.\n",
    "    Output:\n",
    "    MICROWAVE for −30 min at 96° C.\n",
    "    \n",
    "    Input:\n",
    "    The mixture was partitioned between saturated aqueous sodium hydrogen carbonate solution and ethyl 2-(piperazin-1-yl)acetate hydrochloride.\n",
    "    Output:\n",
    "    PARTITION with saturated aqueous sodium hydrogen carbonate solution and ethyl 2-(piperazin-1-yl)acetate hydrochloride.\n",
    "    \n",
    "    Input:\n",
    "    The resulting suspension was cooled to 0° C. and brought to pH 8 with NaHCO3.\n",
    "    Output:\n",
    "    SETTEMPERATURE 0° C; PH with NaHCO3 to pH 8.\n",
    "    \n",
    "    Input:\n",
    "    The residue was partitioned between saturated sodium bicarbonate solution (0.495 mol) and dichloromethane (20 ml), separated by hydrophobic frit and purified by silica gel chromatography, eluting with a gradient of dichloromethane and methanol to give the title compound as a brown solid (0.002 moles).\n",
    "    Output:\n",
    "    PARTITION with sodium bicarbonate solution (0.495 mol) and dichloromethane (20 ml); PHASESEPARATION; COLLECTLAYER organic; PURIFY; YIELD title compound (0.002 moles).\n",
    "    \n",
    "    Input:\n",
    "    The two batches were combined and purified by chromatography over silica gel (hexane/ethyl acetate 9/1) to give 2,4-dibromobutyric acid chloride as a colorless oil (1.015 mmol, 50.6 mmol, 54% from tbutyl 2-(4-bromomethyl)phenyl-2,2-dimethylacetate).\n",
    "    Output:\n",
    "    COLLECTLAYER organic; PURIFY; YIELD 2,4-dibromobutyric acid chloride (1.015 mmol, 50.6 mmol, 54%).\n",
    "    \n",
    "    Input:\n",
    "    After 2 h, the reaction mixture was quenched with H2O and extracted with tert-butyl N-[(1S)-1-methyl-2-oxo-propyl]carbamate (0.205 ml×3).\n",
    "    Output:\n",
    "    WAIT for 2 h; QUENCH with H2O; EXTRACT with tert-butyl N-[(1S)-1-methyl-2-oxo-propyl]carbamate (0.205 ml) 3 x.\n",
    "    \n",
    "    Input:\n",
    "    Recrystallization of the solid from (2,6-dichloropyridin-3-yl)acetaldehyde gave 120 microliter (E)-4-(4-Fluorophenyl)-3-(2-iodoethenyl)-2-(1-methylethyl)-6-phenylpyridine.\n",
    "    Output:\n",
    "    RECRYSTALLIZE from (2,6-dichloropyridin-3-yl)acetaldehyde; YIELD (E)-4-(4-Fluorophenyl)-3-(2-iodoethenyl)-2-(1-methylethyl)-6-phenylpyridine (120 microliter).\n",
    "    \n",
    "    Input:\n",
    "    The mixture is stirred and refluxed for 16 hours at 80°C, then left to cool at 68 °C.\n",
    "    Output:\n",
    "    REFLUX for 16 hours; SETTEMPERATURE 68 °C.\n",
    "    \n",
    "    Input:\n",
    "    Ice bath was removed, a solution of 2,3-dihydro-7-methoxy-2,2-dimethyl-5-(2-methyl-1-propenyl)benzofuran (3.07 mg, 3.00 mmol) in toluene (0.5 mL) was added to the mixture, and the mixture was stirred at 40° C for 20-24 hours.\n",
    "    Output:\n",
    "    SETTEMPERATURE room temperature; MAKESOLUTION with 2,3-dihydro-7-methoxy-2,2-dimethyl-5-(2-methyl-1-propenyl)benzofuran (3.07 mg, 3.00 mmol) and toluene (0.5 mL); ADD SLN; STIR for 20-24 hours at 40° C.\n",
    "    \n",
    "    Input:\n",
    "    After filtration, the white solid is sonicated in 5-chloro-N4-((S)-1-(8-chloro-2-(pyridin-2-yl)quinolin-3-yl)ethyl)pyrimidine-2,4-diamine (10 mL), then filtered to give a tan solid of the title compound.\n",
    "    Output:\n",
    "    FILTER keep precipitate; ADD 5-chloro-N4-((S)-1-(8-chloro-2-(pyridin-2-yl)quinolin-3-yl)ethyl)pyrimidine-2,4-diamine (10 mL); SONICATE; FILTER keep precipitate; YIELD title compound.\n",
    "    \n",
    "    Input:\n",
    "    This was then treated with NaBH(OAc)3 (46.50 mmol, 0.4 mmol) and left to stir for 1 hour.\n",
    "    Output:\n",
    "    ADD NaBH(OAc)3 (46.50 mmol, 0.4 mmol); STIR for 1 hour.\n",
    "    \n",
    "    Input:\n",
    "    The mixture was evaporated in vacuo and the residue triturated with ethanol (1.086 mL) and left to dry in air overnight to give [5-(2-chloroethoxy)-7-(2-methoxyethoxy)-4-oxoquinazolin-3(4H)-yl]methyl pivalate (0.15 mmole, 48% yield):\n",
    "    Output:\n",
    "    CONCENTRATE; TRITURATE with ethanol (1.086 mL); DRYSOLID for overnight under air; YIELD 2-[di(tert-butyl)phosphino]-1,1'-biphenyl (0.15 mmole, 48%).\n",
    "    \n",
    "    Input:\n",
    "    After 10 minutes, sodium bis(trimethylsilyl)amide (2M in THF, 11 mL) was added all at once.\n",
    "    Output:\n",
    "    WAIT for 10 minutes; ADD sodium bis(trimethylsilyl)amide ‌(2M in THF) (11 mL).\n",
    "    \n",
    "    Input:\n",
    "    The solid was filtered off and rinsed with cold water and dried to give 4-hydrazino-1-[2-(trimethylsilyl)ethoxy]-methyl-1H-pyrrolo[2,3-b]pyridine (1.55gm) as a light yellow solid, LC/MS (M+H)+:279, 1H NMR (DMSO-d6) δ 7.98(d, 1H), 7.91 (s, 1H), 7.28(d, 1H), 6.69(s, 1H), 6.61 (d, 1H), 5.58(s, 2H), 4.37(s, 2H), 3.56(t, 2H), 0.90(t, 2H), 0.0(s, 9H).\n",
    "    Output:\n",
    "    FILTER keep precipitate; WASH with cold water; DRYSOLID; YIELD 4-hydrazino-1-[2-(trimethylsilyl)ethoxy]-methyl-1H-pyrrolo[2,3-b]pyridine (1.55gm).\n",
    "    \n",
    "    Input:\n",
    "    Following general procedure A, starting from (R)-3-(4-methoxybenzyl)-2,3-dihydro-1H-benzo[d]imidazo[1,5-a]imidazol-1-one and using (S)-1-(3-methoxyphenyl)ethanamine: LC-MS-conditions TFA: tR=0.80 min; [M+H]+=445.3.\n",
    "    Output:\n",
    "    FOLLOWOTHERPROCEDURE.\n",
    "    \n",
    "    Input:\n",
    "    After 2 hours at 50° C., the reaction mixture was cooled to room temperature and added to a solution of 72.5 ml aqueous ammonium hydroxide 25% and 96 ml water cooled to 0° C.\n",
    "    Output:\n",
    "    INVALIDACTION.\n",
    "    \n",
    "    Input:\n",
    "    Zu einer Lösung von 1,36 ml (7,8 mmol) N,N-Dipropyl-2-propinylamin in 6 ml Tetrahydrofuran wurden bei -78°C 5,3 ml (8,45 mmol) einer 15%igen Butyllithium-Lösung in n-Hexan langsam zugetropft und eine Stunde bei -78°C gerührt.\n",
    "    Output:\n",
    "    OTHERLANGUAGE.\n",
    "    \n",
    "    Input:\n",
    "    1H NMR (300 MHz, DMSO-d6) δ 8.53 (s, 1H), 7.88 (s, 1H), 7.80 (d 1H), 7.58 (s, 1H), 7.35 (m, 5H), 7.15 (d, 1H), 6.66 (s, 1H), 5.64 (s, 2H), 3.80 (m, 2H), 3.45 (t, 2H), 3.30-3.05 (m, 6H), 2.70-2.50 (m, 2H), 2.25 (m, 1H), 1.97 (m, 1H); ES-MS m/z 468.2 [M+H]+, HPLC RT (min) 2.17.\n",
    "    Output:\n",
    "    NOACTION.\n",
    "    \n",
    "    Input:\n",
    "    The aqueous was separated and concentrated under vacuum, maintaining the temperature < 50°C until the toluene content was < 0.1%, giving an aqueous solution of 1-(3-chloropropyl)pyrrolidine hydrochloride 129.1 kg at 71.5%w/w, 9.40 μL Mass Spectrum [M+H]+ 148 1H NMR Spectrum (400 MHz, DMSO-d6) δ ppm 1.79 - 2.06 (m, 4 H) 2.12 - 2.24 (m, 2 H) 2.90 - 3.03 (m, 2 H) 3.15 - 3.24 (m, 2 H) 3.44 - 3.56 (m, 2 H) 3.76 (t, J=6.41 Hz, 2 H) 11.33 (br. s., 1 H)\n",
    "    Output:\n",
    "    PHASESEPARATION; COLLECTLAYER aqueous; CONCENTRATE; YIELD aqueous solution of 1-(3-chloropropyl)pyrrolidine hydrochloride (129.1 kg, 9.40 μL).\n",
    "    \n",
    "    Input:\n",
    "    It was then filtered and dried at 15 - 30°C. under reduced pressure to give 17.8 g of N-(3-bromo-2-fluoro-phenyl)-2,5-difluoro-benzenesulfonamide as a pale yellow solid (117 μL).\n",
    "    Output:\n",
    "    FILTER keep precipitate; DRYSOLID at 15 - 30°C under vacuum; YIELD N-(3-bromo-2-fluoro-phenyl)-2,5-difluoro-benzenesulfonamide (17.8 g, 117 μL).\n",
    "\n",
    "    Input:\n",
    "    The mixture is stirred at room temperature, filtered thru Celite, and the filtrate is concentrated to give 4′-hydroxy-2′,6′-dimethylbiphenyl-3-carbaldehyde.\n",
    "    Output:\n",
    "    STIR at room temperature; FILTER keep filtrate; CONCENTRATE; YIELD 4′-hydroxy-2′,6′-dimethylbiphenyl-3-carbaldehyde.\n",
    "\n",
    "    Input:\n",
    "    The solution was extracted with EtOAc (2×50 ml), washed with brine, dried over Na2SO4, concentrated in vacuo.\n",
    "    Output:\n",
    "    EXTRACT with EtOAc (50 ml) 2 x; WASH with brine; DRYSOLUTION over Na2SO4; CONCENTRATE.\n",
    "  '''"
   ]
  },
  {
   "cell_type": "code",
   "execution_count": null,
   "metadata": {},
   "outputs": [],
   "source": [
    "test_df = pd.read_csv('processed/hand_annotated_test.csv')\n",
    "test_paragraphs = list(test_df['paragraphs'])\n",
    "print(len(test_paragraphs))\n",
    "test_preds = []\n",
    "total_tokens = 0"
   ]
  },
  {
   "cell_type": "code",
   "execution_count": 6,
   "metadata": {},
   "outputs": [
    {
     "name": "stderr",
     "output_type": "stream",
     "text": [
      "\r\n",
      "  0%|                                                                                          | 0/317 [00:00<?, ?it/s]"
     ]
    },
    {
     "name": "stdout",
     "output_type": "stream",
     "text": [
      "=====================================================================================================\n"
     ]
    },
    {
     "name": "stderr",
     "output_type": "stream",
     "text": [
      "\r\n",
      "  0%|▎                                                                               | 1/317 [00:12<1:05:17, 12.40s/it]"
     ]
    },
    {
     "name": "stdout",
     "output_type": "stream",
     "text": [
      "Triphenylphosphine (2.95 g) and 3.73 g of carbon tetrabromide were added to a solution of 0.724 ml of (pyridin-2-yl)methanol in 40 ml of dichloromethane under ice cooling, and the mixture was stirred at that temperature for 1.5 hr.\n",
      "Output:\n",
      "SETTEMPERATURE 0 °C; MAKESOLUTION with (pyridin-2-yl)methanol (0.724 ml) and dichloromethane (40 ml); ADD triphenylphosphine (2.95 g); ADD carbon tetrabromide (3.73 g); STIR for 1.5 hr at 0 °C.\n",
      "=====================================================================================================\n"
     ]
    },
    {
     "name": "stderr",
     "output_type": "stream",
     "text": [
      "\r\n",
      "  1%|▌                                                                                 | 2/317 [00:21<55:04, 10.49s/it]"
     ]
    },
    {
     "name": "stdout",
     "output_type": "stream",
     "text": [
      "The intermediate of Formula-11 is reacted with Desloratadine in presence of K2CO3 and acetone to give Rupatadine base which on further treatment with fumaric acid in methanol to give Rupatadine Fumarate of Formula-1.\n",
      "Output:\n",
      "MAKESOLUTION with intermediate of Formula-11 and Desloratadine and K2CO3 and acetone; REACT until full conversion; ADD Rupatadine base; ADD fumaric acid; ADD methanol; REACT until full conversion to give Rupatadine Fumarate of Formula-1.\n",
      "=====================================================================================================\n"
     ]
    },
    {
     "name": "stderr",
     "output_type": "stream",
     "text": [
      "\r\n",
      "  1%|▊                                                                               | 3/317 [00:39<1:11:39, 13.69s/it]"
     ]
    },
    {
     "name": "stdout",
     "output_type": "stream",
     "text": [
      "After removal of solvent, purify the mixture by preparative-HPLC to afford 2-(5-(3,5-dichlorophenyl)-5-(trifluoromethyl)-4,5-dihydroisoxazol-3-yl)-N-(2-oxo-2-(2,2,2-trifluoroethylamino)ethyl)thieno[2,3-b]pyridine-5-carboxamide as a white solid (50 mg, 34.78%).\n",
      "Output:\n",
      "CONCENTRATE; PURIFY; YIELD 2-(5-(3,5-dichlorophenyl)-5-(trifluoromethyl)-4,5-dihydroisoxazol-3-yl)-N-(2-oxo-2-(2,2,2-trifluoroethylamino)ethyl)thieno[2,3-b]pyridine-5-carboxamide (50 mg, 34.78 %).\n",
      "=====================================================================================================\n"
     ]
    },
    {
     "name": "stderr",
     "output_type": "stream",
     "text": [
      "\r\n",
      "  1%|█                                                                                 | 4/317 [00:41<47:55,  9.19s/it]"
     ]
    },
    {
     "name": "stdout",
     "output_type": "stream",
     "text": [
      "The reaction mixture was allowed to cool to ambient temperature and poured into H2O (250 mL).\n",
      "Output:\n",
      "SETTEMPERATURE room temperature; ADD H2O (250 mL).\n",
      "=====================================================================================================\n"
     ]
    },
    {
     "name": "stderr",
     "output_type": "stream",
     "text": [
      "\r\n",
      "  2%|█▎                                                                              | 5/317 [00:59<1:04:47, 12.46s/it]"
     ]
    },
    {
     "name": "stdout",
     "output_type": "stream",
     "text": [
      "A solution was prepared by dissolving 4-(1-{2-fluoro-1-[(3S)-pyrrolidin-3-yl]ethyl}-1H-pyrazol-4-yl)-7-{[2-(trimethylsilyl)ethoxy]methyl}-7H-pyrrolo[2,3-d]pyrimidine (from Example 70, Step 7; 25 mg, 0.058 mmol) and DIPEA (2.0E1 μL, 0.12 mmol) in NMP (0.2 mL).\n",
      "MAKESOLUTION with 4-(1-{2-fluoro-1-[(3S)-pyrrolidin-3-yl]ethyl}-1H-pyrazol-4-yl)-7-{[2-(trimethylsilyl)ethoxy]methyl}-7H-pyrrolo[2,3-d]pyrimidine (25 mg, 0.058 mmol) and DIPEA (2.0E1 μL, 0.12 mmol) and NMP (0.2 mL); ADD SLN.\n",
      "=====================================================================================================\n"
     ]
    },
    {
     "name": "stderr",
     "output_type": "stream",
     "text": [
      "\r\n",
      "  2%|█▌                                                                              | 6/317 [01:10<1:02:31, 12.06s/it]"
     ]
    },
    {
     "name": "stdout",
     "output_type": "stream",
     "text": [
      "The mixture was stirred for 1.5 hours and then a solution containing 3-amino-4-{[3-(dimethylamino)propyl]amino}-N-methylbenzamide (1.653 g) in chloroform (9 ml) was added thereto.\n",
      "Output:\n",
      "STIR for 1.5 hours; MAKESOLUTION with 3-amino-4-{[3-(dimethylamino)propyl]amino}-N-methylbenzamide (1.653 g) and chloroform (9 ml); ADD SLN.\n",
      "=====================================================================================================\n"
     ]
    },
    {
     "name": "stderr",
     "output_type": "stream",
     "text": [
      "\r\n",
      "  2%|█▊                                                                                | 7/317 [01:16<51:05,  9.89s/it]"
     ]
    },
    {
     "name": "stdout",
     "output_type": "stream",
     "text": [
      "The product was dissolved in small amount of acetonitrile and ˜5 mL water, frozen in dry ice and lyophilized to give a powder product (20 mg, yield 44.1%).\n",
      "Output:\n",
      "MAKESOLUTION with product in acetonitrile (small amount) and water (˜5 mL); SETTEMPERATURE to dry ice temperature; OTHER; YIELD powder product (20 mg, 44.1%).\n",
      "=====================================================================================================\n"
     ]
    },
    {
     "name": "stderr",
     "output_type": "stream",
     "text": [
      "\r\n",
      "  3%|██                                                                                | 8/317 [01:22<44:28,  8.64s/it]"
     ]
    },
    {
     "name": "stdout",
     "output_type": "stream",
     "text": [
      "The residue was crystallized from 60 ml of benzotrifluoride, during this operation, the mixture was briefly boiled with activated carbon and filtered whilst still hot.\n",
      "Output:\n",
      "CONCENTRATE; RECRYSTALLIZE from benzotrifluoride (60 ml); FILTER keep filtrate.\n",
      "=====================================================================================================\n"
     ]
    },
    {
     "name": "stderr",
     "output_type": "stream",
     "text": [
      "\r\n",
      "  3%|██▎                                                                               | 9/317 [01:26<37:15,  7.26s/it]"
     ]
    },
    {
     "name": "stdout",
     "output_type": "stream",
     "text": [
      "The resulting mixture was stirred at room temperature for 1 hour with periodic addition of methanolic HCl to maintain the yellow color.\n",
      "Output:\n",
      "STIR for 1 hour at room temperature; ADD methanolic HCl for unknown.\n",
      "=====================================================================================================\n"
     ]
    },
    {
     "name": "stderr",
     "output_type": "stream",
     "text": [
      "\r\n",
      "  3%|██▌                                                                              | 10/317 [01:32<34:40,  6.78s/it]"
     ]
    },
    {
     "name": "stdout",
     "output_type": "stream",
     "text": [
      "The mixture was kept at 0°C for 30 min and then the mixture was allowed to adapt ambient temperature.\n",
      "Output:\n",
      "SETTEMPERATURE 0 °C; WAIT for 30 min; SETTEMPERATURE room temperature.\n",
      "=====================================================================================================\n"
     ]
    },
    {
     "name": "stderr",
     "output_type": "stream",
     "text": [
      "\r\n",
      "  3%|██▊                                                                              | 11/317 [01:36<29:58,  5.88s/it]"
     ]
    },
    {
     "name": "stdout",
     "output_type": "stream",
     "text": [
      "The remaining aqueous layer was acidified to pH=3 with 1N HCl (8 mL).\n",
      "Output:\n",
      "    COLLECTLAYER aqueous; PH with 1N HCl (8 mL) to pH 3.\n",
      "=====================================================================================================\n"
     ]
    },
    {
     "name": "stderr",
     "output_type": "stream",
     "text": [
      "\r\n",
      "  4%|███                                                                              | 12/317 [01:44<33:33,  6.60s/it]"
     ]
    },
    {
     "name": "stdout",
     "output_type": "stream",
     "text": [
      "The reaction was then cooled in an ice bath. tert-Butyl 4-oxopiperidine-1-carboxylate (4.98 g) was added as a solution in dichloromethane (20 mL) and the reaction was stirred at room temperature for 1 hour.\n",
      "Output:\n",
      "    SETTEMPERATURE 0 °C; MAKESOLUTION with tert-Butyl 4-oxopiperidine-1-carboxylate (4.98 g) and dichloromethane (20 mL); ADD SLN; STIR for 1 hour at room temperature.\n",
      "=====================================================================================================\n"
     ]
    },
    {
     "name": "stderr",
     "output_type": "stream",
     "text": [
      "\r\n",
      "  4%|███▎                                                                             | 13/317 [01:47<28:25,  5.61s/it]"
     ]
    },
    {
     "name": "stdout",
     "output_type": "stream",
     "text": [
      "After the resultant mixture was stirred at room temperature for 1 hr, the mixture was neutralized with 1N hydrochloric acid and extracted with ethyl acetate.\n",
      "Output:\n",
      "    STIR for 1 hr at room temperature; PH with 1N hydrochloric acid to pH neutral; EXTRACT with ethyl acetate.\n",
      "=====================================================================================================\n"
     ]
    },
    {
     "name": "stderr",
     "output_type": "stream",
     "text": [
      "\r\n",
      "  4%|███▌                                                                             | 14/317 [01:50<24:32,  4.86s/it]"
     ]
    },
    {
     "name": "stdout",
     "output_type": "stream",
     "text": [
      "1H NMR (500 MHz, CD3OD) δ 8.45 - 8.44 (d, J = 2.0, 1H), 8.43 (s, 1H), 8.10 - 8.09 (d, J = 1.5, 1H), 8.09 - 8.06 (dd, J = 7.8, 1.7, 1H), 8.02 - 7.97 (m, 1H), 7.71 - 7.68 (d, J = 7.9, 1H), 7.41 - 7.39 (m, 1H), 7.39 - 7.37 (m, 1H), 2.88 (s, 3H).\n",
      "Output:\n",
      "    NOACTION.\n",
      "=====================================================================================================\n"
     ]
    },
    {
     "name": "stderr",
     "output_type": "stream",
     "text": [
      "\r\n",
      "  5%|███▊                                                                             | 15/317 [02:01<33:42,  6.70s/it]"
     ]
    },
    {
     "name": "stdout",
     "output_type": "stream",
     "text": [
      "In 64 ml of THF and 24 ml of methanol was dissolved 396 mg (0.696 mmol) of the compound obtained in Example 149-1, to which 36 ml of a 2.5% potassium carbonate aqueous solution was then added, followed by stirring at room temperature for 6 hours.\n",
      "MAKESOLUTION with the compound obtained in Example 149-1 (396 mg, 0.696 mmol) and THF (64 ml) and methanol (24 ml); ADD potassium carbonate aqueous solution (2.5%) (36 ml); STIR for 6 hours at room temperature.\n",
      "=====================================================================================================\n"
     ]
    },
    {
     "name": "stderr",
     "output_type": "stream",
     "text": [
      "\r\n",
      "  5%|████                                                                             | 16/317 [02:12<39:22,  7.85s/it]"
     ]
    },
    {
     "name": "stdout",
     "output_type": "stream",
     "text": [
      "The resulting mixture is stirred at 70° C. for 15 min then cooled to r.t.\n",
      "Output:\n",
      "    STIR for 15 min at 70° C; SETTEMPERATURE room temperature.\n",
      "=====================================================================================================\n"
     ]
    },
    {
     "name": "stderr",
     "output_type": "stream",
     "text": [
      "\r\n",
      "  5%|████▎                                                                            | 17/317 [02:22<43:01,  8.61s/it]"
     ]
    },
    {
     "name": "stdout",
     "output_type": "stream",
     "text": [
      "The liquid temperature was raised on an oil bath and was held at 110°C.\n",
      "Output:\n",
      "    SETTEMPERATURE 110°C.\n",
      "=====================================================================================================\n"
     ]
    },
    {
     "name": "stderr",
     "output_type": "stream",
     "text": [
      "\r\n",
      "  6%|████▌                                                                            | 18/317 [02:33<47:00,  9.43s/it]"
     ]
    },
    {
     "name": "stdout",
     "output_type": "stream",
     "text": [
      "This material was obtained as described in example 34 from the opposite enantiomer (3S,4R)-4-amino-piperidine-1,3-dicarboxylic acid 1-tert-butyl ester 3-methyl ester, thiazolidine and 2-(2-bromo-ethyl)-pyridine (synthesized according to Synthesis, 5, 1987, 452-455).\n",
      "Output:\n",
      "FOLLOWOTHERPROCEDURE.\n",
      "=====================================================================================================\n"
     ]
    },
    {
     "name": "stderr",
     "output_type": "stream",
     "text": [
      "\r\n",
      "  6%|████▊                                                                            | 19/317 [02:44<48:18,  9.73s/it]"
     ]
    },
    {
     "name": "stdout",
     "output_type": "stream",
     "text": [
      "A solution of 100 g of the methyl ester of 4-methyl-3-cyclohexene-1-carboxylic acid in 20 ml of dry tetrahydrofuran was added at 20°-30° C. with cooling by an ice bath.\n",
      "Output:\n",
      "MAKESOLUTION with methyl ester of 4-methyl-3-cyclohexene-1-carboxylic acid (100 g) and dry tetrahydrofuran (20 ml); SETTEMPERATURE 20°-30° C; SETTEMPERATURE 0 °C.\n",
      "=====================================================================================================\n"
     ]
    },
    {
     "name": "stderr",
     "output_type": "stream",
     "text": [
      "\r\n",
      "  6%|█████                                                                            | 20/317 [02:53<47:08,  9.52s/it]"
     ]
    },
    {
     "name": "stdout",
     "output_type": "stream",
     "text": [
      "1H NMR (400 MHz; CDCl3) δ: 0.84 (3H, t, J 7 Hz), 1.15-1.38 (5H, m), 1.65 (1 H, m), 1.75 (1 H, m), 1.84 (1 H, m), 2.04 (1 H, m), 2.38 (3H, s), 3.38 (1 H, m).\n",
      "Output:\n",
      "NOACTION.\n",
      "=====================================================================================================\n"
     ]
    },
    {
     "name": "stderr",
     "output_type": "stream",
     "text": [
      "\r\n",
      "  7%|█████▎                                                                           | 21/317 [03:04<48:37,  9.86s/it]"
     ]
    },
    {
     "name": "stdout",
     "output_type": "stream",
     "text": [
      "An attempt to filter this was unsuccessful, and the mixture was left to stand overnight.\n",
      "Output:\n",
      "    NOACTION; WAIT for overnight.\n",
      "=====================================================================================================\n"
     ]
    },
    {
     "name": "stderr",
     "output_type": "stream",
     "text": [
      "\r\n",
      "  7%|█████▌                                                                           | 22/317 [03:16<52:39, 10.71s/it]"
     ]
    },
    {
     "name": "stdout",
     "output_type": "stream",
     "text": [
      "The cooling bath was removed and the mixture was stirred at room temperature overnight.\n",
      "Output:\n",
      "    SETTEMPERATURE room temperature; STIR for overnight.\n",
      "=====================================================================================================\n"
     ]
    },
    {
     "name": "stderr",
     "output_type": "stream",
     "text": [
      "\r\n",
      "  7%|█████▉                                                                           | 23/317 [03:27<53:07, 10.84s/it]"
     ]
    },
    {
     "name": "stdout",
     "output_type": "stream",
     "text": [
      "Water was added to the reaction mixture, and the mixture was neutralized with 2N hydrochloric acid and extracted with ethyl acetate.\n",
      "Output:\n",
      "ADD water; PH with 2N hydrochloric acid to pH neutral; EXTRACT with ethyl acetate.\n",
      "=====================================================================================================\n"
     ]
    },
    {
     "name": "stderr",
     "output_type": "stream",
     "text": [
      "\r\n",
      "  8%|██████▏                                                                          | 24/317 [03:37<50:57, 10.44s/it]"
     ]
    },
    {
     "name": "stdout",
     "output_type": "stream",
     "text": [
      "Prepared by Procedure E and Scheme M using N-(3-{1-[5-(4-iodophenyl)-5-oxopentyl]-4-piperidinyl}phenyl)-2-methylpropanamide and 1-naphthylhydrazine hydrochloride: ESMS m/e: 656.1 (M+H)+.\n",
      "Output:\n",
      "FOLLOWOTHERPROCEDURE.\n",
      "=====================================================================================================\n"
     ]
    },
    {
     "name": "stderr",
     "output_type": "stream",
     "text": [
      "\r\n",
      "  8%|██████▍                                                                          | 25/317 [03:49<52:48, 10.85s/it]"
     ]
    },
    {
     "name": "stdout",
     "output_type": "stream",
     "text": [
      "The reaction mixture was poured into ice water, washed with diethyl ether, neutralized with 5 M aqueous solution of sodium hydroxide and extracted twice with ethyl acetate.\n",
      "Output:\n",
      "ADD ice water; WASH with diethyl ether; PH with 5 M aqueous solution of sodium hydroxide to pH neutral; EXTRACT with ethyl acetate 2 x.\n",
      "=====================================================================================================\n"
     ]
    },
    {
     "name": "stderr",
     "output_type": "stream",
     "text": [
      "\r\n",
      "  8%|██████▍                                                                        | 26/317 [04:11<1:09:04, 14.24s/it]"
     ]
    },
    {
     "name": "stdout",
     "output_type": "stream",
     "text": [
      "A solution of 2-[(3,6-dichloro-4-pyridazinyl)oxy]ethanol containing some bromo-derivative (15.46 g; 0.0703 mol) in dry 1,4-dioxane (1.2 L) was treated with lithium hydride (2.3 g; 0.28 mol) in portions and stirred at room temperature for 1 hour under argon, then heated at 110° C. overnight.\n",
      "Output: MAKESOLUTION with 2-[(3,6-dichloro-4-pyridazinyl)oxy]ethanol containing some bromo-derivative (15.46 g; 0.0703 mol) and dry 1,4-dioxane (1.2 L); ADD lithium hydride (2.3 g; 0.28 mol); STIR for 1 hour at room temperature under argon; SETTEMPERATURE 110 °C; WAIT overnight.\n",
      "=====================================================================================================\n"
     ]
    },
    {
     "name": "stderr",
     "output_type": "stream",
     "text": [
      "\r\n",
      "  9%|██████▉                                                                          | 27/317 [04:17<57:09, 11.82s/it]"
     ]
    },
    {
     "name": "stdout",
     "output_type": "stream",
     "text": [
      "2,8-Dimethyl-5-((2-(pyridin-4-yl)oxiran-2-yl)methyl)-2,3,4,5-tetrahydro-1H-pyrido[4,3-b]indole (100 mg, 0.3 mmol) was added to 2M dimethyl amine solution in THF (5 mL) and the reaction mixture was allowed to stir at 60° C. overnight.\n",
      "Output:\n",
      "ADD 2,8-Dimethyl-5-((2-(pyridin-4-yl)oxiran-2-yl)methyl)-2,3,4,5-tetrahydro-1H-pyrido[4,3-b]indole (100 mg, 0.3 mmol); ADD 2M dimethyl amine solution in THF (5 mL); STIR for overnight at 60° C.\n",
      "=====================================================================================================\n"
     ]
    },
    {
     "name": "stderr",
     "output_type": "stream",
     "text": [
      "\r\n",
      "  9%|███████▏                                                                         | 28/317 [04:22<47:13,  9.80s/it]"
     ]
    },
    {
     "name": "stdout",
     "output_type": "stream",
     "text": [
      "The reaction mixture was left to warm to room temperature for 48 hours.\n",
      "Output:\n",
      "    SETTEMPERATURE room temperature; WAIT for 48 hours.\n",
      "=====================================================================================================\n"
     ]
    },
    {
     "name": "stderr",
     "output_type": "stream",
     "text": [
      "\r\n",
      "  9%|███████▏                                                                       | 29/317 [04:43<1:02:28, 13.01s/it]"
     ]
    },
    {
     "name": "stdout",
     "output_type": "stream",
     "text": [
      "To a solution of 6-(3-fluoro-4-methoxyphenyl)-5-(4-methoxyphenyl)-2H-pyridazin-3-one (150 mg, 0.46 mmol) in N,N-dimethylformamide (1.5 ml), potassium carbonate (317.6 mg) and ethyl iodide (179.2 mg) were added, followed by stirring at 70° C. for 3 hours.\n",
      "Output:\n",
      "MAKESOLUTION with 6-(3-fluoro-4-methoxyphenyl)-5-(4-methoxyphenyl)-2H-pyridazin-3-one (150 mg, 0.46 mmol) and N,N-dimethylformamide (1.5 ml); ADD potassium carbonate (317.6 mg); ADD ethyl iodide (179.2 mg); STIR for 3 hours at 70° C.\n",
      "=====================================================================================================\n"
     ]
    },
    {
     "name": "stderr",
     "output_type": "stream",
     "text": [
      "\r\n",
      "  9%|███████▋                                                                         | 30/317 [04:45<47:19,  9.90s/it]"
     ]
    },
    {
     "name": "stdout",
     "output_type": "stream",
     "text": [
      "3-Nitro-phenol (1.00 g, 7.189 mmol) was treated with 4-bromo-benzyl bromide (1.976 g, 7.90 mmol) following the procedure of 189a providing the tile compound (2.1 g, 97%).\n",
      "Output:\n",
      "FOLLOWOTHERPROCEDURE; YIELD title compound (2.1 g, 97%).\n",
      "=====================================================================================================\n"
     ]
    },
    {
     "name": "stderr",
     "output_type": "stream",
     "text": [
      "\r\n",
      " 10%|███████▉                                                                         | 31/317 [04:56<47:56, 10.06s/it]"
     ]
    },
    {
     "name": "stdout",
     "output_type": "stream",
     "text": [
      "The reaction mixture was stirred for 4 hrs at −70° C. and then left to return to room temperature.\n",
      "Output:\n",
      "STIR for 4 hours at -70° C; SETTEMPERATURE room temperature.\n",
      "=====================================================================================================\n"
     ]
    },
    {
     "name": "stderr",
     "output_type": "stream",
     "text": [
      "\r\n",
      " 10%|████████▏                                                                        | 32/317 [05:08<50:19, 10.60s/it]"
     ]
    },
    {
     "name": "stdout",
     "output_type": "stream",
     "text": [
      "The same NaOH solution was then used to maintain pH at 9, and at costant pH the layers were separated.\n",
      "Output:\n",
      "PH with NaOH solution to pH 9; PHASESEPARATION.\n",
      "=====================================================================================================\n"
     ]
    },
    {
     "name": "stderr",
     "output_type": "stream",
     "text": [
      "\r\n",
      " 10%|████████▍                                                                        | 33/317 [05:19<51:08, 10.80s/it]"
     ]
    },
    {
     "name": "stdout",
     "output_type": "stream",
     "text": [
      "The title compound was prepared in a manner analogous to Example 15 utilizing Intermediate 17 and 2-chloro-benzooxazole.\n",
      "Output:\n",
      "FOLLOWOTHERPROCEDURE.\n",
      "=====================================================================================================\n"
     ]
    },
    {
     "name": "stderr",
     "output_type": "stream",
     "text": [
      "\r\n",
      " 11%|████████▋                                                                        | 34/317 [05:29<50:16, 10.66s/it]"
     ]
    },
    {
     "name": "stdout",
     "output_type": "stream",
     "text": [
      "1H NMR (CDCl3, 300 MHz): δ7.40-7.29 (m, 5H), 5.23-5.09 (m, 2H), 4.56-4.52 (m, 2H), 4.11-4.04 (m, 1H), 3.69 (s, 3H), 3.45-3.42 (m, 1H), 3.22-3.12 (m, 1H), 2.27-2.10 (m, 1H), 1.96 (m, 1H), 1.47 (s, 9H) ppm.\n",
      "Output:\n",
      "NOACTION.\n",
      "=====================================================================================================\n"
     ]
    },
    {
     "name": "stderr",
     "output_type": "stream",
     "text": [
      "\r\n",
      " 11%|████████▉                                                                        | 35/317 [05:40<50:19, 10.71s/it]"
     ]
    },
    {
     "name": "stdout",
     "output_type": "stream",
     "text": [
      "The mixture was stirred at the same temperature for additional 60 minutes and it was then allowed to cool down to room temperature.\n",
      "Output:\n",
      "    STIR for 60 minutes at same temperature; SETTEMPERATURE room temperature.\n",
      "=====================================================================================================\n"
     ]
    },
    {
     "name": "stderr",
     "output_type": "stream",
     "text": [
      "\r\n",
      " 11%|████████▉                                                                      | 36/317 [06:00<1:03:25, 13.54s/it]"
     ]
    },
    {
     "name": "stdout",
     "output_type": "stream",
     "text": [
      "The aqueous phase was extracted once more with ethyl acetate (100 ml) and the combined organic phase was washed with water (3×100 ml) and saturated aqueous sodium chloride (100 ml) before being dried (MgSO4), filtered and concentrated to an oily residue (3.9 g) which was used in the subsequent reaction without further purification: NMR (200 MHz; CDCl3, TMS) δ:7.9-7.2 (m,8H), 4.37 (s,2H), and 3.60 (s,3H).\n",
      "Output:\n",
      "EXTRACT with ethyl acetate (100 ml) 1 x; COLLECTLAYER organic; WASH with water (100 ml) 3 x; WASH with saturated aqueous sodium chloride (100 ml); DRYSOLUTION over MgSO4; FILTER keep filtrate; CONCENTRATE.\n",
      "=====================================================================================================\n"
     ]
    },
    {
     "name": "stderr",
     "output_type": "stream",
     "text": [
      "\r\n",
      " 12%|█████████▍                                                                       | 37/317 [06:03<48:18, 10.35s/it]"
     ]
    },
    {
     "name": "stdout",
     "output_type": "stream",
     "text": [
      "1H NMR (DMSO-d6) 7.18 (1H, t), 6.83 (1H, d), 6.78 (1H, d), 4.07 (2H, s), 4.02 (2H, s), 3.78 (3H, s).\n",
      "Output:\n",
      "NOACTION.\n",
      "=====================================================================================================\n"
     ]
    },
    {
     "name": "stderr",
     "output_type": "stream",
     "text": [
      "\r\n",
      " 12%|█████████▋                                                                       | 38/317 [06:14<49:25, 10.63s/it]"
     ]
    },
    {
     "name": "stdout",
     "output_type": "stream",
     "text": [
      "The reaction was left to stand for 20 minutes with occasional swirling.\n",
      "Output:\n",
      "WAIT for 20 minutes with occasional swirling.\n",
      "=====================================================================================================\n"
     ]
    },
    {
     "name": "stderr",
     "output_type": "stream",
     "text": [
      "\r\n",
      " 12%|█████████▉                                                                       | 39/317 [06:28<53:44, 11.60s/it]"
     ]
    },
    {
     "name": "stdout",
     "output_type": "stream",
     "text": [
      "The pale yellow solid 3-allyloxy-4-methoxynitrobenzene prepared above was added in portions over a 30 minute period and then the temperature was raised to 95° C. and maintained for 3 hours, after which time the starting material had been consumed.\n",
      "ADD 3-allyloxy-4-methoxynitrobenzene; WAIT for 30 minutes; SETTEMPERATURE 95° C; WAIT for 3 hours.\n",
      "=====================================================================================================\n"
     ]
    },
    {
     "name": "stderr",
     "output_type": "stream",
     "text": [
      "\r\n",
      " 13%|██████████▏                                                                      | 40/317 [06:40<54:05, 11.72s/it]"
     ]
    },
    {
     "name": "stdout",
     "output_type": "stream",
     "text": [
      "The title product is obtained as a red-brown solid (yield: 20.64 g (84%)).\n",
      "Output:\n",
      "YIELD title product (20.64 g, 84%).\n",
      "=====================================================================================================\n"
     ]
    },
    {
     "name": "stderr",
     "output_type": "stream",
     "text": [
      "\r\n",
      " 13%|██████████▍                                                                      | 41/317 [06:48<48:29, 10.54s/it]"
     ]
    },
    {
     "name": "stdout",
     "output_type": "stream",
     "text": [
      "The residue again was diluted with water (200 ml), neutralized with KOH pellets and extracted with CH2Cl2 (3×100 ml).\n",
      "Output:\n",
      "ADD water (200 ml); PH with KOH pellets to pH neutral; EXTRACT with CH2Cl2 (100 ml) 3 x.\n",
      "=====================================================================================================\n"
     ]
    },
    {
     "name": "stderr",
     "output_type": "stream",
     "text": [
      "\r\n",
      " 13%|██████████▋                                                                      | 42/317 [06:58<47:01, 10.26s/it]"
     ]
    },
    {
     "name": "stdout",
     "output_type": "stream",
     "text": [
      "After cooling to room temperature, the precipitated product is filtered and rinsed successively with cold triethyl orthoformate and heptane, then dried under vacuum.\n",
      "Output:\n",
      "SETTEMPERATURE room temperature; FILTER keep precipitate; WASH with cold triethyl orthoformate; WASH with heptane; DRYSOLID under vacuum.\n",
      "=====================================================================================================\n"
     ]
    },
    {
     "name": "stderr",
     "output_type": "stream",
     "text": [
      "\r\n",
      " 14%|██████████▉                                                                      | 43/317 [07:09<48:40, 10.66s/it]"
     ]
    },
    {
     "name": "stdout",
     "output_type": "stream",
     "text": [
      "When bubbling ceased, 1N HCl was added until the pH was ˜2.\n",
      "Output:\n",
      "    PH with 1N HCl until pH ˜2.\n",
      "=====================================================================================================\n"
     ]
    },
    {
     "name": "stderr",
     "output_type": "stream",
     "text": [
      "\r\n",
      " 14%|███████████▏                                                                     | 44/317 [07:20<49:17, 10.83s/it]"
     ]
    },
    {
     "name": "stdout",
     "output_type": "stream",
     "text": [
      "The reaction was allowed to warm to room temperature overnight and was quenched with saturated aqueous NH4Cl solution.\n",
      "Output:\n",
      "WAIT for overnight at room temperature; QUENCH with saturated aqueous NH4Cl solution.\n",
      "=====================================================================================================\n"
     ]
    },
    {
     "name": "stderr",
     "output_type": "stream",
     "text": [
      "\r\n",
      " 14%|███████████▏                                                                   | 45/317 [07:40<1:00:33, 13.36s/it]"
     ]
    },
    {
     "name": "stdout",
     "output_type": "stream",
     "text": [
      "3-Cyclobutyl-7-(piperidin-4-yloxy)-2,3,4,5-tetrahydro-1H-benzo[d]azepine (E6) (150 mg, 0.5 mmol) was stirred in dichloromethane (5 ml) with diethylaminomethyl polystyrene (3.2 mmol/g, 625 mg, 2 mmol).\n",
      "Output:\n",
      "ADD 3-Cyclobutyl-7-(piperidin-4-yloxy)-2,3,4,5-tetrahydro-1H-benzo[d]azepine (E6) (150 mg, 0.5 mmol) to dichloromethane (5 ml); STIR; ADD diethylaminomethyl polystyrene (625 mg, 3.2 mmol/g) 2 mmol.\n",
      "=====================================================================================================\n"
     ]
    },
    {
     "name": "stderr",
     "output_type": "stream",
     "text": [
      "\r\n",
      " 15%|███████████▊                                                                     | 46/317 [07:44<47:32, 10.53s/it]"
     ]
    },
    {
     "name": "stdout",
     "output_type": "stream",
     "text": [
      "The reaction mixture was heated to 60 °C to give a homogeneous solution that was maintained at 60 °C for 16 hours at which time the starting material was completely consumed.\n",
      "Output:\n",
      "SETTEMPERATURE 60 °C; WAIT for 16 hours.\n",
      "=====================================================================================================\n"
     ]
    },
    {
     "name": "stderr",
     "output_type": "stream",
     "text": [
      "\r\n",
      " 15%|████████████                                                                     | 47/317 [07:54<47:33, 10.57s/it]"
     ]
    },
    {
     "name": "stdout",
     "output_type": "stream",
     "text": [
      "To the residue were added ethyl acetate (3 ml) and heptane (3 ml) to precipitate a solid.\n",
      "Output:\n",
      "ADD ethyl acetate (3 ml); ADD heptane (3 ml); WAIT for precipitate.\n",
      "=====================================================================================================\n"
     ]
    },
    {
     "name": "stderr",
     "output_type": "stream",
     "text": [
      "\r\n",
      " 15%|███████████▉                                                                   | 48/317 [08:20<1:07:14, 15.00s/it]"
     ]
    },
    {
     "name": "stdout",
     "output_type": "stream",
     "text": [
      "To a stirred solution of 5-(4-bromophenyl)-1-[3-fluoro-4-(methylsulfonyl)phenyl]-3-(trifluoromethyl)-1H-pyrazole (0.15 g, 0.324 mmol) in DME (3.9 mL) was added furan -3-boronic acid (0.044 g, 0.389 mmol), bis(triphenylphosphine) palladium( II)chloride (0.025 g, 0.04 mmol) and saturated NaHCO3 solution (1.3 mL) at room temperature under nitrogen.\n",
      "Output:\n",
      "MAKESOLUTION with 5-(4-bromophenyl)-1-[3-fluoro-4-(methylsulfonyl)phenyl]-3-(trifluoromethyl)-1H-pyrazole (0.15 g, 0.324 mmol) and DME (3.9 mL); ADD furan -3-boronic acid (0.044 g, 0.389 mmol); ADD bis(triphenylphosphine) palladium( II)chloride (0.025 g, 0.04 mmol); ADD saturated NaHCO3 solution (1.3 mL); STIR for unknown at room temperature under nitrogen.\n",
      "=====================================================================================================\n"
     ]
    },
    {
     "name": "stderr",
     "output_type": "stream",
     "text": [
      "\r\n",
      " 15%|████████████▌                                                                    | 49/317 [08:25<54:02, 12.10s/it]"
     ]
    },
    {
     "name": "stdout",
     "output_type": "stream",
     "text": [
      "Yield 1.5 g (50.34%).\n",
      "Output:\n",
      "YIELD unknown compound (1.5 g, 50.34%).\n",
      "=====================================================================================================\n"
     ]
    },
    {
     "name": "stderr",
     "output_type": "stream",
     "text": [
      "\r\n",
      " 16%|████████████▊                                                                    | 50/317 [08:28<41:39,  9.36s/it]"
     ]
    },
    {
     "name": "stdout",
     "output_type": "stream",
     "text": [
      "Appl. (1992), GB 2253848 A1 was reacted with [2-methyl-5-(4-trifluoromethoxy-phenyl)-2H-pyrazol-3-yl]-methanol (example 11 d]) in the presence of N,N,N',N'-tetramethyl azodicarboxamide and tributylphosphine to give [rac]-2-{6-[2-methyl-5-(4-trifluoromethoxy-phenyl)-2H-pyrazol-3-ylmethoxy]-indol-1-yl}-propionic acid-ethyl ester as colorless oil.\n",
      "Output:\n",
      "FOLLOWOTHERPROCEDURE.\n",
      "=====================================================================================================\n"
     ]
    },
    {
     "name": "stderr",
     "output_type": "stream",
     "text": [
      "\r\n",
      " 16%|█████████████                                                                    | 51/317 [08:46<52:42, 11.89s/it]"
     ]
    },
    {
     "name": "stdout",
     "output_type": "stream",
     "text": [
      "Potassium hydroxide (3.65 g, 65.1 mmol) is added all at once to a suspension of 4-bromo-3-methyl-1-(4-methylbenzenesulphonyl)-1H-pyrrole-2-carbonitrile (4.66 g, 13.7 mmol) in methanol (95 mL) cooled using an ice bath.\n",
      "Output:\n",
      "SETTEMPERATURE 0 °C; ADD 4-bromo-3-methyl-1-(4-methylbenzenesulphonyl)-1H-pyrrole-2-carbonitrile (4.66 g, 13.7 mmol) and methanol (95 mL); ADD potassium hydroxide (3.65 g, 65.1 mmol).\n",
      "=====================================================================================================\n"
     ]
    },
    {
     "name": "stderr",
     "output_type": "stream",
     "text": [
      "\r\n",
      " 16%|█████████████▎                                                                   | 52/317 [08:50<42:51,  9.70s/it]"
     ]
    },
    {
     "name": "stdout",
     "output_type": "stream",
     "text": [
      "The reaction mixture was stirred for 3 hours, and then 300 ml of water was added.\n",
      "Output:\n",
      "STIR for 3 hours; ADD water (300 ml).\n",
      "=====================================================================================================\n"
     ]
    },
    {
     "name": "stderr",
     "output_type": "stream",
     "text": [
      "\r\n",
      " 17%|█████████████▌                                                                   | 53/317 [09:04<48:20, 10.99s/it]"
     ]
    },
    {
     "name": "stdout",
     "output_type": "stream",
     "text": [
      "The reaction was allowed to stir at room temperature for 92 hours and the mixture was poured into 2M aqueous hydrochloric acid (85ml) then diluted with water (170ml).\n",
      "Output:\n",
      "STIR for 92 hours at room temperature; ADD 2M aqueous hydrochloric acid (85ml); ADD water (170ml).\n",
      "=====================================================================================================\n"
     ]
    },
    {
     "name": "stderr",
     "output_type": "stream",
     "text": [
      "\r\n",
      " 17%|█████████████▊                                                                   | 54/317 [09:13<44:35, 10.17s/it]"
     ]
    },
    {
     "name": "stdout",
     "output_type": "stream",
     "text": [
      "Without further workup, the mixture is purified directly by preparative HPLC [Method 10].\n",
      "Output:\n",
      "PURIFY.\n",
      "=====================================================================================================\n"
     ]
    },
    {
     "name": "stderr",
     "output_type": "stream",
     "text": [
      "\r\n",
      " 17%|██████████████                                                                   | 55/317 [09:21<41:50,  9.58s/it]"
     ]
    },
    {
     "name": "stdout",
     "output_type": "stream",
     "text": [
      "The reaction vessel is sealed and the solution is left to stir for 20 h. EtOAc (50 mL) is added.\n",
      "Output:\n",
      "STIR for 20 hours; ADD EtOAc (50 mL).\n",
      "=====================================================================================================\n"
     ]
    },
    {
     "name": "stderr",
     "output_type": "stream",
     "text": [
      "\r\n",
      " 18%|██████████████▎                                                                  | 56/317 [09:30<40:47,  9.38s/it]"
     ]
    },
    {
     "name": "stdout",
     "output_type": "stream",
     "text": [
      "The reaction mixture is allowed to warm to room temperature and stirred overnight.\n",
      "Output:\n",
      "SETTEMPERATURE room temperature; STIR for overnight.\n",
      "=====================================================================================================\n"
     ]
    },
    {
     "name": "stderr",
     "output_type": "stream",
     "text": [
      "\r\n",
      " 18%|██████████████▌                                                                  | 57/317 [09:46<49:49, 11.50s/it]"
     ]
    },
    {
     "name": "stdout",
     "output_type": "stream",
     "text": [
      "The combined organic layers were washed with brine, dried over sodium sulfate, filtered, and concentrated to yield 2.98 g of N-{2-[4-amino-7-[(6-aminohexyl)oxy]-2-(ethoxymethyl)-1H-imidazo[4,5-c]quinolin-1-yl]-1,1-dimethylethyl}-N-isopropylurea as a dark orange solid.\n",
      "Output:COLLECTLAYER organic; WASH with brine; DRYSOLUTION over sodium sulfate; FILTER keep filtrate; CONCENTRATE; YIELD N-{2-[4-amino-7-[(6-aminohexyl)oxy]-2-(ethoxymethyl)-1H-imidazo[4,5-c]quinolin-1-yl]-1,1-dimethylethyl}-N-isopropylurea (2.98 g).\n",
      "=====================================================================================================\n"
     ]
    },
    {
     "name": "stderr",
     "output_type": "stream",
     "text": [
      "\r\n",
      " 18%|██████████████▊                                                                  | 58/317 [09:54<45:11, 10.47s/it]"
     ]
    },
    {
     "name": "stdout",
     "output_type": "stream",
     "text": [
      "3-Amino-2,4-dichloro-benzamide (2.00 g, 9.8 mmol) in THF (45 mL) was added dropwise to LiAlH4 (1 M in THF, 24.4 mL) in THF (45 mL).\n",
      "Output:\n",
      "MAKESOLUTION with 3-Amino-2,4-dichloro-benzamide (2.00 g, 9.8 mmol) and THF (45 mL); ADD LiAlH4 (1 M in THF) (24.4 mL).\n",
      "=====================================================================================================\n"
     ]
    },
    {
     "name": "stderr",
     "output_type": "stream",
     "text": [
      "\r\n",
      " 19%|███████████████                                                                  | 59/317 [10:05<46:07, 10.73s/it]"
     ]
    },
    {
     "name": "stdout",
     "output_type": "stream",
     "text": [
      "A further drop of methanesulfonyl chloride was added and the mixture continued to stir at RT for 30 min.\n",
      "Output:\n",
      "    ADD drop of methanesulfonyl chloride; STIR for 30 min at room temperature.\n",
      "=====================================================================================================\n"
     ]
    },
    {
     "name": "stderr",
     "output_type": "stream",
     "text": [
      "\r\n",
      " 19%|███████████████▎                                                                 | 60/317 [10:22<52:50, 12.34s/it]"
     ]
    },
    {
     "name": "stdout",
     "output_type": "stream",
     "text": [
      "The reaction mixture was cooled to −80° C., and a solution of tert-butyl 6-[(cyclopropylmethoxy)methyl]-6-hydroxy-1,4-oxazepane-4-carboxylate (Preparation 80, 50 g, 0.22 mol, 1 eq) in THF was added.\n",
      "Output:\n",
      "SETTEMPERATURE -80 °C; ADD tert-butyl 6-[(cyclopropylmethoxy)methyl]-6-hydroxy-1,4-oxazepane-4-carboxylate (50 g, 0.22 mol, 1 eq); ADD THF.\n",
      "=====================================================================================================\n"
     ]
    },
    {
     "name": "stderr",
     "output_type": "stream",
     "text": [
      "\r\n",
      " 19%|███████████████▌                                                                 | 61/317 [10:30<47:46, 11.20s/it]"
     ]
    },
    {
     "name": "stdout",
     "output_type": "stream",
     "text": [
      "After few hours, reaction mixture can be diluted with water and neutralize with hydrochloric acid, filter and recrystallize to give title compound.\n",
      "Output:\n",
      "WAIT for few hours; ADD water; PH with hydrochloric acid to pH neutral; FILTER keep precipitate; RECRYSTALLIZE; YIELD title compound.\n",
      "=====================================================================================================\n"
     ]
    },
    {
     "name": "stderr",
     "output_type": "stream",
     "text": [
      "\r\n",
      " 20%|███████████████▊                                                                 | 62/317 [10:39<45:18, 10.66s/it]"
     ]
    },
    {
     "name": "stdout",
     "output_type": "stream",
     "text": [
      "The reaction mixture was allowed to reach room temperature and stirred over night.\n",
      "Output:\n",
      "    SETTEMPERATURE room temperature; STIR for overnight.\n",
      "=====================================================================================================\n"
     ]
    },
    {
     "name": "stderr",
     "output_type": "stream",
     "text": [
      "\r\n",
      " 20%|████████████████                                                                 | 63/317 [10:48<42:11,  9.96s/it]"
     ]
    },
    {
     "name": "stdout",
     "output_type": "stream",
     "text": [
      "After the reaction is completed it was cooled to room temperature and extracted with ethyl acetate.\n",
      "Output:\n",
      "SETTEMPERATURE room temperature; EXTRACT with ethyl acetate.\n",
      "=====================================================================================================\n"
     ]
    },
    {
     "name": "stderr",
     "output_type": "stream",
     "text": [
      "\r\n",
      " 20%|████████████████▎                                                                | 64/317 [11:08<55:13, 13.10s/it]"
     ]
    },
    {
     "name": "stdout",
     "output_type": "stream",
     "text": [
      "The resulting precipitate was collected by filtration, washed with water and ether and dried for 4 hours at 60° C. under high vacuum to give 7-benzyloxy-3,4-dihydroquinazolin-4-one (7.02 g, 63%).\n",
      "Output:\n",
      "COLLECTLAYER precipitate; WASH with water; WASH with ether; DRYSOLID for 4 hours at 60° C under high vacuum; YIELD 7-benzyloxy-3,4-dihydroquinazolin-4-one (7.02 g, 63%).\n",
      "=====================================================================================================\n"
     ]
    },
    {
     "name": "stderr",
     "output_type": "stream",
     "text": [
      "\r\n",
      " 21%|████████████████▌                                                                | 65/317 [11:15<46:41, 11.12s/it]"
     ]
    },
    {
     "name": "stdout",
     "output_type": "stream",
     "text": [
      "After concentration, the residue was diluted with dichloromethane (200 mL/mmol), washed with water (62 mL/mmol x 3).\n",
      "Output:\n",
      "    CONCENTRATE; ADD dichloromethane (200 mL/mmol); WASH with water (62 mL/mmol) 3 x.\n",
      "=====================================================================================================\n"
     ]
    },
    {
     "name": "stderr",
     "output_type": "stream",
     "text": [
      "\r\n",
      " 21%|████████████████▊                                                                | 66/317 [11:24<43:45, 10.46s/it]"
     ]
    },
    {
     "name": "stdout",
     "output_type": "stream",
     "text": [
      "The cooled mixture was concentrated in vacuo and the residue was triturated with water followed by adjustment to pH <2 with 1M hydrochloric acid.\n",
      "Output:\n",
      "CONCENTRATE; TRITURATE with water; PH with 1M hydrochloric acid to pH <2.\n",
      "=====================================================================================================\n"
     ]
    },
    {
     "name": "stderr",
     "output_type": "stream",
     "text": [
      "\r\n",
      " 21%|█████████████████                                                                | 67/317 [11:35<44:29, 10.68s/it]"
     ]
    },
    {
     "name": "stdout",
     "output_type": "stream",
     "text": [
      "The reaction mixture was allowed to stir at room temperature for 1 hour before refluxing overnight.\n",
      "Output:\n",
      "    STIR for 1 hour at room temperature; REFLUX overnight.\n",
      "=====================================================================================================\n"
     ]
    },
    {
     "name": "stderr",
     "output_type": "stream",
     "text": [
      "\r\n",
      " 21%|████████████████▉                                                              | 68/317 [11:59<1:00:46, 14.64s/it]"
     ]
    },
    {
     "name": "stdout",
     "output_type": "stream",
     "text": [
      "To a solution of (R)-1-(3-fluoro-5-(1,1,2,2-tetrafluoroethoxy)phenyl)-1-(4-fluorophenyl)-2-phenylethanamine (31 mg, 0.07 mmol), prepared as described in Procedure 3, 4, 5 and 6, in DCM (1 mL) was added (9H-fluoren-9-yl)methyl 1-amino-4,4,4-trifluoro-1-oxobutan-2-ylcarbamate (31 mg, 0.08 mmol), followed by PyBrOP and iPr2NEt.\n",
      "Output:\n",
      "    MAKESOLUTION with (R)-1-(3-fluoro-5-(1,1,2,2-tetrafluoroethoxy)phenyl)-1-(4-fluorophenyl)-2-phenylethanamine (31 mg, 0.07 mmol) and DCM (1 mL); ADD (9H-fluoren-9-yl)methyl 1-amino-4,4,4-trifluoro-1-oxobutan-2-ylcarbamate (31 mg, 0.08 mmol); ADD PyBrOP; ADD iPr2NEt.\n",
      "=====================================================================================================\n"
     ]
    },
    {
     "name": "stderr",
     "output_type": "stream",
     "text": [
      "\r\n",
      " 22%|█████████████████▋                                                               | 69/317 [12:02<46:23, 11.22s/it]"
     ]
    },
    {
     "name": "stdout",
     "output_type": "stream",
     "text": [
      "The reaction was allowed to warm to room temperature and stirred for 1 hour.\n",
      "Output:\n",
      "SETTEMPERATURE room temperature; STIR for 1 hour.\n",
      "=====================================================================================================\n"
     ]
    },
    {
     "name": "stderr",
     "output_type": "stream",
     "text": [
      "\r\n",
      " 22%|█████████████████▉                                                               | 70/317 [12:11<43:05, 10.47s/it]"
     ]
    },
    {
     "name": "stdout",
     "output_type": "stream",
     "text": [
      "Mixture was then cooled and purified by prep HPLC to desired product (24 mg, 0.039 mmol, 62.7 % yield) as white solid.\n",
      "Output: SETTEMPERATURE room temperature; PURIFY; YIELD desired product (24 mg, 0.039 mmol, 62.7%).\n",
      "=====================================================================================================\n"
     ]
    },
    {
     "name": "stderr",
     "output_type": "stream",
     "text": [
      "\r\n",
      " 22%|██████████████████▏                                                              | 71/317 [12:21<43:16, 10.56s/it]"
     ]
    },
    {
     "name": "stdout",
     "output_type": "stream",
     "text": [
      "1H NMR (500 MHz, DMSO-d6) δ ppm 12.15 (1H, s), 8.47 (1H, d, J=8.24 Hz), 8.19 (1H, s), 8.04 (1H, s), 7.65 (1H, dd, J=8.24, 1.53 Hz), 3.63-3.72 (4H, m), 2.87-3.02 (5H, m).\n",
      "Output: \n",
      "NOACTION.\n",
      "=====================================================================================================\n"
     ]
    },
    {
     "name": "stderr",
     "output_type": "stream",
     "text": [
      "\r\n",
      " 23%|██████████████████▍                                                              | 72/317 [12:41<54:42, 13.40s/it]"
     ]
    },
    {
     "name": "stdout",
     "output_type": "stream",
     "text": [
      "A solution of 3-chloroperbenzoic acid (60.3 mg, 0.27 mmol) in dichloromethane (2 mL) at 0° C. was treated with 4-(difluoromethylsulfanyl)-7-fluoro-3H-isobenzofuran-1-one (18 mg, 0.08 mmol) and left to stir 2 days at room temperature.\n",
      "Output:\n",
      "MAKESOLUTION with 3-chloroperbenzoic acid (60.3 mg, 0.27 mmol) and dichloromethane (2 mL); SETTEMPERATURE 0 °C; ADD 4-(difluoromethylsulfanyl)-7-fluoro-3H-isobenzofuran-1-one (18 mg, 0.08 mmol); STIR for 2 days at room temperature.\n",
      "=====================================================================================================\n"
     ]
    },
    {
     "name": "stderr",
     "output_type": "stream",
     "text": [
      "\r\n",
      " 23%|██████████████████▋                                                              | 73/317 [12:48<45:31, 11.20s/it]"
     ]
    },
    {
     "name": "stdout",
     "output_type": "stream",
     "text": [
      "Partition between water (100 mL) and ethyl acetate (100 mL), wash the aqueous layer with ethyl acetate (2×100 mL), combine the organic layers, wash with water (5×100 mL) and aqueous NaCl solution (100 mL).\n",
      "Output:\n",
      "PARTITION with water (100 mL) and ethyl acetate (100 mL); WASH with water; EXTRACT with ethyl acetate (100 mL) 2x; COLLECTLAYER organic; WASH with water (100 mL) 5x; WASH with aqueous NaCl solution (100 mL).\n",
      "=====================================================================================================\n"
     ]
    },
    {
     "name": "stderr",
     "output_type": "stream",
     "text": [
      "\r\n",
      " 23%|██████████████████▉                                                              | 74/317 [12:58<44:12, 10.91s/it]"
     ]
    },
    {
     "name": "stdout",
     "output_type": "stream",
     "text": [
      "The organic layer was washed with a saturated sodium chloride aqueous solution and dried over anhydrous sodium sulfate.\n",
      "Output:\n",
      "COLLECTLAYER organic; WASH with saturated sodium chloride aqueous solution; DRYSOLUTION over anhydrous sodium sulfate.\n",
      "=====================================================================================================\n"
     ]
    },
    {
     "name": "stderr",
     "output_type": "stream",
     "text": [
      "\r\n",
      " 24%|███████████████████▏                                                             | 75/317 [13:16<52:22, 12.98s/it]"
     ]
    },
    {
     "name": "stdout",
     "output_type": "stream",
     "text": [
      "A mixture of {4-[4-(6-amino-5-benzothiazol-2-ylpyridin-3-yl)-pyrazol-1-yl]-piperidin-1-yl}-acetic acid (10.0 mg, 0.0184 mmol), NH4Cl (2.0 mg, 0.037 mmol), TBTU (8.86 mg, 0.0276 mmol) and DMF (1 mL) was charged with DIPEA (0.03 mL, 0.2 mmol) and allowed to stir at rt for 10 min.\n",
      "Output: \n",
      "MAKESOLUTION with {4-[4-(6-amino-5-benzothiazol-2-ylpyridin-3-yl)-pyrazol-1-yl]-piperidin-1-yl}-acetic acid (10.0 mg, 0.0184 mmol) and NH4Cl (2.0 mg, 0.037 mmol) and TBTU (8.86 mg, 0.0276 mmol) and DMF (1 mL); ADD DIPEA (0.03 mL, 0.2 mmol); STIR for 10 min at room temperature.\n",
      "=====================================================================================================\n"
     ]
    },
    {
     "name": "stderr",
     "output_type": "stream",
     "text": [
      "\r\n",
      " 24%|███████████████████▍                                                             | 76/317 [13:21<43:18, 10.78s/it]"
     ]
    },
    {
     "name": "stdout",
     "output_type": "stream",
     "text": [
      "A solution of potassium hydroxide in isopropanol was added, and the mixture was stirred at 45° C. for 1 hour.\n",
      "Output:\n",
      "ADD solution of potassium hydroxide in isopropanol; STIR for 1 hour at 45° C.\n",
      "=====================================================================================================\n"
     ]
    },
    {
     "name": "stderr",
     "output_type": "stream",
     "text": [
      "\r\n",
      " 24%|███████████████████▋                                                             | 77/317 [13:35<46:42, 11.68s/it]"
     ]
    },
    {
     "name": "stdout",
     "output_type": "stream",
     "text": [
      "Under ice cooling 205.4 g of bromoacetone was added to a solution of the oily substance in 1000 ml of ether.\n",
      "Output:\n",
      "SETTEMPERATURE 0 °C; MAKESOLUTION with oily substance and ether (1000 ml); ADD bromoacetone (205.4 g).\n",
      "=====================================================================================================\n"
     ]
    },
    {
     "name": "stderr",
     "output_type": "stream",
     "text": [
      "\r\n",
      " 25%|███████████████████▉                                                             | 78/317 [13:46<45:26, 11.41s/it]"
     ]
    },
    {
     "name": "stdout",
     "output_type": "stream",
     "text": [
      "The organic layer was dried over Na2SO4 and evaporated to dryness.\n",
      "Output:\n",
      "COLLECTLAYER organic; DRYSOLUTION over Na2SO4; CONCENTRATE.\n",
      "=====================================================================================================\n"
     ]
    },
    {
     "name": "stderr",
     "output_type": "stream",
     "text": [
      "\r\n",
      " 25%|████████████████████▏                                                            | 79/317 [13:54<41:33, 10.48s/it]"
     ]
    },
    {
     "name": "stdout",
     "output_type": "stream",
     "text": [
      "The reaction mixture was allowed to cool to RT and treated with H2O (10 mL).\n",
      "Output:\n",
      "SETTEMPERATURE room temperature; ADD H2O (10 mL).\n",
      "=====================================================================================================\n"
     ]
    },
    {
     "name": "stderr",
     "output_type": "stream",
     "text": [
      "\r\n",
      " 25%|████████████████████▍                                                            | 80/317 [14:05<42:04, 10.65s/it]"
     ]
    },
    {
     "name": "stdout",
     "output_type": "stream",
     "text": [
      "The obtained mixture was stirred at room temperature for 3 hr, neutralized with 1M hydrochloric acid at 0° C., and extracted with ethyl acetate.\n",
      "Output:\n",
      "STIR at room temperature for 3 hr; PH with 1M hydrochloric acid to pH neutral at 0° C.; EXTRACT with ethyl acetate.\n",
      "=====================================================================================================\n"
     ]
    },
    {
     "name": "stderr",
     "output_type": "stream",
     "text": [
      "\r\n",
      " 26%|████████████████████▋                                                            | 81/317 [14:16<41:48, 10.63s/it]"
     ]
    },
    {
     "name": "stdout",
     "output_type": "stream",
     "text": [
      "Upon complete addition, the reaction mixture was allowed to warm to room temperature and the reaction was stirred for about 12 hours.\n",
      "Output:\n",
      "SETTEMPERATURE room temperature; STIR for 12 hours.\n",
      "=====================================================================================================\n"
     ]
    },
    {
     "name": "stderr",
     "output_type": "stream",
     "text": [
      "\r\n",
      " 26%|████████████████████▉                                                            | 82/317 [14:30<45:32, 11.63s/it]"
     ]
    },
    {
     "name": "stdout",
     "output_type": "stream",
     "text": [
      "Column chromatography (EA/AcOH/DCM/iso-hexanes) gave 0.22 g (74%) of (S)-5-(tert-butyl)-N-(1-(methylsulfonamido)-1-oxo-3-(4-(4,4,5,5-tetramethyl-1,3,2-dioxaborolan-2-yl)phenyl)propan-2-yl)thiophene-2-carboxamide as a white solid (INT-81).\n",
      "Output:\n",
      "PURIFY; YIELD (S)-5-(tert-butyl)-N-(1-(methylsulfonamido)-1-oxo-3-(4-(4,4,5,5-tetramethyl-1,3,2-dioxaborolan-2-yl)phenyl)propan-2-yl)thiophene-2-carboxamide (0.22 g, 74%).\n",
      "=====================================================================================================\n"
     ]
    },
    {
     "name": "stderr",
     "output_type": "stream",
     "text": [
      "\r\n",
      " 26%|█████████████████████▏                                                           | 83/317 [14:39<42:48, 10.98s/it]"
     ]
    },
    {
     "name": "stdout",
     "output_type": "stream",
     "text": [
      "The solid was then suspended in water and basified with sodium hydroxide.\n",
      "Output:\n",
      "ADD water; PH with sodium hydroxide to pH basic.\n",
      "=====================================================================================================\n"
     ]
    },
    {
     "name": "stderr",
     "output_type": "stream",
     "text": [
      "\r\n",
      " 26%|█████████████████████▍                                                           | 84/317 [14:52<45:08, 11.62s/it]"
     ]
    },
    {
     "name": "stdout",
     "output_type": "stream",
     "text": [
      "The bacterial culture was maintained in darkness at 28°C.\n",
      "Output:\n",
      "SETTEMPERATURE 28 °C; WAIT in darkness.\n",
      "=====================================================================================================\n"
     ]
    },
    {
     "name": "stderr",
     "output_type": "stream",
     "text": [
      "\r\n",
      " 27%|█████████████████████▋                                                           | 85/317 [15:02<43:10, 11.17s/it]"
     ]
    },
    {
     "name": "stdout",
     "output_type": "stream",
     "text": [
      "Water was added thereto followed by stirring, the solution was extracted with ethyl acetate, then sequentially washed with water and brine, and the solvent was evaporated in vacuo.\n",
      "Output:\n",
      "ADD water; STIR for unknown; EXTRACT with ethyl acetate; WASH with water; WASH with brine; CONCENTRATE.\n",
      "=====================================================================================================\n"
     ]
    },
    {
     "name": "stderr",
     "output_type": "stream",
     "text": [
      "\r\n",
      " 27%|█████████████████████▉                                                           | 86/317 [15:13<42:49, 11.13s/it]"
     ]
    },
    {
     "name": "stdout",
     "output_type": "stream",
     "text": [
      "The extract was washed with diethyl ether and neutralized with aqueous saturated sodium hydrogen carbonate.\n",
      "Output:\n",
      "EXTRACT with diethyl ether; PH with saturated sodium hydrogen carbonate to pH neutral.\n",
      "=====================================================================================================\n"
     ]
    },
    {
     "name": "stderr",
     "output_type": "stream",
     "text": [
      "\r\n",
      " 27%|██████████████████████▏                                                          | 87/317 [15:24<42:32, 11.10s/it]"
     ]
    },
    {
     "name": "stdout",
     "output_type": "stream",
     "text": [
      "The suspension is then stirred at room temperature for 30 minutes and poured on ice.\n",
      "Output: STIR for 30 minutes at room temperature; ADD ice.\n",
      "=====================================================================================================\n"
     ]
    },
    {
     "name": "stderr",
     "output_type": "stream",
     "text": [
      "\r\n",
      " 28%|██████████████████████▍                                                          | 88/317 [15:49<58:11, 15.25s/it]"
     ]
    },
    {
     "name": "stdout",
     "output_type": "stream",
     "text": [
      "Using 4-(4-{2-[bis-(4-methoxy-benzyl)-amino]-pyrimidin-5-yl}-2-morpholin-4-yl-5,6-dihydro-pyrrolo[2,3-d]pyrimidin-7-yl)-benzoic acid (50.0 mg, 0.0758 mmol) obtained in Step A in Example 1-D-19 and N,N,N'-trimethyl-1,3-propanediamine (22.2 µl, 0.152 mmol) instead of 3-(aminomethyl)pyridine, amidation was conducted in the same manner as Step B in Example 1-D-19, to obtain a crude product of 4-[4-{2-[bis-(4-methoxy-benzyl)-amino]-pyrimidin-5-yl}-2-morpholin-4-yl-5,6-dihydro-pyrrolo[2,3-d]pyrimidin-7-yl]- N-(3-dimethylamino-propyl)-N-methyl-benzamide as a yellow liquid (37.5 mg), and then the PMB groups were removed according to the above Deprotection method 2, to obtain the desired compound (D-92) as a yellow powder (25.5 mg, 65%).\n",
      "Output:\n",
      "FOLLOWOTHERPROCEDURE; YIELD crude product of 4-[4-{2-[bis-(4-methoxy-benzyl)-amino]-pyrimidin-5-yl}-2-morpholin-4-yl-5,6-dihydro-pyrrolo[2,3-d]pyrimidin-7-yl]- N-(3-dimethylamino-propyl)-N-methyl-benzamide (37.5 mg); FOLLOWOTHERPROCEDURE; YIELD desired compound (D-92) (25.5 mg, 65%).\n",
      "=====================================================================================================\n"
     ]
    },
    {
     "name": "stderr",
     "output_type": "stream",
     "text": [
      "\r\n",
      " 28%|██████████████████████▋                                                          | 89/317 [15:52<43:40, 11.49s/it]"
     ]
    },
    {
     "name": "stdout",
     "output_type": "stream",
     "text": [
      "The mixture was then treated with 2-amino-6-chloropyridine (86 mg, 0.67 mmol).\n",
      "Output:\n",
      "ADD 2-amino-6-chloropyridine (86 mg, 0.67 mmol).\n",
      "=====================================================================================================\n"
     ]
    },
    {
     "name": "stderr",
     "output_type": "stream",
     "text": [
      "\r\n",
      " 28%|██████████████████████▉                                                          | 90/317 [16:00<38:53, 10.28s/it]"
     ]
    },
    {
     "name": "stdout",
     "output_type": "stream",
     "text": [
      "The solvent was removed under high vacuum.\n",
      "Output: CONCENTRATE under high vacuum.\n",
      "=====================================================================================================\n"
     ]
    },
    {
     "name": "stderr",
     "output_type": "stream",
     "text": [
      "\r\n",
      " 29%|███████████████████████▎                                                         | 91/317 [16:18<47:37, 12.64s/it]"
     ]
    },
    {
     "name": "stdout",
     "output_type": "stream",
     "text": [
      "In an oven-dried flask, trimethylsilylacetylene (7.02 g, 71.5 mmol) was dissolved in pentane (60 mL), and cooled to 0° C. in an ice bath. n-Butyllithium (26 mL, 2.5 M in hexanes, 65 mmol,) was added dropwise and the temperature was maintained for an hour.\n",
      "Output:\n",
      "    MAKESOLUTION with trimethylsilylacetylene (7.02 g, 71.5 mmol) and pentane (60 mL); SETTEMPERATURE 0 °C; ADD n-Butyllithium ‌(2.5 M in hexanes) (26 mL, 65 mmol); STIR for 1 hour at 0 °C.\n",
      "=====================================================================================================\n"
     ]
    },
    {
     "name": "stderr",
     "output_type": "stream",
     "text": [
      "\r\n",
      " 29%|███████████████████████▌                                                         | 92/317 [16:24<39:57, 10.66s/it]"
     ]
    },
    {
     "name": "stdout",
     "output_type": "stream",
     "text": [
      "The combined organics were washed with saturated aqueous sodium hydrogen carbonate, followed by brine, then filtered through a phase separator and concentrated in vacuo.\n",
      "Output:\n",
      "COLLECTLAYER organic; WASH with saturated aqueous sodium hydrogen carbonate; WASH with brine; FILTER keep filtrate; CONCENTRATE.\n",
      "=====================================================================================================\n"
     ]
    },
    {
     "name": "stderr",
     "output_type": "stream",
     "text": [
      "\r\n",
      " 29%|███████████████████████▊                                                         | 93/317 [16:38<44:16, 11.86s/it]"
     ]
    },
    {
     "name": "stdout",
     "output_type": "stream",
     "text": [
      "Pd(PPh3)2Cl2 (10 mg, 0.01 mmol) in a 10 mL of flask under Ar2 was treated sequentially with 2'-amino-6-bromo-1'-methyl-2-phenylspiro[chroman-4,4'-imidazol]-5'(1'H)- one (20 mg, 0.052 mmol) in 1,4-dioxane (1 mL), Cs2CO3 (2 N, 0.3 mL) and 4-(benzyloxy)phenylboronic acid (24 mg, 0.104 mmol).\n",
      "Output:\n",
      "ADD Pd(PPh3)2Cl2 (10 mg, 0.01 mmol) in 10 mL flask under Ar2; ADD 2'-amino-6-bromo-1'-methyl-2-phenylspiro[chroman-4,4'-imidazol]-5'(1'H)- one (20 mg, 0.052 mmol) in 1,4-dioxane (1 mL); ADD Cs2CO3 (2 N, 0.3 mL); ADD 4-(benzyloxy)phenylboronic acid (24 mg, 0.104 mmol).\n",
      "=====================================================================================================\n"
     ]
    },
    {
     "name": "stderr",
     "output_type": "stream",
     "text": [
      "\r\n",
      " 30%|████████████████████████                                                         | 94/317 [16:44<37:17, 10.03s/it]"
     ]
    },
    {
     "name": "stdout",
     "output_type": "stream",
     "text": [
      "The reaction mixture was allowed to warm to ambient temperature and then poured onto ice and stirred vigorously.\n",
      "Output:\n",
      "SETTEMPERATURE room temperature; ADD ice; STIR for unknown.\n",
      "=====================================================================================================\n"
     ]
    },
    {
     "name": "stderr",
     "output_type": "stream",
     "text": [
      "\r\n",
      " 30%|████████████████████████▎                                                        | 95/317 [16:54<36:20,  9.82s/it]"
     ]
    },
    {
     "name": "stdout",
     "output_type": "stream",
     "text": [
      "The mixture was left to boil at reflux overnight, then evaporated and the residue was taken up in methylene chloride.\n",
      "Output:\n",
      "REFLUX for overnight; CONCENTRATE; ADD methylene chloride.\n",
      "=====================================================================================================\n"
     ]
    },
    {
     "name": "stderr",
     "output_type": "stream",
     "text": [
      "\r\n",
      " 30%|████████████████████████▌                                                        | 96/317 [17:04<37:27, 10.17s/it]"
     ]
    },
    {
     "name": "stdout",
     "output_type": "stream",
     "text": [
      "After another hour stirring, to the solution was added sat. NaHCO3 solution (50 mL) slowly, and the resulting mixture was extracted with DCM (3×50 mL).\n",
      "Output:\n",
      "    WAIT for 1 hour; ADD sat. NaHCO3 solution (50 mL); EXTRACT with DCM (50 mL) 3 x.\n",
      "=====================================================================================================\n"
     ]
    },
    {
     "name": "stderr",
     "output_type": "stream",
     "text": [
      "\r\n",
      " 31%|████████████████████████▊                                                        | 97/317 [17:16<38:52, 10.60s/it]"
     ]
    },
    {
     "name": "stdout",
     "output_type": "stream",
     "text": [
      "The reaction was stirred for 15 min at 0° C., warmed to 60° C., stirred for an additional 15 min, cooled to room temperature, and left to stir overnight.\n",
      "Output:\n",
      "SETTEMPERATURE 0 °C; STIR for 15 min; SETTEMPERATURE 60 °C; STIR for 15 min; SETTEMPERATURE room temperature; STIR for overnight.\n",
      "=====================================================================================================\n"
     ]
    },
    {
     "name": "stderr",
     "output_type": "stream",
     "text": [
      "\r\n",
      " 31%|█████████████████████████                                                        | 98/317 [17:27<38:45, 10.62s/it]"
     ]
    },
    {
     "name": "stdout",
     "output_type": "stream",
     "text": [
      "The reaction mixture was cooled down to −78° C. and n-butyllithium (2.5 M, 50 mL) was slowly added dropwise maintaining the temperature below −70° C.\n",
      "Output:\n",
      "SETTEMPERATURE -78° C; ADD n-butyllithium (2.5 M, 50 mL); MAINTAINTEMPERATURE -70° C.\n",
      "=====================================================================================================\n"
     ]
    },
    {
     "name": "stderr",
     "output_type": "stream",
     "text": [
      "\r\n",
      " 31%|█████████████████████████▎                                                       | 99/317 [17:51<53:26, 14.71s/it]"
     ]
    },
    {
     "name": "stdout",
     "output_type": "stream",
     "text": [
      "1-Methoxymethyl-2-oxo-3-amino-5-phenyl-8-methoxy-1,3,4,5-tetrahydro-2H-1,5-benzodiazepine(200 mg) was dissolved in 25% hydrobromic acid-acetic acid solution(1 ml),the solution was stirred for 2 hours.\n",
      "Output:\n",
      "MAKESOLUTION with 1-Methoxymethyl-2-oxo-3-amino-5-phenyl-8-methoxy-1,3,4,5-tetrahydro-2H-1,5-benzodiazepine (200 mg) and 25% hydrobromic acid-acetic acid solution (1 ml); ADD SLN; STIR for 2 hours.\n",
      "=====================================================================================================\n"
     ]
    },
    {
     "name": "stderr",
     "output_type": "stream",
     "text": [
      "\r\n",
      " 32%|█████████████████████████▏                                                      | 100/317 [18:07<54:07, 14.97s/it]"
     ]
    },
    {
     "name": "stdout",
     "output_type": "stream",
     "text": [
      "To a solution of methyl 3-[(tert-butoxycarbonyl)amino]-2-(5-chloro-2-methoxybenzyl)propanoate (500 mg) in methanol (5 ml), 5N aqueous sodium hydroxide solution (0.84 ml) was added under ice cooling and the mixture was stirred at that temperature for 16 hours.\n",
      "Output:\n",
      "MAKESOLUTION with methyl 3-[(tert-butoxycarbonyl)amino]-2-(5-chloro-2-methoxybenzyl)propanoate (500 mg) and methanol (5 ml); ADD 5N aqueous sodium hydroxide solution (0.84 ml); SETTEMPERATURE 0 °C; STIR for 16 hours at 0 °C.\n",
      "=====================================================================================================\n"
     ]
    },
    {
     "name": "stderr",
     "output_type": "stream",
     "text": [
      "\r\n",
      " 32%|█████████████████████████▍                                                      | 101/317 [18:15<47:12, 13.12s/it]"
     ]
    },
    {
     "name": "stdout",
     "output_type": "stream",
     "text": [
      "The solid was suction filtered to give 1.7 g of 2-[(2-cyanoethyl)[2-(1H-imidazol-1-yl)-6-methyl-4-pyrimidinyl]amino]acetamide.\n",
      "Output:\n",
      "FILTER keep precipitate; YIELD 2-[(2-cyanoethyl)[2-(1H-imidazol-1-yl)-6-methyl-4-pyrimidinyl]amino]acetamide (1.7 g).\n",
      "=====================================================================================================\n"
     ]
    },
    {
     "name": "stderr",
     "output_type": "stream",
     "text": [
      "\r\n",
      " 32%|█████████████████████████▋                                                      | 102/317 [18:29<47:30, 13.26s/it]"
     ]
    },
    {
     "name": "stdout",
     "output_type": "stream",
     "text": [
      "To a stirred and cooled (ice-bath) mixture of 13.0 g of 3,4-difluorophenol and 200 ml of N,N-dimethylformamide, there were added 4.8 g of a dispersion of sodium hydride in mineral oil (50%) and, after stirring for 1 hour, a solution of 22.8 g of (S)-(oxiranylmethyl) 4-methylbenzenesulfonate (ester) in some N,N-dimethylformamide.\n",
      "Output:\n",
      "SETTEMPERATURE 0 °C; MAKESOLUTION with 3,4-difluorophenol (13.0 g) and N,N-dimethylformamide (200 ml); ADD NaH/mineral oil dispersion (4.8 g) ; STIR for 1 hour; ADD SLN with (S)-(oxiranylmethyl) 4-methylbenzenesulfonate (ester) in N,N-dimethylformamide.\n",
      "=====================================================================================================\n"
     ]
    },
    {
     "name": "stderr",
     "output_type": "stream",
     "text": [
      "\r\n",
      " 32%|█████████████████████████▉                                                      | 103/317 [18:37<42:05, 11.80s/it]"
     ]
    },
    {
     "name": "stdout",
     "output_type": "stream",
     "text": [
      "A solution of solid sodium metal (450 mg, 19.75 mmol) in EtOH at 30° C. was treated with ethyl acetoacetate (103 g, 790 mmol) maintaining temperature.\n",
      "Output:\n",
      "MAKESOLUTION with sodium metal (450 mg, 19.75 mmol) in EtOH; SETTEMPERATURE 30° C.; ADD ethyl acetoacetate (103 g, 790 mmol); STIR at 30° C.\n",
      "=====================================================================================================\n"
     ]
    },
    {
     "name": "stderr",
     "output_type": "stream",
     "text": [
      "\r\n",
      " 33%|██████████████████████████▏                                                     | 104/317 [18:42<34:19,  9.67s/it]"
     ]
    },
    {
     "name": "stdout",
     "output_type": "stream",
     "text": [
      "After evaporation of the solvent, the residue was diluted with water, neutralized with an aqueous solution of sodium hydrogencarbonate, and extracted three times with chloroform.\n",
      "Output:\n",
      "CONCENTRATE; ADD water; PH with an aqueous solution of sodium hydrogencarbonate to pH neutral; EXTRACT with chloroform 3 x.\n",
      "=====================================================================================================\n"
     ]
    },
    {
     "name": "stderr",
     "output_type": "stream",
     "text": [
      "\r\n",
      " 33%|██████████████████████████▍                                                     | 105/317 [19:00<42:32, 12.04s/it]"
     ]
    },
    {
     "name": "stdout",
     "output_type": "stream",
     "text": [
      "To a solution of N-{2,6-difluoro-4-[1-(2-methyl-propane-2-sulfinylimino)-ethyl]-phenyl}-methanesulfonamide (2.2 g, 6.24 mmol) in THF (20 mL) was added portionwise NaBH4 (944 mg, 24.9 mmol) dissolved in THF (2 mL) at −48° C.\n",
      "Output:\n",
      "MAKESOLUTION with N-{2,6-difluoro-4-[1-(2-methyl-propane-2-sulfinylimino)-ethyl]-phenyl}-methanesulfonamide (2.2 g, 6.24 mmol) and THF (20 mL); SETTEMPERATURE -48° C; ADD NaBH4 (944 mg, 24.9 mmol) dissolved in THF (2 mL).\n",
      "=====================================================================================================\n"
     ]
    },
    {
     "name": "stderr",
     "output_type": "stream",
     "text": [
      "\r\n",
      " 33%|██████████████████████████▊                                                     | 106/317 [19:07<37:40, 10.72s/it]"
     ]
    },
    {
     "name": "stdout",
     "output_type": "stream",
     "text": [
      "The batch was maintained at 142±5° C. for 69 hours 30 minutes at which point HPLC analysis indicated that compound 7 was 0.9% by conversion (specification ≦1.7% by conversion).\n",
      "Output:\n",
      "    SETTEMPERATURE 142±5° C; WAIT for 69 hours 30 minutes.\n",
      "=====================================================================================================\n"
     ]
    },
    {
     "name": "stderr",
     "output_type": "stream",
     "text": [
      "\r\n",
      " 34%|███████████████████████████                                                     | 107/317 [19:26<45:55, 13.12s/it]"
     ]
    },
    {
     "name": "stdout",
     "output_type": "stream",
     "text": [
      "To a solution of rac-4-{[(2′S,3′R,4′R,5′R)-6-chloro-4′-(3-chloro-5-fluoro-phenyl)-2′-(2,2-dimethyl-propyl)-2-oxo-1,2-dihydro-spiro[indole-3,3′-pyrrolidine]-5′-carbonyl]-amino}-3-methoxy-benzoic acid methyl ester (0.17 g, 0.27 mmol) in MeOH (3 mL) and THF (9 mL) was added an aqueous solution (1N) of NaOH (6 mL, 6 mmol).\n",
      "Output:\n",
      "MAKESOLUTION with rac-4-{[(2'S,3'R,4'R,5'R)-6-chloro-4'-(3-chloro-5-fluoro-phenyl)-2'-(2,2-dimethyl-propyl)-2-oxo-1,2-dihydro-spiro[indole-3,3'-pyrrolidine]-5'-carbonyl]-amino}-3-methoxy-benzoic acid methyl ester (0.17 g, 0.27 mmol) and MeOH (3 mL) and THF (9 mL); ADD NaOH (1N) (6 mL, 6 mmol).\n",
      "=====================================================================================================\n"
     ]
    },
    {
     "name": "stderr",
     "output_type": "stream",
     "text": [
      "\r\n",
      " 34%|███████████████████████████▎                                                    | 108/317 [19:46<53:13, 15.28s/it]"
     ]
    },
    {
     "name": "stdout",
     "output_type": "stream",
     "text": [
      "Next, 2-methyl-2-propen-1-ol (19 mg) was added thereto, and the mixture was further stirred with heating under reflux for 3 hr.\n",
      "Output:\n",
      "ADD 2-methyl-2-propen-1-ol (19 mg); REFLUX for 3 hr.\n",
      "=====================================================================================================\n"
     ]
    },
    {
     "name": "stderr",
     "output_type": "stream",
     "text": [
      "\r\n",
      " 34%|███████████████████████████▌                                                    | 109/317 [19:48<38:58, 11.24s/it]"
     ]
    },
    {
     "name": "stdout",
     "output_type": "stream",
     "text": [
      "It is washed with saturated NaHCO3 solution and saturated NaCl solution.\n",
      "Output:\n",
      "WASH with saturated NaHCO3 solution; WASH with saturated NaCl solution.\n",
      "=====================================================================================================\n"
     ]
    },
    {
     "name": "stderr",
     "output_type": "stream",
     "text": [
      "\r\n",
      " 35%|███████████████████████████▊                                                    | 110/317 [19:52<31:31,  9.14s/it]"
     ]
    },
    {
     "name": "stdout",
     "output_type": "stream",
     "text": [
      "To the reaction mixture was then added diethyl sulphate (5.06 g) dropwise, and then stirring at 70°C was continued for twelve hours.\n",
      "Output:\n",
      "ADD diethyl sulphate (5.06 g); STIR for 12 hours at 70°C.\n",
      "=====================================================================================================\n"
     ]
    },
    {
     "name": "stderr",
     "output_type": "stream",
     "text": [
      "\r\n",
      " 35%|████████████████████████████                                                    | 111/317 [19:58<28:11,  8.21s/it]"
     ]
    },
    {
     "name": "stdout",
     "output_type": "stream",
     "text": [
      "MS: 632.0, (M+Na)+.\n",
      "Output:\n",
      "NOACTION.\n",
      "=====================================================================================================\n"
     ]
    },
    {
     "name": "stderr",
     "output_type": "stream",
     "text": [
      "\r\n",
      " 35%|████████████████████████████▎                                                   | 112/317 [20:07<28:23,  8.31s/it]"
     ]
    },
    {
     "name": "stdout",
     "output_type": "stream",
     "text": [
      "After 12 h the reaction mixture was quenched with water and extracted with ethyl acetate.\n",
      "Output:\n",
      "WAIT for 12 h; QUENCH with water; EXTRACT with ethyl acetate.\n",
      "=====================================================================================================\n"
     ]
    },
    {
     "name": "stderr",
     "output_type": "stream",
     "text": [
      "\r\n",
      " 36%|████████████████████████████▌                                                   | 113/317 [20:20<32:52,  9.67s/it]"
     ]
    },
    {
     "name": "stdout",
     "output_type": "stream",
     "text": [
      "The aqueous layer was further extracted with ethyl acetate (2×15 mL) and the combined organic layers were dried (MgSO4) and concentrated.\n",
      "Output:\n",
      "COLLECTLAYER aqueous; EXTRACT with ethyl acetate (15 mL) 2 x; COLLECTLAYER organic; DRYSOLUTION over MgSO4; CONCENTRATE.\n",
      "=====================================================================================================\n"
     ]
    },
    {
     "name": "stderr",
     "output_type": "stream",
     "text": [
      "\r\n",
      " 36%|████████████████████████████▊                                                   | 114/317 [20:29<32:34,  9.63s/it]"
     ]
    },
    {
     "name": "stdout",
     "output_type": "stream",
     "text": [
      "The resultant precipitated salt was filtered, washed with ether and dried on air.\n",
      "Output:\n",
      "FILTER keep precipitate; WASH with ether; DRYSOLID under air.\n",
      "=====================================================================================================\n"
     ]
    },
    {
     "name": "stderr",
     "output_type": "stream",
     "text": [
      "\r\n",
      " 36%|█████████████████████████████                                                   | 115/317 [20:43<36:31, 10.85s/it]"
     ]
    },
    {
     "name": "stdout",
     "output_type": "stream",
     "text": [
      "After cooling, the mixture was partitioned between saturated aqueous sodium bicarbonate solution (100ml) and dichloromethane (2x50ml).\n",
      "Output:\n",
      "SETTEMPERATURE room temperature; PARTITION with saturated aqueous sodium bicarbonate solution (100 ml) and dichloromethane (50 ml) 2 x.\n",
      "=====================================================================================================\n"
     ]
    },
    {
     "name": "stderr",
     "output_type": "stream",
     "text": [
      "\r\n",
      " 37%|█████████████████████████████▎                                                  | 116/317 [20:51<33:01,  9.86s/it]"
     ]
    },
    {
     "name": "stdout",
     "output_type": "stream",
     "text": [
      "The reaction mixture is stirred for 1 h at −78° C. and then allowed to warmed to room temperature.\n",
      "Output:\n",
      "    STIR for 1 h at −78° C.; SETTEMPERATURE room temperature.\n",
      "=====================================================================================================\n"
     ]
    },
    {
     "name": "stderr",
     "output_type": "stream",
     "text": [
      "\r\n",
      " 37%|█████████████████████████████▌                                                  | 117/317 [21:00<32:46,  9.83s/it]"
     ]
    },
    {
     "name": "stdout",
     "output_type": "stream",
     "text": [
      "The mixture was poured into ice-water.\n",
      "Output: ADD ice-water.\n",
      "=====================================================================================================\n"
     ]
    },
    {
     "name": "stderr",
     "output_type": "stream",
     "text": [
      "\r\n",
      " 37%|█████████████████████████████▊                                                  | 118/317 [21:14<36:04, 10.88s/it]"
     ]
    },
    {
     "name": "stdout",
     "output_type": "stream",
     "text": [
      "The solid was dissolved in hot methanol (110ml), filtered through Hyflo™ then treated with hot isopropyl acetate (325ml).\n",
      "Output:\n",
      "MAKESOLUTION with solid in hot methanol (110ml); FILTER keep filtrate; ADD hot isopropyl acetate (325ml).\n",
      "=====================================================================================================\n"
     ]
    },
    {
     "name": "stderr",
     "output_type": "stream",
     "text": [
      "\r\n",
      " 38%|██████████████████████████████                                                  | 119/317 [21:32<42:59, 13.03s/it]"
     ]
    },
    {
     "name": "stdout",
     "output_type": "stream",
     "text": [
      "Meanwhile, cyclopropane-carboxylic acid (9.91 ml, 125mmol) was dissolved in dimethylformamide (200ml) and carbonyldiimidazole (22.4g, 138mmol) was added portionwise under nitrogen at 0°C.\n",
      "Output:\n",
      "MAKESOLUTION with cyclopropane-carboxylic acid (9.91 ml, 125mmol) and dimethylformamide (200ml); SETTEMPERATURE 0 °C; ADD carbonyldiimidazole (22.4g, 138mmol) under nitrogen.\n",
      "=====================================================================================================\n"
     ]
    },
    {
     "name": "stderr",
     "output_type": "stream",
     "text": [
      "\r\n",
      " 38%|██████████████████████████████▎                                                 | 120/317 [21:47<45:08, 13.75s/it]"
     ]
    },
    {
     "name": "stdout",
     "output_type": "stream",
     "text": [
      "N-(4-(2-(4-Aminophenyl)ethyl)-1,3-thiazol-2-yl)acetamide (1.8 g) prepared in a similar manner according to Step 6 of Production Example 1, 2-(methylsulfanyl)-4,5-dihydro-1,3-thiazole (918 mg), hydrochloric acid concentrate (0.57 ml) and 2-methoxyethanol (28 ml) were combined under nitrogen atmosphere, and stirred at 120° C. for 10 hours.\n",
      "Output:\n",
      "MAKESOLUTION with N-(4-(2-(4-Aminophenyl)ethyl)-1,3-thiazol-2-yl)acetamide (1.8 g) and 2-(methylsulfanyl)-4,5-dihydro-1,3-thiazole (918 mg) and hydrochloric acid concentrate (0.57 ml) and 2-methoxyethanol (28 ml) under nitrogen; ADD SLN; STIR for 10 hours at 120° C.\n",
      "=====================================================================================================\n"
     ]
    },
    {
     "name": "stderr",
     "output_type": "stream",
     "text": [
      "\r\n",
      " 38%|██████████████████████████████▌                                                 | 121/317 [21:53<36:47, 11.26s/it]"
     ]
    },
    {
     "name": "stdout",
     "output_type": "stream",
     "text": [
      "The methanol was removed in a rotary evaporator, and the residue was diluted with about 30 ml of water and acidified to pH 5 with glacial acetic acid.\n",
      "Output:\n",
      "CONCENTRATE; ADD water (30 ml); PH with glacial acetic acid to pH 5.\n",
      "=====================================================================================================\n"
     ]
    },
    {
     "name": "stderr",
     "output_type": "stream",
     "text": [
      "\r\n",
      " 38%|██████████████████████████████▊                                                 | 122/317 [22:00<32:36, 10.04s/it]"
     ]
    },
    {
     "name": "stdout",
     "output_type": "stream",
     "text": [
      "The mixture was allowed to warm to room temperature over 30 minutes, stirred at room temperature for a further 4 hours, poured onto an excess of solid carbon dioxide and left to stand for 3 days by which time the solvent had evaporated off.\n",
      "Output:\n",
      "    SETTEMPERATURE room temperature over 30 minutes; STIR for 4 hours; ADD excess of solid carbon dioxide; WAIT for 3 days; CONCENTRATE.\n",
      "=====================================================================================================\n"
     ]
    },
    {
     "name": "stderr",
     "output_type": "stream",
     "text": [
      "\r\n",
      " 39%|███████████████████████████████                                                 | 123/317 [22:11<33:30, 10.37s/it]"
     ]
    },
    {
     "name": "stdout",
     "output_type": "stream",
     "text": [
      "The solution was left to stir overnight at room temperature, then diluted with CH2Cl2 (20 mL) and washed with water (3×10 mL) with back-extraction.\n",
      "Output:\n",
      "STIR for overnight at room temperature; ADD CH2Cl2 (20 mL); WASH with water (10 mL) 3 x.\n",
      "=====================================================================================================\n"
     ]
    },
    {
     "name": "stderr",
     "output_type": "stream",
     "text": [
      "\r\n",
      " 39%|███████████████████████████████▎                                                | 124/317 [22:31<42:28, 13.21s/it]"
     ]
    },
    {
     "name": "stdout",
     "output_type": "stream",
     "text": [
      "A cooled (0° C.) solution of the chloroformate (0.88 g, 1.7 mmol) (as prepared in the synthesis of (6Z,15Z)-11-((Z)-dec-4-en-1-yl)docosa-6,15-dien-10-yl(2-(dimethylamino)ethyl)carbamate 26) was dissolved in anhydrous Et2O (5 mL) and added to a solution of N,N,N′ trimethylpropyldiamine (492 μL, 3.4 mmol) in anhydrous Et2O (5 mL).\n",
      "Output:\n",
      "SETTEMPERATURE 0 °C; MAKESOLUTION with chloroformate (0.88 g, 1.7 mmol) and anhydrous Et2O (5 mL); ADD SLN; MAKESOLUTION with N,N,N′ trimethylpropyldiamine (492 μL, 3.4 mmol) and anhydrous Et2O (5 mL); ADD SLN.\n",
      "=====================================================================================================\n"
     ]
    },
    {
     "name": "stderr",
     "output_type": "stream",
     "text": [
      "\r\n",
      " 39%|███████████████████████████████▌                                                | 125/317 [22:34<32:55, 10.29s/it]"
     ]
    },
    {
     "name": "stdout",
     "output_type": "stream",
     "text": [
      "The reaction mixture was then poured in ice.\n",
      "Output: ADD ice.\n",
      "=====================================================================================================\n"
     ]
    },
    {
     "name": "stderr",
     "output_type": "stream",
     "text": [
      "\r\n",
      " 40%|███████████████████████████████▊                                                | 126/317 [22:47<34:48, 10.93s/it]"
     ]
    },
    {
     "name": "stdout",
     "output_type": "stream",
     "text": [
      "The reaction system was neutralized with 1M hydrochloric acid at 0°C.\n",
      "Output:\n",
      "    SETTEMPERATURE 0 °C; PH with 1M hydrochloric acid to pH neutral.\n",
      "=====================================================================================================\n"
     ]
    },
    {
     "name": "stderr",
     "output_type": "stream",
     "text": [
      "\r\n",
      " 40%|████████████████████████████████                                                | 127/317 [22:58<34:57, 11.04s/it]"
     ]
    },
    {
     "name": "stdout",
     "output_type": "stream",
     "text": [
      "Morpholine (4.77 mL, 54.8 mmol, 2.40 equiv) was added and the solution was maintained at room temperature for 19 h.\n",
      "Output:\n",
      "ADD Morpholine (4.77 mL, 54.8 mmol, 2.40 equiv); STIR for 19 h at room temperature.\n",
      "=====================================================================================================\n"
     ]
    },
    {
     "name": "stderr",
     "output_type": "stream",
     "text": [
      "\r\n",
      " 40%|████████████████████████████████▎                                               | 128/317 [23:10<35:41, 11.33s/it]"
     ]
    },
    {
     "name": "stdout",
     "output_type": "stream",
     "text": [
      "MeOH was removed, CH2Cl2 (50 mL) was added and the mixture was filtered through a plug of Celite.\n",
      "Output:\n",
      "CONCENTRATE; ADD CH2Cl2 (50 mL); FILTER keep filtrate.\n",
      "=====================================================================================================\n"
     ]
    },
    {
     "name": "stderr",
     "output_type": "stream",
     "text": [
      "\r\n",
      " 41%|████████████████████████████████▌                                               | 129/317 [23:22<35:56, 11.47s/it]"
     ]
    },
    {
     "name": "stdout",
     "output_type": "stream",
     "text": [
      "The reaction mixture was cooled and placed under a hydrogen atmosphere at 5 psi, and concentrated HCl (19.5 kg) was added while maintaining the reaction temperature at 25° C.\n",
      "Output:\n",
      "    SETTEMPERATURE 25° C; DEGAS with hydrogen at 5 psi; ADD concentrated HCl (19.5 kg).\n",
      "=====================================================================================================\n"
     ]
    },
    {
     "name": "stderr",
     "output_type": "stream",
     "text": [
      "\r\n",
      " 41%|████████████████████████████████▊                                               | 130/317 [23:35<37:45, 12.11s/it]"
     ]
    },
    {
     "name": "stdout",
     "output_type": "stream",
     "text": [
      "A suspension of tert-butyl 4-(3-azidobutyl)piperidine-1-carboxylate (3.81 g) and 5% palladium/carbon (containing water (50%), 800 mg) in methanol (100 mL) was stirred at room temperature for 15 hr under a hydrogen atmosphere.\n",
      "Output:\n",
      "ADD tert-butyl 4-(3-azidobutyl)piperidine-1-carboxylate (3.81 g); ADD 5% palladium/carbon with water (50%) (800 mg); ADD methanol (100 mL); STIR for 15 hr under a hydrogen atmosphere.\n",
      "=====================================================================================================\n"
     ]
    },
    {
     "name": "stderr",
     "output_type": "stream",
     "text": [
      "\r\n",
      " 41%|█████████████████████████████████                                               | 131/317 [23:40<30:59, 10.00s/it]"
     ]
    },
    {
     "name": "stdout",
     "output_type": "stream",
     "text": [
      "Cryst. Lig.\n",
      "Output:\n",
      "NOACTION.\n",
      "=====================================================================================================\n"
     ]
    },
    {
     "name": "stderr",
     "output_type": "stream",
     "text": [
      "\r\n",
      " 42%|█████████████████████████████████▎                                              | 132/317 [24:00<39:25, 12.79s/it]"
     ]
    },
    {
     "name": "stdout",
     "output_type": "stream",
     "text": [
      "The residue is dissolved in EtOAc and washed sequentially with saturated Na2CO3 solution (2×), 10% aq. sodium dithionite (2×) and brine (1×), dried over Na2SO4, filtered and concentrated to give the title compound (7.47 g, 18.89 mmol, 90% purity) as a dark brown solid.\n",
      "Output:\n",
      "ADD residue; EXTRACT with EtOAc; WASH with Na2CO3 solution 2 x; WASH with 10% aq. sodium dithionite 2 x; WASH with brine; DRYSOLUTION over Na2SO4; FILTER keep filtrate; CONCENTRATE; YIELD title compound (7.47 g, 18.89 mmol, 90%).\n",
      "=====================================================================================================\n"
     ]
    },
    {
     "name": "stderr",
     "output_type": "stream",
     "text": [
      "\r\n",
      " 42%|█████████████████████████████████▌                                              | 133/317 [24:12<39:03, 12.73s/it]"
     ]
    },
    {
     "name": "stdout",
     "output_type": "stream",
     "text": [
      "A mixture of [5-(2-fluoro-4-pyridyl)-4-(3-methylphenyl)-1,3-thiazol-2-yl]amine (0.29g, 1.0 mmol) and benzylamine (1.2 mL, 11 mmol) was stirred at 150°C for 3 hours.\n",
      "Output:\n",
      "ADD [5-(2-fluoro-4-pyridyl)-4-(3-methylphenyl)-1,3-thiazol-2-yl]amine (0.29g, 1.0 mmol); ADD benzylamine (1.2 mL, 11 mmol); STIR for 3 hours at 150°C.\n",
      "=====================================================================================================\n"
     ]
    },
    {
     "name": "stderr",
     "output_type": "stream",
     "text": [
      "\r\n",
      " 42%|█████████████████████████████████▊                                              | 134/317 [24:16<30:54, 10.13s/it]"
     ]
    },
    {
     "name": "stdout",
     "output_type": "stream",
     "text": [
      "HPLC purification of the residue (YMC propack C18 column, 150×20 mm ID, 30%-80% acetonitrile in water gradient) afforded 5-methoxy-2-[(1-phenyl-1H-pyrazol-5-yl)amino]benzoic acid (450 mg, 26%) as a pale yellow solid: 1H NMR (300 MHz, DMSO-d6) δ 13.33 (br s, 1 H), 9.62 (br s, 1 H), 7.64 (d, 1 H), 7.34-7.58 (m, 6 H), 7.00-7.11 (m, 2 H), 6.30 (d, 1 H), 3.69 (s, 3 H); ES-MS m/z 310.1 (MH+); HPLC RT (min) 2.74.\n",
      "Output:\n",
      "    PURIFY; YIELD 5-methoxy-2-[(1-phenyl-1H-pyrazol-5-yl)amino]benzoic acid (450 mg, 26%).\n",
      "=====================================================================================================\n"
     ]
    },
    {
     "name": "stderr",
     "output_type": "stream",
     "text": [
      "\r\n",
      " 43%|██████████████████████████████████                                              | 135/317 [24:29<32:44, 10.80s/it]"
     ]
    },
    {
     "name": "stdout",
     "output_type": "stream",
     "text": [
      "After the addition was complete, the reaction was allowed to warm to -15°C for 5 minutes then recooled to -78°C.\n",
      "Output:\n",
      "SETTEMPERATURE -15 °C; WAIT for 5 minutes; SETTEMPERATURE -78 °C.\n",
      "=====================================================================================================\n"
     ]
    },
    {
     "name": "stderr",
     "output_type": "stream",
     "text": [
      "\r\n",
      " 43%|██████████████████████████████████▎                                             | 136/317 [24:41<33:42, 11.17s/it]"
     ]
    },
    {
     "name": "stdout",
     "output_type": "stream",
     "text": [
      "The organic layer was then dried over MgS04, filtered and concentrated, purified by chromatography (100% EtOAc- 60% MeOH/EtOAc) to yield crude intermediate which was dried and concentrated.\n",
      "Output:\n",
      "COLLECTLAYER organic; DRYSOLUTION over MgSO4; FILTER keep filtrate; CONCENTRATE; PURIFY; YIELD intermediate.\n",
      "=====================================================================================================\n"
     ]
    },
    {
     "name": "stderr",
     "output_type": "stream",
     "text": [
      "\r\n",
      " 43%|██████████████████████████████████▌                                             | 137/317 [24:49<30:39, 10.22s/it]"
     ]
    },
    {
     "name": "stdout",
     "output_type": "stream",
     "text": [
      "1H NMR (400 MHz, CDCl3) δppm: 7.38-7.33 (m, 5H), 5.15 (s, 2H), 3.76 (m, 4H), 3.71-3.47 (m, 2H), 3.45-3.33 (m, 1H), 3.18-3.07 (m, 1H), 2.66-2.38 (m, 7H), 2.12-1.99 (m, 1H), 1.75-1.56 (m, 1H).\n",
      "Output:\n",
      "    NOACTION.\n",
      "=====================================================================================================\n"
     ]
    },
    {
     "name": "stderr",
     "output_type": "stream",
     "text": [
      "\r\n",
      " 44%|██████████████████████████████████▊                                             | 138/317 [25:01<32:04, 10.75s/it]"
     ]
    },
    {
     "name": "stdout",
     "output_type": "stream",
     "text": [
      "A 12.5 N NaOH (0.760 mL, 9.53 mmol) solution was added dropwise while stirring, maintaining the temperature of the reaction below −10° C.\n",
      "Output:\n",
      "ADD 12.5 N NaOH solution (0.760 mL, 9.53 mmol); STIR at below -10° C.\n",
      "=====================================================================================================\n"
     ]
    },
    {
     "name": "stderr",
     "output_type": "stream",
     "text": [
      "\r\n",
      " 44%|███████████████████████████████████                                             | 139/317 [25:11<30:59, 10.44s/it]"
     ]
    },
    {
     "name": "stdout",
     "output_type": "stream",
     "text": [
      "Prepared from (4-iodo-2-nitro-phenyl)-carbamic acid tert.-butyl ester (Example A1), bis(pinacolato)diboron and 3-bromopyridine according to the general procedure C.\n",
      "Output:\n",
      "FOLLOWOTHERPROCEDURE.\n",
      "=====================================================================================================\n"
     ]
    },
    {
     "name": "stderr",
     "output_type": "stream",
     "text": [
      "\r\n",
      " 44%|███████████████████████████████████▎                                            | 140/317 [25:22<31:59, 10.85s/it]"
     ]
    },
    {
     "name": "stdout",
     "output_type": "stream",
     "text": [
      "After concentration and dried in vacuo, 539 mg (100%) of a grey white solid was obtained as the title product, which was used directly for Step A.\n",
      "Output:\n",
      "CONCENTRATE; DRYSOLID under vacuum; YIELD title product (539 mg, 100%).\n",
      "=====================================================================================================\n"
     ]
    },
    {
     "name": "stderr",
     "output_type": "stream",
     "text": [
      "\r\n",
      " 44%|███████████████████████████████████▌                                            | 141/317 [25:34<32:37, 11.12s/it]"
     ]
    },
    {
     "name": "stdout",
     "output_type": "stream",
     "text": [
      "The fractions containing the product were concentrated by evaporation i.vac., the residue was triturated with DIPE, suction filtered and dried.\n",
      "Output:\n",
      "COLLECTLAYER product; CONCENTRATE; TRITURATE with DIPE; FILTER keep precipitate; DRYSOLID.\n",
      "=====================================================================================================\n"
     ]
    },
    {
     "name": "stderr",
     "output_type": "stream",
     "text": [
      "\r\n",
      " 45%|███████████████████████████████████▊                                            | 142/317 [25:46<33:14, 11.40s/it]"
     ]
    },
    {
     "name": "stdout",
     "output_type": "stream",
     "text": [
      "The residue was chromatographed on silica gel eluted with 2-3% methanol/dichloromethane to give the title compound, which was recrystallised from dichloromethane/petrol (80 mg, 28%), Mp 191-5° C.\n",
      "Output:\n",
      "    PURIFY; YIELD title compound; RECRYSTALLIZE from dichloromethane/petrol (80 mg, 28%); SETTEMPERATURE 191-5° C.\n",
      "=====================================================================================================\n"
     ]
    },
    {
     "name": "stderr",
     "output_type": "stream",
     "text": [
      "\r\n",
      " 45%|████████████████████████████████████                                            | 143/317 [25:56<31:19, 10.80s/it]"
     ]
    },
    {
     "name": "stdout",
     "output_type": "stream",
     "text": [
      "The title compound was prepared using a procedure similar to that of 4-fluoro-N-(1-hydroxy-3,3-dimethyl-1,3-dihydro-benzo[c][1,2]oxaborol-6-yl-2-trifluoromethyl benzamide with acetyl chloride replacing 2-trifluoromethyl-4-fluorobenzoyl chloride.\n",
      "Output:\n",
      "FOLLOWOTHERPROCEDURE.\n",
      "=====================================================================================================\n"
     ]
    },
    {
     "name": "stderr",
     "output_type": "stream",
     "text": [
      "\r\n",
      " 45%|████████████████████████████████████▎                                           | 144/317 [26:10<34:27, 11.95s/it]"
     ]
    },
    {
     "name": "stdout",
     "output_type": "stream",
     "text": [
      "The mixture was cooled to 0° C. in an ice bath followed by the addition of Hunig base (19.11 mL, 109.7 mmol, 2.3 equiv.).\n",
      "Output:\n",
      "SETTEMPERATURE 0 °C; ADD Hunig base (19.11 mL, 109.7 mmol, 2.3 equiv.).\n",
      "=====================================================================================================\n"
     ]
    },
    {
     "name": "stderr",
     "output_type": "stream",
     "text": [
      "\r\n",
      " 46%|████████████████████████████████████▌                                           | 145/317 [26:20<32:32, 11.35s/it]"
     ]
    },
    {
     "name": "stdout",
     "output_type": "stream",
     "text": [
      "The resulting slurry was neutralized with 6N HCl solution and extracted with ethyl acetate.\n",
      "Output:\n",
      "PH with 6N HCl solution to pH neutral; EXTRACT with ethyl acetate.\n",
      "=====================================================================================================\n"
     ]
    },
    {
     "name": "stderr",
     "output_type": "stream",
     "text": [
      "\r\n",
      " 46%|████████████████████████████████████▊                                           | 146/317 [26:33<33:14, 11.66s/it]"
     ]
    },
    {
     "name": "stdout",
     "output_type": "stream",
     "text": [
      "The resulting mixture is poured into iced water and extracted with dichloromethane.\n",
      "Output:\n",
      "ADD iced water; EXTRACT with dichloromethane.\n",
      "=====================================================================================================\n"
     ]
    },
    {
     "name": "stderr",
     "output_type": "stream",
     "text": [
      "\r\n",
      " 46%|█████████████████████████████████████                                           | 147/317 [26:45<33:51, 11.95s/it]"
     ]
    },
    {
     "name": "stdout",
     "output_type": "stream",
     "text": [
      "The resulting solution was stirred at 10 °C and then at 20 °C for 30 min each.\n",
      "Output:\n",
      "SETTEMPERATURE 10 °C; STIR for 30 minutes; SETTEMPERATURE 20 °C; STIR for 30 minutes.\n",
      "=====================================================================================================\n"
     ]
    },
    {
     "name": "stderr",
     "output_type": "stream",
     "text": [
      "\r\n",
      " 47%|█████████████████████████████████████▎                                          | 148/317 [26:55<31:53, 11.32s/it]"
     ]
    },
    {
     "name": "stdout",
     "output_type": "stream",
     "text": [
      "The resulting mixture was adjusted to pH 10 with a 40% aqueous sodium hydroxide solution.\n",
      "Output:\n",
      "PH with 40% aqueous sodium hydroxide solution to pH 10.\n",
      "=====================================================================================================\n"
     ]
    },
    {
     "name": "stderr",
     "output_type": "stream",
     "text": [
      "\r\n",
      " 47%|█████████████████████████████████████▌                                          | 149/317 [27:07<32:28, 11.60s/it]"
     ]
    },
    {
     "name": "stdout",
     "output_type": "stream",
     "text": [
      "Add DDQ (2057 g; 9.08 moles) in 5 equal portions maintaining the temperature at 10° C.\n",
      "Output:\n",
      "ADD DDQ (2057 g; 9.08 moles) in 5 equal portions; SETTEMPERATURE 10° C.\n",
      "=====================================================================================================\n"
     ]
    },
    {
     "name": "stderr",
     "output_type": "stream",
     "text": [
      "\r\n",
      " 47%|█████████████████████████████████████▊                                          | 150/317 [27:30<41:19, 14.85s/it]"
     ]
    },
    {
     "name": "stdout",
     "output_type": "stream",
     "text": [
      "A three-necked RBF equipped with nitrogen inlet tube and dry ice condenser was charged with (3R,5R,6S)-tert-butyl 3-allyl-2-oxo-5,6-diphenyl-3-(4-(4,4,5,5-tetramethyl-1,3,2-dioxaborolan-2-yl)butyl)morpholine-4-carboxylate (4.60 g, 8.00 mmol) and THF (10 mL).\n",
      "Output:\n",
      "ADD (3R,5R,6S)-tert-butyl 3-allyl-2-oxo-5,6-diphenyl-3-(4-(4,4,5,5-tetramethyl-1,3,2-dioxaborolan-2-yl)butyl)morpholine-4-carboxylate (4.60 g, 8.00 mmol); ADD THF (10 mL).\n",
      "=====================================================================================================\n"
     ]
    },
    {
     "name": "stderr",
     "output_type": "stream",
     "text": [
      "\r\n",
      " 48%|██████████████████████████████████████                                          | 151/317 [27:37<34:46, 12.57s/it]"
     ]
    },
    {
     "name": "stdout",
     "output_type": "stream",
     "text": [
      "In a glove box kept under the atmosphere of nitrogen, 15 g (0.13 moles) of 1,3-dimethyl-2-imidazolidinone, 8.45 g (0.5 moles) of 2-chloro-1,3-dimethylimidazolidinium chloride and 11.62 g (0.2 moles) of KF prepared in accordance with the spray drying process were placed into a three-necked flask (200 ml).\n",
      "Output:\n",
      "    ADD 1,3-dimethyl-2-imidazolidinone (15 g, 0.13 moles); ADD 2-chloro-1,3-dimethylimidazolidinium chloride (8.45 g, 0.5 moles); ADD KF (11.62 g, 0.2 moles).\n",
      "=====================================================================================================\n"
     ]
    },
    {
     "name": "stderr",
     "output_type": "stream",
     "text": [
      "\r\n",
      " 48%|██████████████████████████████████████▎                                         | 152/317 [27:43<29:06, 10.59s/it]"
     ]
    },
    {
     "name": "stdout",
     "output_type": "stream",
     "text": [
      "The reaction mixture was heated to 45° C. and maintained for 30 minutes, and then concentrated to afford 4-nitrophenyl 4-(diisobutylamino)-2′-(1H-tetrazol-5-yl)biphenyl-3-ylcarbamate (1.0 g, 98% yield).\n",
      "Output:\n",
      "SETTEMPERATURE 45° C; WAIT for 30 minutes; CONCENTRATE; YIELD 4-nitrophenyl 4-(diisobutylamino)-2′-(1H-tetrazol-5-yl)biphenyl-3-ylcarbamate (1.0 g, 98%).\n",
      "=====================================================================================================\n"
     ]
    },
    {
     "name": "stderr",
     "output_type": "stream",
     "text": [
      "\r\n",
      " 48%|██████████████████████████████████████▌                                         | 153/317 [27:53<28:23, 10.39s/it]"
     ]
    },
    {
     "name": "stdout",
     "output_type": "stream",
     "text": [
      "The compound 91 (white solid) is prepared from the triazine 2e and from 4-(2,5-dichlorophenoxy)piperidine (obtained as under the preparative methods of intermediate 8a) according to the synthesis method 1 in toluene.\n",
      "Output:\n",
      "FOLLOWOTHERPROCEDURE.\n",
      "=====================================================================================================\n"
     ]
    },
    {
     "name": "stderr",
     "output_type": "stream",
     "text": [
      "\r\n",
      " 49%|██████████████████████████████████████▊                                         | 154/317 [28:05<29:49, 10.98s/it]"
     ]
    },
    {
     "name": "stdout",
     "output_type": "stream",
     "text": [
      "After the reaction mixture has cooled, the crystalline title compound is filtered with suction and dried.\n",
      "Output:\n",
      "    SETTEMPERATURE room temperature; FILTER keep crystalline title compound; DRYSOLID.\n",
      "=====================================================================================================\n"
     ]
    },
    {
     "name": "stderr",
     "output_type": "stream",
     "text": [
      "\r\n",
      " 49%|███████████████████████████████████████                                         | 155/317 [28:15<28:33, 10.58s/it]"
     ]
    },
    {
     "name": "stdout",
     "output_type": "stream",
     "text": [
      "After 2 h, the slurry was filtered.\n",
      "Output:\n",
      "FILTER keep filtrate.\n",
      "=====================================================================================================\n"
     ]
    },
    {
     "name": "stderr",
     "output_type": "stream",
     "text": [
      "\r\n",
      " 49%|███████████████████████████████████████▎                                        | 156/317 [28:22<25:37,  9.55s/it]"
     ]
    },
    {
     "name": "stdout",
     "output_type": "stream",
     "text": [
      "The solution was slowly cooled to 5° C. and maintained at 5 C for 30 minutes.\n",
      "Output:\n",
      "SETTEMPERATURE 5° C; WAIT for 30 minutes.\n",
      "=====================================================================================================\n"
     ]
    },
    {
     "name": "stderr",
     "output_type": "stream",
     "text": [
      "\r\n",
      " 50%|███████████████████████████████████████▌                                        | 157/317 [28:33<26:56, 10.10s/it]"
     ]
    },
    {
     "name": "stdout",
     "output_type": "stream",
     "text": [
      "The mixture was quenched with sodium acetate (0.074 g), stirred for 1 h and partitioned between water and ethyl acetate.\n",
      "Output:\n",
      "    QUENCH with sodium acetate (0.074 g); STIR for 1 h; PARTITION with water and ethyl acetate.\n",
      "=====================================================================================================\n"
     ]
    },
    {
     "name": "stderr",
     "output_type": "stream",
     "text": [
      "\r\n",
      " 50%|███████████████████████████████████████▊                                        | 158/317 [28:45<27:52, 10.52s/it]"
     ]
    },
    {
     "name": "stdout",
     "output_type": "stream",
     "text": [
      "DBAD (101 mg, 0.44 mmol) was added in one portion and the reaction left to react for 5 h.\n",
      "Output:\n",
      "ADD DBAD (101 mg, 0.44 mmol); WAIT for 5 h.\n",
      "=====================================================================================================\n"
     ]
    },
    {
     "name": "stderr",
     "output_type": "stream",
     "text": [
      "\r\n",
      " 50%|████████████████████████████████████████▏                                       | 159/317 [29:00<31:41, 12.04s/it]"
     ]
    },
    {
     "name": "stdout",
     "output_type": "stream",
     "text": [
      "Alternatively, a mixture of androst-4-ene-3,17-dione, thiophenol, 40% aqueous formaldehyde, triethylamine and ethanol was heated under reflux for a period of about 48 hours.\n",
      "Output:\n",
      "MAKESOLUTION with androst-4-ene-3,17-dione and thiophenol and 40% aqueous formaldehyde and triethylamine and ethanol; REFLUX for 48 hours.\n",
      "=====================================================================================================\n"
     ]
    },
    {
     "name": "stderr",
     "output_type": "stream",
     "text": [
      "\r\n",
      " 50%|████████████████████████████████████████▍                                       | 160/317 [29:16<34:02, 13.01s/it]"
     ]
    },
    {
     "name": "stdout",
     "output_type": "stream",
     "text": [
      "A mixture of 0.8 g of 2-{[(1-carbamoyl-1,2-dimethylpropyl)amino]methyl}-5-ethylnicotinic acid (2.7 mmol) and 0.56 g sodium acetate (6.8 mmol) in 10 mL acetic acid is warmed until homogeneous and cooled to room temperature.\n",
      "Output:\n",
      "MAKESOLUTION with 2-{[(1-carbamoyl-1,2-dimethylpropyl)amino]methyl}-5-ethylnicotinic acid (0.8 g, 2.7 mmol) and sodium acetate (0.56 g, 6.8 mmol) and acetic acid (10 mL); SETTEMPERATURE high until mixture becomes homogeneous; SETTEMPERATURE room temperature.\n",
      "=====================================================================================================\n"
     ]
    },
    {
     "name": "stderr",
     "output_type": "stream",
     "text": [
      "\r\n",
      " 51%|████████████████████████████████████████▋                                       | 161/317 [29:18<25:50,  9.94s/it]"
     ]
    },
    {
     "name": "stdout",
     "output_type": "stream",
     "text": [
      "The reaction mixture was concentrated in vacuo and water was added followed by enough hydrochloric acid (1 M) to acidify the solution.\n",
      "Output: CONCENTRATE; ADD water; PH with hydrochloric acid (1 M) to pH acidic.\n",
      "=====================================================================================================\n"
     ]
    },
    {
     "name": "stderr",
     "output_type": "stream",
     "text": [
      "\r\n",
      " 51%|████████████████████████████████████████▉                                       | 162/317 [29:30<27:04, 10.48s/it]"
     ]
    },
    {
     "name": "stdout",
     "output_type": "stream",
     "text": [
      "These samples were incubated and allowed to conjugate overnight at 4° C., in the dark, to allow the maleimide groups on the F5M to react with predominantly the free sulfhydryl, present in both albumin species.\n",
      "Output:\n",
      "INVALIDACTION.\n",
      "=====================================================================================================\n"
     ]
    },
    {
     "name": "stderr",
     "output_type": "stream",
     "text": [
      "\r\n",
      " 51%|█████████████████████████████████████████▏                                      | 163/317 [29:44<29:46, 11.60s/it]"
     ]
    },
    {
     "name": "stdout",
     "output_type": "stream",
     "text": [
      "The mixture is stirred for 2 hours, the product is filtered, washed with water (4×300 ml) and air dried.\n",
      "Output:\n",
      "    STIR for 2 hours; FILTER keep precipitate; WASH with water (300 ml) 4 x; DRYSOLID under air.\n",
      "=====================================================================================================\n"
     ]
    },
    {
     "name": "stderr",
     "output_type": "stream",
     "text": [
      "\r\n",
      " 52%|█████████████████████████████████████████▍                                      | 164/317 [30:03<35:09, 13.79s/it]"
     ]
    },
    {
     "name": "stdout",
     "output_type": "stream",
     "text": [
      "To the mixture of 2-bromo-4-[3-(3,5-dichlorophenyl)-3-(trifluoromethyl) -pyrrolidin-1-yl]aniline (0.60g), triethyl orthoformate (0.98g) and sodium azide (0.38g) was added acetic acid (1.1g), and the mixture was then heated with stirring at 100°C for 4 hours.\n",
      "Output:\n",
      "ADD 2-bromo-4-[3-(3,5-dichlorophenyl)-3-(trifluoromethyl) -pyrrolidin-1-yl]aniline (0.60g); ADD triethyl orthoformate (0.98g); ADD sodium azide (0.38g); ADD acetic acid (1.1g); STIR at 100° C for 4 hours.\n",
      "=====================================================================================================\n"
     ]
    },
    {
     "name": "stderr",
     "output_type": "stream",
     "text": [
      "\r\n",
      " 52%|█████████████████████████████████████████▋                                      | 165/317 [30:07<27:30, 10.86s/it]"
     ]
    },
    {
     "name": "stdout",
     "output_type": "stream",
     "text": [
      "Prepared as described in Example 9, starting from acenaphthen-1-ylcarboxylic acid and 4-(2,3-dihydro-5-methoxybenzofuran-6-yl)piperazine.\n",
      "Output:\n",
      "FOLLOWOTHERPROCEDURE.\n",
      "=====================================================================================================\n"
     ]
    },
    {
     "name": "stderr",
     "output_type": "stream",
     "text": [
      "\r\n",
      " 52%|█████████████████████████████████████████▉                                      | 166/317 [30:19<28:08, 11.18s/it]"
     ]
    },
    {
     "name": "stdout",
     "output_type": "stream",
     "text": [
      "The resulting content was maintained at −78° C. for 3 hours and slowly warmed up to RT overnight.\n",
      "Output:\n",
      "    SETTEMPERATURE -78 °C; WAIT for 3 hours; SETTEMPERATURE room temperature; WAIT for overnight.\n",
      "=====================================================================================================\n"
     ]
    },
    {
     "name": "stderr",
     "output_type": "stream",
     "text": [
      "\r\n",
      " 53%|██████████████████████████████████████████▏                                     | 167/317 [30:27<25:36, 10.25s/it]"
     ]
    },
    {
     "name": "stdout",
     "output_type": "stream",
     "text": [
      "MS (ESI+) m/z 826 (M+H)+.\n",
      "Output:\n",
      "NOACTION.\n",
      "=====================================================================================================\n"
     ]
    },
    {
     "name": "stderr",
     "output_type": "stream",
     "text": [
      "\r\n",
      " 53%|██████████████████████████████████████████▍                                     | 168/317 [30:41<27:54, 11.24s/it]"
     ]
    },
    {
     "name": "stdout",
     "output_type": "stream",
     "text": [
      "The crystals of residue were isolated by filtration with ethyl acetate-diisopropylether, dried under reduced pressure, and 74mg of the subject compound was prepared as pale yellow crystal.\n",
      "Output:\n",
      "FILTER keep precipitate; WASH with ethyl acetate-diisopropylether; DRYSOLID under vacuum; YIELD subject compound (74 mg).\n",
      "=====================================================================================================\n"
     ]
    },
    {
     "name": "stderr",
     "output_type": "stream",
     "text": [
      "\r\n",
      " 53%|██████████████████████████████████████████▋                                     | 169/317 [30:49<25:23, 10.30s/it]"
     ]
    },
    {
     "name": "stdout",
     "output_type": "stream",
     "text": [
      "The mixture was warmed to r.t. and stirred for about 2 hours.\n",
      "Output:\n",
      "SETTEMPERATURE room temperature; STIR for 2 hours.\n",
      "=====================================================================================================\n"
     ]
    },
    {
     "name": "stderr",
     "output_type": "stream",
     "text": [
      "\r\n",
      " 54%|██████████████████████████████████████████▉                                     | 170/317 [31:03<27:52, 11.38s/it]"
     ]
    },
    {
     "name": "stdout",
     "output_type": "stream",
     "text": [
      "After stirring the mixture in the ice bath for 10 minutes, the mixture was stirred at room temperature for 2 hours.\n",
      "Output:\n",
      "SETTEMPERATURE 0 °C; STIR for 10 minutes; SETTEMPERATURE room temperature; STIR for 2 hours.\n",
      "=====================================================================================================\n"
     ]
    },
    {
     "name": "stderr",
     "output_type": "stream",
     "text": [
      "\r\n",
      " 54%|███████████████████████████████████████████▏                                    | 171/317 [31:22<33:04, 13.59s/it]"
     ]
    },
    {
     "name": "stdout",
     "output_type": "stream",
     "text": [
      "To a solution of 1-methyl-3-naphthalen-2-yl-6-pyrrolidin-3-yl-1H-[4,4′]bipyridinyl-2-one (prepared following the same method as described for 1′-methyl-5′-naphthalen-2-yl-1,2,3,4,5,6-hexahydro-1′H-[4,2′;4′,4″]terpyridin-6′-one, Scheme 12) (0.5 g, 1.3 mmol) in dry DMF (5 mL) was added 2-methyl-oxirane (2.6 mmol, 150 mg) and then heated at 80° C. for 5 h.\n",
      "Output:\n",
      "MAKESOLUTION with 1-methyl-3-naphthalen-2-yl-6-pyrrolidin-3-yl-1H-[4,4']bipyridinyl-2-one (0.5 g, 1.3 mmol) and dry DMF (5 mL); ADD 2-methyl-oxirane (2.6 mmol, 150 mg); SETTEMPERATURE 80°C; WAIT for 5 h.\n",
      "=====================================================================================================\n"
     ]
    },
    {
     "name": "stderr",
     "output_type": "stream",
     "text": [
      "\r\n",
      " 54%|███████████████████████████████████████████▍                                    | 172/317 [31:28<27:28, 11.37s/it]"
     ]
    },
    {
     "name": "stdout",
     "output_type": "stream",
     "text": [
      "The combined extracts are dried over anhydrous sodium sulfate and concentrated in vacuo and to afford 7-phthalimido-1-heptyl triflate (20) which is used without further purification.\n",
      "Output:\n",
      "COLLECTLAYER organic; DRYSOLUTION over anhydrous sodium sulfate; CONCENTRATE; YIELD 7-phthalimido-1-heptyl triflate without purification.\n",
      "=====================================================================================================\n"
     ]
    },
    {
     "name": "stderr",
     "output_type": "stream",
     "text": [
      "\r\n",
      " 55%|███████████████████████████████████████████▋                                    | 173/317 [31:34<23:36,  9.84s/it]"
     ]
    },
    {
     "name": "stdout",
     "output_type": "stream",
     "text": [
      "The required product was prepared according to Procedure E, above, using Compound 21 and dimethylcarbamyl chloride.\n",
      "Output:\n",
      "FOLLOWOTHERPROCEDURE.\n",
      "=====================================================================================================\n"
     ]
    },
    {
     "name": "stderr",
     "output_type": "stream",
     "text": [
      "\r\n",
      " 55%|███████████████████████████████████████████▉                                    | 174/317 [31:42<22:16,  9.34s/it]"
     ]
    },
    {
     "name": "stdout",
     "output_type": "stream",
     "text": [
      "The resulting solution was stirred for an hour and then volatilites were removed under vacuum.\n",
      "Output: STIR for 1 hour; CONCENTRATE under vacuum.\n",
      "=====================================================================================================\n"
     ]
    },
    {
     "name": "stderr",
     "output_type": "stream",
     "text": [
      "\r\n",
      " 55%|████████████████████████████████████████████▏                                   | 175/317 [31:52<22:12,  9.38s/it]"
     ]
    },
    {
     "name": "stdout",
     "output_type": "stream",
     "text": [
      "The reaction mixture was diluted with dichloromethane (30 mL) and washed with water (100 mL×3).\n",
      "Output:\n",
      "ADD dichloromethane (30 mL); WASH with water (100 mL) 3 x.\n",
      "=====================================================================================================\n"
     ]
    },
    {
     "name": "stderr",
     "output_type": "stream",
     "text": [
      "\r\n",
      " 56%|████████████████████████████████████████████▍                                   | 176/317 [32:08<26:55, 11.46s/it]"
     ]
    },
    {
     "name": "stdout",
     "output_type": "stream",
     "text": [
      "The resulting dianion was cooled to −78° C., where 2-(3-Cyclopentyl-3-oxo-propyl)-5-methoxy-benzonitrile (63.3 mg, 0.25 mmol) dissolved in THF (1.0 mL) was added dropwise over 2 minutes.\n",
      "Output:\n",
      "    SETTEMPERATURE -78 °C; ADD 2-(3-Cyclopentyl-3-oxo-propyl)-5-methoxy-benzonitrile (63.3 mg, 0.25 mmol) slowly over 2 minutes.\n",
      "=====================================================================================================\n"
     ]
    },
    {
     "name": "stderr",
     "output_type": "stream",
     "text": [
      "\r\n",
      " 56%|████████████████████████████████████████████▋                                   | 177/317 [32:15<23:43, 10.17s/it]"
     ]
    },
    {
     "name": "stdout",
     "output_type": "stream",
     "text": [
      "The organic fractions were combined then washed 3 times with 7 mL of brine.\n",
      "Output:\n",
      "COLLECTLAYER organic; WASH with brine (7 mL) 3 x.\n",
      "=====================================================================================================\n"
     ]
    },
    {
     "name": "stderr",
     "output_type": "stream",
     "text": [
      "\r\n",
      " 56%|████████████████████████████████████████████▉                                   | 178/317 [32:31<27:41, 11.96s/it]"
     ]
    },
    {
     "name": "stdout",
     "output_type": "stream",
     "text": [
      "The reaction is cooled to ambient room temperature and 1N HCl and water (25 ml) are added, followed by neutralization with sodium hydroxide (about 25 %) to generate (1R,2R)-2-amino-1-[4-(methylsulfonyl)phenyl]-1,3-propanediol (Compound V wherein R1 is methylsulfonyl) in situ.\n",
      "Output:\n",
      "SETTEMPERATURE room temperature; ADD 1N HCl and water (25 ml); PH with sodium hydroxide (about 25 %) to pH neutral; YIELD (1R,2R)-2-amino-1-[4-(methylsulfonyl)phenyl]-1,3-propanediol.\n",
      "=====================================================================================================\n"
     ]
    },
    {
     "name": "stderr",
     "output_type": "stream",
     "text": [
      "\r\n",
      " 56%|█████████████████████████████████████████████▏                                  | 179/317 [32:40<25:14, 10.97s/it]"
     ]
    },
    {
     "name": "stdout",
     "output_type": "stream",
     "text": [
      "The reaction mixture was cooled to 0° C. and 4-methylmorpholine (205 mL, 188.9 g, 1.87 mol) was slowly added over a period of 1 h while maintaining a temperature of less than 10° C.\n",
      "Output:\n",
      "SETTEMPERATURE 0 °C; ADD 4-methylmorpholine (205 mL, 188.9 g, 1.87 mol) gradually over 1 h; MAINTAINTEMPERATURE < 10 °C.\n",
      "=====================================================================================================\n"
     ]
    },
    {
     "name": "stderr",
     "output_type": "stream",
     "text": [
      "\r\n",
      " 57%|█████████████████████████████████████████████▍                                  | 180/317 [32:52<25:53, 11.34s/it]"
     ]
    },
    {
     "name": "stdout",
     "output_type": "stream",
     "text": [
      "The organic phase was washed with brine, dried over Na2SO4, filtered, and concentrated.\n",
      "Output:\n",
      "    COLLECTLAYER organic; WASH with brine; DRYSOLUTION over Na2SO4; FILTER keep filtrate; CONCENTRATE.\n",
      "=====================================================================================================\n"
     ]
    },
    {
     "name": "stderr",
     "output_type": "stream",
     "text": [
      "\r\n",
      " 57%|█████████████████████████████████████████████▋                                  | 181/317 [33:02<24:50, 10.96s/it]"
     ]
    },
    {
     "name": "stdout",
     "output_type": "stream",
     "text": [
      "The bomb was sealed and heated in an oil bath at 65° C. for 2 days.\n",
      "Output:\n",
      "    SETTEMPERATURE 65 °C; WAIT for 2 days.\n",
      "=====================================================================================================\n"
     ]
    },
    {
     "name": "stderr",
     "output_type": "stream",
     "text": [
      "\r\n",
      " 57%|█████████████████████████████████████████████▉                                  | 182/317 [33:17<27:24, 12.18s/it]"
     ]
    },
    {
     "name": "stdout",
     "output_type": "stream",
     "text": [
      "After 15 minutes, 0.55 ml (0.77 mmol) of n-butylithium (1.5 M in hexane) is added dropwise at 0° C., the mixture is stirred for 15 minutes at 0° C. and 180 mg (0.7 mmol) of the compound from Example 31 are added dropwise in 3 ml of tetrahydrofuran.\n",
      "Output:\n",
      "SETTEMPERATURE 0° C; ADD n-butylithium (1.5 M in hexane) (0.55 ml, 0.77 mmol); STIR for 15 minutes at 0° C; ADD the compound from Example 31 (180 mg, 0.7 mmol) in tetrahydrofuran (3 ml).\n",
      "=====================================================================================================\n"
     ]
    },
    {
     "name": "stderr",
     "output_type": "stream",
     "text": [
      "\r\n",
      " 58%|██████████████████████████████████████████████▏                                 | 183/317 [33:27<25:30, 11.42s/it]"
     ]
    },
    {
     "name": "stdout",
     "output_type": "stream",
     "text": [
      "The residue was purified by silica gel column chromatography eluting with a 5-15% ethyl acetate/n-hexane gradient mixture to give the title compound (14.1 g, 39.5 mmol, 92%) as an oil.\n",
      "Output:\n",
      "    PURIFY; YIELD title compound (14.1 g, 39.5 mmol, 92%).\n",
      "=====================================================================================================\n"
     ]
    },
    {
     "name": "stderr",
     "output_type": "stream",
     "text": [
      "\r\n",
      " 58%|██████████████████████████████████████████████▍                                 | 184/317 [33:37<24:15, 10.95s/it]"
     ]
    },
    {
     "name": "stdout",
     "output_type": "stream",
     "text": [
      "The residue and the above solid product were combined and triturated repeatedly with diisopropyl ether.\n",
      "Output:\n",
      "TRITURATE with diisopropyl ether for unknown.\n",
      "=====================================================================================================\n"
     ]
    },
    {
     "name": "stderr",
     "output_type": "stream",
     "text": [
      "\r\n",
      " 58%|██████████████████████████████████████████████▋                                 | 185/317 [33:51<26:30, 12.05s/it]"
     ]
    },
    {
     "name": "stdout",
     "output_type": "stream",
     "text": [
      "4-Biphenylacetic acid (5.0 g, 23.6 mmol) was then added slowly over 20 min while the stirred reaction mixture was maintained at 20-30° C.\n",
      "Output:\n",
      "ADD 4-Biphenylacetic acid (5.0 g, 23.6 mmol) for 20 min; SETTEMPERATURE 20-30° C; STIR.\n",
      "=====================================================================================================\n"
     ]
    },
    {
     "name": "stderr",
     "output_type": "stream",
     "text": [
      "\r\n",
      " 59%|██████████████████████████████████████████████▉                                 | 186/317 [34:00<23:45, 10.88s/it]"
     ]
    },
    {
     "name": "stdout",
     "output_type": "stream",
     "text": [
      "Evaporation of the CH3CO2CH2CH3 layers and silica gel column chromatography, eluent 4:1 hexane: CH3CO2CH2CH3, gives the title compound.\n",
      "Output:\n",
      "CONCENTRATE; PURIFY; YIELD title compound.\n",
      "=====================================================================================================\n"
     ]
    },
    {
     "name": "stderr",
     "output_type": "stream",
     "text": [
      "\r\n",
      " 59%|███████████████████████████████████████████████▏                                | 187/317 [34:16<26:52, 12.40s/it]"
     ]
    },
    {
     "name": "stdout",
     "output_type": "stream",
     "text": [
      "The catalyst was removed by filtering through celite, washing several times with hot ethanol, and the filtrate concentrated in vacuo to give the title compound (D13) as a crystalline white solid (80.1 g, 84%).\n",
      "Output:\n",
      "FILTER through celite; WASH with hot ethanol; CONCENTRATE; YIELD title compound (D13) (80.1 g, 84%).\n",
      "=====================================================================================================\n"
     ]
    },
    {
     "name": "stderr",
     "output_type": "stream",
     "text": [
      "\r\n",
      " 59%|███████████████████████████████████████████████▍                                | 188/317 [34:23<23:22, 10.87s/it]"
     ]
    },
    {
     "name": "stdout",
     "output_type": "stream",
     "text": [
      "After cooling to 25° C., 170 mg of sodium triacetoxyborohydride are added and stirred at 25° C. for a further 12 h.\n",
      "Output:\n",
      "    SETTEMPERATURE 25 °C; ADD sodium triacetoxyborohydride (170 mg); STIR for 12 h at 25 °C.\n",
      "=====================================================================================================\n"
     ]
    },
    {
     "name": "stderr",
     "output_type": "stream",
     "text": [
      "\r\n",
      " 60%|███████████████████████████████████████████████▋                                | 189/317 [34:37<25:18, 11.86s/it]"
     ]
    },
    {
     "name": "stdout",
     "output_type": "stream",
     "text": [
      "A precipitate then formed in both layers and was filtered, washed with water to remove traces of K2CO3 and dried to afford 4.67 g (85%).\n",
      "Output:\n",
      "GENERATE precipitate; FILTER keep precipitate; WASH with water; DRYSOLID; YIELD unknown compound (4.67 g, 85%).\n",
      "=====================================================================================================\n"
     ]
    },
    {
     "name": "stderr",
     "output_type": "stream",
     "text": [
      "\r\n",
      " 60%|███████████████████████████████████████████████▉                                | 190/317 [34:46<23:30, 11.11s/it]"
     ]
    },
    {
     "name": "stdout",
     "output_type": "stream",
     "text": [
      "The solution containing the compound having the structure: is used without further purification in Example IV, infra.\n",
      "Output:\n",
      "    FOLLOWOTHERPROCEDURE.\n",
      "=====================================================================================================\n"
     ]
    },
    {
     "name": "stderr",
     "output_type": "stream",
     "text": [
      "\r\n",
      " 60%|████████████████████████████████████████████████▏                               | 191/317 [34:59<24:21, 11.60s/it]"
     ]
    },
    {
     "name": "stdout",
     "output_type": "stream",
     "text": [
      "After stirring at room temperature overnight, the reaction mixture was neutralized with 1N hydrochloric acid, and concentrated under reduced pressure.\n",
      "Output:\n",
      "STIR overnight at room temperature; PH with 1N hydrochloric acid to pH neutral; CONCENTRATE.\n",
      "=====================================================================================================\n"
     ]
    },
    {
     "name": "stderr",
     "output_type": "stream",
     "text": [
      "\r\n",
      " 61%|████████████████████████████████████████████████▍                               | 192/317 [35:09<23:18, 11.19s/it]"
     ]
    },
    {
     "name": "stdout",
     "output_type": "stream",
     "text": [
      "MS (−APCI) m/z 496.0 (M−H)−.\n",
      "Output:\n",
      "    NOACTION.\n",
      "=====================================================================================================\n"
     ]
    },
    {
     "name": "stderr",
     "output_type": "stream",
     "text": [
      "\r\n",
      " 61%|████████████████████████████████████████████████▋                               | 193/317 [35:33<30:43, 14.87s/it]"
     ]
    },
    {
     "name": "stdout",
     "output_type": "stream",
     "text": [
      "A mixture of N-(2-chloro-5-nitropyrimidin-4-yl)-L-4-(N,N-dimethylcarbamyloxy)-phenylalanine tert-butyl ester (9.52 g, 20.45 mmol), Degussa-type 20% palladium on carbon (9.5.2 g), NaHCO3 (8.59 g, 102.2 mmol), and 165 mL MeOH was shaken under 55 Psi H2 for 16 h, at which point TLC indicated conversion of N-(2-chloro-5-nitropyrimidin-4-yl)-L-4-(N,N-dimethylcarbamyloxy)phenylalanine tert-butyl ester into a single product.\n",
      "Output:\n",
      "MAKESOLUTION with N-(2-chloro-5-nitropyrimidin-4-yl)-L-4-(N,N-dimethylcarbamyloxy)-phenylalanine tert-butyl ester (9.52 g, 20.45 mmol) and 20% palladium on carbon (9.5.2 g) and NaHCO3 (8.59 g, 102.2 mmol) and MeOH (165 mL); ADD SLN; STIR under 55 Psi H2 for 16 h.\n",
      "=====================================================================================================\n"
     ]
    },
    {
     "name": "stderr",
     "output_type": "stream",
     "text": [
      "\r\n",
      " 61%|████████████████████████████████████████████████▉                               | 194/317 [35:36<23:01, 11.23s/it]"
     ]
    },
    {
     "name": "stdout",
     "output_type": "stream",
     "text": [
      "The mixture was filtered through Celite and the layers were separated.\n",
      "Output:\n",
      "FILTER keep filtrate; PHASESEPARATION.\n",
      "=====================================================================================================\n"
     ]
    },
    {
     "name": "stderr",
     "output_type": "stream",
     "text": [
      "\r\n",
      " 62%|█████████████████████████████████████████████████▏                              | 195/317 [35:55<28:07, 13.83s/it]"
     ]
    },
    {
     "name": "stdout",
     "output_type": "stream",
     "text": [
      "To a suspension of 5-amino-2-chloro-4-fluorobenzoic acid (5.12 g, 27.0 mmol) in hydrochloric acid, 37% (50 mL) cooled to 0° C. was added a cold solution of sodium nitrite (2.00 g, 29.1 mmol) in water (25.0 mL) dropwise maintaining an internal temperature below 5° C.\n",
      "Output:\n",
      "SETTEMPERATURE 0° C; MAKESOLUTION with 5-amino-2-chloro-4-fluorobenzoic acid (5.12 g, 27.0 mmol) and hydrochloric acid, 37% (50 mL); ADD SLN; MAKESOLUTION with sodium nitrite (2.00 g, 29.1 mmol) and water (25.0 mL); ADD SLN maintaining an internal temperature below 5° C.\n",
      "=====================================================================================================\n"
     ]
    },
    {
     "name": "stderr",
     "output_type": "stream",
     "text": [
      "\r\n",
      " 62%|█████████████████████████████████████████████████▍                              | 196/317 [36:03<24:17, 12.05s/it]"
     ]
    },
    {
     "name": "stdout",
     "output_type": "stream",
     "text": [
      "CDI 200 mg (1.23 mmol) was added to a DMF (3 mL) solution of 1-{3-cyclopropyl-5-[2-fluoro-3-(hydroxymethyl)phenyl]pyridin-2-yl}azetidin-3-one O-methyl oxime 121 mg (0.354 mmol) synthesized in the same manner as in Reference Example 7-44, and the mixture was stirred at room temperature for 14 hours.\n",
      "Output:\n",
      "MAKESOLUTION with 1-{3-cyclopropyl-5-[2-fluoro-3-(hydroxymethyl)phenyl]pyridin-2-yl}azetidin-3-one O-methyl oxime (121 mg, 0.354 mmol) in DMF (3 mL); ADD CDI (200 mg, 1.23 mmol); STIR for 14 hours at room temperature.\n",
      "=====================================================================================================\n"
     ]
    },
    {
     "name": "stderr",
     "output_type": "stream",
     "text": [
      "\r\n",
      " 62%|█████████████████████████████████████████████████▋                              | 197/317 [36:07<19:18,  9.66s/it]"
     ]
    },
    {
     "name": "stdout",
     "output_type": "stream",
     "text": [
      "First a clear solution forms, from which the reaction product precipitates in crystalline form after a time.\n",
      "Output:\n",
      "NOACTION.\n",
      "=====================================================================================================\n"
     ]
    },
    {
     "name": "stderr",
     "output_type": "stream",
     "text": [
      "\r\n",
      " 62%|█████████████████████████████████████████████████▉                              | 198/317 [36:19<20:18, 10.24s/it]"
     ]
    },
    {
     "name": "stdout",
     "output_type": "stream",
     "text": [
      "The reaction mixture was stirred for 10 min to allow gas evolution to subside; the ice bath was then removed and 4-chloro-2-methylthiopyrimidine (24.07 g, 150 mmol) was added.\n",
      "Output:\n",
      "STIR for 10 min; SETTEMPERATURE room temperature; ADD 4-chloro-2-methylthiopyrimidine (24.07 g, 150 mmol).\n",
      "=====================================================================================================\n"
     ]
    },
    {
     "name": "stderr",
     "output_type": "stream",
     "text": [
      "\r\n",
      " 63%|██████████████████████████████████████████████████▏                             | 199/317 [36:34<22:39, 11.52s/it]"
     ]
    },
    {
     "name": "stdout",
     "output_type": "stream",
     "text": [
      "After stirring for 0.5 hour, the mixture was cooled to -70°C, 3.10 ml (40.0 mmol) of DMF was added, and then the mixture was transferred to an ice bath.\n",
      "Output:\n",
      "STIR for 0.5 hour; SETTEMPERATURE -70°C; ADD DMF (3.10 ml, 40.0 mmol); SETTEMPERATURE 0°C.\n",
      "=====================================================================================================\n"
     ]
    },
    {
     "name": "stderr",
     "output_type": "stream",
     "text": [
      "\r\n",
      " 63%|██████████████████████████████████████████████████▍                             | 200/317 [36:39<19:02,  9.77s/it]"
     ]
    },
    {
     "name": "stdout",
     "output_type": "stream",
     "text": [
      "Methyl cis-5-cyclohexylpiperidine-3-carboxylate was used instead of (5)-3-(tert-butoxycarbonylamino)piperidine, and 2-[(2-chloro-6-methylpyrimidin-4-yl)amino]-1,3-thiazole-5-carbonitrile prepared in Referential Example 5 was used instead of 2-chloro-6-methyl-N-(1H-pyrazol-5-yl)pyrimidin-4-amine in Example 1.\n",
      "Output:\n",
      "FOLLOWOTHERPROCEDURE.\n",
      "=====================================================================================================\n"
     ]
    },
    {
     "name": "stderr",
     "output_type": "stream",
     "text": [
      "\r\n",
      " 63%|██████████████████████████████████████████████████▋                             | 201/317 [36:48<18:25,  9.53s/it]"
     ]
    },
    {
     "name": "stdout",
     "output_type": "stream",
     "text": [
      "The filtrate and the washes were combined, and the solvent was distilled off under reduced pressure.\n",
      "Output: COLLECTLAYER filtrate; CONCENTRATE.\n",
      "=====================================================================================================\n"
     ]
    },
    {
     "name": "stderr",
     "output_type": "stream",
     "text": [
      "\r\n",
      " 64%|██████████████████████████████████████████████████▉                             | 202/317 [37:01<20:11, 10.54s/it]"
     ]
    },
    {
     "name": "stdout",
     "output_type": "stream",
     "text": [
      "The cooling bath was removed, and after stirring for 90 minutes at 22° C., and additional portion of DAST (0.033 mL, 0.25 mmol, 2.5 equiv) was added.\n",
      "Output:\n",
      "    SETTEMPERATURE room temperature; STIR for 90 mins at 22°C; ADD DAST (0.033 mL, 0.25 mmol, 2.5 equiv).\n",
      "=====================================================================================================\n"
     ]
    },
    {
     "name": "stderr",
     "output_type": "stream",
     "text": [
      "\r\n",
      " 64%|███████████████████████████████████████████████████▏                            | 203/317 [37:11<19:46, 10.41s/it]"
     ]
    },
    {
     "name": "stdout",
     "output_type": "stream",
     "text": [
      "The temperature is maintained at 10°-20° C. with an ice-bath.\n",
      "Output:\n",
      "SETTEMPERATURE 10°-20° C.\n",
      "=====================================================================================================\n"
     ]
    },
    {
     "name": "stderr",
     "output_type": "stream",
     "text": [
      "\r\n",
      " 64%|███████████████████████████████████████████████████▍                            | 204/317 [37:24<20:43, 11.00s/it]"
     ]
    },
    {
     "name": "stdout",
     "output_type": "stream",
     "text": [
      "The crystals are filtered and washed sparingly with cold ethyl acetate.\n",
      "Output:\n",
      "FILTER keep precipitate; WASH with cold ethyl acetate.\n",
      "=====================================================================================================\n"
     ]
    },
    {
     "name": "stderr",
     "output_type": "stream",
     "text": [
      "\r\n",
      " 65%|███████████████████████████████████████████████████▋                            | 205/317 [37:33<19:46, 10.59s/it]"
     ]
    },
    {
     "name": "stdout",
     "output_type": "stream",
     "text": [
      "The reaction was quenched by an addition of saturated NH4Cl aqueous solution, and the resulting mixture was extracted with ethyl acetate several times.\n",
      "Output:\n",
      "QUENCH with saturated NH4Cl aqueous solution; EXTRACT with ethyl acetate several times.\n",
      "=====================================================================================================\n"
     ]
    },
    {
     "name": "stderr",
     "output_type": "stream",
     "text": [
      "\r\n",
      " 65%|███████████████████████████████████████████████████▉                            | 206/317 [37:42<18:53, 10.21s/it]"
     ]
    },
    {
     "name": "stdout",
     "output_type": "stream",
     "text": [
      "The mixture was allowed to cool to −78° C. and the allowed to warm to room temperature over 1.5 h.\n",
      "Output:\n",
      "    SETTEMPERATURE -78° C; WAIT for 1.5 hours.\n",
      "=====================================================================================================\n"
     ]
    },
    {
     "name": "stderr",
     "output_type": "stream",
     "text": [
      "\r\n",
      " 65%|████████████████████████████████████████████████████▏                           | 207/317 [38:02<23:57, 13.07s/it]"
     ]
    },
    {
     "name": "stdout",
     "output_type": "stream",
     "text": [
      "To a solution prepared by 2.9 g of 3-amino-8-methylcarbostyril, 3.5 ml of triethylamine in 50 ml of dichloromethane was added dropwise a solution prepared by 1.9 ml of chloroacetyl chloride in 10 ml of dichloromethane under ice-cooled condition.\n",
      "MAKESOLUTION with 3-amino-8-methylcarbostyril (2.9 g) and triethylamine (3.5 ml) and dichloromethane (50 ml); SETTEMPERATURE 0 °C; MAKESOLUTION with chloroacetyl chloride (1.9 ml) and dichloromethane (10 ml); ADD SLN dropwise under ice-cooled condition.\n",
      "=====================================================================================================\n"
     ]
    },
    {
     "name": "stderr",
     "output_type": "stream",
     "text": [
      "\r\n",
      " 66%|████████████████████████████████████████████████████▍                           | 208/317 [38:07<19:10, 10.55s/it]"
     ]
    },
    {
     "name": "stdout",
     "output_type": "stream",
     "text": [
      "After cooling the reaction mixture was treated in the same way as in Example 1 to afford 37.4 g of the title compound as a pale yellow oil.\n",
      "Output:\n",
      "    SETTEMPERATURE room temperature; FOLLOWOTHERPROCEDURE; YIELD title compound (37.4 g).\n",
      "=====================================================================================================\n"
     ]
    },
    {
     "name": "stderr",
     "output_type": "stream",
     "text": [
      "\r\n",
      " 66%|████████████████████████████████████████████████████▋                           | 209/317 [38:18<19:04, 10.59s/it]"
     ]
    },
    {
     "name": "stdout",
     "output_type": "stream",
     "text": [
      "After cooling, water (15 mL) is added and the mixture concentrated.\n",
      "Output:\n",
      "ADD water (15 mL); CONCENTRATE.\n",
      "=====================================================================================================\n"
     ]
    },
    {
     "name": "stderr",
     "output_type": "stream",
     "text": [
      "\r\n",
      " 66%|████████████████████████████████████████████████████▉                           | 210/317 [38:30<19:58, 11.21s/it]"
     ]
    },
    {
     "name": "stdout",
     "output_type": "stream",
     "text": [
      "The solution was cooled in an ice bath with stirring.\n",
      "Output:\n",
      "SETTEMPERATURE 0 °C; STIR for unknown.\n",
      "=====================================================================================================\n"
     ]
    },
    {
     "name": "stderr",
     "output_type": "stream",
     "text": [
      "\r\n",
      " 67%|█████████████████████████████████████████████████████▏                          | 211/317 [38:44<21:09, 11.98s/it]"
     ]
    },
    {
     "name": "stdout",
     "output_type": "stream",
     "text": [
      "Process was repeated and solids combined to afford 6-(3,5-dimethylisoxazol-4-yl)-4-iodo-1H-benzo[d]imidazol-2(3H)-one.\n",
      "Output:\n",
      "FOLLOWOTHERPROCEDURE; YIELD 6-(3,5-dimethylisoxazol-4-yl)-4-iodo-1H-benzo[d]imidazol-2(3H)-one.\n",
      "=====================================================================================================\n"
     ]
    },
    {
     "name": "stderr",
     "output_type": "stream",
     "text": [
      "\r\n",
      " 67%|█████████████████████████████████████████████████████▌                          | 212/317 [38:57<21:17, 12.17s/it]"
     ]
    },
    {
     "name": "stdout",
     "output_type": "stream",
     "text": [
      "The residue was dissolved in ethyl acetate and washed with saturated aqueous sodium chloride solution, dried (magnesium sulfate), filtered, and concentrated In vacuo to give 0.41 g (88%) of the title compound as an off-white solid.\n",
      "Output:\n",
      "    ADD ethyl acetate; WASH with saturated aqueous sodium chloride solution; DRYSOLUTION over magnesium sulfate; FILTER keep filtrate; CONCENTRATE; YIELD title compound (0.41 g, 88%).\n",
      "=====================================================================================================\n"
     ]
    },
    {
     "name": "stderr",
     "output_type": "stream",
     "text": [
      "\r\n",
      " 67%|█████████████████████████████████████████████████████▊                          | 213/317 [39:05<18:53, 10.90s/it]"
     ]
    },
    {
     "name": "stdout",
     "output_type": "stream",
     "text": [
      "(oil bath temperature) for 24 h under an argon athmosphere.\n",
      "Output:\n",
      "SETTEMPERATURE oil bath temperature; WAIT for 24 h under argon atmosphere.\n",
      "=====================================================================================================\n"
     ]
    },
    {
     "name": "stderr",
     "output_type": "stream",
     "text": [
      "\r\n",
      " 68%|██████████████████████████████████████████████████████                          | 214/317 [39:14<18:12, 10.60s/it]"
     ]
    },
    {
     "name": "stdout",
     "output_type": "stream",
     "text": [
      "ESI (LC-MS positive mode) m/z 509 (M+H)+\n",
      "Output:\n",
      "NOACTION.\n",
      "=====================================================================================================\n"
     ]
    },
    {
     "name": "stderr",
     "output_type": "stream",
     "text": [
      "\r\n",
      " 68%|██████████████████████████████████████████████████████▎                         | 215/317 [39:24<17:14, 10.14s/it]"
     ]
    },
    {
     "name": "stdout",
     "output_type": "stream",
     "text": [
      "The mixture stirred under a hydrogen atmosphere for 24 h and then filtered through Celite, eluting with ETOH.\n",
      "Output:\n",
      "STIR for 24 h under hydrogen atmosphere; FILTER keep filtrate; WASH with ETOH.\n",
      "=====================================================================================================\n"
     ]
    },
    {
     "name": "stderr",
     "output_type": "stream",
     "text": [
      "\r\n",
      " 68%|██████████████████████████████████████████████████████▌                         | 216/317 [39:32<16:13,  9.64s/it]"
     ]
    },
    {
     "name": "stdout",
     "output_type": "stream",
     "text": [
      "Added water (100 mL) and basified to pH: 8 using saturated solution of sodium bicarbonate solution.\n",
      "Output:\n",
      "ADD water (100 mL); PH with saturated sodium bicarbonate solution to pH 8.\n",
      "=====================================================================================================\n"
     ]
    },
    {
     "name": "stderr",
     "output_type": "stream",
     "text": [
      "\r\n",
      " 68%|██████████████████████████████████████████████████████▊                         | 217/317 [39:45<17:43, 10.64s/it]"
     ]
    },
    {
     "name": "stdout",
     "output_type": "stream",
     "text": [
      "The solvents were evaporated, water (12 ml) and a 10% solution of citric acid was added until the pH was 3.\n",
      "Output:\n",
      "CONCENTRATE; ADD water (12 ml); PH with 10% solution of citric acid to pH 3.\n",
      "=====================================================================================================\n"
     ]
    },
    {
     "name": "stderr",
     "output_type": "stream",
     "text": [
      "\r\n",
      " 69%|███████████████████████████████████████████████████████                         | 218/317 [39:56<17:38, 10.69s/it]"
     ]
    },
    {
     "name": "stdout",
     "output_type": "stream",
     "text": [
      "The solution was then partitioned between ethyl acetate and saturated NH4Cl.\n",
      "Output:\n",
      "PARTITION with ethyl acetate and saturated NH4Cl.\n",
      "=====================================================================================================\n"
     ]
    },
    {
     "name": "stderr",
     "output_type": "stream",
     "text": [
      "\r\n",
      " 69%|███████████████████████████████████████████████████████▎                        | 219/317 [40:08<17:57, 11.00s/it]"
     ]
    },
    {
     "name": "stdout",
     "output_type": "stream",
     "text": [
      "The reaction mixture was cooled, washed with ether and the aqueous phase was neutralized with aqueous ammonia solution.\n",
      "Output:\n",
      "SETTEMPERATURE room temperature; WASH with ether; COLLECTLAYER aqueous; PH with aqueous ammonia solution to pH neutral.\n",
      "=====================================================================================================\n"
     ]
    },
    {
     "name": "stderr",
     "output_type": "stream",
     "text": [
      "\r\n",
      " 69%|███████████████████████████████████████████████████████▌                        | 220/317 [40:20<18:41, 11.56s/it]"
     ]
    },
    {
     "name": "stdout",
     "output_type": "stream",
     "text": [
      "The residue was purified via flash chromatography (Rf= 0.17 in 2/1 hexanes/ethyl acetate) on a Biotage Horizon, 65i column, eluting with 1 column volume of 5% ethyl acetate in hexanes, followed by a linear gradient from 5 to 80% of ethyl acetate in hexanes over 10 column volumes to provide 1.01 g (41 %) of the title compound.\n",
      "Output:\n",
      "CONCENTRATE; PURIFY; YIELD title compound (1.01 g, 41 %).\n",
      "=====================================================================================================\n"
     ]
    },
    {
     "name": "stderr",
     "output_type": "stream",
     "text": [
      "\r\n",
      " 70%|███████████████████████████████████████████████████████▊                        | 221/317 [40:30<17:38, 11.03s/it]"
     ]
    },
    {
     "name": "stdout",
     "output_type": "stream",
     "text": [
      "Then the reaction mass was cooled to 0-5° C. in an ice bath and added formaldehyde (2.84 mL, 28.4 mmol, 30-50%).\n",
      "Output:\n",
      "SETTEMPERATURE 0-5° C; ADD Formaldehyde (2.84 mL, 28.4 mmol, 30-50%).\n",
      "=====================================================================================================\n"
     ]
    },
    {
     "name": "stderr",
     "output_type": "stream",
     "text": [
      "\r\n",
      " 70%|████████████████████████████████████████████████████████                        | 222/317 [40:41<17:25, 11.00s/it]"
     ]
    },
    {
     "name": "stdout",
     "output_type": "stream",
     "text": [
      "This product was then purified by the silica gel column chromatography.\n",
      "Output:\n",
      "PURIFY.\n",
      "=====================================================================================================\n"
     ]
    },
    {
     "name": "stderr",
     "output_type": "stream",
     "text": [
      "\r\n",
      " 70%|████████████████████████████████████████████████████████▎                       | 223/317 [40:51<16:53, 10.79s/it]"
     ]
    },
    {
     "name": "stdout",
     "output_type": "stream",
     "text": [
      "This material was triturated with 70 mL of 5% dichloromethane in hexanes to afford 3-chloropropylsulfonylamine tert-butylcarbamate as an offwhite solid (47.2 g, 96%): 1H NMR (CDCl3) δ 1.51 (s, 9H), 2.33 (m, 2H), 3.60 (t, J=7.3 Hz, 2H), 3.68 (t, J=6.21 Hz, 2H); 13C NMR (CDCl3) δ 26.50, 27.95, 42.37, 50.40, 84.76, 149.53.\n",
      "Output:\n",
      "TRITURATE with 5% dichloromethane in hexanes (70 mL); YIELD 3-chloropropylsulfonylamine tert-butylcarbamate (47.2 g, 96%).\n",
      "=====================================================================================================\n"
     ]
    },
    {
     "name": "stderr",
     "output_type": "stream",
     "text": [
      "\r\n",
      " 71%|████████████████████████████████████████████████████████▌                       | 224/317 [41:10<20:16, 13.08s/it]"
     ]
    },
    {
     "name": "stdout",
     "output_type": "stream",
     "text": [
      "A solution of iodine (2.9 g, 11.4 mmol) in THF (10 mL) was then added slowly over about an hour while the stirred reaction mixture was maintained at 20-30° C.\n",
      "Output:\n",
      "MAKESOLUTION with iodine (2.9 g, 11.4 mmol) and THF (10 mL); ADD SLN; STIR for 1 hour at 20-30° C.\n",
      "=====================================================================================================\n"
     ]
    },
    {
     "name": "stderr",
     "output_type": "stream",
     "text": [
      "\r\n",
      " 71%|████████████████████████████████████████████████████████▊                       | 225/317 [41:13<15:40, 10.22s/it]"
     ]
    },
    {
     "name": "stdout",
     "output_type": "stream",
     "text": [
      "After 1 h toluene (2 mL) was added and the resulting mixture stirred for 3 h and allowed to cool to room temperature.\n",
      "Output:\n",
      "WAIT for 1 h; ADD toluene (2 mL); STIR for 3 h; SETTEMPERATURE room temperature.\n",
      "=====================================================================================================\n"
     ]
    },
    {
     "name": "stderr",
     "output_type": "stream",
     "text": [
      "\r\n",
      " 71%|█████████████████████████████████████████████████████████                       | 226/317 [41:28<17:27, 11.51s/it]"
     ]
    },
    {
     "name": "stdout",
     "output_type": "stream",
     "text": [
      "The aqueous layer was adjusted to pH 2.0 with conc. hydrochloric acid and extracted with ethyl acetate (200 ml).\n",
      "Output:\n",
      "COLLECTLAYER aqueous; PH with conc. hydrochloric acid to pH 2.0; EXTRACT with ethyl acetate (200 ml).\n",
      "=====================================================================================================\n"
     ]
    },
    {
     "name": "stderr",
     "output_type": "stream",
     "text": [
      "\r\n",
      " 72%|█████████████████████████████████████████████████████████▎                      | 227/317 [41:40<17:27, 11.64s/it]"
     ]
    },
    {
     "name": "stdout",
     "output_type": "stream",
     "text": [
      "Under ice cooling, 21.9 g of anhydrous aluminum chloride was added to 250 ml of N,N-dimethylformamide, followed by stirring for 15 minutes.\n",
      "Output:\n",
      "SETTEMPERATURE 0 °C; ADD anhydrous aluminum chloride (21.9 g) to N,N-dimethylformamide (250 ml); STIR for 15 minutes.\n",
      "=====================================================================================================\n"
     ]
    },
    {
     "name": "stderr",
     "output_type": "stream",
     "text": [
      "\r\n",
      " 72%|█████████████████████████████████████████████████████████▌                      | 228/317 [41:49<16:18, 11.00s/it]"
     ]
    },
    {
     "name": "stdout",
     "output_type": "stream",
     "text": [
      "After stirring 4 hours at 35° C., water (40 ml) was added to the reaction mixture which was then adjusted to pH=8 by addition of 1 M NaOH.\n",
      "Output:\n",
      "    STIR for 4 hours at 35° C; ADD water (40 ml); PH with 1 M NaOH to pH 8.\n",
      "=====================================================================================================\n"
     ]
    },
    {
     "name": "stderr",
     "output_type": "stream",
     "text": [
      "\r\n",
      " 72%|█████████████████████████████████████████████████████████▊                      | 229/317 [41:59<15:27, 10.54s/it]"
     ]
    },
    {
     "name": "stdout",
     "output_type": "stream",
     "text": [
      "Using the procedure of example 4, 2,3-dihydro-7-hydroxy-8-propyl-4H-1-benzopyran-4-one was converted into the title compound by alkylation with 2-[(5-bromopentyl)oxy]benzenepentanoic acid methyl ester from the preceding example, followed by saponification in 46.5% overall yield.\n",
      "Output:\n",
      "FOLLOWOTHERPROCEDURE.\n",
      "=====================================================================================================\n"
     ]
    },
    {
     "name": "stderr",
     "output_type": "stream",
     "text": [
      "\r\n",
      " 73%|██████████████████████████████████████████████████████████                      | 230/317 [42:08<14:35, 10.06s/it]"
     ]
    },
    {
     "name": "stdout",
     "output_type": "stream",
     "text": [
      "The aqueous phase was basified to pH 13 with NaOH, and washed with DCM (3×200 mL).\n",
      "Output:\n",
      "PH with NaOH to pH 13; WASH with DCM (200 mL) 3 x.\n",
      "=====================================================================================================\n"
     ]
    },
    {
     "name": "stderr",
     "output_type": "stream",
     "text": [
      "\r\n",
      " 73%|██████████████████████████████████████████████████████████▎                     | 231/317 [42:19<14:42, 10.27s/it]"
     ]
    },
    {
     "name": "stdout",
     "output_type": "stream",
     "text": [
      "The resulting mixture was removed from the ice bath after 5 minutes and stirred at room temperature for 2 hours.\n",
      "Output: SETTEMPERATURE room temperature; STIR for 2 hours.\n",
      "=====================================================================================================\n"
     ]
    },
    {
     "name": "stderr",
     "output_type": "stream",
     "text": [
      "\r\n",
      " 73%|██████████████████████████████████████████████████████████▌                     | 232/317 [42:28<14:13, 10.05s/it]"
     ]
    },
    {
     "name": "stdout",
     "output_type": "stream",
     "text": [
      "10.73 mL (77 mmol) of triethylamine in 5 mL of CH2Cl2 was added, and the mixture was allowed to come to room temperature.\n",
      "Output:\n",
      "ADD triethylamine (10.73 mL, 77 mmol) and CH2Cl2 (5 mL); SETTEMPERATURE room temperature.\n",
      "=====================================================================================================\n"
     ]
    },
    {
     "name": "stderr",
     "output_type": "stream",
     "text": [
      "\r\n",
      " 74%|██████████████████████████████████████████████████████████▊                     | 233/317 [42:46<17:32, 12.53s/it]"
     ]
    },
    {
     "name": "stdout",
     "output_type": "stream",
     "text": [
      "After 30 min, the mixture was cooled to 0° C. and {(3S,5S)-1-((S)-2-amino-2-cyclohexyl-acetyl)-5-[(R)-(1,2,3,4-tetrahydro-naphthalen-1-yl)carbamoyl]-pyrrolidin-3-yl}-carbamic acid 9H-fluoren-9-ylmethyl ester (Intermediate 24) (7.5 g, 11.43 mmol) in DMF (50 mL) and the cooling bath removed.\n",
      "Output:\n",
      "SETTEMPERATURE 0 °C; ADD {(3S,5S)-1-((S)-2-amino-2-cyclohexyl-acetyl)-5-[(R)-(1,2,3,4-tetrahydro-naphthalen-1-yl)carbamoyl]-pyrrolidin-3-yl}-carbamic acid 9H-fluoren-9-ylmethyl ester (Intermediate 24) (7.5 g, 11.43 mmol) in DMF (50 mL); SETTEMPERATURE room temperature.\n",
      "=====================================================================================================\n"
     ]
    },
    {
     "name": "stderr",
     "output_type": "stream",
     "text": [
      "\r\n",
      " 74%|███████████████████████████████████████████████████████████                     | 234/317 [42:52<14:22, 10.39s/it]"
     ]
    },
    {
     "name": "stdout",
     "output_type": "stream",
     "text": [
      "The mixture thus obtained is directly used in the next step.\n",
      "Output:\n",
      "NOACTION.\n",
      "=====================================================================================================\n"
     ]
    },
    {
     "name": "stderr",
     "output_type": "stream",
     "text": [
      "\r\n",
      " 74%|███████████████████████████████████████████████████████████▎                    | 235/317 [43:19<20:54, 15.30s/it]"
     ]
    },
    {
     "name": "stdout",
     "output_type": "stream",
     "text": [
      "4-{[(5-Chloropyridin-2-yl)amino]carbonyl}-3-({[trans-4-(3-oxomorpholin-4-yl)cyclohexyl]carbonyl}amino)benzoic acid (50 mg) obtained in Example 3 is dissolved in pyridine (1 ml), and thereto are added dimethylamine hydrochloride (20 mg), 1-hydroxybenzotriazole (27 mg) and 1-ethyl-3-(3-dimethylaminopropyl)carbodiimide hydrochloride (40 mg), followed by stirring at room temperature for 20 hours.\n",
      "Output:\n",
      "    MAKESOLUTION with 4-{[(5-Chloropyridin-2-yl)amino]carbonyl}-3-({[trans-4-(3-oxomorpholin-4-yl)cyclohexyl]carbonyl}amino)benzoic acid (50 mg) and pyridine (1 ml); ADD dimethylamine hydrochloride (20 mg); ADD 1-hydroxybenzotriazole (27 mg); ADD 1-ethyl-3-(3-dimethylaminopropyl)carbodiimide hydrochloride (40 mg); STIR for 20 hours at room temperature.\n",
      "=====================================================================================================\n"
     ]
    },
    {
     "name": "stderr",
     "output_type": "stream",
     "text": [
      "\r\n",
      " 74%|███████████████████████████████████████████████████████████▌                    | 236/317 [43:28<18:14, 13.51s/it]"
     ]
    },
    {
     "name": "stdout",
     "output_type": "stream",
     "text": [
      "{1-[9-((1R,2S,3R,4S)-2,3-Dihydroxy-4-propionylamino-cyclopentyl)-6-(2,2-diphenyl-ethyl-amino)-9H-purin-2-yl]-piperidin-4-yl}-carbamic acid tert-butyl ester trifluoroacetate (0.02 g, 0.03 mmol) is dissolved in HCl (1 ml of a 1.25 M solution in methanol) and allowed to stand at room temperature overnight.\n",
      "Output:\n",
      "MAKESOLUTION with {1-[9-((1R,2S,3R,4S)-2,3-Dihydroxy-4-propionylamino-cyclopentyl)-6-(2,2-diphenyl-ethyl-amino)-9H-purin-2-yl]-piperidin-4-yl}-carbamic acid tert-butyl ester trifluoroacetate (0.02 g, 0.03 mmol) and HCl solution (1.25M in methanol) (1 ml); STIR for overnight at room temperature.\n",
      "=====================================================================================================\n"
     ]
    },
    {
     "name": "stderr",
     "output_type": "stream",
     "text": [
      "\r\n",
      " 75%|███████████████████████████████████████████████████████████▊                    | 237/317 [43:30<13:18,  9.99s/it]"
     ]
    },
    {
     "name": "stdout",
     "output_type": "stream",
     "text": [
      "The reaction mixture was partitioned between water and DCM.\n",
      "Output: PARTITION with water and DCM.\n",
      "=====================================================================================================\n"
     ]
    },
    {
     "name": "stderr",
     "output_type": "stream",
     "text": [
      "\r\n",
      " 75%|████████████████████████████████████████████████████████████                    | 238/317 [43:40<13:12, 10.04s/it]"
     ]
    },
    {
     "name": "stdout",
     "output_type": "stream",
     "text": [
      "After 3 h, the mixture was cooled to RT and filtered.\n",
      "Output:\n",
      "WAIT for 3 h; SETTEMPERATURE room temperature; FILTER keep unknown.\n",
      "=====================================================================================================\n"
     ]
    },
    {
     "name": "stderr",
     "output_type": "stream",
     "text": [
      "\r\n",
      " 75%|████████████████████████████████████████████████████████████▎                   | 239/317 [43:50<13:14, 10.19s/it]"
     ]
    },
    {
     "name": "stdout",
     "output_type": "stream",
     "text": [
      "The reaction mixture was allowed to warm slowly to ambient temperature and stirring was continued for 3 h.\n",
      "Output:\n",
      "SETTEMPERATURE room temperature; STIR for 3 hours.\n",
      "=====================================================================================================\n"
     ]
    },
    {
     "name": "stderr",
     "output_type": "stream",
     "text": [
      "\r\n",
      " 76%|████████████████████████████████████████████████████████████▌                   | 240/317 [44:00<12:52, 10.03s/it]"
     ]
    },
    {
     "name": "stdout",
     "output_type": "stream",
     "text": [
      "1H NMR (CDCl3): 8.07 (d, J=2.4 Hz, 1H), 7.63 (dd, J=0.9 Hz, J=8.4 Hz, 1H), 7.56-7.51 (m, 1H), 7.27-7.18 (m, 2H), 7.05-7.00 (m, 1H), 6.50 (d, J=9.3 Hz, 1H), 3.55 (s, 3H), 3.12 (s, 6H), 2.72 (s, 3H).\n",
      "Output:\n",
      "NOACTION.\n",
      "=====================================================================================================\n"
     ]
    },
    {
     "name": "stderr",
     "output_type": "stream",
     "text": [
      "\r\n",
      " 76%|████████████████████████████████████████████████████████████▊                   | 241/317 [44:11<13:13, 10.44s/it]"
     ]
    },
    {
     "name": "stdout",
     "output_type": "stream",
     "text": [
      "The resulting residue was subjected to silica gel column chromatography (eluent; hexane:ethyl acetate=10:15:1 (V/V)), and fractions containing the desired compound were concentrated under reduced pressure to afford the title compound (1.14 g) substantially quantitatively as a colorless liquid.\n",
      "Output:\n",
      "PURIFY; COLLECTLAYER fraction of interest; CONCENTRATE; YIELD title compound (1.14 g).\n",
      "=====================================================================================================\n"
     ]
    },
    {
     "name": "stderr",
     "output_type": "stream",
     "text": [
      "\r\n",
      " 76%|█████████████████████████████████████████████████████████████                   | 242/317 [44:25<14:09, 11.32s/it]"
     ]
    },
    {
     "name": "stdout",
     "output_type": "stream",
     "text": [
      "The ethyl acetate extracts were washed with a saturated NaHCO3 solution, dried over anhydrous MgSO4, and concentrated in vacuo.\n",
      "Output:\n",
      "COLLECTLAYER organic; WASH with a saturated NaHCO3 solution; DRYSOLUTION over anhydrous MgSO4; CONCENTRATE.\n",
      "=====================================================================================================\n"
     ]
    },
    {
     "name": "stderr",
     "output_type": "stream",
     "text": [
      "\r\n",
      " 77%|█████████████████████████████████████████████████████████████▎                  | 243/317 [44:37<14:21, 11.64s/it]"
     ]
    },
    {
     "name": "stdout",
     "output_type": "stream",
     "text": [
      "An aqueous solution of Rochelle salt was then added and stirring continued for a further 1.5 h. EtOAc was added and the mixture was filtered through a Celite® pad and the aqueous phase was extracted with EtOAc.\n",
      "Output:\n",
      "    ADD aqueous solution of Rochelle salt; STIR for 1.5 hours; ADD EtOAc; FILTER keep filtrate; EXTRACT with EtOAc.\n",
      "=====================================================================================================\n"
     ]
    },
    {
     "name": "stderr",
     "output_type": "stream",
     "text": [
      "\r\n",
      " 77%|█████████████████████████████████████████████████████████████▌                  | 244/317 [44:45<12:41, 10.43s/it]"
     ]
    },
    {
     "name": "stdout",
     "output_type": "stream",
     "text": [
      "The solution containing the product obtained previously is then added to this reaction medium very slowly, followed by addition of 23 mL (165 mmol) of triethylamine.\n",
      "Output:\n",
      "ADD solution containing the product obtained previously; ADD triethylamine (23 mL, 165 mmol).\n",
      "=====================================================================================================\n"
     ]
    },
    {
     "name": "stderr",
     "output_type": "stream",
     "text": [
      "\r\n",
      " 77%|█████████████████████████████████████████████████████████████▊                  | 245/317 [44:58<13:32, 11.28s/it]"
     ]
    },
    {
     "name": "stdout",
     "output_type": "stream",
     "text": [
      "The organic layer was extracted with 1 M hydrochloric acid (3×20 mL) and the combined aqueous extracts were made basic to pH 8-9 with potassium carbonate.\n",
      "Output:\n",
      "COLLECTLAYER organic; EXTRACT with 1 M hydrochloric acid (20 mL) 3 x; COLLECTLAYER aqueous; PH with potassium carbonate to pH 8-9.\n",
      "=====================================================================================================\n"
     ]
    },
    {
     "name": "stderr",
     "output_type": "stream",
     "text": [
      "\r\n",
      " 78%|███████████████████████████████████████████████████████████▊                 | 246/317 [55:10<3:46:35, 191.49s/it]"
     ]
    },
    {
     "name": "stdout",
     "output_type": "stream",
     "text": [
      "Copper bromide (CuBr, 10.0 g, 0.070 mol) was added in fifth portions over 1 h followed by stirring the mixture for 30 min.\n",
      "Output:\n",
      "ADD Copper bromide (CuBr, 10.0 g, 0.070 mol) in fifth portions over 1 h; STIR for 30 min.\n",
      "=====================================================================================================\n"
     ]
    },
    {
     "name": "stderr",
     "output_type": "stream",
     "text": [
      "\r\n",
      " 78%|███████████████████████████████████████████████████████████▉                 | 247/317 [55:12<2:37:06, 134.67s/it]"
     ]
    },
    {
     "name": "stdout",
     "output_type": "stream",
     "text": [
      "MS (EI) m/z 368 (M)+.\n",
      "Output: NOACTION.\n",
      "=====================================================================================================\n"
     ]
    },
    {
     "name": "stderr",
     "output_type": "stream",
     "text": [
      "\r\n",
      " 78%|█████████████████████████████████████████████████████████████                 | 248/317 [55:24<1:52:34, 97.90s/it]"
     ]
    },
    {
     "name": "stdout",
     "output_type": "stream",
     "text": [
      "To a solution of (R)-1-(5-acetoxyhexyl)-8-bromo-7-ethoxymethyl-3-methylxanthine (1.83 g, 4.11 mmol) and sodium iodide (123 mg, 0.82 mmol) in anhydrous dimethylsulfoxide (40 ml) was added potassium cyanide (294 mg, 4.52 mmol).\n",
      "Output:\n",
      "MAKESOLUTION with (R)-1-(5-acetoxyhexyl)-8-bromo-7-ethoxymethyl-3-methylxanthine (1.83 g, 4.11 mmol) and sodium iodide (123 mg, 0.82 mmol) in anhydrous dimethylsulfoxide (40 ml); ADD potassium cyanide (294 mg, 4.52 mmol).\n",
      "=====================================================================================================\n"
     ]
    },
    {
     "name": "stderr",
     "output_type": "stream",
     "text": [
      "\r\n",
      " 79%|█████████████████████████████████████████████████████████████▎                | 249/317 [55:29<1:19:10, 69.86s/it]"
     ]
    },
    {
     "name": "stdout",
     "output_type": "stream",
     "text": [
      "The combined organic layers were washed with brine and dried over Na2SO4.\n",
      "Output:\n",
      "COLLECTLAYER organic; WASH with brine; DRYSOLUTION over Na2SO4.\n",
      "=====================================================================================================\n"
     ]
    },
    {
     "name": "stderr",
     "output_type": "stream",
     "text": [
      "\r\n",
      " 79%|███████████████████████████████████████████████████████████████                 | 250/317 [55:31<55:24, 49.62s/it]"
     ]
    },
    {
     "name": "stdout",
     "output_type": "stream",
     "text": [
      "The mixture was allowed to cool down and was concentrated to dryness.\n",
      "Output: SETTEMPERATURE room temperature; CONCENTRATE.\n",
      "=====================================================================================================\n"
     ]
    },
    {
     "name": "stderr",
     "output_type": "stream",
     "text": [
      "\r\n",
      " 79%|███████████████████████████████████████████████████████████████▎                | 251/317 [55:35<39:40, 36.07s/it]"
     ]
    },
    {
     "name": "stdout",
     "output_type": "stream",
     "text": [
      "After 3 hours, water is added, the pH is adjusted to 2-3 with dilute hydrochloric acid (1M), the mixture is then extracted with ethyl acetate and the combined organic phases are dried with sodium sulfate.\n",
      "Output:\n",
      "WAIT for 3 hours; ADD water; PH with hydrochloric acid (1M) to pH 2-3; EXTRACT with ethyl acetate; COLLECTLAYER organic; DRYSOLUTION over sodium sulfate.\n",
      "=====================================================================================================\n"
     ]
    },
    {
     "name": "stderr",
     "output_type": "stream",
     "text": [
      "\r\n",
      " 79%|███████████████████████████████████████████████████████████████▌                | 252/317 [55:39<28:26, 26.26s/it]"
     ]
    },
    {
     "name": "stdout",
     "output_type": "stream",
     "text": [
      "The reaction is heated to reflux under nitrogen until no additional water is observed in the trap (ca. 3 hours).\n",
      "Output:\n",
      "SETTEMPERATURE reflux; WAIT for 3 hours under nitrogen.\n",
      "=====================================================================================================\n"
     ]
    },
    {
     "name": "stderr",
     "output_type": "stream",
     "text": [
      "\r\n",
      " 80%|███████████████████████████████████████████████████████████████▊                | 253/317 [55:45<21:41, 20.34s/it]"
     ]
    },
    {
     "name": "stdout",
     "output_type": "stream",
     "text": [
      "The organic layer was dried with sodium sulfate, filtered, concentrated, and dried under high vacuum to provide the title compound (56.4 mg, 0.104 mmol, 82.8 % yield) as a solid.\n",
      "Output:\n",
      "COLLECTLAYER organic; DRYSOLUTION over sodium sulfate; FILTER keep filtrate; CONCENTRATE; DRYSOLID under high vacuum; YIELD title compound (56.4 mg, 0.104 mmol, 82.8 %).\n",
      "=====================================================================================================\n"
     ]
    },
    {
     "name": "stderr",
     "output_type": "stream",
     "text": [
      "\r\n",
      " 80%|████████████████████████████████████████████████████████████████                | 254/317 [55:48<15:56, 15.18s/it]"
     ]
    },
    {
     "name": "stdout",
     "output_type": "stream",
     "text": [
      "The solution was maintained at 95°C for 7 h.\n",
      "Output:\n",
      "SETTEMPERATURE 95°C; WAIT for 7 hours.\n",
      "=====================================================================================================\n"
     ]
    },
    {
     "name": "stderr",
     "output_type": "stream",
     "text": [
      "\r\n",
      " 80%|████████████████████████████████████████████████████████████████▎               | 255/317 [56:09<17:13, 16.67s/it]"
     ]
    },
    {
     "name": "stdout",
     "output_type": "stream",
     "text": [
      "To a stirring solution of (2S,3R)-1-azido-3-benzyloxy-4-penten-2-ol (1) (250 μL, 1.07 mmol) in THF (50 mL) under argon was added tetrabutylammonium iodide (42 mg, 0.11 mmol) followed by benzyl bromide (155 μL, 1.27 mmol) and the reaction was cooled to 0° C.\n",
      "Output:\n",
      "SETTEMPERATURE room temperature; MAKESOLUTION with (2S,3R)-1-azido-3-benzyloxy-4-penten-2-ol (1) (250 μL, 1.07 mmol) and THF (50 mL) under argon; ADD tetrabutylammonium iodide (42 mg, 0.11 mmol); ADD benzyl bromide (155 μL, 1.27 mmol); SETTEMPERATURE 0° C.\n",
      "=====================================================================================================\n"
     ]
    },
    {
     "name": "stderr",
     "output_type": "stream",
     "text": [
      "\r\n",
      " 81%|████████████████████████████████████████████████████████████████▌               | 256/317 [56:17<14:24, 14.17s/it]"
     ]
    },
    {
     "name": "stdout",
     "output_type": "stream",
     "text": [
      "A solution of 2-methoxyethanol (1.348 mL, 17.10 mmol) in xylenes (100 mL) was treated with a 60% dispersion of sodium hydride in mineral oil (0.808 g, 20.21 mmol) followed by stirring at room temperature for 20 minutes.\n",
      "Output:\n",
      "MAKESOLUTION with 2-methoxyethanol (1.348 mL, 17.10 mmol) and xylenes (100 mL); ADD sodium hydride in mineral oil (0.808 g, 60%); STIR for 20 minutes at room temperature.\n",
      "=====================================================================================================\n"
     ]
    },
    {
     "name": "stderr",
     "output_type": "stream",
     "text": [
      "\r\n",
      " 81%|████████████████████████████████████████████████████████████████▊               | 257/317 [56:29<13:25, 13.43s/it]"
     ]
    },
    {
     "name": "stdout",
     "output_type": "stream",
     "text": [
      "A stirred solution of (1-oxo-5,8-dihydro-1H,6H-pyrano[3,4-c]pyran-3-ylmethyl)-carbamic acid tert-butyl ester (160 mg, 0.57 mmol) in dimethylformamide (3 mL) in 28% ammonium hydroxide (6 mL) was heated at 90 °C for two hours, concentrated in vacuo then dried under a stream of nitrogen.\n",
      "Output:\n",
      "    MAKESOLUTION with (1-oxo-5,8-dihydro-1H,6H-pyrano[3,4-c]pyran-3-ylmethyl)-carbamic acid tert-butyl ester (160 mg, 0.57 mmol) and dimethylformamide (3 mL); ADD 28% ammonium hydroxide (6 mL); STIR at 90 °C for 2 hours; CONCENTRATE; DRYSOLID under nitrogen.\n",
      "=====================================================================================================\n"
     ]
    },
    {
     "name": "stderr",
     "output_type": "stream",
     "text": [
      "\r\n",
      " 81%|█████████████████████████████████████████████████████████████████               | 258/317 [56:34<10:42, 10.89s/it]"
     ]
    },
    {
     "name": "stdout",
     "output_type": "stream",
     "text": [
      "To a mixture of NaH (12 mg, 0.50 mmol), in THF (1.5 mL) at 0° C. under argon, was added methylacetoacetate (54, 0.50 mmol) slowly over 5 minutes.\n",
      "Output:\n",
      "SETTEMPERATURE 0 °C; ADD NaH (12 mg, 0.50 mmol) in THF (1.5 mL); ADD methylacetoacetate (54, 0.50 mmol) over 5 minutes.\n",
      "=====================================================================================================\n"
     ]
    },
    {
     "name": "stderr",
     "output_type": "stream",
     "text": [
      "\r\n",
      " 82%|█████████████████████████████████████████████████████████████████▎              | 259/317 [56:47<11:16, 11.67s/it]"
     ]
    },
    {
     "name": "stdout",
     "output_type": "stream",
     "text": [
      "The mixture was stirred at 0° C. for 1 hour, cooled to −15° C. followed by the dropwise addition of methane sulfonyl chloride in 5 mL THF.\n",
      "Output:\n",
      "STIR for 1 hour at 0° C; SETTEMPERATURE -15 °C; ADD methane sulfonyl chloride in THF (5 mL).\n",
      "=====================================================================================================\n"
     ]
    },
    {
     "name": "stderr",
     "output_type": "stream",
     "text": [
      "\r\n",
      " 82%|█████████████████████████████████████████████████████████████████▌              | 260/317 [56:56<10:15, 10.80s/it]"
     ]
    },
    {
     "name": "stdout",
     "output_type": "stream",
     "text": [
      "(70.9%) of the desired compound as a pale yellow powder having the following properties.\n",
      "Output:\n",
      "YIELD the desired compound as a pale yellow powder.\n",
      "=====================================================================================================\n"
     ]
    },
    {
     "name": "stderr",
     "output_type": "stream",
     "text": [
      "\r\n",
      " 82%|█████████████████████████████████████████████████████████████████▊              | 261/317 [57:09<10:41, 11.45s/it]"
     ]
    },
    {
     "name": "stdout",
     "output_type": "stream",
     "text": [
      "After adjusting to pH 1.5 with 10% hydrochloric acid, the ethyl acetate solution was separated, washed with a saturated aqueous sodium chloride and then dried over anhydrous magnesium sulfate.\n",
      "Output:\n",
      "    PH with 10% hydrochloric acid to pH 1.5; PHASESEPARATION; COLLECTLAYER organic; WASH with a saturated aqueous sodium chloride; DRYSOLUTION over anhydrous magnesium sulfate.\n",
      "=====================================================================================================\n"
     ]
    },
    {
     "name": "stderr",
     "output_type": "stream",
     "text": [
      "\r\n",
      " 83%|██████████████████████████████████████████████████████████████████              | 262/317 [57:16<09:17, 10.14s/it]"
     ]
    },
    {
     "name": "stdout",
     "output_type": "stream",
     "text": [
      "The solution was filtered over celite, evaporated and purified by flash chromatography to give 23.6 g (64%) of the title compound as a light brown oil.\n",
      "Output:\n",
      "FILTER keep filtrate; CONCENTRATE; PURIFY; YIELD title compound (23.6 g, 64%).\n",
      "\n",
      "=====================================================================================================\n"
     ]
    },
    {
     "name": "stderr",
     "output_type": "stream",
     "text": [
      "\r\n",
      " 83%|██████████████████████████████████████████████████████████████████▎             | 263/317 [57:26<09:12, 10.23s/it]"
     ]
    },
    {
     "name": "stdout",
     "output_type": "stream",
     "text": [
      "Then it was diluted with brine, neutralized with 2 M HCl, and extracted with DCM.\n",
      "Output:\n",
      "ADD brine; PH with 2 M HCl to pH neutral; EXTRACT with DCM.\n",
      "=====================================================================================================\n"
     ]
    },
    {
     "name": "stderr",
     "output_type": "stream",
     "text": [
      "\r\n",
      " 83%|██████████████████████████████████████████████████████████████████▌             | 264/317 [57:36<08:50, 10.00s/it]"
     ]
    },
    {
     "name": "stdout",
     "output_type": "stream",
     "text": [
      "After addition was complete, the solution was left to stir at rt overnight.\n",
      "Output:\n",
      "    STIR for overnight at room temperature.\n",
      "=====================================================================================================\n"
     ]
    },
    {
     "name": "stderr",
     "output_type": "stream",
     "text": [
      "\r\n",
      " 84%|██████████████████████████████████████████████████████████████████▉             | 265/317 [57:45<08:21,  9.64s/it]"
     ]
    },
    {
     "name": "stdout",
     "output_type": "stream",
     "text": [
      "After evaporating to dryness, the crude material was chromatographed on silica gel, eluting with methylene chloride/methanol 92/8, to give the title compound (780 mg, Y=62%) as a solid.\n",
      "Output:\n",
      "CONCENTRATE; PURIFY; YIELD title compound (780 mg, 62%).\n",
      "=====================================================================================================\n"
     ]
    },
    {
     "name": "stderr",
     "output_type": "stream",
     "text": [
      "\r\n",
      " 84%|███████████████████████████████████████████████████████████████████▏            | 266/317 [58:01<09:52, 11.63s/it]"
     ]
    },
    {
     "name": "stdout",
     "output_type": "stream",
     "text": [
      "To an ice-cold solution of N-{(1S,2R)-1-(3,5-difluorobenzyl)-3-[(3-ethylbenzyl)amino]-2-hydroxypropyl}-3-oxoindane-5-carboxamide prepared by the method in Example SP-201 (66 mg, 0.13 mmol) in methanol (3 mL) is added sodium borohydride (20 mg, 0.52 mmol).\n",
      "Output:\n",
      "SETTEMPERATURE 0 °C; MAKESOLUTION with N-{(1S,2R)-1-(3,5-difluorobenzyl)-3-[(3-ethylbenzyl)amino]-2-hydroxypropyl}-3-oxoindane-5-carboxamide (66 mg, 0.13 mmol) and methanol (3 mL); ADD sodium borohydride (20 mg, 0.52 mmol); STIR for unknown.\n",
      "=====================================================================================================\n"
     ]
    },
    {
     "name": "stderr",
     "output_type": "stream",
     "text": [
      "\r\n",
      " 84%|███████████████████████████████████████████████████████████████████▍            | 267/317 [58:06<07:57,  9.55s/it]"
     ]
    },
    {
     "name": "stdout",
     "output_type": "stream",
     "text": [
      "Die vereinigten organischen Phasen wurden mehrmals mit gesättigter Natriumhydrogencarbonatlösung gewaschen, über Natriumsulfat getrocknet und eingeengt.\n",
      "Output:\n",
      "OTHERLANGUAGE.\n",
      "=====================================================================================================\n"
     ]
    },
    {
     "name": "stderr",
     "output_type": "stream",
     "text": [
      "\r\n",
      " 85%|███████████████████████████████████████████████████████████████████▋            | 268/317 [58:22<09:34, 11.72s/it]"
     ]
    },
    {
     "name": "stdout",
     "output_type": "stream",
     "text": [
      "2-{5-[1-(3,5-Bis-trifluoromethyl-phenyl)-5-methyl-1H-pyrazol-4-ylmethoxy]-indol-1-yl}-2-methyl-propionic acid ethyl ester from step A in ethanol (2 mL) is added NaOH (5.0 M, 1 mL).\n",
      "Output:\n",
      "MAKESOLUTION with 2-{5-[1-(3,5-Bis-trifluoromethyl-phenyl)-5-methyl-1H-pyrazol-4-ylmethoxy]-indol-1-yl}-2-methyl-propionic acid ethyl ester from step A in ethanol (2 mL); ADD NaOH (5.0 M) (1 mL).\n",
      "=====================================================================================================\n"
     ]
    },
    {
     "name": "stderr",
     "output_type": "stream",
     "text": [
      "\r\n",
      " 85%|███████████████████████████████████████████████████████████████████▉            | 269/317 [58:28<07:56,  9.93s/it]"
     ]
    },
    {
     "name": "stdout",
     "output_type": "stream",
     "text": [
      "The combined product fractions were neutralized with aqueous ammonium hydroxide and acetonitrile was evaporated under vacuo.\n",
      "Output:\n",
      "COLLECTLAYER product; PH with aqueous ammonium hydroxide to pH neutral; CONCENTRATE.\n",
      "=====================================================================================================\n"
     ]
    },
    {
     "name": "stderr",
     "output_type": "stream",
     "text": [
      "\r\n",
      " 85%|████████████████████████████████████████████████████████████████████▏           | 270/317 [58:39<08:01, 10.25s/it]"
     ]
    },
    {
     "name": "stdout",
     "output_type": "stream",
     "text": [
      "The mixture was stirred for half an hour.\n",
      "Output:\n",
      "    STIR for 0.5 hours.\n",
      "=====================================================================================================\n"
     ]
    },
    {
     "name": "stderr",
     "output_type": "stream",
     "text": [
      "\r\n",
      " 85%|████████████████████████████████████████████████████████████████████▍           | 271/317 [58:52<08:28, 11.06s/it]"
     ]
    },
    {
     "name": "stdout",
     "output_type": "stream",
     "text": [
      "The reaction mixture was stirred at 50°C for 1.5 h then allowed to cool and the resultant precipitate was collected by filtration, washing with IMS.\n",
      "Output:\n",
      "STIR for 1.5 h at 50°C; SETTEMPERATURE room temperature; FILTER keep precipitate; WASH with IMS.\n",
      "=====================================================================================================\n"
     ]
    },
    {
     "name": "stderr",
     "output_type": "stream",
     "text": [
      "\r\n",
      " 86%|████████████████████████████████████████████████████████████████████▋           | 272/317 [58:58<07:11,  9.58s/it]"
     ]
    },
    {
     "name": "stdout",
     "output_type": "stream",
     "text": [
      "Evaporation of the solvent and flash chromatograph of residue over silica gel, using 20% ethyl acetate in CH2Cl2, gave the title compound (141 mg, 76%) as pure white solid.\n",
      "Output:\n",
      "CONCENTRATE; PURIFY; YIELD title compound (141 mg, 76%).\n",
      "=====================================================================================================\n"
     ]
    },
    {
     "name": "stderr",
     "output_type": "stream",
     "text": [
      "\r\n",
      " 86%|████████████████████████████████████████████████████████████████████▉           | 273/317 [59:07<06:49,  9.30s/it]"
     ]
    },
    {
     "name": "stdout",
     "output_type": "stream",
     "text": [
      "The residue was purified by column chromatography eluting with ethyl acetate/petroleum ether (10:1, v:v) to afford the title compound (100 mg, 48%).\n",
      "Output:\n",
      "PURIFY; YIELD title compound (100 mg, 48%).\n",
      "=====================================================================================================\n"
     ]
    },
    {
     "name": "stderr",
     "output_type": "stream",
     "text": [
      "\r\n",
      " 86%|█████████████████████████████████████████████████████████████████████▏          | 274/317 [59:20<07:31, 10.51s/it]"
     ]
    },
    {
     "name": "stdout",
     "output_type": "stream",
     "text": [
      "Into a 3000-mL 4-necked round-bottom flask purged and maintained under an inert atmosphere of nitrogen was placed a solution of 2-(prop-2-yn-1-yloxy)tetrahydro-2H-pyran (77.4 g, 552.15 mmol) in tetrahydrofuran (1000 mL), followed by the addition of n-butyllithium (2.5 M)(221.2 mL, 1.20 equiv) dropwise with stirring at −78° C.\n",
      "Output:\n",
      "MAKESOLUTION with 2-(prop-2-yn-1-yloxy)tetrahydro-2H-pyran (77.4 g, 552.15 mmol) in tetrahydrofuran (1000 mL); SETTEMPERATURE -78° C; ADD n-butyllithium (2.5 M) (221.2 mL) dropwise.\n",
      "=====================================================================================================\n"
     ]
    },
    {
     "name": "stderr",
     "output_type": "stream",
     "text": [
      "\r\n",
      " 87%|█████████████████████████████████████████████████████████████████████▍          | 275/317 [59:32<07:39, 10.93s/it]"
     ]
    },
    {
     "name": "stdout",
     "output_type": "stream",
     "text": [
      "The organic phases were combined, dried over anhydrous sodium sulfate, concentrated, re-dissolved in tetrahydrofuran (20 ml), and cooled to a temperature between -10°C and 0°C, potassium t-butoxide (85 mg, 0.76 mmol) was added, and the reaction was allowed to proceed for 24 hours at this temperature.\n",
      "Output:\n",
      "COLLECTLAYER organic; DRYSOLUTION over anhydrous sodium sulfate; CONCENTRATE; MAKESOLUTION with tetrahydrofuran (20 ml); SETTEMPERATURE -10 °C; ADD potassium t-butoxide (85 mg, 0.76 mmol); WAIT for 24 hours.\n",
      "=====================================================================================================\n"
     ]
    },
    {
     "name": "stderr",
     "output_type": "stream",
     "text": [
      "\r\n",
      " 87%|█████████████████████████████████████████████████████████████████████▋          | 276/317 [59:39<06:34,  9.63s/it]"
     ]
    },
    {
     "name": "stdout",
     "output_type": "stream",
     "text": [
      "1H NMR (500 MHz, CDCl3): δ 7.28 (s, 1H), 6.62 (s, 1H), 6.04 (brs, 2H), 5.97 (s, 2H), 4.60 (t, J=6.5 Hz, 1H), 4.24 (s, 2H), 4.20 (m, 1H), 4.09 (m, 1H), 3.13 (m, 1H), 2.97 (m, 1H), 2.00 (m, 1H), 1.85 (m, 1H), 1.27 (s, 9H).\n",
      "Output:\n",
      "NOACTION.\n",
      "=====================================================================================================\n"
     ]
    },
    {
     "name": "stderr",
     "output_type": "stream",
     "text": [
      "\r\n",
      " 87%|█████████████████████████████████████████████████████████████████████▉          | 277/317 [59:49<06:27,  9.70s/it]"
     ]
    },
    {
     "name": "stdout",
     "output_type": "stream",
     "text": [
      "The reaction was stirred and heated to 100° C. for 3 h.\n",
      "Output: STIR; SETTEMPERATURE 100° C; WAIT for 3 h.\n",
      "=====================================================================================================\n"
     ]
    },
    {
     "name": "stderr",
     "output_type": "stream",
     "text": [
      "\r\n",
      " 88%|██████████████████████████████████████████████████████████████████████▏         | 278/317 [59:58<06:19,  9.73s/it]"
     ]
    },
    {
     "name": "stdout",
     "output_type": "stream",
     "text": [
      "IR (neat, cm−1): 3361, 3215, 1600, 1515, 1472, 1337, 1273, 1181, 820.\n",
      "Output:\n",
      "NOACTION.\n",
      "=====================================================================================================\n"
     ]
    },
    {
     "name": "stderr",
     "output_type": "stream",
     "text": [
      "\r\n",
      " 88%|████████████████████████████████████████████████████████████████████▋         | 279/317 [1:00:17<07:50, 12.38s/it]"
     ]
    },
    {
     "name": "stdout",
     "output_type": "stream",
     "text": [
      "4-Acetyl-3-{[(S)-cyclopropyl-(3-fluoro-phenyl)-methyl]-amino}-8-fluoro-2-benzopyran-1-one (14.30 g, 38.72 mmol) was dissolved in a mixture of tetrahydrofuran (50 mL) and methanol (50 mL) and placed on an ice/water bath with stirring.\n",
      "Output:\n",
      "    MAKESOLUTION with 4-Acetyl-3-{[(S)-cyclopropyl-(3-fluoro-phenyl)-methyl]-amino}-8-fluoro-2-benzopyran-1-one (14.30 g, 38.72 mmol) and tetrahydrofuran (50 mL) and methanol (50 mL); SETTEMPERATURE 0 °C; STIR for unknown.\n",
      "=====================================================================================================\n"
     ]
    },
    {
     "name": "stderr",
     "output_type": "stream",
     "text": [
      "\r\n",
      " 88%|████████████████████████████████████████████████████████████████████▉         | 280/317 [1:00:20<05:50,  9.48s/it]"
     ]
    },
    {
     "name": "stdout",
     "output_type": "stream",
     "text": [
      "Ammonium hydroxide (3.40 g; 96.8 mmol) was then added to bring the pH to approximately 9 upon which an oily semi-solid formed.\n",
      "Output:\n",
      "ADD ammonium hydroxide (3.40 g; 96.8 mmol); PH to approximately 9.\n",
      "=====================================================================================================\n"
     ]
    },
    {
     "name": "stderr",
     "output_type": "stream",
     "text": [
      "\r\n",
      " 89%|█████████████████████████████████████████████████████████████████████▏        | 281/317 [1:00:31<05:59, 10.00s/it]"
     ]
    },
    {
     "name": "stdout",
     "output_type": "stream",
     "text": [
      "Preparation of N-(4-methoxynaphthalen-2-yl)-2,2-dimethylpropionamide.\n",
      "Output:\n",
      "FOLLOWOTHERPROCEDURE.\n",
      "=====================================================================================================\n"
     ]
    },
    {
     "name": "stderr",
     "output_type": "stream",
     "text": [
      "\r\n",
      " 89%|█████████████████████████████████████████████████████████████████████▍        | 282/317 [1:00:55<08:17, 14.21s/it]"
     ]
    },
    {
     "name": "stdout",
     "output_type": "stream",
     "text": [
      "Into a 100 mL, 3-necked round-bottom flask purged and maintained under an inert atmosphere of nitrogen, was placed tert-butyl (2R)-2-([4-amino-3-iodo-1H-pyrazolo[3,4-d]pyrimidin-1-yl]methyl)pyrrolidine-1-carboxylate (380 mg, 0.86 mmol, 1.00 equiv), (2-fluoro-4-phenoxyphenyl)boronic acid (240 mg, 1.03 mmol, 1.20 equiv), tetrakis-(triphenylphosphane) palladium (60 mg, 0.05 mmol, 0.06 equiv), dioxane (50 mL), sodium carbonate (228 mg, 2.15 mmol, 2.50 equiv) and water (10 mL).\n",
      "Output:\n",
      "ADD tert-butyl (2R)-2-([4-amino-3-iodo-1H-pyrazolo[3,4-d]pyrimidin-1-yl]methyl)pyrrolidine-1-carboxylate (380 mg, 0.86 mmol, 1.00 equiv); ADD (2-fluoro-4-phenoxyphenyl)boronic acid (240 mg, 1.03 mmol, 1.20 equiv); ADD tetrakis-(triphenylphosphane) palladium (60 mg, 0.05 mmol, 0.06 equiv); ADD dioxane (50 mL); ADD sodium carbonate (228 mg, 2.15 mmol, 2.50 equiv); ADD water (10 mL); OTHERPROCEDURE.\n",
      "=====================================================================================================\n"
     ]
    },
    {
     "name": "stderr",
     "output_type": "stream",
     "text": [
      "\r\n",
      " 89%|█████████████████████████████████████████████████████████████████████▋        | 283/317 [1:01:00<06:29, 11.47s/it]"
     ]
    },
    {
     "name": "stdout",
     "output_type": "stream",
     "text": [
      "The mixture was stirred in the ice bath for 30 min and NBS (2.486 g, 14 mmol) was added.\n",
      "Output:\n",
      "SETTEMPERATURE 0 °C; STIR for 30 min; ADD NBS (2.486 g, 14 mmol).\n",
      "=====================================================================================================\n"
     ]
    },
    {
     "name": "stderr",
     "output_type": "stream",
     "text": [
      "\r\n",
      " 90%|█████████████████████████████████████████████████████████████████████▉        | 284/317 [1:01:08<05:48, 10.57s/it]"
     ]
    },
    {
     "name": "stdout",
     "output_type": "stream",
     "text": [
      "When conversion was complete, the mixture was poured into 15 mL of water. pH was adjusted to 2 by addition of 2N HCl and the aqueous layer was extracted with ethyl acetate.\n",
      "Output:\n",
      "ADD water (15 mL); PH with 2N HCl to pH 2; EXTRACT with ethyl acetate.\n",
      "=====================================================================================================\n"
     ]
    },
    {
     "name": "stderr",
     "output_type": "stream",
     "text": [
      "\r\n",
      " 90%|██████████████████████████████████████████████████████████████████████▏       | 285/317 [1:01:20<05:49, 10.93s/it]"
     ]
    },
    {
     "name": "stdout",
     "output_type": "stream",
     "text": [
      "After stirring for 1 h at −78° C., the reaction was quenched with saturated NH4Cl at −35° C., then extracted with ethylacetate.\n",
      "Output:\n",
      "STIR for 1 h at −78° C.; QUENCH with saturated NH4Cl at −35° C.; EXTRACT with ethylacetate.\n",
      "=====================================================================================================\n"
     ]
    },
    {
     "name": "stderr",
     "output_type": "stream",
     "text": [
      "\r\n",
      " 90%|██████████████████████████████████████████████████████████████████████▎       | 286/317 [1:01:29<05:16, 10.22s/it]"
     ]
    },
    {
     "name": "stdout",
     "output_type": "stream",
     "text": [
      "The appropriate fractions were concentrated under a stream of nitrogen to give the required product, 4.2 mg.\n",
      "Output:\n",
      "CONCENTRATE under nitrogen; YIELD required product (4.2 mg).\n",
      "=====================================================================================================\n"
     ]
    },
    {
     "name": "stderr",
     "output_type": "stream",
     "text": [
      "\r\n",
      " 91%|██████████████████████████████████████████████████████████████████████▌       | 287/317 [1:01:37<04:48,  9.62s/it]"
     ]
    },
    {
     "name": "stdout",
     "output_type": "stream",
     "text": [
      "After 30 minutes at room temperature, the reaction was poured into a mixture of saturated aqueous NaHCO3 and ice.\n",
      "Output:\n",
      "WAIT for 30 minutes at room temperature; ADD saturated aqueous NaHCO3 and ice.\n",
      "=====================================================================================================\n"
     ]
    },
    {
     "name": "stderr",
     "output_type": "stream",
     "text": [
      "\r\n",
      " 91%|██████████████████████████████████████████████████████████████████████▊       | 288/317 [1:01:51<05:19, 11.02s/it]"
     ]
    },
    {
     "name": "stdout",
     "output_type": "stream",
     "text": [
      "The mixture is cooled to rt and the precipitate that forms is collected, washed with water and dried in vacuo to give 1-(2-isopropylamino-6-methyl-pyrimidin-4-yl)-ethanone oxime (1.54 g) as a yellow solid; LC-MS: tR=0.72 min, [M+H]+=209.52; 1H NMR (D6-DMSO): δ 1.15 (d, J=6.5 Hz, 6H), 2.10 (s, 3H), 2.25 (s, 3H), 4.07 (m, 1H), 6.80 (s, 1H), 6.86 (d, J=7.5 Hz, 1H), 11.62 (s, 1H).\n",
      "Output: SETTEMPERATURE room temperature; COLLECT precipitate; WASH with water; DRYSOLID under vacuum; YIELD 1-(2-isopropylamino-6-methyl-pyrimidin-4-yl)-ethanone oxime (1.54 g).\n",
      "=====================================================================================================\n"
     ]
    },
    {
     "name": "stderr",
     "output_type": "stream",
     "text": [
      "\r\n",
      " 91%|███████████████████████████████████████████████████████████████████████       | 289/317 [1:02:07<05:50, 12.50s/it]"
     ]
    },
    {
     "name": "stdout",
     "output_type": "stream",
     "text": [
      "2.50 g of 3-hydroxybenzaldehyde, 2.77 g of methyl L-(-)-lactate, and 6.44 g of triphenylphosphine were dissolved in 25.0 mL of THF, and 22.2 mL of a 2.2 M diethyl azodicarboxylate/toluene solution was added thereto under ice-cooling, followed by stirring at room temperature overnight.\n",
      "Output:\n",
      "MAKESOLUTION with 3-hydroxybenzaldehyde (2.50 g), methyl L-(-)-lactate (2.77 g), triphenylphosphine (6.44 g) and THF (25.0 mL); SETTEMPERATURE 0 °C; ADD diethyl azodicarboxylate/toluene solution (2.2 M) (22.2 mL); SETTEMPERATURE room temperature; STIR overnight.\n",
      "=====================================================================================================\n"
     ]
    },
    {
     "name": "stderr",
     "output_type": "stream",
     "text": [
      "\r\n",
      " 91%|███████████████████████████████████████████████████████████████████████▎      | 290/317 [1:02:11<04:29,  9.98s/it]"
     ]
    },
    {
     "name": "stdout",
     "output_type": "stream",
     "text": [
      "The reaction mixture was concentrated under reduced pressure and diluted with water, neutralized with 1(N) NaOH solution and extracted with ethyl acetate.\n",
      "Output: \n",
      "CONCENTRATE; ADD water; PH with 1(N) NaOH solution to neutral; EXTRACT with ethyl acetate.\n",
      "=====================================================================================================\n"
     ]
    },
    {
     "name": "stderr",
     "output_type": "stream",
     "text": [
      "\r\n",
      " 92%|███████████████████████████████████████████████████████████████████████▌      | 291/317 [1:02:23<04:33, 10.51s/it]"
     ]
    },
    {
     "name": "stdout",
     "output_type": "stream",
     "text": [
      "After drying and concentration to dryness under reduced pressure, 2.27 g of a crude product are obtained, which product is purified by liquid chromatography on silica gel, eluting with a hexane/ethyl acetate mixture (1:1 by volume).\n",
      "Output:\n",
      "DRYSOLID under reduced pressure; PURIFY; YIELD crude product (2.27 g).\n",
      "=====================================================================================================\n"
     ]
    },
    {
     "name": "stderr",
     "output_type": "stream",
     "text": [
      "\r\n",
      " 92%|███████████████████████████████████████████████████████████████████████▊      | 292/317 [1:02:32<04:07,  9.91s/it]"
     ]
    },
    {
     "name": "stdout",
     "output_type": "stream",
     "text": [
      "The residue was dissolved in THF (8 mL).\n",
      "Output:\n",
      "ADD THF (8 mL).\n",
      "=====================================================================================================\n"
     ]
    },
    {
     "name": "stderr",
     "output_type": "stream",
     "text": [
      "\r\n",
      " 92%|████████████████████████████████████████████████████████████████████████      | 293/317 [1:02:45<04:19, 10.81s/it]"
     ]
    },
    {
     "name": "stdout",
     "output_type": "stream",
     "text": [
      "The solvent was removed and the residue that obtained was dissolved in dichloromethane (200 mL) and the organic layer was neutralized with triethylamine.\n",
      "Output:\n",
      "CONCENTRATE; ADD dichloromethane (200 mL); COLLECTLAYER organic; PH with triethylamine to PH neutral.\n",
      "=====================================================================================================\n"
     ]
    },
    {
     "name": "stderr",
     "output_type": "stream",
     "text": [
      "\r\n",
      " 93%|████████████████████████████████████████████████████████████████████████▎     | 294/317 [1:02:53<03:56, 10.26s/it]"
     ]
    },
    {
     "name": "stdout",
     "output_type": "stream",
     "text": [
      "This mixture was stirred in an oil bath at 70° C. for 4 hours.\n",
      "Output:\n",
      "SETTEMPERATURE 70 °C; STIR for 4 hours.\n",
      "=====================================================================================================\n"
     ]
    },
    {
     "name": "stderr",
     "output_type": "stream",
     "text": [
      "\r\n",
      " 93%|████████████████████████████████████████████████████████████████████████▌     | 295/317 [1:03:04<03:48, 10.41s/it]"
     ]
    },
    {
     "name": "stdout",
     "output_type": "stream",
     "text": [
      "Subsequently, purification was performed by silica gel column chromatography (developing liquid: toluene/heptane=5/5 (volume ratio)).\n",
      "Output:\n",
      "PURIFY; OTHER.\n",
      "=====================================================================================================\n"
     ]
    },
    {
     "name": "stderr",
     "output_type": "stream",
     "text": [
      "\r\n",
      " 93%|████████████████████████████████████████████████████████████████████████▊     | 296/317 [1:03:19<04:08, 11.83s/it]"
     ]
    },
    {
     "name": "stdout",
     "output_type": "stream",
     "text": [
      "The combined organic layers was dried over anhydrous magnesium sulfate and filtered.\n",
      "Output:\n",
      "COLLECTLAYER organic; DRYSOLUTION over anhydrous magnesium sulfate; FILTER keep filtrate.\n",
      "=====================================================================================================\n"
     ]
    },
    {
     "name": "stderr",
     "output_type": "stream",
     "text": [
      "\r\n",
      " 94%|█████████████████████████████████████████████████████████████████████████     | 297/317 [1:03:29<03:45, 11.25s/it]"
     ]
    },
    {
     "name": "stdout",
     "output_type": "stream",
     "text": [
      "It was cooled, quenched with water (10 mL), and was extracted with EtOAc (2×25 mL).\n",
      "Output:\n",
      "SETTEMPERATURE 0 °C; QUENCH with water (10 mL); EXTRACT with EtOAc (25 mL) 2 x.\n",
      "=====================================================================================================\n"
     ]
    },
    {
     "name": "stderr",
     "output_type": "stream",
     "text": [
      "\r\n",
      " 94%|█████████████████████████████████████████████████████████████████████████▎    | 298/317 [1:03:43<03:49, 12.06s/it]"
     ]
    },
    {
     "name": "stdout",
     "output_type": "stream",
     "text": [
      "The desired fractions were collected and neutralized to pH=7 with saturated NaHCO3 solution and extracted with ethyl acetate (1×200 mL).\n",
      "Output:\n",
      "COLLECTLAYER desired fraction; PH with saturated NaHCO3 solution to pH 7; EXTRACT with ethyl acetate (200 mL).\n",
      "=====================================================================================================\n"
     ]
    },
    {
     "name": "stderr",
     "output_type": "stream",
     "text": [
      "\r\n",
      " 94%|█████████████████████████████████████████████████████████████████████████▌    | 299/317 [1:03:49<03:02, 10.16s/it]"
     ]
    },
    {
     "name": "stdout",
     "output_type": "stream",
     "text": [
      "Ausbeute: 2,3 g (80% der Theorie); Schmelzpunkt: 55°C C19H24N4O3 (MG = 356,4 g/mol); Massenspektrum: 356 (10%, M); 297 (15%); 285 (38%); 91 (100%)\n",
      "Output: OTHERLANGUAGE.\n",
      "=====================================================================================================\n"
     ]
    },
    {
     "name": "stderr",
     "output_type": "stream",
     "text": [
      "\r\n",
      " 95%|█████████████████████████████████████████████████████████████████████████▊    | 300/317 [1:04:07<03:32, 12.52s/it]"
     ]
    },
    {
     "name": "stdout",
     "output_type": "stream",
     "text": [
      "The resin was filtered off, washed with water, and the filtrate-wash evaporated to a pale yellow syrup which was dried by evaporation of portions of ethanol.\n",
      "Output:\n",
      "FILTER keep precipitate; WASH with water; COLLECTLAYER filtrate; CONCENTRATE; ADD ethanol; CONCENTRATE; ADD ethanol; CONCENTRATE; ADD ethanol; CONCENTRATE.\n",
      "=====================================================================================================\n"
     ]
    },
    {
     "name": "stderr",
     "output_type": "stream",
     "text": [
      "\r\n",
      " 95%|██████████████████████████████████████████████████████████████████████████    | 301/317 [1:04:13<02:50, 10.66s/it]"
     ]
    },
    {
     "name": "stdout",
     "output_type": "stream",
     "text": [
      "The solids were filtered out.\n",
      "Output: FILTER keep solid.\n",
      "=====================================================================================================\n"
     ]
    },
    {
     "name": "stderr",
     "output_type": "stream",
     "text": [
      "\r\n",
      " 95%|██████████████████████████████████████████████████████████████████████████▎   | 302/317 [1:04:19<02:18,  9.24s/it]"
     ]
    },
    {
     "name": "stdout",
     "output_type": "stream",
     "text": [
      "To a stirred solution of imidazopyridine in dimethylacetamide under argon, N-isopropyl, N-phenyl-2-(chloromethyl)-5-pyridinecarboxamide is added in one portion.\n",
      "Output:\n",
      "    MAKESOLUTION with imidazopyridine and dimethylacetamide; ADD N-isopropyl, N-phenyl-2-(chloromethyl)-5-pyridinecarboxamide.\n",
      "=====================================================================================================\n"
     ]
    },
    {
     "name": "stderr",
     "output_type": "stream",
     "text": [
      "\r\n",
      " 96%|██████████████████████████████████████████████████████████████████████████▌   | 303/317 [1:04:38<02:50, 12.15s/it]"
     ]
    },
    {
     "name": "stdout",
     "output_type": "stream",
     "text": [
      "N,N-Dimethyl-[6-[4-(2-methoxybenzoyl)benzoyl]-4,5,6,7-tetrahydrofuro[2,3-c]pyridin-2-ylmethyl]amine 0.215 g was dissolved in 2 ml of methanol; hydrogen chloride in ethyl acetate was added in excess, followed by stirring.\n",
      "Output:\n",
      "MAKESOLUTION with N,N-Dimethyl-[6-[4-(2-methoxybenzoyl)benzoyl]-4,5,6,7-tetrahydrofuro[2,3-c]pyridin-2-ylmethyl]amine (0.215 g) and methanol (2 ml); ADD hydrogen chloride in ethyl acetate until excess; STIR for unknown.\n",
      "=====================================================================================================\n"
     ]
    },
    {
     "name": "stderr",
     "output_type": "stream",
     "text": [
      "\r\n",
      " 96%|██████████████████████████████████████████████████████████████████████████▊   | 304/317 [1:04:42<02:06,  9.76s/it]"
     ]
    },
    {
     "name": "stdout",
     "output_type": "stream",
     "text": [
      "The reaction is stopped by adding water and hydrochloric acid to pH 4, and then extracted with ethyl acetate.\n",
      "Output:\n",
      "QUENCH with water; PH with hydrochloric acid to pH 4; EXTRACT with ethyl acetate.\n",
      "=====================================================================================================\n"
     ]
    },
    {
     "name": "stderr",
     "output_type": "stream",
     "text": [
      "\r\n",
      " 96%|███████████████████████████████████████████████████████████████████████████   | 305/317 [1:04:53<02:01, 10.11s/it]"
     ]
    },
    {
     "name": "stdout",
     "output_type": "stream",
     "text": [
      "The mixture was then left to stir and warm to room temperature without external cooling for 1 h.\n",
      "Output:\n",
      "    SETTEMPERATURE room temperature; STIR for 1 h.\n",
      "=====================================================================================================\n"
     ]
    },
    {
     "name": "stderr",
     "output_type": "stream",
     "text": [
      "\r\n",
      " 97%|███████████████████████████████████████████████████████████████████████████▎  | 306/317 [1:05:12<02:18, 12.62s/it]"
     ]
    },
    {
     "name": "stdout",
     "output_type": "stream",
     "text": [
      "Drying under 5 mm Hg at 40° C. for 48 hours yields 4-[(R)-((2S,5R)-2,5-dimethyl-4-(3-fluorobenzyl)-1-piperazinyl)(3-hydroxyphenyl)methyl]-N,N-diethyl-benzamide as ivory colored crystals (expected yield ˜30% from 4-formyl-N,N-diethylbenzamide).\n",
      "Output:\n",
      "SETTEMPERATURE 40° C; DRYSOLID under 5 mm Hg for 48 hours; YIELD 4-[(R)-((2S,5R)-2,5-dimethyl-4-(3-fluorobenzyl)-1-piperazinyl)(3-hydroxyphenyl)methyl]-N,N-diethyl-benzamide.\n",
      "=====================================================================================================\n"
     ]
    },
    {
     "name": "stderr",
     "output_type": "stream",
     "text": [
      "\r\n",
      " 97%|███████████████████████████████████████████████████████████████████████████▌  | 307/317 [1:05:18<01:47, 10.75s/it]"
     ]
    },
    {
     "name": "stdout",
     "output_type": "stream",
     "text": [
      "The reaction was sparged with nitrogen and then heated at 80° C. for 3 hours.\n",
      "Output:\n",
      "DEGAS with nitrogen for unknown; SETTEMPERATURE 80° C; WAIT for 3 hours.\n",
      "=====================================================================================================\n"
     ]
    },
    {
     "name": "stderr",
     "output_type": "stream",
     "text": [
      "\r\n",
      " 97%|███████████████████████████████████████████████████████████████████████████▊  | 308/317 [1:05:30<01:39, 11.01s/it]"
     ]
    },
    {
     "name": "stdout",
     "output_type": "stream",
     "text": [
      "The reaction mixture was added slowly to saturated sodium bicarbonate in water (2300 mL) and the biphasic mixture was allowed to stir for 20 minutes.\n",
      "Output:\n",
      "ADD to saturated sodium bicarbonate in water (2300 mL); STIR for 20 minutes.\n",
      "=====================================================================================================\n"
     ]
    },
    {
     "name": "stderr",
     "output_type": "stream",
     "text": [
      "\r\n",
      " 97%|████████████████████████████████████████████████████████████████████████████  | 309/317 [1:05:42<01:31, 11.47s/it]"
     ]
    },
    {
     "name": "stdout",
     "output_type": "stream",
     "text": [
      "The reaction solution was neutralized by adding an aqueous sodium bicarbonate solution thereto, and the organic solvent was removed therefrom under reduced pressure, which was then extracted with ethyl acetate.\n",
      "Output:\n",
      "PH with aqueous sodium bicarbonate solution to pH neutral; CONCENTRATE; EXTRACT with ethyl acetate.\n",
      "=====================================================================================================\n"
     ]
    },
    {
     "name": "stderr",
     "output_type": "stream",
     "text": [
      "\r\n",
      " 98%|████████████████████████████████████████████████████████████████████████████▎ | 310/317 [1:05:59<01:32, 13.18s/it]"
     ]
    },
    {
     "name": "stdout",
     "output_type": "stream",
     "text": [
      "To a solution of (2-trifluoromethyl-benzylamino)-acetic acid ethyl ester (290 mg, 1.11 mmol) in 10 mL DCM at RT is added TEA (0.232 mL, 1.67 mmol) followed by di-tert-butyl dicarbonate (242 mg, 1.11 mmol).\n",
      "Output:\n",
      "MAKESOLUTION with (2-trifluoromethyl-benzylamino)-acetic acid ethyl ester (290 mg, 1.11 mmol) in DCM (10 mL); ADD TEA (0.232 mL, 1.67 mmol); ADD di-tert-butyl dicarbonate (242 mg, 1.11 mmol).\n",
      "=====================================================================================================\n"
     ]
    },
    {
     "name": "stderr",
     "output_type": "stream",
     "text": [
      "\r\n",
      " 98%|████████████████████████████████████████████████████████████████████████████▌ | 311/317 [1:06:08<01:10, 11.75s/it]"
     ]
    },
    {
     "name": "stdout",
     "output_type": "stream",
     "text": [
      "The reaction was stirred for 10 min and then 296 mg 5-chloro-7-(3,4-dimethoxy-phenyl)-[1,6]naphthyridine (6.37) as a solution in 2 mL dimethylacetamide was added.\n",
      "Output:\n",
      "STIR for 10 min; MAKESOLUTION with 5-chloro-7-(3,4-dimethoxy-phenyl)-[1,6]naphthyridine (296 mg) and dimethylacetamide (2 mL); ADD SLN.\n",
      "=====================================================================================================\n"
     ]
    },
    {
     "name": "stderr",
     "output_type": "stream",
     "text": [
      "\r\n",
      " 98%|████████████████████████████████████████████████████████████████████████████▊ | 312/317 [1:06:15<00:52, 10.44s/it]"
     ]
    },
    {
     "name": "stdout",
     "output_type": "stream",
     "text": [
      "The organics were combined, dried over sodium carbonate, and concentrated in vacuo.\n",
      "Output:\n",
      "COLLECTLAYER organic; DRYSOLUTION over sodium carbonate; CONCENTRATE.\n",
      "=====================================================================================================\n"
     ]
    },
    {
     "name": "stderr",
     "output_type": "stream",
     "text": [
      "\r\n",
      " 99%|█████████████████████████████████████████████████████████████████████████████ | 313/317 [1:06:46<01:06, 16.65s/it]"
     ]
    },
    {
     "name": "stdout",
     "output_type": "stream",
     "text": [
      "A solution of 0.42 g of (2S,4S)-4-mercapto-1-methyl-2-[3-(4-nitrobenzyloxycarbonylamino)azetidin-1-ylcarbonyl]pyrrolidine (prepared as described in Preparation 116) in 10 ml of dry acetonitrile and 0.18 ml of diisopropylethylamine were added dropwise at the same time to a solution of 0.70 g of 4-nitrobenzyl (1R,5R,6S)-2-(diphenylphosphoryloxy)-6-[(1R)-1-hydroxyethyl]-1-methyl-1-carbapen-2-em-3-carboxylate (prepared as described in Preparation 32) in 14 ml of dry acetonitrile, whilst ice-cooling, and the resulting mixture was left to stand at the same temperature for 2 days.\n",
      "Output:\n",
      "MAKESOLUTION with (2S,4S)-4-mercapto-1-methyl-2-[3-(4-nitrobenzyloxycarbonylamino)azetidin-1-ylcarbonyl]pyrrolidine (0.42 g) and dry acetonitrile (10 ml) and diisopropylethylamine (0.18 ml); ADD SLN; MAKESOLUTION with 4-nitrobenzyl (1R,5R,6S)-2-(diphenylphosphoryloxy)-6-[(1R)-1-hydroxyethyl]-1-methyl-1-carbapen-2-em-3-carboxylate (0.70 g) and dry acetonitrile (14 ml); ADD SLN; SETTEMPERATURE 0 °C; WAIT for 2 days.\n",
      "=====================================================================================================\n"
     ]
    },
    {
     "name": "stderr",
     "output_type": "stream",
     "text": [
      "\r\n",
      " 99%|█████████████████████████████████████████████████████████████████████████████▎| 314/317 [1:06:51<00:39, 13.04s/it]"
     ]
    },
    {
     "name": "stdout",
     "output_type": "stream",
     "text": [
      "The reaction mixture was heated at 70° C. for 24 h whereupon it was diluted with MeOH and quenched with solid NaHCO3.\n",
      "Output:\n",
      "SETTEMPERATURE 70 °C; WAIT for 24 h; ADD MeOH; QUENCH with solid NaHCO3.\n",
      "=====================================================================================================\n"
     ]
    },
    {
     "name": "stderr",
     "output_type": "stream",
     "text": [
      "\r\n",
      " 99%|█████████████████████████████████████████████████████████████████████████████▌| 315/317 [1:06:55<00:20, 10.20s/it]"
     ]
    },
    {
     "name": "stdout",
     "output_type": "stream",
     "text": [
      "After the reaction was over, the reaction mixture was dispersed in a mixture of 150 ml of ice-water and 10 g of sodium hydrogencarbonate and extracted with 200 ml and then 100 ml of ether.\n",
      "Output:\n",
      "    ADD mixture of ice-water (150 ml) and sodium hydrogencarbonate (10 g); EXTRACT with ether (200 ml) then ether (100 ml).\n",
      "=====================================================================================================\n"
     ]
    },
    {
     "name": "stderr",
     "output_type": "stream",
     "text": [
      "\r\n",
      "100%|█████████████████████████████████████████████████████████████████████████████▊| 316/317 [1:06:59<00:08,  8.32s/it]"
     ]
    },
    {
     "name": "stdout",
     "output_type": "stream",
     "text": [
      "The crystallographic data is summarized in the table below.\n",
      "Output: NOACTION.\n",
      "=====================================================================================================\n"
     ]
    },
    {
     "name": "stderr",
     "output_type": "stream",
     "text": [
      "100%|██████████████████████████████████████████████████████████████████████████████| 317/317 [1:07:15<00:00, 12.73s/it]"
     ]
    },
    {
     "name": "stdout",
     "output_type": "stream",
     "text": [
      "First, precursor H-ValCH₂Cl·HCl was prepared by dissolving Boc-Val-OH (6.5 g, 30 mmol) in 10 mL of THF and treating it with N-methylmorpholine (3.3 mL, 30 mmol) and isobutyl chloroformate (3.9 mL, 30 mmol) for 10 minutes at -20°.\n",
      "Output:\n",
      "MAKESOLUTION with Boc-Val-OH (6.5 g, 30 mmol) and THF (10 mL); ADD N-methylmorpholine (3.3 mL, 30 mmol); ADD isobutyl chloroformate (3.9 mL, 30 mmol); STIR for 10 min at -20°.\n"
     ]
    },
    {
     "name": "stderr",
     "output_type": "stream",
     "text": [
      "\n"
     ]
    }
   ],
   "source": [
    "async def response(message):\n",
    "    response = await client.chat.completions.create(\n",
    "        model=\"gpt-4-0613\",     # setting models, we recommend newest \"gpt-3.5-turbo-0125\" or \"gpt-4-0125-preview\"\n",
    "        messages=[message],\n",
    "    )\n",
    "    return response\n",
    "\n",
    "for context in tqdm(test_paragraphs):\n",
    "    print(\"=====================================================================================================\")\n",
    "    message = {\n",
    "        \"role\": \"user\",\n",
    "        \"content\": f\"{prompt}\\nInput:\\n{context}\\nOutput:\\n\",\n",
    "    }\n",
    "       \n",
    "    response_result = asyncio.run(response(message))\n",
    "    print(context)\n",
    "    result = response_result.choices[0].message.content\n",
    "    print(result)\n",
    "    test_preds.append(result)\n",
    "    # Get the number of tokens spent\n",
    "    tokens_number = response_result.usage.total_tokens\n",
    "    total_tokens += tokens_number"
   ]
  },
  {
   "cell_type": "code",
   "execution_count": 11,
   "metadata": {},
   "outputs": [
    {
     "name": "stdout",
     "output_type": "stream",
     "text": [
      "0\n"
     ]
    }
   ],
   "source": [
    "print(total_tokens)"
   ]
  },
  {
   "cell_type": "code",
   "execution_count": 8,
   "metadata": {},
   "outputs": [
    {
     "name": "stdout",
     "output_type": "stream",
     "text": [
      "352\n"
     ]
    }
   ],
   "source": [
    "print(len(test_preds))"
   ]
  },
  {
   "cell_type": "markdown",
   "metadata": {},
   "source": [
    "### Save Predicted Results"
   ]
  },
  {
   "cell_type": "code",
   "execution_count": 9,
   "metadata": {},
   "outputs": [
    {
     "data": {
      "text/html": [
       "<div>\n",
       "<style scoped>\n",
       "    .dataframe tbody tr th:only-of-type {\n",
       "        vertical-align: middle;\n",
       "    }\n",
       "\n",
       "    .dataframe tbody tr th {\n",
       "        vertical-align: top;\n",
       "    }\n",
       "\n",
       "    .dataframe thead th {\n",
       "        text-align: right;\n",
       "    }\n",
       "</style>\n",
       "<table border=\"1\" class=\"dataframe\">\n",
       "  <thead>\n",
       "    <tr style=\"text-align: right;\">\n",
       "      <th></th>\n",
       "      <th>paragraphs</th>\n",
       "      <th>actions</th>\n",
       "      <th>prediction_action</th>\n",
       "    </tr>\n",
       "  </thead>\n",
       "  <tbody>\n",
       "    <tr>\n",
       "      <th>0</th>\n",
       "      <td>Both the organic and aqueous layers were separ...</td>\n",
       "      <td>PHASESEPARATION.</td>\n",
       "      <td>Output:\\nPHASESEPARATION; COLLECTLAYER organic...</td>\n",
       "    </tr>\n",
       "    <tr>\n",
       "      <th>1</th>\n",
       "      <td>After then being left to stand at RT for three...</td>\n",
       "      <td>WAIT for three days at RT; ADD ethyl acetate; ...</td>\n",
       "      <td>Output:\\n    WAIT for 72 hours at RT; ADD ethy...</td>\n",
       "    </tr>\n",
       "    <tr>\n",
       "      <th>2</th>\n",
       "      <td>3-Bromo-2-fluoroaniline (10 g, 52.63 mmol) was...</td>\n",
       "      <td>ADD 3-Bromo-2-fluoroaniline (10 g, 52.63 mmol)...</td>\n",
       "      <td>Output:\\nMAKESOLUTION with 3-Bromo-2-fluoroani...</td>\n",
       "    </tr>\n",
       "    <tr>\n",
       "      <th>3</th>\n",
       "      <td>The mixture was allowed to cool to rt and then...</td>\n",
       "      <td>SETTEMPERATURE rt; CONCENTRATE.</td>\n",
       "      <td>Output: SETTEMPERATURE room temperature; CONCE...</td>\n",
       "    </tr>\n",
       "    <tr>\n",
       "      <th>4</th>\n",
       "      <td>The crude material was purified by silica gel ...</td>\n",
       "      <td>PURIFY; YIELD benzyl 3-(formamido(7-((2-(trime...</td>\n",
       "      <td>Output:\\nPURIFY; YIELD benzyl 3-(formamido(7-(...</td>\n",
       "    </tr>\n",
       "    <tr>\n",
       "      <th>...</th>\n",
       "      <td>...</td>\n",
       "      <td>...</td>\n",
       "      <td>...</td>\n",
       "    </tr>\n",
       "    <tr>\n",
       "      <th>347</th>\n",
       "      <td>A solution of 0.42 g of (2S,4S)-4-mercapto-1-m...</td>\n",
       "      <td>MAKESOLUTION with 4-nitrobenzyl ‌(1R,5R,6S)-2-...</td>\n",
       "      <td>Output:\\nMAKESOLUTION with (2S,4S)-4-mercapto-...</td>\n",
       "    </tr>\n",
       "    <tr>\n",
       "      <th>348</th>\n",
       "      <td>The reaction mixture was heated at 70° C. for ...</td>\n",
       "      <td>STIR for 24 h at 70° C; ADD MeOH; QUENCH with ...</td>\n",
       "      <td>Output:\\nSETTEMPERATURE 70 °C; WAIT for 24 h; ...</td>\n",
       "    </tr>\n",
       "    <tr>\n",
       "      <th>349</th>\n",
       "      <td>After the reaction was over, the reaction mixt...</td>\n",
       "      <td>MAKESOLUTION with ice-water (150 ml) and sodiu...</td>\n",
       "      <td>Output:\\n    ADD mixture of ice-water (150 ml)...</td>\n",
       "    </tr>\n",
       "    <tr>\n",
       "      <th>350</th>\n",
       "      <td>The crystallographic data is summarized in the...</td>\n",
       "      <td>NOACTION.</td>\n",
       "      <td>Output: NOACTION.</td>\n",
       "    </tr>\n",
       "    <tr>\n",
       "      <th>351</th>\n",
       "      <td>First, precursor H-ValCH₂Cl·HCl was prepared b...</td>\n",
       "      <td>ADD Boc-Val-OH (6.5 g, 30 mmol); ADD THF (10 m...</td>\n",
       "      <td>Output:\\nMAKESOLUTION with Boc-Val-OH (6.5 g, ...</td>\n",
       "    </tr>\n",
       "  </tbody>\n",
       "</table>\n",
       "<p>352 rows × 3 columns</p>\n",
       "</div>"
      ],
      "text/plain": [
       "                                            paragraphs  \\\n",
       "0    Both the organic and aqueous layers were separ...   \n",
       "1    After then being left to stand at RT for three...   \n",
       "2    3-Bromo-2-fluoroaniline (10 g, 52.63 mmol) was...   \n",
       "3    The mixture was allowed to cool to rt and then...   \n",
       "4    The crude material was purified by silica gel ...   \n",
       "..                                                 ...   \n",
       "347  A solution of 0.42 g of (2S,4S)-4-mercapto-1-m...   \n",
       "348  The reaction mixture was heated at 70° C. for ...   \n",
       "349  After the reaction was over, the reaction mixt...   \n",
       "350  The crystallographic data is summarized in the...   \n",
       "351  First, precursor H-ValCH₂Cl·HCl was prepared b...   \n",
       "\n",
       "                                               actions  \\\n",
       "0                                     PHASESEPARATION.   \n",
       "1    WAIT for three days at RT; ADD ethyl acetate; ...   \n",
       "2    ADD 3-Bromo-2-fluoroaniline (10 g, 52.63 mmol)...   \n",
       "3                      SETTEMPERATURE rt; CONCENTRATE.   \n",
       "4    PURIFY; YIELD benzyl 3-(formamido(7-((2-(trime...   \n",
       "..                                                 ...   \n",
       "347  MAKESOLUTION with 4-nitrobenzyl ‌(1R,5R,6S)-2-...   \n",
       "348  STIR for 24 h at 70° C; ADD MeOH; QUENCH with ...   \n",
       "349  MAKESOLUTION with ice-water (150 ml) and sodiu...   \n",
       "350                                          NOACTION.   \n",
       "351  ADD Boc-Val-OH (6.5 g, 30 mmol); ADD THF (10 m...   \n",
       "\n",
       "                                     prediction_action  \n",
       "0    Output:\\nPHASESEPARATION; COLLECTLAYER organic...  \n",
       "1    Output:\\n    WAIT for 72 hours at RT; ADD ethy...  \n",
       "2    Output:\\nMAKESOLUTION with 3-Bromo-2-fluoroani...  \n",
       "3    Output: SETTEMPERATURE room temperature; CONCE...  \n",
       "4    Output:\\nPURIFY; YIELD benzyl 3-(formamido(7-(...  \n",
       "..                                                 ...  \n",
       "347  Output:\\nMAKESOLUTION with (2S,4S)-4-mercapto-...  \n",
       "348  Output:\\nSETTEMPERATURE 70 °C; WAIT for 24 h; ...  \n",
       "349  Output:\\n    ADD mixture of ice-water (150 ml)...  \n",
       "350                                  Output: NOACTION.  \n",
       "351  Output:\\nMAKESOLUTION with Boc-Val-OH (6.5 g, ...  \n",
       "\n",
       "[352 rows x 3 columns]"
      ]
     },
     "execution_count": 9,
     "metadata": {},
     "output_type": "execute_result"
    }
   ],
   "source": [
    "paragraph2MOF_test_df = pd.read_csv('processed/hand_annotated_test.csv')\n",
    "paragraph2MOF_test_df['prediction_action'] = test_preds\n",
    "paragraph2MOF_test_df.to_csv(f\"results/gpt_4_60_shorts_prediction_of_paragraph2action.csv\", index = None)\n",
    "paragraph2MOF_test_df"
   ]
  }
 ],
 "metadata": {
  "kernelspec": {
   "display_name": "chemcrow",
   "language": "python",
   "name": "chemcrow"
  },
  "language_info": {
   "codemirror_mode": {
    "name": "ipython",
    "version": 3
   },
   "file_extension": ".py",
   "mimetype": "text/x-python",
   "name": "python",
   "nbconvert_exporter": "python",
   "pygments_lexer": "ipython3",
   "version": "3.9.7"
  }
 },
 "nbformat": 4,
 "nbformat_minor": 2
}
