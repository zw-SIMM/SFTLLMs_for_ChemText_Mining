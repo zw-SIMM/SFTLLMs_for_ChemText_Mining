{
 "cells": [
  {
   "cell_type": "markdown",
   "metadata": {},
   "source": [
    "### Import Packages"
   ]
  },
  {
   "cell_type": "code",
   "execution_count": 1,
   "metadata": {},
   "outputs": [],
   "source": [
    "import os\n",
    "import torch\n",
    "import pandas as pd\n",
    "from vllm import LLM, SamplingParams\n",
    "from transformers import  AutoModelForCausalLM, AutoTokenizer, BitsAndBytesConfig, HfArgumentParser, TrainingArguments\n",
    "from peft import LoraConfig, PeftModel\n",
    "\n",
    "# Setup environment \n",
    "os.environ[\"CUDA_VISIBLE_DEVICES\"] = \"0\""
   ]
  },
  {
   "cell_type": "markdown",
   "metadata": {},
   "source": [
    "### Merge Base Model and Adaptor into New Model (Then Restart the kernel)"
   ]
  },
  {
   "cell_type": "code",
   "execution_count": 2,
   "metadata": {},
   "outputs": [],
   "source": [
    "base_model_name = \"/home/zhangwei/pretrained_models/llama-2-13b-chat-hf\"   # Path of the pretrained model downloaded from Hugging Face\n",
    "adaptor_name = \"saved_models/llama2_13b_chat_qlora/train_200_lora_r64_lr1e-05/checkpoint-600\" # Fine-tuned model name\n",
    "new_model_name = f\"saved_models/merged_models-{adaptor_name}\"\n",
    "device_map = {\"\": 0}    "
   ]
  },
  {
   "cell_type": "code",
   "execution_count": 4,
   "metadata": {},
   "outputs": [
    {
     "data": {
      "application/vnd.jupyter.widget-view+json": {
       "model_id": "1c93393573cf499c90838582ae6df06c",
       "version_major": 2,
       "version_minor": 0
      },
      "text/plain": [
       "Loading checkpoint shards:   0%|          | 0/3 [00:00<?, ?it/s]"
      ]
     },
     "metadata": {},
     "output_type": "display_data"
    },
    {
     "name": "stderr",
     "output_type": "stream",
     "text": [
      "Some non-default generation parameters are set in the model config. These should go into a GenerationConfig file (https://huggingface.co/docs/transformers/generation_strategies#save-a-custom-decoding-strategy-with-your-model) instead. This warning will be raised to an exception in v4.41.\n",
      "Non-default generation parameters: {'max_length': 4096}\n"
     ]
    },
    {
     "data": {
      "text/plain": [
       "('saved_models/merged_models-saved_models/llama2_13b_chat_qlora/train_1060_lora_r64_lr1e-05/checkpoint-3710/tokenizer_config.json',\n",
       " 'saved_models/merged_models-saved_models/llama2_13b_chat_qlora/train_1060_lora_r64_lr1e-05/checkpoint-3710/special_tokens_map.json',\n",
       " 'saved_models/merged_models-saved_models/llama2_13b_chat_qlora/train_1060_lora_r64_lr1e-05/checkpoint-3710/tokenizer.model',\n",
       " 'saved_models/merged_models-saved_models/llama2_13b_chat_qlora/train_1060_lora_r64_lr1e-05/checkpoint-3710/added_tokens.json',\n",
       " 'saved_models/merged_models-saved_models/llama2_13b_chat_qlora/train_1060_lora_r64_lr1e-05/checkpoint-3710/tokenizer.json')"
      ]
     },
     "execution_count": 4,
     "metadata": {},
     "output_type": "execute_result"
    }
   ],
   "source": [
    "# Reload model in FP16 and merge it with LoRA weights\n",
    "base_model = AutoModelForCausalLM.from_pretrained(\n",
    "    base_model_name,\n",
    "    low_cpu_mem_usage=True,\n",
    "    return_dict=True,\n",
    "    torch_dtype=torch.float16,\n",
    "    device_map=device_map,\n",
    ")\n",
    "\n",
    "model = PeftModel.from_pretrained(base_model, adaptor_name)\n",
    "model = model.merge_and_unload()\n",
    "model.save_pretrained(new_model_name, safe_serialization=False)\n",
    "\n",
    "tokenizer = AutoTokenizer.from_pretrained(base_model_name, trust_remote_code=True)\n",
    "tokenizer.pad_token = tokenizer.eos_token\n",
    "tokenizer.padding_side = \"right\"\n",
    "tokenizer.save_pretrained(new_model_name, safe_serialization=False)  ## safe_serilization = False is very important, https://github.com/vllm-project/vllm/issues/615"
   ]
  },
  {
   "cell_type": "markdown",
   "metadata": {},
   "source": [
    "### Load Merged Model"
   ]
  },
  {
   "cell_type": "code",
   "execution_count": 3,
   "metadata": {},
   "outputs": [
    {
     "name": "stdout",
     "output_type": "stream",
     "text": [
      "INFO 04-19 12:22:40 llm_engine.py:87] Initializing an LLM engine with config: model='saved_models/merged_models-saved_models/llama2_13b_chat_qlora/train_1060_lora_r64_lr1e-05/checkpoint-3710', tokenizer='saved_models/merged_models-saved_models/llama2_13b_chat_qlora/train_1060_lora_r64_lr1e-05/checkpoint-3710', tokenizer_mode=auto, revision=None, tokenizer_revision=None, trust_remote_code=False, dtype=torch.float16, max_seq_len=2048, download_dir=None, load_format=auto, tensor_parallel_size=1, disable_custom_all_reduce=False, quantization=None, enforce_eager=False, kv_cache_dtype=auto, device_config=cuda, seed=0)\n",
      "INFO 04-19 12:23:01 llm_engine.py:357] # GPU blocks: 862, # CPU blocks: 327\n",
      "INFO 04-19 12:23:02 model_runner.py:684] Capturing the model for CUDA graphs. This may lead to unexpected consequences if the model is not static. To run the model in eager mode, set 'enforce_eager=True' or use '--enforce-eager' in the CLI.\n",
      "INFO 04-19 12:23:02 model_runner.py:688] CUDA graphs can take additional 1~3 GiB memory per GPU. If you are running out of memory, consider decreasing `gpu_memory_utilization` or enforcing eager mode. You can also reduce the `max_num_seqs` as needed to decrease memory usage.\n",
      "INFO 04-19 12:23:09 model_runner.py:756] Graph capturing finished in 7 secs.\n"
     ]
    }
   ],
   "source": [
    "sampling_params = SamplingParams(temperature=0, top_p=1, max_tokens = 3072, stop = ['!!!'])\n",
    "llm = LLM(model = new_model_name)"
   ]
  },
  {
   "cell_type": "markdown",
   "metadata": {},
   "source": [
    "### Preprocess Data"
   ]
  },
  {
   "cell_type": "code",
   "execution_count": 3,
   "metadata": {},
   "outputs": [
    {
     "data": {
      "text/plain": [
       "['<s>[INST] Extract the NMR information from the Paragraph: Synthesis and crystallization A stirred solution of 3,5-bis\\xad(tri\\xadfluoro\\xadmeth\\xadyl) aceto\\xadphenone (0.5\\u2005g, 1.95\\u2005mmol) in acetic acid (5\\u2005mL) was added dropwise to bromine (0.312\\u2005g, 1.95\\u2005mmol) in acetic acid. The reaction medium was stirred at room temperature for 5\\u2005h. To the resulting mixture, water (5\\u2005mL) was added and the mixture was concentrated under reduced pressure. The residue obtained was diluted with ethyl\\xadacetate (10\\u2005mL), the organic layer washed with water (10\\u2005mL) and a sodium bicarbonate solution (5\\u2005mL), and filtered through dried sodium sulfate and evaporated to obtain 1-(3,5-bis\\xad(tri\\xadfluoro\\xadmeth\\xadyl)phen\\xadyl)-2-bromo\\xadethanone as a light-yellow solid in 62% yield. m.p: 317–318\\u2005K. 1H NMR: (CDCl3, 600\\u2005MHz): 8.44 (2H, s), 8.13 (1H, s), 4.48 (2H, s); 13C NMR: (CDCl3, 150\\u2005MHz): 188.81, 135.31, 133.06, 132.83, 132.60, 128.99, 127.08, 127.06, 125.42, 123.61, 121.80, 120.00, 29.46.  Refinement Crystal data, data collection and structure refinement details are summarized in Table\\xa02 ▸. Hydrogen atoms were placed in idealized positions (C—H = 0.95–0.99\\u2005Å) and refined using a riding model with U [/INST]',\n",
       " '<s>[INST] Extract the NMR information from the Paragraph: Synthesis of N-(diaminomethylidene)-4-[(E)-(4-hydroxyphenyl)diazenyl] benzenesulfonamide (SPh) A solution of sodium nitrite (0.17 g, 7.3 mmol) in water (2 mL) was slowly added to an acidified solution of sulfaguanidine (0.64 g, 3 mmol) in water/acetone mixture (12 mL, 2:1) at 0°C. The resulting diazonium salt solution was gently added to an ice-cold solution of phenol (0.29 g, 3 mmol), NaOH (0.34 g, 8.5 mmol) and Na2CO3 (0.9 g, 8.5 mmol) in 10 mL water and the mixture was stirred for 2 h. Then 50 mL water was added and the mixture was allowed to stand for 2 h. The yellow precipitate was filtered, recrystallized from EtOAc and purified by column chromatography (CHCl3/MeOH, 4:1). Yield (67%), mp 256–258°C; IR (KBr) υ: 1541.5 cm–1 (-N = N), 1H-NMR (500 MHz, DMSO-d6) δ (ppm): 6.77 (4H, bs, C-NH2), 6.9 (2H, d, Ar-H, J = 8.0 Hz),7.8 (2H, d, Ar-H, J = 10.0 Hz), 7.9 (4H, d, Ar-H, J = 8 Hz), 13C-NMR (125 MHz, DMSO-d6) δ: 161.6, 158.1, 153.2, 145.1, 126.8, 125.2, 116.0.  [/INST]',\n",
       " '<s>[INST] Extract the NMR information from the Paragraph: 1-(3,4-Dimethylphenyl)-5-phenyl-1H-pyrazole-3,4-dicarboxylic acid (2) Compound 1 (0.364\\xa0g, 1\\xa0mmol) was heated in solution of sodium hydroxide (0.1\\xa0g 2.5\\xa0mmol) in 20\\xa0mL water for 1\\xa0h. The solution was cooled down to room temperature. It was added with concentrated hydrochloric acid (1.5\\xa0mL) and water (1.5\\xa0mL). The white solid product was occurred. It was filtered and it was washed with water. Yield 90%. Color white. mp 126–128\\xa0°C. FT-IR (ν, cm−1) 3350 (br, -OH), 3064 (aromatic C-H), 2936 (aliph. C-H), 1721–1710 (C=O, acide), 1H NMR (400\\xa0MHz, CDCl3) δ (ppm) 11.6 (br.s, 2H, -OH), 8.1 (m, 1H), 7.9 (m, 2H), 7.6 (m, 2H), 7.1 (m, 3H), 2.1 (s, 3H, Ar-CH3), 1.8 (s, 3H, Ar-CH3). 13C NMR (100\\xa0MHz, CDCl3) δ (ppm) 171.3, 167.9 (C=O, acid), 145.2 (C3), 142.1 (C5), 135.0, 134.0, 132.9, 132.8, 132.0, 128.0, 127.2, 125.0, 115.8, 115.7 (C4), 29.4 (Ar-CH3), 20.7 (Ar-CH3). (+)ESI-HRMS m/z calculated for [C19H16N2O4\\u2009+\\u2009H+] 337.3562; observed 337.3565.  [/INST]',\n",
       " '<s>[INST] Extract the NMR information from the Paragraph: Synthesis of [(M)-d-4]-C12-TEG Under an argon atmosphere, a mixture of 4 (45.0 mg, 0.0451 mmol), tris(dibenzylideneacetone)dipalladium(0) chloroform adduct (0.82 mg, 0.753 μmol), cuprous iodide (1.72 mg, 9.03 μmol), tris(2,4,6-trimethylphenyl)phosphine (1.75 mg, 4.52 μmol), triphenylphosphine (1.18 mg, 4.52 μmol), tetrabutylammonium iodide (22.2 mg, 0.0602 mmol), triethylamine (0.1 mL) and N,N-dimethylformamide (1.0 mL) was freeze-evacuated four times in flask A. In flask B, a mixture of ethynylhelicene tetramer (M)-d-4H5e (30.0 mg, 0.0151 mmol) in THF (1.0 mL) was freeze-evacuated four times, and the mixture was slowly added to flask A. The mixture was stirred at 45 °C for 20 min. The reaction was quenched by adding saturated aqueous ammonium chloride, and the organic materials were extracted with ethyl acetate. The organic layer was washed with brine, and dried over sodium sulfate. The solvents were evaporated under reduced pressure, and separation by silica gel chromatography and recycling GPC gave [(M)-d-4]-C12-TEG as a yellow amber solid (42.7 mg, 0.0115 mmol, 72%). Mp: 59–61 °C (chloroform); [α]27D = –1631 (c 0.37, trifluoromethylbenzene); 1H NMR (400 MHz, CDCl3): δ 0.86 (9H, t, J = 6.8 Hz), 1.25–1.52 (74H, m), 1.72–1.89 (14H, m), 1.97 (12H, s), 2.00 (12H, s), 3.37 (18H, s), 3.52–3.55 (12H, m), 3.62–3.68 (24H, m), 3.70–3.75 (12H, m), 3.80 (4H, t, J = 5.2 Hz), 3.87 (8H, t, J = 5.0 Hz), 4.01 (4H, t, J = 6.6 Hz), 4.18–4.23 (12H, m), 4.28 (4H, t, J = 6.8 Hz), 4.41–4.45 (6H, m), 6.94 (4H, dt, J = 8.8, 1.8 Hz), 7.29 (4H, s), 7.46–7.52 (8H, m), 7.64 (4H, dt, J = 8.8, 1.8 Hz), 7.66–7.77 (8H, m), 8.06 (2H, s), 8.12 (2H, s), 8.16 (4H, s), 8.21 (2H, t, J = 1.6 Hz) 8.22 (1H, t, J = 1.6 Hz), 8.36–8.38 (6H, m), 8.52–8.58 (8H, m); 13C NMR (100 MHz, CDCl3): δ 14.1, 22.6, 23.2, 25.96, 26.02, 28.7, 29.2, 29.3, 29.4, 29.5, 29.6, 31.8, 58.97, 59.00, 65.2, 65.8, 68.1, 68.8, 69.6, 70.49, 70.52, 70.6, 70.8, 71.9, 72.4, 86.2, 89.2, 89.3, 89.4, 92.8, 92.97, 92.99, 95.1, 109.0, 114.6, 115.1, 119.6, 119.816, 119.818, 120.9, 123.5, 123.6, 123.7, 124.2, 124.28, 124.33, 125.3, 126.2, 126.7, 126.8, 127.0, 128.82, 128.84, 129.1, 129.2, 129.3, 129.8, 129.88, 129.92, 130.9, 131.01, 131.03, 131.2, 131.4, 132.0, 132.2, 132.4, 133.2, 136.76, 136.80, 136.9, 138.3, 142.5, 152.2, 159.4, 165.4, 166.1; IR (KBr): 2924, 1717, 1244, 1111 cm–1; UV-Vis (S-random-coil state: CHCl3, 5 × 10–4 M, 40 °C): λmax (ε) 344 nm (3.1 × 105 cm–1 M–1); UV-Vis (S-double-helix state: acetone, 1 × 10–3 M, 5 °C): λmax (ε) 340 nm (2.0 × 105 cm–1 M–1); CD (S-random-coil state: CHCl3, 5 × 10–4 M, 40 °C): λ (Δε) 296 nm (+51 cm–1 M–1), 341 nm (–76 cm–1 M–1), 389 nm (+189 cm–1 M–1); CD (S-double-helix state: acetone, 1 × 10–3 M, 5 °C): λ (Δε) 325 nm (+679 cm–1 M–1), 362 nm (–1133 cm–1 M–1); MALDI-TOF MS (m/z): [M + Na]+ calcd for C239H278O36Na, 3747.0; found, 3746.3; [M + K]+ calcd for C239H278O36K, 3763.0; found, 3763.0; analysis (calcd, found for C239H278O36): C (77.03, 76.90), H (7.52, 7.54).  Conclusions [/INST]',\n",
       " '<s>[INST] Extract the NMR information from the Paragraph: 4.1 3-Amino-5-(1-methyl-1H-pyrazol-4-yl)pyridin-2(1H)-one (2) 5-Bromo-2-methoxypyridin-3-amine (100\\u202fmg, 0.493\\u202fmmol, 1 equivalent), 1-methyl-1H-pyrazol-4-ylboronic acid (74.4\\u202fmg, 0.591\\u202fmmol, 1.2 equivalents), potassium phosphate (314\\u202fmg, 1.478\\u202fmmol, 3 equivalents), 2-dicyclohexylphosphino-2,4,6-triisopropylbiphenyl (47\\u202fmg, 0.099\\u202fmmol, 0.2 equivalents) and tris (dibenzylideneacetone)dipalladium(0) (22.55\\u202fmg, 0.025\\u202fmmol, 0.05 equivalents) were dissolved in n-butanol (4 mL) and stirred at 110\\u202f°C for 3\\u202fh. The solution was then cooled and filtered through a pad of Celite, which was then washed with methanol. The solution was concentrated and purified by SCX column (eluting at room temperature with 2\\u202fM ammonia in methanol) and concentrated. The residue was then dissolved in acetonitrile and sodium iodide (222\\u202fmg, 1.484\\u202fmmol, 3 equivalents) was added, followed by dropwise addition of trimethylsilyl chloride (0.190\\u202fmL, 1.484\\u202fmmol, 3 equivalents) and the reaction mixture stirred for 16\\u202fh. The solution was concentrated, taken up in methanol and purified by SCX column (eluting at room temperature with 2\\u202fM ammonia in methanol) to give a grey solid (25\\u202fmg, 27%). Rf\\u202f=\\u202f0.36 (5% MeOH in EtOAc). mp: 264\\u202f°C. 1H NMR (500\\u202fMHz, DMSO‑d6) 3.81 (3H, s), 5.09 (2H, s), 6.63 (1H, d, J\\u202f=\\u202f2.3\\u202fHz), 6.83 (1H, d, J\\u202f=\\u202f2.3\\u202fHz), 7.59 (1H, s), 7.83 (1H, s), 11.38 (1H, s). 13C NMR (126\\u202fMHz, DMSO‑d6) 157.3 (C), 139.2 (C), 135.6 (CH), 127.0 (CH), 119.7 (C), 115.8 (CH), 112.3 (C), 110.1 (CH), 39.0 (CH3). HRMS: Found 191.0932, calculated for C9H11N4O (M\\u202f+\\u202fH)+: 191.0927.  [/INST]']"
      ]
     },
     "execution_count": 3,
     "metadata": {},
     "output_type": "execute_result"
    }
   ],
   "source": [
    "# Data Loading and Preprocessing\n",
    "test_file = \"data/data_for_llms/test/test_300.csv\"\n",
    "test_df = pd.read_csv(test_file, encoding='utf-8')\n",
    "\n",
    "def create_assistant_message(row):\n",
    "    return f\"\"\"{{\\\"IUPAC\\\":\\\"{row['IUPAC']}\\\",\\\"1H NMR text\\\":\\\"{row['1H NMR text']}\\\",\\\"1H NMR conditions\\\":\\\"{row['1H NMR conditions']}\\\",\\\"1H NMR data\\\":\\\"{row['1H NMR data']}\\\",\\\"13C NMR text\\\":\\\"{row['13C NMR text']}\\\",\\\"13C NMR conditions\\\":\\\"{row['13C NMR conditions']}\\\",\\\"13C NMR data\\\":\\\"{row['13C NMR data']}\\\"}}\"\"\"\n",
    "    \n",
    "test_df['NMRInfo'] = test_df.apply(create_assistant_message, axis=1)\n",
    "\n",
    "source_text = \"Paragraph\"\n",
    "target_text = \"NMRInfo\"\n",
    "instruction = f'{source_text}2{target_text}: '\n",
    "instruction = '''Extract the NMR information from the Paragraph: '''\n",
    "#instruction = '''Extract text containing 1H NMR and 13C NMR data, remove interference information such as reactants, raw materials, solvents and other non-final product names based on text semantics, and then extract the name, code or number of the final product. Please delete the IUPAC name Alias, numbers and ordinal numbers before and after fields, such as '2.1.3.', '(HL4)', '(9)', '(4d)'. NMR text should contain complete information, such as instrument power and solvent information, For example, \"13C NMR text\": \"13C NMR (400 MHz, acetone-d6) 174.0 (C), 157.7 (C). Then split the NMR text. The content in NMR conditions is NMR instrument power and solvent information, such as \"13C NMR conditions\": \"400MHz, acetone-d6\". The contents in the NMR data are only numbers, such as \"13C NMR data\": \"174.0, 157.7\", \"1H NMR data\": \"174.0, 157.7\". All responses must originate from information extracted from the given text, ensuring that the extracted content has not been modified or fragmented, and that capitalization and punctuation are exactly the same as the given text. Must end with {\"IUPAC\":\"text\",\"1H NMR text\":\"text\",\"1H NMR conditions\":\"text\",\"1H NMR data\":\"text\",\"13C NMR text\":\"text\",\"13C NMR conditions\":\"text\",\"13C NMR data\":\"text\"} format reply.'''\n",
    "\n",
    "test_df['text'] = f'<s>[INST] {instruction}' + test_df[source_text] + \" [/INST]\"\n",
    "\n",
    "prompts = list(test_df['text'])\n",
    "prompts[:5]"
   ]
  },
  {
   "cell_type": "markdown",
   "metadata": {},
   "source": [
    "### Inference"
   ]
  },
  {
   "cell_type": "code",
   "execution_count": null,
   "metadata": {},
   "outputs": [],
   "source": [
    "# Generate texts from the prompts. \n",
    "# The output is a list of RequestOutput objects that contain the prompt, generated text, and other information.\n",
    "outputs = llm.generate(prompts, sampling_params)\n",
    "predictions = []\n",
    "\n",
    "# Print the outputs.\n",
    "for output in outputs:\n",
    "    prompt = output.prompt\n",
    "    generated_text = output.outputs[0].text\n",
    "    print(f\"Prompt: {prompt},\\nGenerated text: {generated_text!r}\")\n",
    "    predictions.append(generated_text.strip())"
   ]
  },
  {
   "cell_type": "markdown",
   "metadata": {},
   "source": [
    "### Save the Predictions"
   ]
  },
  {
   "cell_type": "code",
   "execution_count": null,
   "metadata": {},
   "outputs": [],
   "source": [
    "pred_df = pd.DataFrame()\n",
    "pred_df['Generated Text'] = predictions\n",
    "pred_df['Actual Text'] = test_df[target_text]\n",
    "pred_df['Paragraph'] = test_df[source_text]\n",
    "\n",
    "def safe_json_loads(val):\n",
    "    try:\n",
    "        if val is np.nan:\n",
    "            return {}\n",
    "        else:\n",
    "            return json.loads(str(val).replace(\"'\", \"\\\"\"))\n",
    "\n",
    "    except (ValueError, TypeError, json.JSONDecodeError):\n",
    "        \n",
    "        pattern = r'\"(IUPAC|1H NMR text|1H NMR conditions|1H NMR data|13C NMR text|13C NMR conditions|13C NMR data)\":\"(.*?)\"'\n",
    "        matches = re.findall(pattern, val)\n",
    "        result = {key: value for key, value in matches}\n",
    "\n",
    "        keys = [\"IUPAC\", \"1H NMR text\", \"1H NMR conditions\", \"1H NMR data\", \"13C NMR text\", \"13C NMR conditions\", \"13C NMR data\"]\n",
    "\n",
    "        for key in keys:\n",
    "            result[key] = result.get(key, 'N/A')\n",
    "        return result\n",
    "\n",
    "# split the dictionary into multiple columns by json_normalize, then concat with the original DataFrame\n",
    "pred_df['Generated Text'] = pred_df['Generated Text'].apply(safe_json_loads)\n",
    "pred_df = pd.concat([pred_df.drop('Generated Text', axis=1), pd.json_normalize(pred_df['Generated Text'])], axis=1)\n",
    "pred_df = pred_df.fillna('N/A')\n",
    "pred_df.to_csv(f\"results/predictions/prediction_of_{new_model_name.replace('/', '-')}.csv\", index = None)\n",
    "pred_df"
   ]
  }
 ],
 "metadata": {
  "kernelspec": {
   "display_name": "llm",
   "language": "python",
   "name": "python3"
  },
  "language_info": {
   "codemirror_mode": {
    "name": "ipython",
    "version": 3
   },
   "file_extension": ".py",
   "mimetype": "text/x-python",
   "name": "python",
   "nbconvert_exporter": "python",
   "pygments_lexer": "ipython3",
   "version": "3.10.13"
  }
 },
 "nbformat": 4,
 "nbformat_minor": 2
}
